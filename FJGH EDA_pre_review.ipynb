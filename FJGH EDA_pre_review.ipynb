{
 "cells": [
  {
   "cell_type": "markdown",
   "metadata": {},
   "source": [
    "# Exploratory analysis and Feature Engineering"
   ]
  },
  {
   "cell_type": "markdown",
   "metadata": {},
   "source": [
    "Now that we have the data, let's take a look on it, clean it and create features for the machine learning model.\n",
    "<br>\n",
    "<h3>Goals:</h3> <br>\n",
    "<b>1 - Understand the data we collected.</b> <br>\n",
    "For this part, we will use pandas and matpyplot libs. <br>\n",
    "<br>\n",
    "<b>2 - Clean null values and irrelevant characters.</b> <br>\n",
    "We will use apply with custom functions and RegEx.<br>\n",
    "<br>\n",
    "<b>3 - Transform the text data into features we can use.</b> <br>\n",
    "We will create features and evaluate their correlation and importance (seaborn and  sklearn).<br>\n",
    "<br>\n",
    "<b>4 - Tolkenize data.</b><br>\n",
    "TfidfVectorizer from sklearn.feature_extraction.text.<br>\n"
   ]
  },
  {
   "cell_type": "code",
   "execution_count": 77,
   "metadata": {},
   "outputs": [],
   "source": [
    "# Importing the libraries\n",
    "\n",
    "# Manipulating the data\n",
    "import pandas as pd\n",
    "import numpy as np\n",
    "import re\n",
    "from sklearn.feature_extraction.text import TfidfVectorizer\n",
    "\n",
    "# Data vizualization\n",
    "import matplotlib.pyplot as plt\n",
    "import seaborn as sns\n",
    "\n",
    "# Feature engineering evaluation\n",
    "from sklearn.ensemble import RandomForestClassifier\n",
    "from sklearn.model_selection import train_test_split\n",
    "from sklearn.metrics import accuracy_score\n",
    "\n",
    "# Saving the output\n",
    "import datetime"
   ]
  },
  {
   "cell_type": "markdown",
   "metadata": {},
   "source": [
    "<h4>Functions</h4>"
   ]
  },
  {
   "cell_type": "code",
   "execution_count": 3,
   "metadata": {},
   "outputs": [],
   "source": [
    "# removes chars from a string, based on a list\n",
    "def remove_char(text,list_of_chars):\n",
    "    for char in list_of_chars:\n",
    "        text = text.replace(char,'')\n",
    "    return text\n",
    "\n",
    "# if a text is duplicated in two columns, remove it from the one passed as first arg\n",
    "def extract_href(x):\n",
    "    if type(x[1]) != str:\n",
    "        return x[0]\n",
    "    else:\n",
    "        return x[0].replace(x[1],'')\n",
    "    \n",
    "def specialCharCleaner(x):\n",
    "        \n",
    "    x = re.sub(r'[?|$|.|!]',r' ',str(x)) \n",
    "    x = re.sub(r'[^a-zA-Z0-9 ]',r' ',str(x))\n",
    "    x = re.sub('  ',' ',str(x))\n",
    "            \n",
    "    return x\n",
    "\n",
    "def remove_numbers(x):\n",
    "    x =''.join(c if c not in map(str,range(0,10)) else '' for c in str(x)) #for remove numbers\n",
    "    for i in range(3):\n",
    "        x = re.sub('  ',' ',str(x)) # remove extra espaces\n",
    "    return x\n",
    "\n",
    "# concats multiple coluns\n",
    "def connect_columns(x):\n",
    "    return str(x[0]) + ' ' + str(x[1]) + ' ' + str(x[2]) + ' ' + str(x[3])\n",
    "\n",
    "# Just to make the notebook more organized\n",
    "def heat_map(df):\n",
    "    corr = df.corr()\n",
    "    ax = sns.heatmap(\n",
    "        corr, \n",
    "        vmin=-1, vmax=1, center=0,\n",
    "        cmap=sns.diverging_palette(20, 220, n=200),\n",
    "        square=True\n",
    "    )\n",
    "    ax.set_xticklabels(\n",
    "        ax.get_xticklabels(),\n",
    "        rotation=45,\n",
    "        horizontalalignment='right'\n",
    "    )"
   ]
  },
  {
   "cell_type": "markdown",
   "metadata": {},
   "source": [
    "We have two different sources of data, so let's load and put them all together in a single dataframe"
   ]
  },
  {
   "cell_type": "code",
   "execution_count": 4,
   "metadata": {},
   "outputs": [
    {
     "name": "stdout",
     "output_type": "stream",
     "text": [
      "lenght df html:  4533\n",
      "lenght df JS:  2059\n",
      "Final len:  6592\n"
     ]
    }
   ],
   "source": [
    "# Importing HTML rendered links\n",
    "dfHTML = pd.read_csv(r'C:\\Users\\ponde\\Documents\\programacao\\Python\\2020\\JobHunt\\JobHunt Project\\training_data_set_HTML 2020-11-13 14h35.csv')\n",
    "dfHTML = dfHTML.drop('jobPostCheck', axis='columns')\n",
    "\n",
    "# Importing JS rendered links\n",
    "dfJS = pd.read_csv(r'C:\\Users\\ponde\\Documents\\programacao\\Python\\2020\\JobHunt\\JobHunt Project\\training_data_set_js 2020-11-13 15h19.csv')\n",
    "\n",
    "\n",
    "# Concating both DataFrames\n",
    "print('lenght df html: ', len(dfHTML.index))\n",
    "print('lenght df JS: ', len(dfJS.index))\n",
    "\n",
    "frames = [dfHTML,dfJS]\n",
    "\n",
    "df = pd.concat(frames,ignore_index=True)\n",
    "print('Final len: ', len(df.index))"
   ]
  },
  {
   "cell_type": "code",
   "execution_count": 5,
   "metadata": {},
   "outputs": [
    {
     "data": {
      "text/html": [
       "<div>\n",
       "<style scoped>\n",
       "    .dataframe tbody tr th:only-of-type {\n",
       "        vertical-align: middle;\n",
       "    }\n",
       "\n",
       "    .dataframe tbody tr th {\n",
       "        vertical-align: top;\n",
       "    }\n",
       "\n",
       "    .dataframe thead th {\n",
       "        text-align: right;\n",
       "    }\n",
       "</style>\n",
       "<table border=\"1\" class=\"dataframe\">\n",
       "  <thead>\n",
       "    <tr style=\"text-align: right;\">\n",
       "      <th></th>\n",
       "      <th>company</th>\n",
       "      <th>url</th>\n",
       "      <th>aTag</th>\n",
       "      <th>aTagText</th>\n",
       "      <th>aTagContent</th>\n",
       "      <th>href</th>\n",
       "      <th>keys</th>\n",
       "      <th>attributes</th>\n",
       "      <th>key_attr</th>\n",
       "      <th>trun_href</th>\n",
       "      <th>candidateMatch</th>\n",
       "    </tr>\n",
       "  </thead>\n",
       "  <tbody>\n",
       "    <tr>\n",
       "      <th>0</th>\n",
       "      <td>shopify</td>\n",
       "      <td>https://www.shopify.ca/careers/search</td>\n",
       "      <td>&lt;a class=\"in-page-link skip-to-main visuallyhi...</td>\n",
       "      <td>&lt;a class=\"in-page-link skip-to-main visuallyhi...</td>\n",
       "      <td>Skip to Content</td>\n",
       "      <td>#Main</td>\n",
       "      <td>dict_keys(['class', 'data-ga-event', 'data-ga-...</td>\n",
       "      <td>dict_values([['in-page-link', 'skip-to-main', ...</td>\n",
       "      <td>{'class': ['in-page-link', 'skip-to-main', 'vi...</td>\n",
       "      <td>#Main</td>\n",
       "      <td>0.0</td>\n",
       "    </tr>\n",
       "    <tr>\n",
       "      <th>1</th>\n",
       "      <td>shopify</td>\n",
       "      <td>https://www.shopify.ca/careers/search</td>\n",
       "      <td>&lt;a class=\"marketing-nav__logo__shopify\" data-g...</td>\n",
       "      <td>&lt;a class=\"marketing-nav__logo__shopify\" data-g...</td>\n",
       "      <td>\\nShopify Careers  \\n</td>\n",
       "      <td>/careers</td>\n",
       "      <td>dict_keys(['href', 'class', 'data-ga-event', '...</td>\n",
       "      <td>dict_values(['/careers', ['marketing-nav__logo...</td>\n",
       "      <td>{'href': '/careers', 'class': ['marketing-nav_...</td>\n",
       "      <td>/careers</td>\n",
       "      <td>0.0</td>\n",
       "    </tr>\n",
       "    <tr>\n",
       "      <th>2</th>\n",
       "      <td>shopify</td>\n",
       "      <td>https://www.shopify.ca/careers/search</td>\n",
       "      <td>&lt;a class=\"marketing-nav__item marketing-nav__i...</td>\n",
       "      <td>&lt;a class=\"marketing-nav__item marketing-nav__i...</td>\n",
       "      <td>Life at Shopify</td>\n",
       "      <td>/careers/culture</td>\n",
       "      <td>dict_keys(['href', 'class', 'itemprop'])</td>\n",
       "      <td>dict_values(['/careers/culture', ['marketing-n...</td>\n",
       "      <td>{'href': '/careers/culture', 'class': ['market...</td>\n",
       "      <td>/careers/culture</td>\n",
       "      <td>0.0</td>\n",
       "    </tr>\n",
       "    <tr>\n",
       "      <th>3</th>\n",
       "      <td>shopify</td>\n",
       "      <td>https://www.shopify.ca/careers/search</td>\n",
       "      <td>&lt;a class=\"marketing-nav__item marketing-nav__i...</td>\n",
       "      <td>&lt;a class=\"marketing-nav__item marketing-nav__i...</td>\n",
       "      <td>Teams</td>\n",
       "      <td>/careers/teams</td>\n",
       "      <td>dict_keys(['href', 'class', 'itemprop'])</td>\n",
       "      <td>dict_values(['/careers/teams', ['marketing-nav...</td>\n",
       "      <td>{'href': '/careers/teams', 'class': ['marketin...</td>\n",
       "      <td>/careers/teams</td>\n",
       "      <td>0.0</td>\n",
       "    </tr>\n",
       "    <tr>\n",
       "      <th>4</th>\n",
       "      <td>shopify</td>\n",
       "      <td>https://www.shopify.ca/careers/search</td>\n",
       "      <td>&lt;a class=\"marketing-nav__item marketing-nav__i...</td>\n",
       "      <td>&lt;a class=\"marketing-nav__item marketing-nav__i...</td>\n",
       "      <td>Work anywhere</td>\n",
       "      <td>/careers/work-anywhere</td>\n",
       "      <td>dict_keys(['href', 'class', 'itemprop'])</td>\n",
       "      <td>dict_values(['/careers/work-anywhere', ['marke...</td>\n",
       "      <td>{'href': '/careers/work-anywhere', 'class': ['...</td>\n",
       "      <td>/careers/work-anywhere</td>\n",
       "      <td>0.0</td>\n",
       "    </tr>\n",
       "  </tbody>\n",
       "</table>\n",
       "</div>"
      ],
      "text/plain": [
       "   company                                    url  \\\n",
       "0  shopify  https://www.shopify.ca/careers/search   \n",
       "1  shopify  https://www.shopify.ca/careers/search   \n",
       "2  shopify  https://www.shopify.ca/careers/search   \n",
       "3  shopify  https://www.shopify.ca/careers/search   \n",
       "4  shopify  https://www.shopify.ca/careers/search   \n",
       "\n",
       "                                                aTag  \\\n",
       "0  <a class=\"in-page-link skip-to-main visuallyhi...   \n",
       "1  <a class=\"marketing-nav__logo__shopify\" data-g...   \n",
       "2  <a class=\"marketing-nav__item marketing-nav__i...   \n",
       "3  <a class=\"marketing-nav__item marketing-nav__i...   \n",
       "4  <a class=\"marketing-nav__item marketing-nav__i...   \n",
       "\n",
       "                                            aTagText            aTagContent  \\\n",
       "0  <a class=\"in-page-link skip-to-main visuallyhi...        Skip to Content   \n",
       "1  <a class=\"marketing-nav__logo__shopify\" data-g...  \\nShopify Careers  \\n   \n",
       "2  <a class=\"marketing-nav__item marketing-nav__i...        Life at Shopify   \n",
       "3  <a class=\"marketing-nav__item marketing-nav__i...                  Teams   \n",
       "4  <a class=\"marketing-nav__item marketing-nav__i...          Work anywhere   \n",
       "\n",
       "                     href                                               keys  \\\n",
       "0                   #Main  dict_keys(['class', 'data-ga-event', 'data-ga-...   \n",
       "1                /careers  dict_keys(['href', 'class', 'data-ga-event', '...   \n",
       "2        /careers/culture           dict_keys(['href', 'class', 'itemprop'])   \n",
       "3          /careers/teams           dict_keys(['href', 'class', 'itemprop'])   \n",
       "4  /careers/work-anywhere           dict_keys(['href', 'class', 'itemprop'])   \n",
       "\n",
       "                                          attributes  \\\n",
       "0  dict_values([['in-page-link', 'skip-to-main', ...   \n",
       "1  dict_values(['/careers', ['marketing-nav__logo...   \n",
       "2  dict_values(['/careers/culture', ['marketing-n...   \n",
       "3  dict_values(['/careers/teams', ['marketing-nav...   \n",
       "4  dict_values(['/careers/work-anywhere', ['marke...   \n",
       "\n",
       "                                            key_attr               trun_href  \\\n",
       "0  {'class': ['in-page-link', 'skip-to-main', 'vi...                   #Main   \n",
       "1  {'href': '/careers', 'class': ['marketing-nav_...                /careers   \n",
       "2  {'href': '/careers/culture', 'class': ['market...        /careers/culture   \n",
       "3  {'href': '/careers/teams', 'class': ['marketin...          /careers/teams   \n",
       "4  {'href': '/careers/work-anywhere', 'class': ['...  /careers/work-anywhere   \n",
       "\n",
       "   candidateMatch  \n",
       "0             0.0  \n",
       "1             0.0  \n",
       "2             0.0  \n",
       "3             0.0  \n",
       "4             0.0  "
      ]
     },
     "execution_count": 5,
     "metadata": {},
     "output_type": "execute_result"
    }
   ],
   "source": [
    "df.head()"
   ]
  },
  {
   "cell_type": "code",
   "execution_count": 6,
   "metadata": {},
   "outputs": [
    {
     "data": {
      "text/plain": [
       "Index(['company', 'url', 'aTag', 'aTagText', 'aTagContent', 'href', 'keys',\n",
       "       'attributes', 'key_attr', 'trun_href', 'candidateMatch'],\n",
       "      dtype='object')"
      ]
     },
     "execution_count": 6,
     "metadata": {},
     "output_type": "execute_result"
    }
   ],
   "source": [
    "df.columns\n",
    "\n",
    "# company -> employer\n",
    "# url -> url from the website the data was pulled from\n",
    "# aTag -> entire tag 'a' that contains the link we want to evaluate\n",
    "# aTagText -> same as above, but with a different approach to extract\n",
    "# aTagContent -> the text that is displayed in the website (extracted from the tag 'a')\n",
    "# href -> the link we want to evaluate (extracted from the tag 'a')\n",
    "# keys -> all the keys of the element tag\n",
    "# attributes -> all attributes associated with the keys from the tag\n",
    "# key_attr -> keys and attributes, in a dict format\n",
    "# trun_href -> the truncated href\n",
    "# candidateMatch -> indicates if the link is a job posting or not - 0 or 1"
   ]
  },
  {
   "cell_type": "code",
   "execution_count": 7,
   "metadata": {
    "scrolled": true
   },
   "outputs": [
    {
     "data": {
      "text/plain": [
       "company            object\n",
       "url                object\n",
       "aTag               object\n",
       "aTagText           object\n",
       "aTagContent        object\n",
       "href               object\n",
       "keys               object\n",
       "attributes         object\n",
       "key_attr           object\n",
       "trun_href          object\n",
       "candidateMatch    float64\n",
       "dtype: object"
      ]
     },
     "execution_count": 7,
     "metadata": {},
     "output_type": "execute_result"
    }
   ],
   "source": [
    "# Everything was loaded as objects, if we get any trouble ahead we will handle this\n",
    "\n",
    "df.dtypes"
   ]
  },
  {
   "cell_type": "code",
   "execution_count": 11,
   "metadata": {},
   "outputs": [
    {
     "data": {
      "text/plain": [
       "company             0\n",
       "url                 0\n",
       "aTag                0\n",
       "aTagText            0\n",
       "aTagContent       143\n",
       "href               82\n",
       "keys                0\n",
       "attributes          0\n",
       "key_attr            0\n",
       "trun_href           0\n",
       "candidateMatch      0\n",
       "dtype: int64"
      ]
     },
     "execution_count": 11,
     "metadata": {},
     "output_type": "execute_result"
    }
   ],
   "source": [
    "df.isna().sum()"
   ]
  },
  {
   "cell_type": "markdown",
   "metadata": {},
   "source": [
    "<h4>We have a lot of null values for aTagContent and href. The first one should not be a problem for now. For the latter, it does not make sense to carry data that does not have a link, so let's drop those rows</h4>"
   ]
  },
  {
   "cell_type": "code",
   "execution_count": 12,
   "metadata": {},
   "outputs": [],
   "source": [
    "row_drop = df[df.href.isna()].index\n",
    "df.drop(row_drop,axis='rows',inplace=True)\n",
    "df.reset_index(drop=True,inplace=True)"
   ]
  },
  {
   "cell_type": "code",
   "execution_count": 13,
   "metadata": {},
   "outputs": [
    {
     "data": {
      "text/plain": [
       "company             0\n",
       "url                 0\n",
       "aTag                0\n",
       "aTagText            0\n",
       "aTagContent       127\n",
       "href                0\n",
       "keys                0\n",
       "attributes          0\n",
       "key_attr            0\n",
       "trun_href           0\n",
       "candidateMatch      0\n",
       "dtype: int64"
      ]
     },
     "execution_count": 13,
     "metadata": {},
     "output_type": "execute_result"
    }
   ],
   "source": [
    "df.isna().sum()"
   ]
  },
  {
   "cell_type": "markdown",
   "metadata": {},
   "source": [
    "<h4>Let's take a look on the distribution of data by company</h4>"
   ]
  },
  {
   "cell_type": "markdown",
   "metadata": {},
   "source": [
    "Only 43% of the data is composed by real job posts. That is surprising, since all links were extracted from career webpages. Facebook represents half of the dataset, so we need to be careful not to create features that may overfit our model."
   ]
  },
  {
   "cell_type": "code",
   "execution_count": 9,
   "metadata": {},
   "outputs": [
    {
     "data": {
      "text/html": [
       "<div>\n",
       "<style scoped>\n",
       "    .dataframe tbody tr th:only-of-type {\n",
       "        vertical-align: middle;\n",
       "    }\n",
       "\n",
       "    .dataframe tbody tr th {\n",
       "        vertical-align: top;\n",
       "    }\n",
       "\n",
       "    .dataframe thead th {\n",
       "        text-align: right;\n",
       "    }\n",
       "</style>\n",
       "<table border=\"1\" class=\"dataframe\">\n",
       "  <thead>\n",
       "    <tr style=\"text-align: right;\">\n",
       "      <th>candidateMatch</th>\n",
       "      <th>0.0</th>\n",
       "      <th>1.0</th>\n",
       "      <th>Total</th>\n",
       "    </tr>\n",
       "    <tr>\n",
       "      <th>company</th>\n",
       "      <th></th>\n",
       "      <th></th>\n",
       "      <th></th>\n",
       "    </tr>\n",
       "  </thead>\n",
       "  <tbody>\n",
       "    <tr>\n",
       "      <th>Total</th>\n",
       "      <td>0.571147</td>\n",
       "      <td>0.428853</td>\n",
       "      <td>1.000000</td>\n",
       "    </tr>\n",
       "    <tr>\n",
       "      <th>Facebook</th>\n",
       "      <td>0.210862</td>\n",
       "      <td>0.197209</td>\n",
       "      <td>0.408070</td>\n",
       "    </tr>\n",
       "    <tr>\n",
       "      <th>scotiabank</th>\n",
       "      <td>0.084951</td>\n",
       "      <td>0.060680</td>\n",
       "      <td>0.145631</td>\n",
       "    </tr>\n",
       "    <tr>\n",
       "      <th>Okta</th>\n",
       "      <td>0.025485</td>\n",
       "      <td>0.045055</td>\n",
       "      <td>0.070540</td>\n",
       "    </tr>\n",
       "    <tr>\n",
       "      <th>square</th>\n",
       "      <td>0.001669</td>\n",
       "      <td>0.044600</td>\n",
       "      <td>0.046268</td>\n",
       "    </tr>\n",
       "    <tr>\n",
       "      <th>Oracle</th>\n",
       "      <td>0.027609</td>\n",
       "      <td>0.003792</td>\n",
       "      <td>0.031402</td>\n",
       "    </tr>\n",
       "    <tr>\n",
       "      <th>glu</th>\n",
       "      <td>0.017597</td>\n",
       "      <td>0.011833</td>\n",
       "      <td>0.029430</td>\n",
       "    </tr>\n",
       "    <tr>\n",
       "      <th>klick</th>\n",
       "      <td>0.014411</td>\n",
       "      <td>0.010619</td>\n",
       "      <td>0.025030</td>\n",
       "    </tr>\n",
       "    <tr>\n",
       "      <th>opentext</th>\n",
       "      <td>0.023665</td>\n",
       "      <td>0.000000</td>\n",
       "      <td>0.023665</td>\n",
       "    </tr>\n",
       "    <tr>\n",
       "      <th>loblawdigital</th>\n",
       "      <td>0.011226</td>\n",
       "      <td>0.007130</td>\n",
       "      <td>0.018356</td>\n",
       "    </tr>\n",
       "    <tr>\n",
       "      <th>shopify</th>\n",
       "      <td>0.006523</td>\n",
       "      <td>0.011377</td>\n",
       "      <td>0.017900</td>\n",
       "    </tr>\n",
       "    <tr>\n",
       "      <th>ecobee</th>\n",
       "      <td>0.015625</td>\n",
       "      <td>0.000000</td>\n",
       "      <td>0.015625</td>\n",
       "    </tr>\n",
       "    <tr>\n",
       "      <th>later</th>\n",
       "      <td>0.013198</td>\n",
       "      <td>0.002124</td>\n",
       "      <td>0.015322</td>\n",
       "    </tr>\n",
       "    <tr>\n",
       "      <th>Manulife</th>\n",
       "      <td>0.013653</td>\n",
       "      <td>0.001517</td>\n",
       "      <td>0.015170</td>\n",
       "    </tr>\n",
       "    <tr>\n",
       "      <th>rubikloud.ai</th>\n",
       "      <td>0.014867</td>\n",
       "      <td>0.000000</td>\n",
       "      <td>0.014867</td>\n",
       "    </tr>\n",
       "    <tr>\n",
       "      <th>loopio</th>\n",
       "      <td>0.011529</td>\n",
       "      <td>0.002882</td>\n",
       "      <td>0.014411</td>\n",
       "    </tr>\n",
       "    <tr>\n",
       "      <th>Cisco</th>\n",
       "      <td>0.009405</td>\n",
       "      <td>0.004703</td>\n",
       "      <td>0.014108</td>\n",
       "    </tr>\n",
       "    <tr>\n",
       "      <th>yelp</th>\n",
       "      <td>0.010164</td>\n",
       "      <td>0.001517</td>\n",
       "      <td>0.011681</td>\n",
       "    </tr>\n",
       "    <tr>\n",
       "      <th>mavencare</th>\n",
       "      <td>0.007130</td>\n",
       "      <td>0.002882</td>\n",
       "      <td>0.010012</td>\n",
       "    </tr>\n",
       "    <tr>\n",
       "      <th>Snowflake</th>\n",
       "      <td>0.008495</td>\n",
       "      <td>0.001517</td>\n",
       "      <td>0.010012</td>\n",
       "    </tr>\n",
       "    <tr>\n",
       "      <th>appnovation</th>\n",
       "      <td>0.008343</td>\n",
       "      <td>0.000910</td>\n",
       "      <td>0.009254</td>\n",
       "    </tr>\n",
       "    <tr>\n",
       "      <th>Ernest &amp; young</th>\n",
       "      <td>0.007282</td>\n",
       "      <td>0.001517</td>\n",
       "      <td>0.008799</td>\n",
       "    </tr>\n",
       "    <tr>\n",
       "      <th>loblaw</th>\n",
       "      <td>0.006978</td>\n",
       "      <td>0.001517</td>\n",
       "      <td>0.008495</td>\n",
       "    </tr>\n",
       "    <tr>\n",
       "      <th>koho</th>\n",
       "      <td>0.005461</td>\n",
       "      <td>0.002882</td>\n",
       "      <td>0.008343</td>\n",
       "    </tr>\n",
       "    <tr>\n",
       "      <th>northone</th>\n",
       "      <td>0.000455</td>\n",
       "      <td>0.006523</td>\n",
       "      <td>0.006978</td>\n",
       "    </tr>\n",
       "    <tr>\n",
       "      <th>wattpad</th>\n",
       "      <td>0.005006</td>\n",
       "      <td>0.001365</td>\n",
       "      <td>0.006371</td>\n",
       "    </tr>\n",
       "    <tr>\n",
       "      <th>remine</th>\n",
       "      <td>0.004703</td>\n",
       "      <td>0.001214</td>\n",
       "      <td>0.005916</td>\n",
       "    </tr>\n",
       "    <tr>\n",
       "      <th>walmart</th>\n",
       "      <td>0.003337</td>\n",
       "      <td>0.000000</td>\n",
       "      <td>0.003337</td>\n",
       "    </tr>\n",
       "    <tr>\n",
       "      <th>clearbanc</th>\n",
       "      <td>0.000303</td>\n",
       "      <td>0.002275</td>\n",
       "      <td>0.002579</td>\n",
       "    </tr>\n",
       "    <tr>\n",
       "      <th>sensibill</th>\n",
       "      <td>0.001062</td>\n",
       "      <td>0.001214</td>\n",
       "      <td>0.002275</td>\n",
       "    </tr>\n",
       "    <tr>\n",
       "      <th>google</th>\n",
       "      <td>0.000152</td>\n",
       "      <td>0.000000</td>\n",
       "      <td>0.000152</td>\n",
       "    </tr>\n",
       "  </tbody>\n",
       "</table>\n",
       "</div>"
      ],
      "text/plain": [
       "candidateMatch       0.0       1.0     Total\n",
       "company                                     \n",
       "Total           0.571147  0.428853  1.000000\n",
       "Facebook        0.210862  0.197209  0.408070\n",
       "scotiabank      0.084951  0.060680  0.145631\n",
       "Okta            0.025485  0.045055  0.070540\n",
       "square          0.001669  0.044600  0.046268\n",
       "Oracle          0.027609  0.003792  0.031402\n",
       "glu             0.017597  0.011833  0.029430\n",
       "klick           0.014411  0.010619  0.025030\n",
       "opentext        0.023665  0.000000  0.023665\n",
       "loblawdigital   0.011226  0.007130  0.018356\n",
       "shopify         0.006523  0.011377  0.017900\n",
       "ecobee          0.015625  0.000000  0.015625\n",
       "later           0.013198  0.002124  0.015322\n",
       "Manulife        0.013653  0.001517  0.015170\n",
       "rubikloud.ai    0.014867  0.000000  0.014867\n",
       "loopio          0.011529  0.002882  0.014411\n",
       "Cisco           0.009405  0.004703  0.014108\n",
       "yelp            0.010164  0.001517  0.011681\n",
       "mavencare       0.007130  0.002882  0.010012\n",
       "Snowflake       0.008495  0.001517  0.010012\n",
       "appnovation     0.008343  0.000910  0.009254\n",
       "Ernest & young  0.007282  0.001517  0.008799\n",
       "loblaw          0.006978  0.001517  0.008495\n",
       "koho            0.005461  0.002882  0.008343\n",
       "northone        0.000455  0.006523  0.006978\n",
       "wattpad         0.005006  0.001365  0.006371\n",
       "remine          0.004703  0.001214  0.005916\n",
       "walmart         0.003337  0.000000  0.003337\n",
       "clearbanc       0.000303  0.002275  0.002579\n",
       "sensibill       0.001062  0.001214  0.002275\n",
       "google          0.000152  0.000000  0.000152"
      ]
     },
     "execution_count": 9,
     "metadata": {},
     "output_type": "execute_result"
    }
   ],
   "source": [
    "pd.crosstab(df['company'],df['candidateMatch'],margins=True,margins_name='Total',normalize=True).sort_values(by='Total', ascending=False)"
   ]
  },
  {
   "cell_type": "markdown",
   "metadata": {},
   "source": [
    "Google, walmart, opentext, ecobee and rubikloud.ai have no job openings. Probably there was a problem while scraping those pages. "
   ]
  },
  {
   "cell_type": "code",
   "execution_count": 10,
   "metadata": {},
   "outputs": [],
   "source": [
    "# Creating a copy of df for backup purposes\n",
    "df_backup = df.copy()"
   ]
  },
  {
   "cell_type": "markdown",
   "metadata": {},
   "source": [
    "'company' and 'url' should add no value for the model because they will not help in the classification. Also, 'aTag' and 'aTagtext' have all their data duplicated in other columns, such as keys and attributes."
   ]
  },
  {
   "cell_type": "code",
   "execution_count": 14,
   "metadata": {},
   "outputs": [],
   "source": [
    "df = df.drop(['company','url','aTag','aTagText'],axis='columns')"
   ]
  },
  {
   "cell_type": "code",
   "execution_count": 15,
   "metadata": {},
   "outputs": [
    {
     "data": {
      "text/html": [
       "<div>\n",
       "<style scoped>\n",
       "    .dataframe tbody tr th:only-of-type {\n",
       "        vertical-align: middle;\n",
       "    }\n",
       "\n",
       "    .dataframe tbody tr th {\n",
       "        vertical-align: top;\n",
       "    }\n",
       "\n",
       "    .dataframe thead th {\n",
       "        text-align: right;\n",
       "    }\n",
       "</style>\n",
       "<table border=\"1\" class=\"dataframe\">\n",
       "  <thead>\n",
       "    <tr style=\"text-align: right;\">\n",
       "      <th></th>\n",
       "      <th>aTagContent</th>\n",
       "      <th>href</th>\n",
       "      <th>keys</th>\n",
       "      <th>attributes</th>\n",
       "      <th>key_attr</th>\n",
       "      <th>trun_href</th>\n",
       "      <th>candidateMatch</th>\n",
       "    </tr>\n",
       "  </thead>\n",
       "  <tbody>\n",
       "    <tr>\n",
       "      <th>0</th>\n",
       "      <td>Skip to Content</td>\n",
       "      <td>#Main</td>\n",
       "      <td>dict_keys(['class', 'data-ga-event', 'data-ga-...</td>\n",
       "      <td>dict_values([['in-page-link', 'skip-to-main', ...</td>\n",
       "      <td>{'class': ['in-page-link', 'skip-to-main', 'vi...</td>\n",
       "      <td>#Main</td>\n",
       "      <td>0.0</td>\n",
       "    </tr>\n",
       "    <tr>\n",
       "      <th>1</th>\n",
       "      <td>\\nShopify Careers  \\n</td>\n",
       "      <td>/careers</td>\n",
       "      <td>dict_keys(['href', 'class', 'data-ga-event', '...</td>\n",
       "      <td>dict_values(['/careers', ['marketing-nav__logo...</td>\n",
       "      <td>{'href': '/careers', 'class': ['marketing-nav_...</td>\n",
       "      <td>/careers</td>\n",
       "      <td>0.0</td>\n",
       "    </tr>\n",
       "    <tr>\n",
       "      <th>2</th>\n",
       "      <td>Life at Shopify</td>\n",
       "      <td>/careers/culture</td>\n",
       "      <td>dict_keys(['href', 'class', 'itemprop'])</td>\n",
       "      <td>dict_values(['/careers/culture', ['marketing-n...</td>\n",
       "      <td>{'href': '/careers/culture', 'class': ['market...</td>\n",
       "      <td>/careers/culture</td>\n",
       "      <td>0.0</td>\n",
       "    </tr>\n",
       "    <tr>\n",
       "      <th>3</th>\n",
       "      <td>Teams</td>\n",
       "      <td>/careers/teams</td>\n",
       "      <td>dict_keys(['href', 'class', 'itemprop'])</td>\n",
       "      <td>dict_values(['/careers/teams', ['marketing-nav...</td>\n",
       "      <td>{'href': '/careers/teams', 'class': ['marketin...</td>\n",
       "      <td>/careers/teams</td>\n",
       "      <td>0.0</td>\n",
       "    </tr>\n",
       "    <tr>\n",
       "      <th>4</th>\n",
       "      <td>Work anywhere</td>\n",
       "      <td>/careers/work-anywhere</td>\n",
       "      <td>dict_keys(['href', 'class', 'itemprop'])</td>\n",
       "      <td>dict_values(['/careers/work-anywhere', ['marke...</td>\n",
       "      <td>{'href': '/careers/work-anywhere', 'class': ['...</td>\n",
       "      <td>/careers/work-anywhere</td>\n",
       "      <td>0.0</td>\n",
       "    </tr>\n",
       "  </tbody>\n",
       "</table>\n",
       "</div>"
      ],
      "text/plain": [
       "             aTagContent                    href  \\\n",
       "0        Skip to Content                   #Main   \n",
       "1  \\nShopify Careers  \\n                /careers   \n",
       "2        Life at Shopify        /careers/culture   \n",
       "3                  Teams          /careers/teams   \n",
       "4          Work anywhere  /careers/work-anywhere   \n",
       "\n",
       "                                                keys  \\\n",
       "0  dict_keys(['class', 'data-ga-event', 'data-ga-...   \n",
       "1  dict_keys(['href', 'class', 'data-ga-event', '...   \n",
       "2           dict_keys(['href', 'class', 'itemprop'])   \n",
       "3           dict_keys(['href', 'class', 'itemprop'])   \n",
       "4           dict_keys(['href', 'class', 'itemprop'])   \n",
       "\n",
       "                                          attributes  \\\n",
       "0  dict_values([['in-page-link', 'skip-to-main', ...   \n",
       "1  dict_values(['/careers', ['marketing-nav__logo...   \n",
       "2  dict_values(['/careers/culture', ['marketing-n...   \n",
       "3  dict_values(['/careers/teams', ['marketing-nav...   \n",
       "4  dict_values(['/careers/work-anywhere', ['marke...   \n",
       "\n",
       "                                            key_attr               trun_href  \\\n",
       "0  {'class': ['in-page-link', 'skip-to-main', 'vi...                   #Main   \n",
       "1  {'href': '/careers', 'class': ['marketing-nav_...                /careers   \n",
       "2  {'href': '/careers/culture', 'class': ['market...        /careers/culture   \n",
       "3  {'href': '/careers/teams', 'class': ['marketin...          /careers/teams   \n",
       "4  {'href': '/careers/work-anywhere', 'class': ['...  /careers/work-anywhere   \n",
       "\n",
       "   candidateMatch  \n",
       "0             0.0  \n",
       "1             0.0  \n",
       "2             0.0  \n",
       "3             0.0  \n",
       "4             0.0  "
      ]
     },
     "execution_count": 15,
     "metadata": {},
     "output_type": "execute_result"
    }
   ],
   "source": [
    "df.head()"
   ]
  },
  {
   "cell_type": "markdown",
   "metadata": {},
   "source": [
    "There is a lot of data to be cleaned, so let's walk throught each column"
   ]
  },
  {
   "cell_type": "markdown",
   "metadata": {},
   "source": [
    "# aTagContet"
   ]
  },
  {
   "cell_type": "markdown",
   "metadata": {},
   "source": [
    "We are going to do three things here: <br>\n",
    "1 - Create a length feature <br>\n",
    "2 - Group the length"
   ]
  },
  {
   "cell_type": "code",
   "execution_count": 16,
   "metadata": {},
   "outputs": [],
   "source": [
    "# Creating the length feature\n",
    "df['len_aTagContent'] = df['aTagContent'].apply(lambda x: len(x) if type(x) == str else 0)"
   ]
  },
  {
   "cell_type": "code",
   "execution_count": 17,
   "metadata": {},
   "outputs": [
    {
     "data": {
      "text/html": [
       "<div>\n",
       "<style scoped>\n",
       "    .dataframe tbody tr th:only-of-type {\n",
       "        vertical-align: middle;\n",
       "    }\n",
       "\n",
       "    .dataframe tbody tr th {\n",
       "        vertical-align: top;\n",
       "    }\n",
       "\n",
       "    .dataframe thead th {\n",
       "        text-align: right;\n",
       "    }\n",
       "</style>\n",
       "<table border=\"1\" class=\"dataframe\">\n",
       "  <thead>\n",
       "    <tr style=\"text-align: right;\">\n",
       "      <th></th>\n",
       "      <th>aTagContent</th>\n",
       "      <th>href</th>\n",
       "      <th>keys</th>\n",
       "      <th>attributes</th>\n",
       "      <th>key_attr</th>\n",
       "      <th>trun_href</th>\n",
       "      <th>candidateMatch</th>\n",
       "      <th>len_aTagContent</th>\n",
       "    </tr>\n",
       "  </thead>\n",
       "  <tbody>\n",
       "    <tr>\n",
       "      <th>0</th>\n",
       "      <td>Skip to Content</td>\n",
       "      <td>#Main</td>\n",
       "      <td>dict_keys(['class', 'data-ga-event', 'data-ga-...</td>\n",
       "      <td>dict_values([['in-page-link', 'skip-to-main', ...</td>\n",
       "      <td>{'class': ['in-page-link', 'skip-to-main', 'vi...</td>\n",
       "      <td>#Main</td>\n",
       "      <td>0.0</td>\n",
       "      <td>15</td>\n",
       "    </tr>\n",
       "    <tr>\n",
       "      <th>1</th>\n",
       "      <td>\\nShopify Careers  \\n</td>\n",
       "      <td>/careers</td>\n",
       "      <td>dict_keys(['href', 'class', 'data-ga-event', '...</td>\n",
       "      <td>dict_values(['/careers', ['marketing-nav__logo...</td>\n",
       "      <td>{'href': '/careers', 'class': ['marketing-nav_...</td>\n",
       "      <td>/careers</td>\n",
       "      <td>0.0</td>\n",
       "      <td>19</td>\n",
       "    </tr>\n",
       "    <tr>\n",
       "      <th>2</th>\n",
       "      <td>Life at Shopify</td>\n",
       "      <td>/careers/culture</td>\n",
       "      <td>dict_keys(['href', 'class', 'itemprop'])</td>\n",
       "      <td>dict_values(['/careers/culture', ['marketing-n...</td>\n",
       "      <td>{'href': '/careers/culture', 'class': ['market...</td>\n",
       "      <td>/careers/culture</td>\n",
       "      <td>0.0</td>\n",
       "      <td>15</td>\n",
       "    </tr>\n",
       "    <tr>\n",
       "      <th>3</th>\n",
       "      <td>Teams</td>\n",
       "      <td>/careers/teams</td>\n",
       "      <td>dict_keys(['href', 'class', 'itemprop'])</td>\n",
       "      <td>dict_values(['/careers/teams', ['marketing-nav...</td>\n",
       "      <td>{'href': '/careers/teams', 'class': ['marketin...</td>\n",
       "      <td>/careers/teams</td>\n",
       "      <td>0.0</td>\n",
       "      <td>5</td>\n",
       "    </tr>\n",
       "    <tr>\n",
       "      <th>4</th>\n",
       "      <td>Work anywhere</td>\n",
       "      <td>/careers/work-anywhere</td>\n",
       "      <td>dict_keys(['href', 'class', 'itemprop'])</td>\n",
       "      <td>dict_values(['/careers/work-anywhere', ['marke...</td>\n",
       "      <td>{'href': '/careers/work-anywhere', 'class': ['...</td>\n",
       "      <td>/careers/work-anywhere</td>\n",
       "      <td>0.0</td>\n",
       "      <td>13</td>\n",
       "    </tr>\n",
       "  </tbody>\n",
       "</table>\n",
       "</div>"
      ],
      "text/plain": [
       "             aTagContent                    href  \\\n",
       "0        Skip to Content                   #Main   \n",
       "1  \\nShopify Careers  \\n                /careers   \n",
       "2        Life at Shopify        /careers/culture   \n",
       "3                  Teams          /careers/teams   \n",
       "4          Work anywhere  /careers/work-anywhere   \n",
       "\n",
       "                                                keys  \\\n",
       "0  dict_keys(['class', 'data-ga-event', 'data-ga-...   \n",
       "1  dict_keys(['href', 'class', 'data-ga-event', '...   \n",
       "2           dict_keys(['href', 'class', 'itemprop'])   \n",
       "3           dict_keys(['href', 'class', 'itemprop'])   \n",
       "4           dict_keys(['href', 'class', 'itemprop'])   \n",
       "\n",
       "                                          attributes  \\\n",
       "0  dict_values([['in-page-link', 'skip-to-main', ...   \n",
       "1  dict_values(['/careers', ['marketing-nav__logo...   \n",
       "2  dict_values(['/careers/culture', ['marketing-n...   \n",
       "3  dict_values(['/careers/teams', ['marketing-nav...   \n",
       "4  dict_values(['/careers/work-anywhere', ['marke...   \n",
       "\n",
       "                                            key_attr               trun_href  \\\n",
       "0  {'class': ['in-page-link', 'skip-to-main', 'vi...                   #Main   \n",
       "1  {'href': '/careers', 'class': ['marketing-nav_...                /careers   \n",
       "2  {'href': '/careers/culture', 'class': ['market...        /careers/culture   \n",
       "3  {'href': '/careers/teams', 'class': ['marketin...          /careers/teams   \n",
       "4  {'href': '/careers/work-anywhere', 'class': ['...  /careers/work-anywhere   \n",
       "\n",
       "   candidateMatch  len_aTagContent  \n",
       "0             0.0               15  \n",
       "1             0.0               19  \n",
       "2             0.0               15  \n",
       "3             0.0                5  \n",
       "4             0.0               13  "
      ]
     },
     "execution_count": 17,
     "metadata": {},
     "output_type": "execute_result"
    }
   ],
   "source": [
    "df.head()"
   ]
  },
  {
   "cell_type": "code",
   "execution_count": 18,
   "metadata": {},
   "outputs": [
    {
     "data": {
      "text/plain": [
       "<matplotlib.axes._subplots.AxesSubplot at 0x264e6fc9dc0>"
      ]
     },
     "execution_count": 18,
     "metadata": {},
     "output_type": "execute_result"
    },
    {
     "data": {
      "image/png": "[encoded data removed]",
      "text/plain": [
       "<Figure size 432x288 with 1 Axes>"
      ]
     },
     "metadata": {
      "needs_background": "light"
     },
     "output_type": "display_data"
    }
   ],
   "source": [
    "df.len_aTagContent.hist()"
   ]
  },
  {
   "cell_type": "code",
   "execution_count": 20,
   "metadata": {},
   "outputs": [
    {
     "data": {
      "text/plain": [
       "<Figure size 648x432 with 0 Axes>"
      ]
     },
     "metadata": {},
     "output_type": "display_data"
    },
    {
     "data": {
      "image/png": "[encoded data removed]",
      "text/plain": [
       "<Figure size 432x288 with 1 Axes>"
      ]
     },
     "metadata": {
      "needs_background": "light"
     },
     "output_type": "display_data"
    }
   ],
   "source": [
    "matches = df[['len_aTagContent','candidateMatch']].groupby('len_aTagContent').agg('mean')\n",
    "\n",
    "\n",
    "plt.figure(figsize=(9,6))\n",
    "matches.plot.line()\n",
    "plt.xlim(0, 180)\n",
    "plt.xticks(rotation=90)\n",
    "plt.xlabel(\"aTagContent lenght\")\n",
    "plt.ylabel(\"% of job links\")\n",
    "plt.title(\"job link per lenght of aTagContent\")\n",
    "plt.show()"
   ]
  },
  {
   "cell_type": "markdown",
   "metadata": {},
   "source": [
    "Apparantly there is a good correlation between the length of aTagContent and candidateMatch. Since this correlation is not linear, let's create some groups of lengths. Let's also get the dummies for this new categorical feature."
   ]
  },
  {
   "cell_type": "code",
   "execution_count": 22,
   "metadata": {},
   "outputs": [],
   "source": [
    "df['len_aTagContent_group'] = np.where(df['len_aTagContent']<60,'under 60',\n",
    "                                np.where(df['len_aTagContent']<=175,'between 60 and 175',\n",
    "                                         'over 175'\n",
    "                                         )\n",
    "                                )\n",
    "\n",
    "df = pd.get_dummies(df,columns=['len_aTagContent_group'])"
   ]
  },
  {
   "cell_type": "code",
   "execution_count": 23,
   "metadata": {},
   "outputs": [
    {
     "data": {
      "text/html": [
       "<div>\n",
       "<style scoped>\n",
       "    .dataframe tbody tr th:only-of-type {\n",
       "        vertical-align: middle;\n",
       "    }\n",
       "\n",
       "    .dataframe tbody tr th {\n",
       "        vertical-align: top;\n",
       "    }\n",
       "\n",
       "    .dataframe thead th {\n",
       "        text-align: right;\n",
       "    }\n",
       "</style>\n",
       "<table border=\"1\" class=\"dataframe\">\n",
       "  <thead>\n",
       "    <tr style=\"text-align: right;\">\n",
       "      <th></th>\n",
       "      <th>aTagContent</th>\n",
       "      <th>href</th>\n",
       "      <th>keys</th>\n",
       "      <th>attributes</th>\n",
       "      <th>key_attr</th>\n",
       "      <th>trun_href</th>\n",
       "      <th>candidateMatch</th>\n",
       "      <th>len_aTagContent</th>\n",
       "      <th>len_aTagContent_group_between 60 and 175</th>\n",
       "      <th>len_aTagContent_group_over 175</th>\n",
       "      <th>len_aTagContent_group_under 60</th>\n",
       "    </tr>\n",
       "  </thead>\n",
       "  <tbody>\n",
       "    <tr>\n",
       "      <th>0</th>\n",
       "      <td>Skip to Content</td>\n",
       "      <td>#Main</td>\n",
       "      <td>dict_keys(['class', 'data-ga-event', 'data-ga-...</td>\n",
       "      <td>dict_values([['in-page-link', 'skip-to-main', ...</td>\n",
       "      <td>{'class': ['in-page-link', 'skip-to-main', 'vi...</td>\n",
       "      <td>#Main</td>\n",
       "      <td>0.0</td>\n",
       "      <td>15</td>\n",
       "      <td>0</td>\n",
       "      <td>0</td>\n",
       "      <td>1</td>\n",
       "    </tr>\n",
       "    <tr>\n",
       "      <th>1</th>\n",
       "      <td>\\nShopify Careers  \\n</td>\n",
       "      <td>/careers</td>\n",
       "      <td>dict_keys(['href', 'class', 'data-ga-event', '...</td>\n",
       "      <td>dict_values(['/careers', ['marketing-nav__logo...</td>\n",
       "      <td>{'href': '/careers', 'class': ['marketing-nav_...</td>\n",
       "      <td>/careers</td>\n",
       "      <td>0.0</td>\n",
       "      <td>19</td>\n",
       "      <td>0</td>\n",
       "      <td>0</td>\n",
       "      <td>1</td>\n",
       "    </tr>\n",
       "    <tr>\n",
       "      <th>2</th>\n",
       "      <td>Life at Shopify</td>\n",
       "      <td>/careers/culture</td>\n",
       "      <td>dict_keys(['href', 'class', 'itemprop'])</td>\n",
       "      <td>dict_values(['/careers/culture', ['marketing-n...</td>\n",
       "      <td>{'href': '/careers/culture', 'class': ['market...</td>\n",
       "      <td>/careers/culture</td>\n",
       "      <td>0.0</td>\n",
       "      <td>15</td>\n",
       "      <td>0</td>\n",
       "      <td>0</td>\n",
       "      <td>1</td>\n",
       "    </tr>\n",
       "    <tr>\n",
       "      <th>3</th>\n",
       "      <td>Teams</td>\n",
       "      <td>/careers/teams</td>\n",
       "      <td>dict_keys(['href', 'class', 'itemprop'])</td>\n",
       "      <td>dict_values(['/careers/teams', ['marketing-nav...</td>\n",
       "      <td>{'href': '/careers/teams', 'class': ['marketin...</td>\n",
       "      <td>/careers/teams</td>\n",
       "      <td>0.0</td>\n",
       "      <td>5</td>\n",
       "      <td>0</td>\n",
       "      <td>0</td>\n",
       "      <td>1</td>\n",
       "    </tr>\n",
       "    <tr>\n",
       "      <th>4</th>\n",
       "      <td>Work anywhere</td>\n",
       "      <td>/careers/work-anywhere</td>\n",
       "      <td>dict_keys(['href', 'class', 'itemprop'])</td>\n",
       "      <td>dict_values(['/careers/work-anywhere', ['marke...</td>\n",
       "      <td>{'href': '/careers/work-anywhere', 'class': ['...</td>\n",
       "      <td>/careers/work-anywhere</td>\n",
       "      <td>0.0</td>\n",
       "      <td>13</td>\n",
       "      <td>0</td>\n",
       "      <td>0</td>\n",
       "      <td>1</td>\n",
       "    </tr>\n",
       "  </tbody>\n",
       "</table>\n",
       "</div>"
      ],
      "text/plain": [
       "             aTagContent                    href  \\\n",
       "0        Skip to Content                   #Main   \n",
       "1  \\nShopify Careers  \\n                /careers   \n",
       "2        Life at Shopify        /careers/culture   \n",
       "3                  Teams          /careers/teams   \n",
       "4          Work anywhere  /careers/work-anywhere   \n",
       "\n",
       "                                                keys  \\\n",
       "0  dict_keys(['class', 'data-ga-event', 'data-ga-...   \n",
       "1  dict_keys(['href', 'class', 'data-ga-event', '...   \n",
       "2           dict_keys(['href', 'class', 'itemprop'])   \n",
       "3           dict_keys(['href', 'class', 'itemprop'])   \n",
       "4           dict_keys(['href', 'class', 'itemprop'])   \n",
       "\n",
       "                                          attributes  \\\n",
       "0  dict_values([['in-page-link', 'skip-to-main', ...   \n",
       "1  dict_values(['/careers', ['marketing-nav__logo...   \n",
       "2  dict_values(['/careers/culture', ['marketing-n...   \n",
       "3  dict_values(['/careers/teams', ['marketing-nav...   \n",
       "4  dict_values(['/careers/work-anywhere', ['marke...   \n",
       "\n",
       "                                            key_attr               trun_href  \\\n",
       "0  {'class': ['in-page-link', 'skip-to-main', 'vi...                   #Main   \n",
       "1  {'href': '/careers', 'class': ['marketing-nav_...                /careers   \n",
       "2  {'href': '/careers/culture', 'class': ['market...        /careers/culture   \n",
       "3  {'href': '/careers/teams', 'class': ['marketin...          /careers/teams   \n",
       "4  {'href': '/careers/work-anywhere', 'class': ['...  /careers/work-anywhere   \n",
       "\n",
       "   candidateMatch  len_aTagContent  len_aTagContent_group_between 60 and 175  \\\n",
       "0             0.0               15                                         0   \n",
       "1             0.0               19                                         0   \n",
       "2             0.0               15                                         0   \n",
       "3             0.0                5                                         0   \n",
       "4             0.0               13                                         0   \n",
       "\n",
       "   len_aTagContent_group_over 175  len_aTagContent_group_under 60  \n",
       "0                               0                               1  \n",
       "1                               0                               1  \n",
       "2                               0                               1  \n",
       "3                               0                               1  \n",
       "4                               0                               1  "
      ]
     },
     "execution_count": 23,
     "metadata": {},
     "output_type": "execute_result"
    }
   ],
   "source": [
    "df.head()"
   ]
  },
  {
   "cell_type": "markdown",
   "metadata": {},
   "source": [
    "# href"
   ]
  },
  {
   "cell_type": "code",
   "execution_count": 24,
   "metadata": {},
   "outputs": [],
   "source": [
    "# 1 - get len\n",
    "# 2 - group len"
   ]
  },
  {
   "cell_type": "code",
   "execution_count": 26,
   "metadata": {},
   "outputs": [
    {
     "data": {
      "text/plain": [
       "<matplotlib.axes._subplots.AxesSubplot at 0x264c5942b20>"
      ]
     },
     "execution_count": 26,
     "metadata": {},
     "output_type": "execute_result"
    },
    {
     "data": {
      "image/png": "[encoded data removed]",
      "text/plain": [
       "<Figure size 432x288 with 1 Axes>"
      ]
     },
     "metadata": {
      "needs_background": "light"
     },
     "output_type": "display_data"
    }
   ],
   "source": [
    "# Creating the len feature\n",
    "df['len_href'] = df['href'].apply(lambda x: len(x) if type(x)==str else 0)\n",
    "\n",
    "# ploting the hist for len_href\n",
    "\n",
    "df['len_href'].hist()"
   ]
  },
  {
   "cell_type": "code",
   "execution_count": 29,
   "metadata": {},
   "outputs": [
    {
     "name": "stdout",
     "output_type": "stream",
     "text": [
      "25\n"
     ]
    },
    {
     "data": {
      "text/html": [
       "<div>\n",
       "<style scoped>\n",
       "    .dataframe tbody tr th:only-of-type {\n",
       "        vertical-align: middle;\n",
       "    }\n",
       "\n",
       "    .dataframe tbody tr th {\n",
       "        vertical-align: top;\n",
       "    }\n",
       "\n",
       "    .dataframe thead th {\n",
       "        text-align: right;\n",
       "    }\n",
       "</style>\n",
       "<table border=\"1\" class=\"dataframe\">\n",
       "  <thead>\n",
       "    <tr style=\"text-align: right;\">\n",
       "      <th></th>\n",
       "      <th>aTagContent</th>\n",
       "      <th>href</th>\n",
       "      <th>keys</th>\n",
       "      <th>attributes</th>\n",
       "      <th>key_attr</th>\n",
       "      <th>trun_href</th>\n",
       "      <th>candidateMatch</th>\n",
       "      <th>len_aTagContent</th>\n",
       "      <th>len_aTagContent_group_between 60 and 175</th>\n",
       "      <th>len_aTagContent_group_over 175</th>\n",
       "      <th>len_aTagContent_group_under 60</th>\n",
       "      <th>len_href</th>\n",
       "    </tr>\n",
       "  </thead>\n",
       "  <tbody>\n",
       "    <tr>\n",
       "      <th>1934</th>\n",
       "      <td>Next</td>\n",
       "      <td>/careers/jobs/?offices%5B0%5D=Altoona%2C+IA&amp;of...</td>\n",
       "      <td>dict_keys(['role', 'class', 'href', 'id'])</td>\n",
       "      <td>dict_values(['button', ['_42ft', '_3nu9', '_3n...</td>\n",
       "      <td>{'role': 'button', 'class': ['_42ft', '_3nu9',...</td>\n",
       "      <td>/careers/jobs/?offices%5B</td>\n",
       "      <td>0.0</td>\n",
       "      <td>4</td>\n",
       "      <td>0</td>\n",
       "      <td>0</td>\n",
       "      <td>1</td>\n",
       "      <td>1484</td>\n",
       "    </tr>\n",
       "    <tr>\n",
       "      <th>2140</th>\n",
       "      <td>Prev</td>\n",
       "      <td>/careers/jobs/?offices%5B0%5D=Altoona%2C+IA&amp;of...</td>\n",
       "      <td>dict_keys(['role', 'class', 'href', 'id'])</td>\n",
       "      <td>dict_values(['button', ['_42ft', '_3nu9', '_3n...</td>\n",
       "      <td>{'role': 'button', 'class': ['_42ft', '_3nu9',...</td>\n",
       "      <td>/careers/jobs/?offices%5B</td>\n",
       "      <td>0.0</td>\n",
       "      <td>4</td>\n",
       "      <td>0</td>\n",
       "      <td>0</td>\n",
       "      <td>1</td>\n",
       "      <td>1484</td>\n",
       "    </tr>\n",
       "    <tr>\n",
       "      <th>2141</th>\n",
       "      <td>Next</td>\n",
       "      <td>/careers/jobs/?offices%5B0%5D=Altoona%2C+IA&amp;of...</td>\n",
       "      <td>dict_keys(['role', 'class', 'href', 'id'])</td>\n",
       "      <td>dict_values(['button', ['_42ft', '_3nu9', '_3n...</td>\n",
       "      <td>{'role': 'button', 'class': ['_42ft', '_3nu9',...</td>\n",
       "      <td>/careers/jobs/?offices%5B</td>\n",
       "      <td>0.0</td>\n",
       "      <td>4</td>\n",
       "      <td>0</td>\n",
       "      <td>0</td>\n",
       "      <td>1</td>\n",
       "      <td>1484</td>\n",
       "    </tr>\n",
       "    <tr>\n",
       "      <th>2347</th>\n",
       "      <td>Prev</td>\n",
       "      <td>/careers/jobs/?offices%5B0%5D=Altoona%2C+IA&amp;of...</td>\n",
       "      <td>dict_keys(['role', 'class', 'href', 'id'])</td>\n",
       "      <td>dict_values(['button', ['_42ft', '_3nu9', '_3n...</td>\n",
       "      <td>{'role': 'button', 'class': ['_42ft', '_3nu9',...</td>\n",
       "      <td>/careers/jobs/?offices%5B</td>\n",
       "      <td>0.0</td>\n",
       "      <td>4</td>\n",
       "      <td>0</td>\n",
       "      <td>0</td>\n",
       "      <td>1</td>\n",
       "      <td>1484</td>\n",
       "    </tr>\n",
       "    <tr>\n",
       "      <th>2348</th>\n",
       "      <td>Next</td>\n",
       "      <td>/careers/jobs/?offices%5B0%5D=Altoona%2C+IA&amp;of...</td>\n",
       "      <td>dict_keys(['role', 'class', 'href', 'id'])</td>\n",
       "      <td>dict_values(['button', ['_42ft', '_3nu9', '_3n...</td>\n",
       "      <td>{'role': 'button', 'class': ['_42ft', '_3nu9',...</td>\n",
       "      <td>/careers/jobs/?offices%5B</td>\n",
       "      <td>0.0</td>\n",
       "      <td>4</td>\n",
       "      <td>0</td>\n",
       "      <td>0</td>\n",
       "      <td>1</td>\n",
       "      <td>1484</td>\n",
       "    </tr>\n",
       "    <tr>\n",
       "      <th>2554</th>\n",
       "      <td>Prev</td>\n",
       "      <td>/careers/jobs/?offices%5B0%5D=Altoona%2C+IA&amp;of...</td>\n",
       "      <td>dict_keys(['role', 'class', 'href', 'id'])</td>\n",
       "      <td>dict_values(['button', ['_42ft', '_3nu9', '_3n...</td>\n",
       "      <td>{'role': 'button', 'class': ['_42ft', '_3nu9',...</td>\n",
       "      <td>/careers/jobs/?offices%5B</td>\n",
       "      <td>0.0</td>\n",
       "      <td>4</td>\n",
       "      <td>0</td>\n",
       "      <td>0</td>\n",
       "      <td>1</td>\n",
       "      <td>1484</td>\n",
       "    </tr>\n",
       "    <tr>\n",
       "      <th>2555</th>\n",
       "      <td>Next</td>\n",
       "      <td>/careers/jobs/?offices%5B0%5D=Altoona%2C+IA&amp;of...</td>\n",
       "      <td>dict_keys(['role', 'class', 'href', 'id'])</td>\n",
       "      <td>dict_values(['button', ['_42ft', '_3nu9', '_3n...</td>\n",
       "      <td>{'role': 'button', 'class': ['_42ft', '_3nu9',...</td>\n",
       "      <td>/careers/jobs/?offices%5B</td>\n",
       "      <td>0.0</td>\n",
       "      <td>4</td>\n",
       "      <td>0</td>\n",
       "      <td>0</td>\n",
       "      <td>1</td>\n",
       "      <td>1484</td>\n",
       "    </tr>\n",
       "    <tr>\n",
       "      <th>2761</th>\n",
       "      <td>Prev</td>\n",
       "      <td>/careers/jobs/?offices%5B0%5D=Altoona%2C+IA&amp;of...</td>\n",
       "      <td>dict_keys(['role', 'class', 'href', 'id'])</td>\n",
       "      <td>dict_values(['button', ['_42ft', '_3nu9', '_3n...</td>\n",
       "      <td>{'role': 'button', 'class': ['_42ft', '_3nu9',...</td>\n",
       "      <td>/careers/jobs/?offices%5B</td>\n",
       "      <td>0.0</td>\n",
       "      <td>4</td>\n",
       "      <td>0</td>\n",
       "      <td>0</td>\n",
       "      <td>1</td>\n",
       "      <td>1484</td>\n",
       "    </tr>\n",
       "    <tr>\n",
       "      <th>2762</th>\n",
       "      <td>Next</td>\n",
       "      <td>/careers/jobs/?offices%5B0%5D=Altoona%2C+IA&amp;of...</td>\n",
       "      <td>dict_keys(['role', 'class', 'href', 'id'])</td>\n",
       "      <td>dict_values(['button', ['_42ft', '_3nu9', '_3n...</td>\n",
       "      <td>{'role': 'button', 'class': ['_42ft', '_3nu9',...</td>\n",
       "      <td>/careers/jobs/?offices%5B</td>\n",
       "      <td>0.0</td>\n",
       "      <td>4</td>\n",
       "      <td>0</td>\n",
       "      <td>0</td>\n",
       "      <td>1</td>\n",
       "      <td>1484</td>\n",
       "    </tr>\n",
       "    <tr>\n",
       "      <th>2968</th>\n",
       "      <td>Prev</td>\n",
       "      <td>/careers/jobs/?offices%5B0%5D=Altoona%2C+IA&amp;of...</td>\n",
       "      <td>dict_keys(['role', 'class', 'href', 'id'])</td>\n",
       "      <td>dict_values(['button', ['_42ft', '_3nu9', '_3n...</td>\n",
       "      <td>{'role': 'button', 'class': ['_42ft', '_3nu9',...</td>\n",
       "      <td>/careers/jobs/?offices%5B</td>\n",
       "      <td>0.0</td>\n",
       "      <td>4</td>\n",
       "      <td>0</td>\n",
       "      <td>0</td>\n",
       "      <td>1</td>\n",
       "      <td>1484</td>\n",
       "    </tr>\n",
       "    <tr>\n",
       "      <th>2969</th>\n",
       "      <td>Next</td>\n",
       "      <td>/careers/jobs/?offices%5B0%5D=Altoona%2C+IA&amp;of...</td>\n",
       "      <td>dict_keys(['role', 'class', 'href', 'id'])</td>\n",
       "      <td>dict_values(['button', ['_42ft', '_3nu9', '_3n...</td>\n",
       "      <td>{'role': 'button', 'class': ['_42ft', '_3nu9',...</td>\n",
       "      <td>/careers/jobs/?offices%5B</td>\n",
       "      <td>0.0</td>\n",
       "      <td>4</td>\n",
       "      <td>0</td>\n",
       "      <td>0</td>\n",
       "      <td>1</td>\n",
       "      <td>1484</td>\n",
       "    </tr>\n",
       "    <tr>\n",
       "      <th>3175</th>\n",
       "      <td>Prev</td>\n",
       "      <td>/careers/jobs/?offices%5B0%5D=Altoona%2C+IA&amp;of...</td>\n",
       "      <td>dict_keys(['role', 'class', 'href', 'id'])</td>\n",
       "      <td>dict_values(['button', ['_42ft', '_3nu9', '_3n...</td>\n",
       "      <td>{'role': 'button', 'class': ['_42ft', '_3nu9',...</td>\n",
       "      <td>/careers/jobs/?offices%5B</td>\n",
       "      <td>0.0</td>\n",
       "      <td>4</td>\n",
       "      <td>0</td>\n",
       "      <td>0</td>\n",
       "      <td>1</td>\n",
       "      <td>1484</td>\n",
       "    </tr>\n",
       "    <tr>\n",
       "      <th>3176</th>\n",
       "      <td>Next</td>\n",
       "      <td>/careers/jobs/?offices%5B0%5D=Altoona%2C+IA&amp;of...</td>\n",
       "      <td>dict_keys(['role', 'class', 'href', 'id'])</td>\n",
       "      <td>dict_values(['button', ['_42ft', '_3nu9', '_3n...</td>\n",
       "      <td>{'role': 'button', 'class': ['_42ft', '_3nu9',...</td>\n",
       "      <td>/careers/jobs/?offices%5B</td>\n",
       "      <td>0.0</td>\n",
       "      <td>4</td>\n",
       "      <td>0</td>\n",
       "      <td>0</td>\n",
       "      <td>1</td>\n",
       "      <td>1484</td>\n",
       "    </tr>\n",
       "    <tr>\n",
       "      <th>3382</th>\n",
       "      <td>Prev</td>\n",
       "      <td>/careers/jobs/?offices%5B0%5D=Altoona%2C+IA&amp;of...</td>\n",
       "      <td>dict_keys(['role', 'class', 'href', 'id'])</td>\n",
       "      <td>dict_values(['button', ['_42ft', '_3nu9', '_3n...</td>\n",
       "      <td>{'role': 'button', 'class': ['_42ft', '_3nu9',...</td>\n",
       "      <td>/careers/jobs/?offices%5B</td>\n",
       "      <td>0.0</td>\n",
       "      <td>4</td>\n",
       "      <td>0</td>\n",
       "      <td>0</td>\n",
       "      <td>1</td>\n",
       "      <td>1484</td>\n",
       "    </tr>\n",
       "    <tr>\n",
       "      <th>3383</th>\n",
       "      <td>Next</td>\n",
       "      <td>/careers/jobs/?offices%5B0%5D=Altoona%2C+IA&amp;of...</td>\n",
       "      <td>dict_keys(['role', 'class', 'href', 'id'])</td>\n",
       "      <td>dict_values(['button', ['_42ft', '_3nu9', '_3n...</td>\n",
       "      <td>{'role': 'button', 'class': ['_42ft', '_3nu9',...</td>\n",
       "      <td>/careers/jobs/?offices%5B</td>\n",
       "      <td>0.0</td>\n",
       "      <td>4</td>\n",
       "      <td>0</td>\n",
       "      <td>0</td>\n",
       "      <td>1</td>\n",
       "      <td>1484</td>\n",
       "    </tr>\n",
       "    <tr>\n",
       "      <th>3589</th>\n",
       "      <td>Prev</td>\n",
       "      <td>/careers/jobs/?offices%5B0%5D=Altoona%2C+IA&amp;of...</td>\n",
       "      <td>dict_keys(['role', 'class', 'href', 'id'])</td>\n",
       "      <td>dict_values(['button', ['_42ft', '_3nu9', '_3n...</td>\n",
       "      <td>{'role': 'button', 'class': ['_42ft', '_3nu9',...</td>\n",
       "      <td>/careers/jobs/?offices%5B</td>\n",
       "      <td>0.0</td>\n",
       "      <td>4</td>\n",
       "      <td>0</td>\n",
       "      <td>0</td>\n",
       "      <td>1</td>\n",
       "      <td>1484</td>\n",
       "    </tr>\n",
       "    <tr>\n",
       "      <th>3590</th>\n",
       "      <td>Next</td>\n",
       "      <td>/careers/jobs/?offices%5B0%5D=Altoona%2C+IA&amp;of...</td>\n",
       "      <td>dict_keys(['role', 'class', 'href', 'id'])</td>\n",
       "      <td>dict_values(['button', ['_42ft', '_3nu9', '_3n...</td>\n",
       "      <td>{'role': 'button', 'class': ['_42ft', '_3nu9',...</td>\n",
       "      <td>/careers/jobs/?offices%5B</td>\n",
       "      <td>0.0</td>\n",
       "      <td>4</td>\n",
       "      <td>0</td>\n",
       "      <td>0</td>\n",
       "      <td>1</td>\n",
       "      <td>1485</td>\n",
       "    </tr>\n",
       "    <tr>\n",
       "      <th>3796</th>\n",
       "      <td>Prev</td>\n",
       "      <td>/careers/jobs/?offices%5B0%5D=Altoona%2C+IA&amp;of...</td>\n",
       "      <td>dict_keys(['role', 'class', 'href', 'id'])</td>\n",
       "      <td>dict_values(['button', ['_42ft', '_3nu9', '_3n...</td>\n",
       "      <td>{'role': 'button', 'class': ['_42ft', '_3nu9',...</td>\n",
       "      <td>/careers/jobs/?offices%5B</td>\n",
       "      <td>0.0</td>\n",
       "      <td>4</td>\n",
       "      <td>0</td>\n",
       "      <td>0</td>\n",
       "      <td>1</td>\n",
       "      <td>1484</td>\n",
       "    </tr>\n",
       "    <tr>\n",
       "      <th>3797</th>\n",
       "      <td>Next</td>\n",
       "      <td>/careers/jobs/?offices%5B0%5D=Altoona%2C+IA&amp;of...</td>\n",
       "      <td>dict_keys(['role', 'class', 'href', 'id'])</td>\n",
       "      <td>dict_values(['button', ['_42ft', '_3nu9', '_3n...</td>\n",
       "      <td>{'role': 'button', 'class': ['_42ft', '_3nu9',...</td>\n",
       "      <td>/careers/jobs/?offices%5B</td>\n",
       "      <td>0.0</td>\n",
       "      <td>4</td>\n",
       "      <td>0</td>\n",
       "      <td>0</td>\n",
       "      <td>1</td>\n",
       "      <td>1485</td>\n",
       "    </tr>\n",
       "    <tr>\n",
       "      <th>4003</th>\n",
       "      <td>Prev</td>\n",
       "      <td>/careers/jobs/?offices%5B0%5D=Altoona%2C+IA&amp;of...</td>\n",
       "      <td>dict_keys(['role', 'class', 'href', 'id'])</td>\n",
       "      <td>dict_values(['button', ['_42ft', '_3nu9', '_3n...</td>\n",
       "      <td>{'role': 'button', 'class': ['_42ft', '_3nu9',...</td>\n",
       "      <td>/careers/jobs/?offices%5B</td>\n",
       "      <td>0.0</td>\n",
       "      <td>4</td>\n",
       "      <td>0</td>\n",
       "      <td>0</td>\n",
       "      <td>1</td>\n",
       "      <td>1485</td>\n",
       "    </tr>\n",
       "    <tr>\n",
       "      <th>4004</th>\n",
       "      <td>Next</td>\n",
       "      <td>/careers/jobs/?offices%5B0%5D=Altoona%2C+IA&amp;of...</td>\n",
       "      <td>dict_keys(['role', 'class', 'href', 'id'])</td>\n",
       "      <td>dict_values(['button', ['_42ft', '_3nu9', '_3n...</td>\n",
       "      <td>{'role': 'button', 'class': ['_42ft', '_3nu9',...</td>\n",
       "      <td>/careers/jobs/?offices%5B</td>\n",
       "      <td>0.0</td>\n",
       "      <td>4</td>\n",
       "      <td>0</td>\n",
       "      <td>0</td>\n",
       "      <td>1</td>\n",
       "      <td>1485</td>\n",
       "    </tr>\n",
       "    <tr>\n",
       "      <th>4210</th>\n",
       "      <td>Prev</td>\n",
       "      <td>/careers/jobs/?offices%5B0%5D=Altoona%2C+IA&amp;of...</td>\n",
       "      <td>dict_keys(['role', 'class', 'href', 'id'])</td>\n",
       "      <td>dict_values(['button', ['_42ft', '_3nu9', '_3n...</td>\n",
       "      <td>{'role': 'button', 'class': ['_42ft', '_3nu9',...</td>\n",
       "      <td>/careers/jobs/?offices%5B</td>\n",
       "      <td>0.0</td>\n",
       "      <td>4</td>\n",
       "      <td>0</td>\n",
       "      <td>0</td>\n",
       "      <td>1</td>\n",
       "      <td>1485</td>\n",
       "    </tr>\n",
       "    <tr>\n",
       "      <th>4211</th>\n",
       "      <td>Next</td>\n",
       "      <td>/careers/jobs/?offices%5B0%5D=Altoona%2C+IA&amp;of...</td>\n",
       "      <td>dict_keys(['role', 'class', 'href', 'id'])</td>\n",
       "      <td>dict_values(['button', ['_42ft', '_3nu9', '_3n...</td>\n",
       "      <td>{'role': 'button', 'class': ['_42ft', '_3nu9',...</td>\n",
       "      <td>/careers/jobs/?offices%5B</td>\n",
       "      <td>0.0</td>\n",
       "      <td>4</td>\n",
       "      <td>0</td>\n",
       "      <td>0</td>\n",
       "      <td>1</td>\n",
       "      <td>1485</td>\n",
       "    </tr>\n",
       "    <tr>\n",
       "      <th>4417</th>\n",
       "      <td>Prev</td>\n",
       "      <td>/careers/jobs/?offices%5B0%5D=Altoona%2C+IA&amp;of...</td>\n",
       "      <td>dict_keys(['role', 'class', 'href', 'id'])</td>\n",
       "      <td>dict_values(['button', ['_42ft', '_3nu9', '_3n...</td>\n",
       "      <td>{'role': 'button', 'class': ['_42ft', '_3nu9',...</td>\n",
       "      <td>/careers/jobs/?offices%5B</td>\n",
       "      <td>0.0</td>\n",
       "      <td>4</td>\n",
       "      <td>0</td>\n",
       "      <td>0</td>\n",
       "      <td>1</td>\n",
       "      <td>1485</td>\n",
       "    </tr>\n",
       "    <tr>\n",
       "      <th>4418</th>\n",
       "      <td>Next</td>\n",
       "      <td>/careers/jobs/?offices%5B0%5D=Altoona%2C+IA&amp;of...</td>\n",
       "      <td>dict_keys(['role', 'class', 'href', 'id'])</td>\n",
       "      <td>dict_values(['button', ['_42ft', '_3nu9', '_3n...</td>\n",
       "      <td>{'role': 'button', 'class': ['_42ft', '_3nu9',...</td>\n",
       "      <td>/careers/jobs/?offices%5B</td>\n",
       "      <td>0.0</td>\n",
       "      <td>4</td>\n",
       "      <td>0</td>\n",
       "      <td>0</td>\n",
       "      <td>1</td>\n",
       "      <td>1485</td>\n",
       "    </tr>\n",
       "  </tbody>\n",
       "</table>\n",
       "</div>"
      ],
      "text/plain": [
       "     aTagContent                                               href  \\\n",
       "1934        Next  /careers/jobs/?offices%5B0%5D=Altoona%2C+IA&of...   \n",
       "2140        Prev  /careers/jobs/?offices%5B0%5D=Altoona%2C+IA&of...   \n",
       "2141        Next  /careers/jobs/?offices%5B0%5D=Altoona%2C+IA&of...   \n",
       "2347        Prev  /careers/jobs/?offices%5B0%5D=Altoona%2C+IA&of...   \n",
       "2348        Next  /careers/jobs/?offices%5B0%5D=Altoona%2C+IA&of...   \n",
       "2554        Prev  /careers/jobs/?offices%5B0%5D=Altoona%2C+IA&of...   \n",
       "2555        Next  /careers/jobs/?offices%5B0%5D=Altoona%2C+IA&of...   \n",
       "2761        Prev  /careers/jobs/?offices%5B0%5D=Altoona%2C+IA&of...   \n",
       "2762        Next  /careers/jobs/?offices%5B0%5D=Altoona%2C+IA&of...   \n",
       "2968        Prev  /careers/jobs/?offices%5B0%5D=Altoona%2C+IA&of...   \n",
       "2969        Next  /careers/jobs/?offices%5B0%5D=Altoona%2C+IA&of...   \n",
       "3175        Prev  /careers/jobs/?offices%5B0%5D=Altoona%2C+IA&of...   \n",
       "3176        Next  /careers/jobs/?offices%5B0%5D=Altoona%2C+IA&of...   \n",
       "3382        Prev  /careers/jobs/?offices%5B0%5D=Altoona%2C+IA&of...   \n",
       "3383        Next  /careers/jobs/?offices%5B0%5D=Altoona%2C+IA&of...   \n",
       "3589        Prev  /careers/jobs/?offices%5B0%5D=Altoona%2C+IA&of...   \n",
       "3590        Next  /careers/jobs/?offices%5B0%5D=Altoona%2C+IA&of...   \n",
       "3796        Prev  /careers/jobs/?offices%5B0%5D=Altoona%2C+IA&of...   \n",
       "3797        Next  /careers/jobs/?offices%5B0%5D=Altoona%2C+IA&of...   \n",
       "4003        Prev  /careers/jobs/?offices%5B0%5D=Altoona%2C+IA&of...   \n",
       "4004        Next  /careers/jobs/?offices%5B0%5D=Altoona%2C+IA&of...   \n",
       "4210        Prev  /careers/jobs/?offices%5B0%5D=Altoona%2C+IA&of...   \n",
       "4211        Next  /careers/jobs/?offices%5B0%5D=Altoona%2C+IA&of...   \n",
       "4417        Prev  /careers/jobs/?offices%5B0%5D=Altoona%2C+IA&of...   \n",
       "4418        Next  /careers/jobs/?offices%5B0%5D=Altoona%2C+IA&of...   \n",
       "\n",
       "                                            keys  \\\n",
       "1934  dict_keys(['role', 'class', 'href', 'id'])   \n",
       "2140  dict_keys(['role', 'class', 'href', 'id'])   \n",
       "2141  dict_keys(['role', 'class', 'href', 'id'])   \n",
       "2347  dict_keys(['role', 'class', 'href', 'id'])   \n",
       "2348  dict_keys(['role', 'class', 'href', 'id'])   \n",
       "2554  dict_keys(['role', 'class', 'href', 'id'])   \n",
       "2555  dict_keys(['role', 'class', 'href', 'id'])   \n",
       "2761  dict_keys(['role', 'class', 'href', 'id'])   \n",
       "2762  dict_keys(['role', 'class', 'href', 'id'])   \n",
       "2968  dict_keys(['role', 'class', 'href', 'id'])   \n",
       "2969  dict_keys(['role', 'class', 'href', 'id'])   \n",
       "3175  dict_keys(['role', 'class', 'href', 'id'])   \n",
       "3176  dict_keys(['role', 'class', 'href', 'id'])   \n",
       "3382  dict_keys(['role', 'class', 'href', 'id'])   \n",
       "3383  dict_keys(['role', 'class', 'href', 'id'])   \n",
       "3589  dict_keys(['role', 'class', 'href', 'id'])   \n",
       "3590  dict_keys(['role', 'class', 'href', 'id'])   \n",
       "3796  dict_keys(['role', 'class', 'href', 'id'])   \n",
       "3797  dict_keys(['role', 'class', 'href', 'id'])   \n",
       "4003  dict_keys(['role', 'class', 'href', 'id'])   \n",
       "4004  dict_keys(['role', 'class', 'href', 'id'])   \n",
       "4210  dict_keys(['role', 'class', 'href', 'id'])   \n",
       "4211  dict_keys(['role', 'class', 'href', 'id'])   \n",
       "4417  dict_keys(['role', 'class', 'href', 'id'])   \n",
       "4418  dict_keys(['role', 'class', 'href', 'id'])   \n",
       "\n",
       "                                             attributes  \\\n",
       "1934  dict_values(['button', ['_42ft', '_3nu9', '_3n...   \n",
       "2140  dict_values(['button', ['_42ft', '_3nu9', '_3n...   \n",
       "2141  dict_values(['button', ['_42ft', '_3nu9', '_3n...   \n",
       "2347  dict_values(['button', ['_42ft', '_3nu9', '_3n...   \n",
       "2348  dict_values(['button', ['_42ft', '_3nu9', '_3n...   \n",
       "2554  dict_values(['button', ['_42ft', '_3nu9', '_3n...   \n",
       "2555  dict_values(['button', ['_42ft', '_3nu9', '_3n...   \n",
       "2761  dict_values(['button', ['_42ft', '_3nu9', '_3n...   \n",
       "2762  dict_values(['button', ['_42ft', '_3nu9', '_3n...   \n",
       "2968  dict_values(['button', ['_42ft', '_3nu9', '_3n...   \n",
       "2969  dict_values(['button', ['_42ft', '_3nu9', '_3n...   \n",
       "3175  dict_values(['button', ['_42ft', '_3nu9', '_3n...   \n",
       "3176  dict_values(['button', ['_42ft', '_3nu9', '_3n...   \n",
       "3382  dict_values(['button', ['_42ft', '_3nu9', '_3n...   \n",
       "3383  dict_values(['button', ['_42ft', '_3nu9', '_3n...   \n",
       "3589  dict_values(['button', ['_42ft', '_3nu9', '_3n...   \n",
       "3590  dict_values(['button', ['_42ft', '_3nu9', '_3n...   \n",
       "3796  dict_values(['button', ['_42ft', '_3nu9', '_3n...   \n",
       "3797  dict_values(['button', ['_42ft', '_3nu9', '_3n...   \n",
       "4003  dict_values(['button', ['_42ft', '_3nu9', '_3n...   \n",
       "4004  dict_values(['button', ['_42ft', '_3nu9', '_3n...   \n",
       "4210  dict_values(['button', ['_42ft', '_3nu9', '_3n...   \n",
       "4211  dict_values(['button', ['_42ft', '_3nu9', '_3n...   \n",
       "4417  dict_values(['button', ['_42ft', '_3nu9', '_3n...   \n",
       "4418  dict_values(['button', ['_42ft', '_3nu9', '_3n...   \n",
       "\n",
       "                                               key_attr  \\\n",
       "1934  {'role': 'button', 'class': ['_42ft', '_3nu9',...   \n",
       "2140  {'role': 'button', 'class': ['_42ft', '_3nu9',...   \n",
       "2141  {'role': 'button', 'class': ['_42ft', '_3nu9',...   \n",
       "2347  {'role': 'button', 'class': ['_42ft', '_3nu9',...   \n",
       "2348  {'role': 'button', 'class': ['_42ft', '_3nu9',...   \n",
       "2554  {'role': 'button', 'class': ['_42ft', '_3nu9',...   \n",
       "2555  {'role': 'button', 'class': ['_42ft', '_3nu9',...   \n",
       "2761  {'role': 'button', 'class': ['_42ft', '_3nu9',...   \n",
       "2762  {'role': 'button', 'class': ['_42ft', '_3nu9',...   \n",
       "2968  {'role': 'button', 'class': ['_42ft', '_3nu9',...   \n",
       "2969  {'role': 'button', 'class': ['_42ft', '_3nu9',...   \n",
       "3175  {'role': 'button', 'class': ['_42ft', '_3nu9',...   \n",
       "3176  {'role': 'button', 'class': ['_42ft', '_3nu9',...   \n",
       "3382  {'role': 'button', 'class': ['_42ft', '_3nu9',...   \n",
       "3383  {'role': 'button', 'class': ['_42ft', '_3nu9',...   \n",
       "3589  {'role': 'button', 'class': ['_42ft', '_3nu9',...   \n",
       "3590  {'role': 'button', 'class': ['_42ft', '_3nu9',...   \n",
       "3796  {'role': 'button', 'class': ['_42ft', '_3nu9',...   \n",
       "3797  {'role': 'button', 'class': ['_42ft', '_3nu9',...   \n",
       "4003  {'role': 'button', 'class': ['_42ft', '_3nu9',...   \n",
       "4004  {'role': 'button', 'class': ['_42ft', '_3nu9',...   \n",
       "4210  {'role': 'button', 'class': ['_42ft', '_3nu9',...   \n",
       "4211  {'role': 'button', 'class': ['_42ft', '_3nu9',...   \n",
       "4417  {'role': 'button', 'class': ['_42ft', '_3nu9',...   \n",
       "4418  {'role': 'button', 'class': ['_42ft', '_3nu9',...   \n",
       "\n",
       "                      trun_href  candidateMatch  len_aTagContent  \\\n",
       "1934  /careers/jobs/?offices%5B             0.0                4   \n",
       "2140  /careers/jobs/?offices%5B             0.0                4   \n",
       "2141  /careers/jobs/?offices%5B             0.0                4   \n",
       "2347  /careers/jobs/?offices%5B             0.0                4   \n",
       "2348  /careers/jobs/?offices%5B             0.0                4   \n",
       "2554  /careers/jobs/?offices%5B             0.0                4   \n",
       "2555  /careers/jobs/?offices%5B             0.0                4   \n",
       "2761  /careers/jobs/?offices%5B             0.0                4   \n",
       "2762  /careers/jobs/?offices%5B             0.0                4   \n",
       "2968  /careers/jobs/?offices%5B             0.0                4   \n",
       "2969  /careers/jobs/?offices%5B             0.0                4   \n",
       "3175  /careers/jobs/?offices%5B             0.0                4   \n",
       "3176  /careers/jobs/?offices%5B             0.0                4   \n",
       "3382  /careers/jobs/?offices%5B             0.0                4   \n",
       "3383  /careers/jobs/?offices%5B             0.0                4   \n",
       "3589  /careers/jobs/?offices%5B             0.0                4   \n",
       "3590  /careers/jobs/?offices%5B             0.0                4   \n",
       "3796  /careers/jobs/?offices%5B             0.0                4   \n",
       "3797  /careers/jobs/?offices%5B             0.0                4   \n",
       "4003  /careers/jobs/?offices%5B             0.0                4   \n",
       "4004  /careers/jobs/?offices%5B             0.0                4   \n",
       "4210  /careers/jobs/?offices%5B             0.0                4   \n",
       "4211  /careers/jobs/?offices%5B             0.0                4   \n",
       "4417  /careers/jobs/?offices%5B             0.0                4   \n",
       "4418  /careers/jobs/?offices%5B             0.0                4   \n",
       "\n",
       "      len_aTagContent_group_between 60 and 175  \\\n",
       "1934                                         0   \n",
       "2140                                         0   \n",
       "2141                                         0   \n",
       "2347                                         0   \n",
       "2348                                         0   \n",
       "2554                                         0   \n",
       "2555                                         0   \n",
       "2761                                         0   \n",
       "2762                                         0   \n",
       "2968                                         0   \n",
       "2969                                         0   \n",
       "3175                                         0   \n",
       "3176                                         0   \n",
       "3382                                         0   \n",
       "3383                                         0   \n",
       "3589                                         0   \n",
       "3590                                         0   \n",
       "3796                                         0   \n",
       "3797                                         0   \n",
       "4003                                         0   \n",
       "4004                                         0   \n",
       "4210                                         0   \n",
       "4211                                         0   \n",
       "4417                                         0   \n",
       "4418                                         0   \n",
       "\n",
       "      len_aTagContent_group_over 175  len_aTagContent_group_under 60  len_href  \n",
       "1934                               0                               1      1484  \n",
       "2140                               0                               1      1484  \n",
       "2141                               0                               1      1484  \n",
       "2347                               0                               1      1484  \n",
       "2348                               0                               1      1484  \n",
       "2554                               0                               1      1484  \n",
       "2555                               0                               1      1484  \n",
       "2761                               0                               1      1484  \n",
       "2762                               0                               1      1484  \n",
       "2968                               0                               1      1484  \n",
       "2969                               0                               1      1484  \n",
       "3175                               0                               1      1484  \n",
       "3176                               0                               1      1484  \n",
       "3382                               0                               1      1484  \n",
       "3383                               0                               1      1484  \n",
       "3589                               0                               1      1484  \n",
       "3590                               0                               1      1485  \n",
       "3796                               0                               1      1484  \n",
       "3797                               0                               1      1485  \n",
       "4003                               0                               1      1485  \n",
       "4004                               0                               1      1485  \n",
       "4210                               0                               1      1485  \n",
       "4211                               0                               1      1485  \n",
       "4417                               0                               1      1485  \n",
       "4418                               0                               1      1485  "
      ]
     },
     "execution_count": 29,
     "metadata": {},
     "output_type": "execute_result"
    }
   ],
   "source": [
    "# let's check this 1400 char long href\n",
    "print(len(df[df.len_href>1200].index))\n",
    "df[df.len_href>1200]"
   ]
  },
  {
   "cell_type": "code",
   "execution_count": 30,
   "metadata": {},
   "outputs": [
    {
     "data": {
      "text/plain": [
       "<Figure size 648x432 with 0 Axes>"
      ]
     },
     "metadata": {},
     "output_type": "display_data"
    },
    {
     "data": {
      "image/png": "[encoded data removed]",
      "text/plain": [
       "<Figure size 432x288 with 1 Axes>"
      ]
     },
     "metadata": {
      "needs_background": "light"
     },
     "output_type": "display_data"
    }
   ],
   "source": [
    "matches = df[['len_href','candidateMatch']].groupby('len_href').agg('mean')\n",
    "\n",
    "\n",
    "plt.figure(figsize=(9,6))\n",
    "matches.plot.line()\n",
    "plt.xlim(0, 300)\n",
    "plt.xticks(rotation=90)\n",
    "plt.xlabel(\"href lenght\")\n",
    "plt.ylabel(\"% of job links\")\n",
    "plt.title(\"job link per lenght of href\")\n",
    "plt.show()"
   ]
  },
  {
   "cell_type": "markdown",
   "metadata": {},
   "source": [
    "Apparantly there is a good correlation for lenghts between 80 and 125, less than that it is ok and over it is bad."
   ]
  },
  {
   "cell_type": "code",
   "execution_count": 31,
   "metadata": {},
   "outputs": [
    {
     "data": {
      "image/png": "[encoded data removed]",
      "text/plain": [
       "<Figure size 432x288 with 1 Axes>"
      ]
     },
     "metadata": {
      "needs_background": "light"
     },
     "output_type": "display_data"
    }
   ],
   "source": [
    "df['len_href_group'] = np.where(df['len_href']<80,'under 80',\n",
    "                                np.where(df['len_href']<=125,'between 80 and 125',\n",
    "                                         'over 125'\n",
    "                                         )\n",
    "                                )\n",
    "\n",
    "# ploting the hist for len_href_group\n",
    "\n",
    "cat_num = df['len_href_group'].value_counts()\n",
    "\n",
    "ax = sns.barplot(x=cat_num.index,y=cat_num).set_title('Distribution of href len groups')\n",
    "\n",
    "\n",
    "df = pd.get_dummies(df,columns=['len_href_group'])"
   ]
  },
  {
   "cell_type": "markdown",
   "metadata": {},
   "source": [
    "# Keys"
   ]
  },
  {
   "cell_type": "code",
   "execution_count": 35,
   "metadata": {},
   "outputs": [
    {
     "data": {
      "text/plain": [
       "0    dict_keys(['class', 'data-ga-event', 'data-ga-...\n",
       "1    dict_keys(['href', 'class', 'data-ga-event', '...\n",
       "2             dict_keys(['href', 'class', 'itemprop'])\n",
       "3             dict_keys(['href', 'class', 'itemprop'])\n",
       "4             dict_keys(['href', 'class', 'itemprop'])\n",
       "Name: keys, dtype: object"
      ]
     },
     "execution_count": 35,
     "metadata": {},
     "output_type": "execute_result"
    }
   ],
   "source": [
    "df['keys'].head()"
   ]
  },
  {
   "cell_type": "markdown",
   "metadata": {},
   "source": [
    "1 - get rid of the dict characters - keep only keys (do not split 2 word keys).<br>\n",
    "2 - evaluate how many different keys we have. <br>\n",
    "3 - check keys that have a higher candidateMatch rate (over the avg of dataset). <br>\n",
    "4 - add a feature: number of keys.<br>"
   ]
  },
  {
   "cell_type": "code",
   "execution_count": 36,
   "metadata": {},
   "outputs": [
    {
     "data": {
      "text/plain": [
       "0    class data-ga-event data-ga-action data-trekki...\n",
       "1    href class data-ga-event data-ga-action data-t...\n",
       "2                                  href class itemprop\n",
       "3                                  href class itemprop\n",
       "4                                  href class itemprop\n",
       "Name: keys, dtype: object"
      ]
     },
     "execution_count": 36,
     "metadata": {},
     "output_type": "execute_result"
    }
   ],
   "source": [
    "# For 1, we are going to use apply with a function we have declared before\n",
    "\n",
    "chars_to_remove = ['dict_keys','(',')','[',']',',',\"'\"]\n",
    "df['keys'] = df['keys'].apply(remove_char,list_of_chars=chars_to_remove)\n",
    "df['keys'].head()"
   ]
  },
  {
   "cell_type": "code",
   "execution_count": 41,
   "metadata": {},
   "outputs": [
    {
     "data": {
      "text/plain": [
       "href          6510\n",
       "class         4444\n",
       "style         1346\n",
       "id            1275\n",
       "target         972\n",
       "title          717\n",
       "rel            413\n",
       "role           359\n",
       "hreflang       303\n",
       "aria-label     288\n",
       "dtype: int64"
      ]
     },
     "execution_count": 41,
     "metadata": {},
     "output_type": "execute_result"
    }
   ],
   "source": [
    "# checking the keys\n",
    "keys = df['keys'].str.split(expand=True).stack().value_counts()\n",
    "keys[:10]"
   ]
  },
  {
   "cell_type": "markdown",
   "metadata": {},
   "source": [
    "As expected, href will be present in every row, since we dropped the few lines that hadn't this value. Now we need to evaluate if there is a correlation between these keys and candidateMatch."
   ]
  },
  {
   "cell_type": "code",
   "execution_count": 42,
   "metadata": {},
   "outputs": [
    {
     "data": {
      "text/html": [
       "<div>\n",
       "<style scoped>\n",
       "    .dataframe tbody tr th:only-of-type {\n",
       "        vertical-align: middle;\n",
       "    }\n",
       "\n",
       "    .dataframe tbody tr th {\n",
       "        vertical-align: top;\n",
       "    }\n",
       "\n",
       "    .dataframe thead th {\n",
       "        text-align: right;\n",
       "    }\n",
       "</style>\n",
       "<table border=\"1\" class=\"dataframe\">\n",
       "  <thead>\n",
       "    <tr style=\"text-align: right;\">\n",
       "      <th></th>\n",
       "      <th>keys</th>\n",
       "      <th>perc_match</th>\n",
       "    </tr>\n",
       "  </thead>\n",
       "  <tbody>\n",
       "    <tr>\n",
       "      <th>48</th>\n",
       "      <td>data-ph-at-job-industry-text</td>\n",
       "      <td>1.000000</td>\n",
       "    </tr>\n",
       "    <tr>\n",
       "      <th>25</th>\n",
       "      <td>\"</td>\n",
       "      <td>1.000000</td>\n",
       "    </tr>\n",
       "    <tr>\n",
       "      <th>36</th>\n",
       "      <td>data-ph-at-job-location-text</td>\n",
       "      <td>1.000000</td>\n",
       "    </tr>\n",
       "    <tr>\n",
       "      <th>19</th>\n",
       "      <td>data-mapped</td>\n",
       "      <td>1.000000</td>\n",
       "    </tr>\n",
       "    <tr>\n",
       "      <th>37</th>\n",
       "      <td>data-ph-at-job-location-area-text</td>\n",
       "      <td>1.000000</td>\n",
       "    </tr>\n",
       "    <tr>\n",
       "      <th>38</th>\n",
       "      <td>href.bind</td>\n",
       "      <td>1.000000</td>\n",
       "    </tr>\n",
       "    <tr>\n",
       "      <th>39</th>\n",
       "      <td>data-ph-at-job-category-text</td>\n",
       "      <td>1.000000</td>\n",
       "    </tr>\n",
       "    <tr>\n",
       "      <th>40</th>\n",
       "      <td>data-ph-at-job-seqno-text</td>\n",
       "      <td>1.000000</td>\n",
       "    </tr>\n",
       "    <tr>\n",
       "      <th>41</th>\n",
       "      <td>data-ph-at-job-id-text</td>\n",
       "      <td>1.000000</td>\n",
       "    </tr>\n",
       "    <tr>\n",
       "      <th>42</th>\n",
       "      <td>data-ph-at-job-type-text</td>\n",
       "      <td>1.000000</td>\n",
       "    </tr>\n",
       "    <tr>\n",
       "      <th>43</th>\n",
       "      <td>ph-tag</td>\n",
       "      <td>1.000000</td>\n",
       "    </tr>\n",
       "    <tr>\n",
       "      <th>44</th>\n",
       "      <td>data-access-list-item</td>\n",
       "      <td>1.000000</td>\n",
       "    </tr>\n",
       "    <tr>\n",
       "      <th>45</th>\n",
       "      <td>ph-click-ctx</td>\n",
       "      <td>1.000000</td>\n",
       "    </tr>\n",
       "    <tr>\n",
       "      <th>46</th>\n",
       "      <td>data-ph-at-job-title-text</td>\n",
       "      <td>1.000000</td>\n",
       "    </tr>\n",
       "    <tr>\n",
       "      <th>47</th>\n",
       "      <td>ph-tref</td>\n",
       "      <td>1.000000</td>\n",
       "    </tr>\n",
       "    <tr>\n",
       "      <th>49</th>\n",
       "      <td>data-ph-at-job-post-date-text</td>\n",
       "      <td>1.000000</td>\n",
       "    </tr>\n",
       "    <tr>\n",
       "      <th>8</th>\n",
       "      <td>hreflang</td>\n",
       "      <td>0.973597</td>\n",
       "    </tr>\n",
       "    <tr>\n",
       "      <th>2</th>\n",
       "      <td>style</td>\n",
       "      <td>0.965825</td>\n",
       "    </tr>\n",
       "    <tr>\n",
       "      <th>30</th>\n",
       "      <td>lang</td>\n",
       "      <td>0.891239</td>\n",
       "    </tr>\n",
       "    <tr>\n",
       "      <th>54</th>\n",
       "      <td>data-tracking-control-name</td>\n",
       "      <td>0.533333</td>\n",
       "    </tr>\n",
       "  </tbody>\n",
       "</table>\n",
       "</div>"
      ],
      "text/plain": [
       "                                 keys  perc_match\n",
       "48       data-ph-at-job-industry-text    1.000000\n",
       "25                                  \"    1.000000\n",
       "36       data-ph-at-job-location-text    1.000000\n",
       "19                        data-mapped    1.000000\n",
       "37  data-ph-at-job-location-area-text    1.000000\n",
       "38                          href.bind    1.000000\n",
       "39       data-ph-at-job-category-text    1.000000\n",
       "40          data-ph-at-job-seqno-text    1.000000\n",
       "41             data-ph-at-job-id-text    1.000000\n",
       "42           data-ph-at-job-type-text    1.000000\n",
       "43                             ph-tag    1.000000\n",
       "44              data-access-list-item    1.000000\n",
       "45                       ph-click-ctx    1.000000\n",
       "46          data-ph-at-job-title-text    1.000000\n",
       "47                            ph-tref    1.000000\n",
       "49      data-ph-at-job-post-date-text    1.000000\n",
       "8                            hreflang    0.973597\n",
       "2                               style    0.965825\n",
       "30                               lang    0.891239\n",
       "54         data-tracking-control-name    0.533333"
      ]
     },
     "execution_count": 42,
     "metadata": {},
     "output_type": "execute_result"
    }
   ],
   "source": [
    "perc_match = []\n",
    "keys_check = []\n",
    "\n",
    "for key in keys.index:\n",
    "    positive = 0\n",
    "    frequency = 0\n",
    "    for i in range(len(df.index)):\n",
    "        \n",
    "        if key in df['keys'][i]:\n",
    "            frequency += 1            \n",
    "            if df['candidateMatch'][i]==1:\n",
    "                positive += 1\n",
    "    perc_match.append(positive/frequency)\n",
    "    keys_check.append(key)\n",
    "\n",
    "df_keys = pd.DataFrame(columns=['keys','perc_match','above_avg_match'])\n",
    "\n",
    "candidateMatch_frequency = (df['candidateMatch'].sum() / len(df.index))\n",
    "\n",
    "df_keys['keys'] = keys_check\n",
    "df_keys['perc_match'] = perc_match\n",
    "df_keys['above_avg_match'] = np.where(df_keys['perc_match']>candidateMatch_frequency,1,0)\n",
    "\n",
    "df_keys[['keys','perc_match']].sort_values(by='perc_match',ascending=False)[0:20]"
   ]
  },
  {
   "cell_type": "code",
   "execution_count": 45,
   "metadata": {},
   "outputs": [
    {
     "data": {
      "text/plain": [
       "Facebook      1300\n",
       "scotiabank      16\n",
       "later            9\n",
       "opentext         6\n",
       "Oracle           6\n",
       "Name: company, dtype: int64"
      ]
     },
     "execution_count": 45,
     "metadata": {},
     "output_type": "execute_result"
    }
   ],
   "source": [
    "df_backup[df_backup['keys'].str.contains('style')]['company'].value_counts().head()"
   ]
  },
  {
   "cell_type": "code",
   "execution_count": 46,
   "metadata": {},
   "outputs": [
    {
     "data": {
      "text/plain": [
       "Okta    303\n",
       "Name: company, dtype: int64"
      ]
     },
     "execution_count": 46,
     "metadata": {},
     "output_type": "execute_result"
    }
   ],
   "source": [
    "df_backup[df_backup['keys'].str.contains('hreflang')]['company'].value_counts().head()"
   ]
  },
  {
   "cell_type": "markdown",
   "metadata": {},
   "source": [
    "The most relevant keys are associated with basically one company, so we should not add this as a feature. Instead, there is a chance the word 'job' will be relevant, since it has a great correlation."
   ]
  },
  {
   "cell_type": "code",
   "execution_count": 48,
   "metadata": {},
   "outputs": [
    {
     "data": {
      "text/plain": [
       "<matplotlib.axes._subplots.AxesSubplot at 0x264e9560ca0>"
      ]
     },
     "execution_count": 48,
     "metadata": {},
     "output_type": "execute_result"
    },
    {
     "data": {
      "image/png": "[encoded data removed]",
      "text/plain": [
       "<Figure size 432x288 with 1 Axes>"
      ]
     },
     "metadata": {
      "needs_background": "light"
     },
     "output_type": "display_data"
    }
   ],
   "source": [
    "df['key_job_yn'] = np.where(df['keys'].str.contains('job'),1,0)\n",
    "\n",
    "df['key_job_yn'].hist()"
   ]
  },
  {
   "cell_type": "markdown",
   "metadata": {},
   "source": [
    "It is not present in many rows, but let's keep this column for a while. We will handle it later."
   ]
  },
  {
   "cell_type": "markdown",
   "metadata": {},
   "source": [
    "We can also add a 'number of keys' feature"
   ]
  },
  {
   "cell_type": "code",
   "execution_count": 50,
   "metadata": {},
   "outputs": [
    {
     "data": {
      "text/plain": [
       "<matplotlib.axes._subplots.AxesSubplot at 0x264e913ad30>"
      ]
     },
     "execution_count": 50,
     "metadata": {},
     "output_type": "execute_result"
    },
    {
     "data": {
      "image/png": "[encoded data removed]",
      "text/plain": [
       "<Figure size 432x288 with 1 Axes>"
      ]
     },
     "metadata": {
      "needs_background": "light"
     },
     "output_type": "display_data"
    }
   ],
   "source": [
    "df['num_keys'] = df['keys'].apply(lambda x: len(x.split()))\n",
    "\n",
    "\n",
    "df['num_keys'].hist()"
   ]
  },
  {
   "cell_type": "markdown",
   "metadata": {},
   "source": [
    "# Attributes"
   ]
  },
  {
   "cell_type": "code",
   "execution_count": 85,
   "metadata": {
    "collapsed": true
   },
   "outputs": [
    {
     "ename": "KeyError",
     "evalue": "'attributes'",
     "output_type": "error",
     "traceback": [
      "\u001b[1;31m---------------------------------------------------------------------------\u001b[0m",
      "\u001b[1;31mKeyError\u001b[0m                                  Traceback (most recent call last)",
      "\u001b[1;32mc:\\users\\ponde\\appdata\\local\\programs\\python\\python38\\lib\\site-packages\\pandas\\core\\indexes\\base.py\u001b[0m in \u001b[0;36mget_loc\u001b[1;34m(self, key, method, tolerance)\u001b[0m\n\u001b[0;32m   2645\u001b[0m             \u001b[1;32mtry\u001b[0m\u001b[1;33m:\u001b[0m\u001b[1;33m\u001b[0m\u001b[1;33m\u001b[0m\u001b[0m\n\u001b[1;32m-> 2646\u001b[1;33m                 \u001b[1;32mreturn\u001b[0m \u001b[0mself\u001b[0m\u001b[1;33m.\u001b[0m\u001b[0m_engine\u001b[0m\u001b[1;33m.\u001b[0m\u001b[0mget_loc\u001b[0m\u001b[1;33m(\u001b[0m\u001b[0mkey\u001b[0m\u001b[1;33m)\u001b[0m\u001b[1;33m\u001b[0m\u001b[1;33m\u001b[0m\u001b[0m\n\u001b[0m\u001b[0;32m   2647\u001b[0m             \u001b[1;32mexcept\u001b[0m \u001b[0mKeyError\u001b[0m\u001b[1;33m:\u001b[0m\u001b[1;33m\u001b[0m\u001b[1;33m\u001b[0m\u001b[0m\n",
      "\u001b[1;32mpandas\\_libs\\index.pyx\u001b[0m in \u001b[0;36mpandas._libs.index.IndexEngine.get_loc\u001b[1;34m()\u001b[0m\n",
      "\u001b[1;32mpandas\\_libs\\index.pyx\u001b[0m in \u001b[0;36mpandas._libs.index.IndexEngine.get_loc\u001b[1;34m()\u001b[0m\n",
      "\u001b[1;32mpandas\\_libs\\hashtable_class_helper.pxi\u001b[0m in \u001b[0;36mpandas._libs.hashtable.PyObjectHashTable.get_item\u001b[1;34m()\u001b[0m\n",
      "\u001b[1;32mpandas\\_libs\\hashtable_class_helper.pxi\u001b[0m in \u001b[0;36mpandas._libs.hashtable.PyObjectHashTable.get_item\u001b[1;34m()\u001b[0m\n",
      "\u001b[1;31mKeyError\u001b[0m: 'attributes'",
      "\nDuring handling of the above exception, another exception occurred:\n",
      "\u001b[1;31mKeyError\u001b[0m                                  Traceback (most recent call last)",
      "\u001b[1;32m<ipython-input-85-1073f11bad4a>\u001b[0m in \u001b[0;36m<module>\u001b[1;34m\u001b[0m\n\u001b[1;32m----> 1\u001b[1;33m \u001b[0mdf\u001b[0m\u001b[1;33m[\u001b[0m\u001b[1;34m'attributes'\u001b[0m\u001b[1;33m]\u001b[0m\u001b[1;33m.\u001b[0m\u001b[0mhead\u001b[0m\u001b[1;33m(\u001b[0m\u001b[1;33m)\u001b[0m\u001b[1;33m\u001b[0m\u001b[1;33m\u001b[0m\u001b[0m\n\u001b[0m",
      "\u001b[1;32mc:\\users\\ponde\\appdata\\local\\programs\\python\\python38\\lib\\site-packages\\pandas\\core\\frame.py\u001b[0m in \u001b[0;36m__getitem__\u001b[1;34m(self, key)\u001b[0m\n\u001b[0;32m   2798\u001b[0m             \u001b[1;32mif\u001b[0m \u001b[0mself\u001b[0m\u001b[1;33m.\u001b[0m\u001b[0mcolumns\u001b[0m\u001b[1;33m.\u001b[0m\u001b[0mnlevels\u001b[0m \u001b[1;33m>\u001b[0m \u001b[1;36m1\u001b[0m\u001b[1;33m:\u001b[0m\u001b[1;33m\u001b[0m\u001b[1;33m\u001b[0m\u001b[0m\n\u001b[0;32m   2799\u001b[0m                 \u001b[1;32mreturn\u001b[0m \u001b[0mself\u001b[0m\u001b[1;33m.\u001b[0m\u001b[0m_getitem_multilevel\u001b[0m\u001b[1;33m(\u001b[0m\u001b[0mkey\u001b[0m\u001b[1;33m)\u001b[0m\u001b[1;33m\u001b[0m\u001b[1;33m\u001b[0m\u001b[0m\n\u001b[1;32m-> 2800\u001b[1;33m             \u001b[0mindexer\u001b[0m \u001b[1;33m=\u001b[0m \u001b[0mself\u001b[0m\u001b[1;33m.\u001b[0m\u001b[0mcolumns\u001b[0m\u001b[1;33m.\u001b[0m\u001b[0mget_loc\u001b[0m\u001b[1;33m(\u001b[0m\u001b[0mkey\u001b[0m\u001b[1;33m)\u001b[0m\u001b[1;33m\u001b[0m\u001b[1;33m\u001b[0m\u001b[0m\n\u001b[0m\u001b[0;32m   2801\u001b[0m             \u001b[1;32mif\u001b[0m \u001b[0mis_integer\u001b[0m\u001b[1;33m(\u001b[0m\u001b[0mindexer\u001b[0m\u001b[1;33m)\u001b[0m\u001b[1;33m:\u001b[0m\u001b[1;33m\u001b[0m\u001b[1;33m\u001b[0m\u001b[0m\n\u001b[0;32m   2802\u001b[0m                 \u001b[0mindexer\u001b[0m \u001b[1;33m=\u001b[0m \u001b[1;33m[\u001b[0m\u001b[0mindexer\u001b[0m\u001b[1;33m]\u001b[0m\u001b[1;33m\u001b[0m\u001b[1;33m\u001b[0m\u001b[0m\n",
      "\u001b[1;32mc:\\users\\ponde\\appdata\\local\\programs\\python\\python38\\lib\\site-packages\\pandas\\core\\indexes\\base.py\u001b[0m in \u001b[0;36mget_loc\u001b[1;34m(self, key, method, tolerance)\u001b[0m\n\u001b[0;32m   2646\u001b[0m                 \u001b[1;32mreturn\u001b[0m \u001b[0mself\u001b[0m\u001b[1;33m.\u001b[0m\u001b[0m_engine\u001b[0m\u001b[1;33m.\u001b[0m\u001b[0mget_loc\u001b[0m\u001b[1;33m(\u001b[0m\u001b[0mkey\u001b[0m\u001b[1;33m)\u001b[0m\u001b[1;33m\u001b[0m\u001b[1;33m\u001b[0m\u001b[0m\n\u001b[0;32m   2647\u001b[0m             \u001b[1;32mexcept\u001b[0m \u001b[0mKeyError\u001b[0m\u001b[1;33m:\u001b[0m\u001b[1;33m\u001b[0m\u001b[1;33m\u001b[0m\u001b[0m\n\u001b[1;32m-> 2648\u001b[1;33m                 \u001b[1;32mreturn\u001b[0m \u001b[0mself\u001b[0m\u001b[1;33m.\u001b[0m\u001b[0m_engine\u001b[0m\u001b[1;33m.\u001b[0m\u001b[0mget_loc\u001b[0m\u001b[1;33m(\u001b[0m\u001b[0mself\u001b[0m\u001b[1;33m.\u001b[0m\u001b[0m_maybe_cast_indexer\u001b[0m\u001b[1;33m(\u001b[0m\u001b[0mkey\u001b[0m\u001b[1;33m)\u001b[0m\u001b[1;33m)\u001b[0m\u001b[1;33m\u001b[0m\u001b[1;33m\u001b[0m\u001b[0m\n\u001b[0m\u001b[0;32m   2649\u001b[0m         \u001b[0mindexer\u001b[0m \u001b[1;33m=\u001b[0m \u001b[0mself\u001b[0m\u001b[1;33m.\u001b[0m\u001b[0mget_indexer\u001b[0m\u001b[1;33m(\u001b[0m\u001b[1;33m[\u001b[0m\u001b[0mkey\u001b[0m\u001b[1;33m]\u001b[0m\u001b[1;33m,\u001b[0m \u001b[0mmethod\u001b[0m\u001b[1;33m=\u001b[0m\u001b[0mmethod\u001b[0m\u001b[1;33m,\u001b[0m \u001b[0mtolerance\u001b[0m\u001b[1;33m=\u001b[0m\u001b[0mtolerance\u001b[0m\u001b[1;33m)\u001b[0m\u001b[1;33m\u001b[0m\u001b[1;33m\u001b[0m\u001b[0m\n\u001b[0;32m   2650\u001b[0m         \u001b[1;32mif\u001b[0m \u001b[0mindexer\u001b[0m\u001b[1;33m.\u001b[0m\u001b[0mndim\u001b[0m \u001b[1;33m>\u001b[0m \u001b[1;36m1\u001b[0m \u001b[1;32mor\u001b[0m \u001b[0mindexer\u001b[0m\u001b[1;33m.\u001b[0m\u001b[0msize\u001b[0m \u001b[1;33m>\u001b[0m \u001b[1;36m1\u001b[0m\u001b[1;33m:\u001b[0m\u001b[1;33m\u001b[0m\u001b[1;33m\u001b[0m\u001b[0m\n",
      "\u001b[1;32mpandas\\_libs\\index.pyx\u001b[0m in \u001b[0;36mpandas._libs.index.IndexEngine.get_loc\u001b[1;34m()\u001b[0m\n",
      "\u001b[1;32mpandas\\_libs\\index.pyx\u001b[0m in \u001b[0;36mpandas._libs.index.IndexEngine.get_loc\u001b[1;34m()\u001b[0m\n",
      "\u001b[1;32mpandas\\_libs\\hashtable_class_helper.pxi\u001b[0m in \u001b[0;36mpandas._libs.hashtable.PyObjectHashTable.get_item\u001b[1;34m()\u001b[0m\n",
      "\u001b[1;32mpandas\\_libs\\hashtable_class_helper.pxi\u001b[0m in \u001b[0;36mpandas._libs.hashtable.PyObjectHashTable.get_item\u001b[1;34m()\u001b[0m\n",
      "\u001b[1;31mKeyError\u001b[0m: 'attributes'"
     ]
    }
   ],
   "source": [
    "df['attributes'].head()"
   ]
  },
  {
   "cell_type": "markdown",
   "metadata": {},
   "source": [
    "1 - The href is repeated in every single line, we should get rid of it.<br>\n",
    "2 - use a similar approach we used for keys.<br>"
   ]
  },
  {
   "cell_type": "code",
   "execution_count": 51,
   "metadata": {},
   "outputs": [
    {
     "data": {
      "text/plain": [
       "0    in-page-link skip-to-main visuallyhidden focus...\n",
       "1     marketing-nav__logo__shopify Main Nav Logo Ma...\n",
       "2     marketing-nav__item marketing-nav__item--prim...\n",
       "3     marketing-nav__item marketing-nav__item--prim...\n",
       "4     marketing-nav__item marketing-nav__item--prim...\n",
       "Name: attributes, dtype: object"
      ]
     },
     "execution_count": 51,
     "metadata": {},
     "output_type": "execute_result"
    }
   ],
   "source": [
    "# using a custom function to remove the href\n",
    "df['attributes'] = df[['attributes','href']].apply(extract_href,axis=1)\n",
    "\n",
    "# expliciting the characters we want to remove at this point (we don't want to break single attr in different words yet)\n",
    "chars_to_remove = ['dict_values','(',')','[',']',',',\"'\"]\n",
    "\n",
    "# removing thee special chras using a custom function\n",
    "df['attributes'] = df['attributes'].apply(remove_char,list_of_chars=chars_to_remove)\n",
    "\n",
    "df['attributes'].head()"
   ]
  },
  {
   "cell_type": "code",
   "execution_count": 53,
   "metadata": {},
   "outputs": [
    {
     "data": {
      "text/plain": [
       "1618"
      ]
     },
     "execution_count": 53,
     "metadata": {},
     "output_type": "execute_result"
    }
   ],
   "source": [
    "attrs = df['attributes'].str.split(expand=True).stack().value_counts()\n",
    "len(attrs)"
   ]
  },
  {
   "cell_type": "code",
   "execution_count": 54,
   "metadata": {
    "scrolled": false
   },
   "outputs": [
    {
     "data": {
      "text/html": [
       "<div>\n",
       "<style scoped>\n",
       "    .dataframe tbody tr th:only-of-type {\n",
       "        vertical-align: middle;\n",
       "    }\n",
       "\n",
       "    .dataframe tbody tr th {\n",
       "        vertical-align: top;\n",
       "    }\n",
       "\n",
       "    .dataframe thead th {\n",
       "        text-align: right;\n",
       "    }\n",
       "</style>\n",
       "<table border=\"1\" class=\"dataframe\">\n",
       "  <thead>\n",
       "    <tr style=\"text-align: right;\">\n",
       "      <th></th>\n",
       "      <th>attrs</th>\n",
       "      <th>perc_match</th>\n",
       "    </tr>\n",
       "  </thead>\n",
       "  <tbody>\n",
       "    <tr>\n",
       "      <th>0</th>\n",
       "      <td>text-decoration:none;</td>\n",
       "      <td>1.000000</td>\n",
       "    </tr>\n",
       "    <tr>\n",
       "      <th>92</th>\n",
       "      <td>eachJob</td>\n",
       "      <td>1.000000</td>\n",
       "    </tr>\n",
       "    <tr>\n",
       "      <th>27</th>\n",
       "      <td>posting:</td>\n",
       "      <td>1.000000</td>\n",
       "    </tr>\n",
       "    <tr>\n",
       "      <th>36</th>\n",
       "      <td>job-title</td>\n",
       "      <td>1.000000</td>\n",
       "    </tr>\n",
       "    <tr>\n",
       "      <th>17</th>\n",
       "      <td>posting-title</td>\n",
       "      <td>1.000000</td>\n",
       "    </tr>\n",
       "    <tr>\n",
       "      <th>15</th>\n",
       "      <td>lever-job-title</td>\n",
       "      <td>1.000000</td>\n",
       "    </tr>\n",
       "    <tr>\n",
       "      <th>29</th>\n",
       "      <td>color-cyan-70</td>\n",
       "      <td>1.000000</td>\n",
       "    </tr>\n",
       "    <tr>\n",
       "      <th>90</th>\n",
       "      <td>\"getUrllinkEle</td>\n",
       "      <td>1.000000</td>\n",
       "    </tr>\n",
       "    <tr>\n",
       "      <th>95</th>\n",
       "      <td>eachJob.jobUrl\"</td>\n",
       "      <td>1.000000</td>\n",
       "    </tr>\n",
       "    <tr>\n",
       "      <th>1</th>\n",
       "      <td>_8sef</td>\n",
       "      <td>1.000000</td>\n",
       "    </tr>\n",
       "    <tr>\n",
       "      <th>97</th>\n",
       "      <td>job_click</td>\n",
       "      <td>1.000000</td>\n",
       "    </tr>\n",
       "    <tr>\n",
       "      <th>4</th>\n",
       "      <td>jobTitle-link</td>\n",
       "      <td>0.888889</td>\n",
       "    </tr>\n",
       "    <tr>\n",
       "      <th>81</th>\n",
       "      <td>linkEle</td>\n",
       "      <td>0.833333</td>\n",
       "    </tr>\n",
       "    <tr>\n",
       "      <th>78</th>\n",
       "      <td>Engineer</td>\n",
       "      <td>0.789474</td>\n",
       "    </tr>\n",
       "    <tr>\n",
       "      <th>28</th>\n",
       "      <td>view</td>\n",
       "      <td>0.773196</td>\n",
       "    </tr>\n",
       "    <tr>\n",
       "      <th>16</th>\n",
       "      <td>job</td>\n",
       "      <td>0.739651</td>\n",
       "    </tr>\n",
       "    <tr>\n",
       "      <th>74</th>\n",
       "      <td>8</td>\n",
       "      <td>0.670391</td>\n",
       "    </tr>\n",
       "    <tr>\n",
       "      <th>57</th>\n",
       "      <td>-</td>\n",
       "      <td>0.634409</td>\n",
       "    </tr>\n",
       "    <tr>\n",
       "      <th>76</th>\n",
       "      <td>Sales</td>\n",
       "      <td>0.615385</td>\n",
       "    </tr>\n",
       "    <tr>\n",
       "      <th>10</th>\n",
       "      <td>link</td>\n",
       "      <td>0.465302</td>\n",
       "    </tr>\n",
       "  </tbody>\n",
       "</table>\n",
       "</div>"
      ],
      "text/plain": [
       "                    attrs  perc_match\n",
       "0   text-decoration:none;    1.000000\n",
       "92                eachJob    1.000000\n",
       "27               posting:    1.000000\n",
       "36              job-title    1.000000\n",
       "17          posting-title    1.000000\n",
       "15        lever-job-title    1.000000\n",
       "29          color-cyan-70    1.000000\n",
       "90         \"getUrllinkEle    1.000000\n",
       "95        eachJob.jobUrl\"    1.000000\n",
       "1                   _8sef    1.000000\n",
       "97              job_click    1.000000\n",
       "4           jobTitle-link    0.888889\n",
       "81                linkEle    0.833333\n",
       "78               Engineer    0.789474\n",
       "28                   view    0.773196\n",
       "16                    job    0.739651\n",
       "74                      8    0.670391\n",
       "57                      -    0.634409\n",
       "76                  Sales    0.615385\n",
       "10                   link    0.465302"
      ]
     },
     "execution_count": 54,
     "metadata": {},
     "output_type": "execute_result"
    }
   ],
   "source": [
    "# Since we have too many attrs, let's only check the relevance of the top 100 more frequent\n",
    "\n",
    "attrs = df['attributes'].str.split(expand=True).stack().value_counts()[:100]\n",
    "\n",
    "perc_match = []\n",
    "attrs_check = []\n",
    "\n",
    "for attr in attrs.index:\n",
    "    positive = 0\n",
    "    frequency = 0\n",
    "    for i in range(len(df.index)):\n",
    "        \n",
    "        if attr in df['attributes'][i]:\n",
    "            frequency += 1            \n",
    "            if df['candidateMatch'][i]==1:\n",
    "                positive += 1\n",
    "    perc_match.append(positive/frequency)\n",
    "    attrs_check.append(attr)\n",
    "\n",
    "df_attrs = pd.DataFrame(columns=['attrs','perc_match','above_avg_match'])\n",
    "\n",
    "candidateMatch_frequency = (df['candidateMatch'].sum() / len(df.index))\n",
    "\n",
    "df_attrs['attrs'] = attrs_check\n",
    "df_attrs['perc_match'] = perc_match\n",
    "df_attrs['above_avg_match'] = np.where(df_attrs['perc_match']>candidateMatch_frequency,1,0)\n",
    "\n",
    "df_attrs[['attrs','perc_match']].sort_values(by='perc_match',ascending=False)[0:20]"
   ]
  },
  {
   "cell_type": "code",
   "execution_count": 55,
   "metadata": {},
   "outputs": [
    {
     "data": {
      "text/plain": [
       "scotiabank    400\n",
       "opentext       50\n",
       "Name: company, dtype: int64"
      ]
     },
     "execution_count": 55,
     "metadata": {},
     "output_type": "execute_result"
    }
   ],
   "source": [
    "df_backup[df_backup['attributes'].str.contains('jobTitle-link')]['company'].value_counts()"
   ]
  },
  {
   "cell_type": "code",
   "execution_count": 56,
   "metadata": {},
   "outputs": [
    {
     "data": {
      "text/plain": [
       "yelp         12\n",
       "Snowflake    12\n",
       "Name: company, dtype: int64"
      ]
     },
     "execution_count": 56,
     "metadata": {},
     "output_type": "execute_result"
    }
   ],
   "source": [
    "df_backup[df_backup['attributes'].str.contains('linkEle')]['company'].value_counts()"
   ]
  },
  {
   "cell_type": "markdown",
   "metadata": {},
   "source": [
    "Again, there is a high chance of overfiting the model, let's add a \"job\" feature instead."
   ]
  },
  {
   "cell_type": "code",
   "execution_count": 57,
   "metadata": {},
   "outputs": [
    {
     "data": {
      "text/plain": [
       "<matplotlib.axes._subplots.AxesSubplot at 0x264e9116100>"
      ]
     },
     "execution_count": 57,
     "metadata": {},
     "output_type": "execute_result"
    },
    {
     "data": {
      "image/png": "[encoded data removed]",
      "text/plain": [
       "<Figure size 432x288 with 1 Axes>"
      ]
     },
     "metadata": {
      "needs_background": "light"
     },
     "output_type": "display_data"
    }
   ],
   "source": [
    "df['attr_job_yn'] = np.where(df['attributes'].str.contains('Job|job'),1,0)\n",
    "\n",
    "df['attr_job_yn'].hist()"
   ]
  },
  {
   "cell_type": "markdown",
   "metadata": {},
   "source": [
    "# key_attr"
   ]
  },
  {
   "cell_type": "markdown",
   "metadata": {},
   "source": [
    "This column will be a copy of the previous two. Since we are focusing in simplicity here, we will not check the relevance between key and attr."
   ]
  },
  {
   "cell_type": "code",
   "execution_count": 58,
   "metadata": {},
   "outputs": [],
   "source": [
    "df = df.drop('key_attr',axis='columns')"
   ]
  },
  {
   "cell_type": "markdown",
   "metadata": {},
   "source": [
    "# trun_href"
   ]
  },
  {
   "cell_type": "markdown",
   "metadata": {},
   "source": [
    "This is a \"incomplete\" version of href."
   ]
  },
  {
   "cell_type": "code",
   "execution_count": 59,
   "metadata": {},
   "outputs": [],
   "source": [
    "df = df.drop('trun_href',axis='columns')"
   ]
  },
  {
   "cell_type": "markdown",
   "metadata": {},
   "source": [
    "# Advanced feature engineering"
   ]
  },
  {
   "cell_type": "markdown",
   "metadata": {},
   "source": [
    "We have two goals here <br> \n",
    "1 - Evaluate the correlation and relevance of the features we have. <br>\n",
    "2 - Create a tolkenizer to extract the maximum value of text based features."
   ]
  },
  {
   "cell_type": "code",
   "execution_count": 60,
   "metadata": {},
   "outputs": [],
   "source": [
    "# removing the remaining special characteres that were kept to avoid breaking keys and attrs\n",
    "\n",
    "df['aTagContent'] = df['aTagContent'].apply(specialCharCleaner)\n",
    "df['href'] = df['href'].apply(specialCharCleaner)\n",
    "df['keys'] = df['keys'].apply(specialCharCleaner)\n",
    "df['attributes'] = df['attributes'].apply(specialCharCleaner)"
   ]
  },
  {
   "cell_type": "code",
   "execution_count": 61,
   "metadata": {},
   "outputs": [
    {
     "data": {
      "image/png": "[encoded data removed]",
      "text/plain": [
       "<Figure size 432x288 with 2 Axes>"
      ]
     },
     "metadata": {
      "needs_background": "light"
     },
     "output_type": "display_data"
    }
   ],
   "source": [
    "heat_map(df[['candidateMatch',\n",
    "       'len_aTagContent', 'len_aTagContent_group_between 60 and 175',\n",
    "       'len_aTagContent_group_over 175', 'len_aTagContent_group_under 60',\n",
    "       'len_href', 'len_href_group_between 80 and 125',\n",
    "       'len_href_group_over 125', 'len_href_group_under 80', 'key_job_yn',\n",
    "       'num_keys', 'attr_job_yn']])"
   ]
  },
  {
   "cell_type": "markdown",
   "metadata": {},
   "source": [
    "Although we already have a good POV of the most relevant features, let's try a different approach. We are going to create a random feature, run a simple model and check which features can be discarted."
   ]
  },
  {
   "cell_type": "code",
   "execution_count": 62,
   "metadata": {},
   "outputs": [
    {
     "name": "stdout",
     "output_type": "stream",
     "text": [
      "Accuracy Score:   0.956989247311828\n",
      "                                     feature  importance\n",
      "0                            len_aTagContent    0.461975\n",
      "1   len_aTagContent_group_between 60 and 175    0.133340\n",
      "3             len_aTagContent_group_under 60    0.124357\n",
      "4                                   len_href    0.117228\n",
      "9                                   num_keys    0.086659\n",
      "10                               attr_job_yn    0.036058\n",
      "6                    len_href_group_over 125    0.012542\n",
      "11                            random_feature    0.011007\n",
      "5          len_href_group_between 80 and 125    0.007527\n",
      "7                    len_href_group_under 80    0.007239\n",
      "8                                 key_job_yn    0.001374\n",
      "2             len_aTagContent_group_over 175    0.000692\n"
     ]
    }
   ],
   "source": [
    "np.random.seed(42)\n",
    "\n",
    "# Creating a column with random values\n",
    "df['random_feature'] = np.random.rand(len(df.index))\n",
    "\n",
    "y = df['candidateMatch']\n",
    "X = df[['len_aTagContent', 'len_aTagContent_group_between 60 and 175',\n",
    "       'len_aTagContent_group_over 175', 'len_aTagContent_group_under 60',\n",
    "       'len_href', 'len_href_group_between 80 and 125',\n",
    "       'len_href_group_over 125', 'len_href_group_under 80', 'key_job_yn',\n",
    "       'num_keys', 'attr_job_yn', 'random_feature']]\n",
    "\n",
    "\n",
    "# We are going to use the random forest to take advantage of the feature importances.\n",
    "rfc = RandomForestClassifier(max_depth=8,n_estimators=100)\n",
    "\n",
    "X_train, X_test, y_train, y_test = train_test_split(X, y, test_size=0.3, random_state=42)\n",
    "\n",
    "rfc.fit(X_train,y_train)\n",
    "\n",
    "prediction = rfc.predict(X_test)\n",
    "\n",
    "print('Accuracy Score:  ', accuracy_score(prediction,y_test))\n",
    "\n",
    "importances = rfc.feature_importances_\n",
    "\n",
    "df_importances = pd.DataFrame({'feature':X.columns, 'importance':importances})\n",
    "\n",
    "print(df_importances.sort_values(by='importance',ascending=False))"
   ]
  },
  {
   "cell_type": "markdown",
   "metadata": {},
   "source": [
    "First, we got a really good accuracy, even before creating more advanced features or tunning the hyperparameters. Second, there are clearly some features adding no value to the model, since their importance was lower than the random feature we created, let's drop them."
   ]
  },
  {
   "cell_type": "code",
   "execution_count": 63,
   "metadata": {},
   "outputs": [],
   "source": [
    "drop_features = []\n",
    "\n",
    "for i in range(len(df_importances.index)):\n",
    "    if df_importances['importance'][i] <= df_importances['importance'][11]:\n",
    "        drop_features.append(df_importances['feature'][i])\n",
    "\n",
    "df = df.drop(drop_features,axis='columns')"
   ]
  },
  {
   "cell_type": "code",
   "execution_count": 64,
   "metadata": {},
   "outputs": [
    {
     "data": {
      "text/html": [
       "<div>\n",
       "<style scoped>\n",
       "    .dataframe tbody tr th:only-of-type {\n",
       "        vertical-align: middle;\n",
       "    }\n",
       "\n",
       "    .dataframe tbody tr th {\n",
       "        vertical-align: top;\n",
       "    }\n",
       "\n",
       "    .dataframe thead th {\n",
       "        text-align: right;\n",
       "    }\n",
       "</style>\n",
       "<table border=\"1\" class=\"dataframe\">\n",
       "  <thead>\n",
       "    <tr style=\"text-align: right;\">\n",
       "      <th></th>\n",
       "      <th>aTagContent</th>\n",
       "      <th>href</th>\n",
       "      <th>keys</th>\n",
       "      <th>attributes</th>\n",
       "      <th>candidateMatch</th>\n",
       "      <th>len_aTagContent</th>\n",
       "      <th>len_aTagContent_group_between 60 and 175</th>\n",
       "      <th>len_aTagContent_group_under 60</th>\n",
       "      <th>len_href</th>\n",
       "      <th>len_href_group_over 125</th>\n",
       "      <th>num_keys</th>\n",
       "      <th>attr_job_yn</th>\n",
       "    </tr>\n",
       "  </thead>\n",
       "  <tbody>\n",
       "    <tr>\n",
       "      <th>0</th>\n",
       "      <td>Skip to Content</td>\n",
       "      <td>Main</td>\n",
       "      <td>class data ga event data ga action data trekki...</td>\n",
       "      <td>in page link skip to main visuallyhidden focus...</td>\n",
       "      <td>0.0</td>\n",
       "      <td>15</td>\n",
       "      <td>0</td>\n",
       "      <td>1</td>\n",
       "      <td>5</td>\n",
       "      <td>0</td>\n",
       "      <td>7</td>\n",
       "      <td>0</td>\n",
       "    </tr>\n",
       "    <tr>\n",
       "      <th>1</th>\n",
       "      <td>Shopify Careers</td>\n",
       "      <td>careers</td>\n",
       "      <td>href class data ga event data ga action data t...</td>\n",
       "      <td>marketing nav logo shopify Main Nav Logo Main...</td>\n",
       "      <td>0.0</td>\n",
       "      <td>19</td>\n",
       "      <td>0</td>\n",
       "      <td>1</td>\n",
       "      <td>8</td>\n",
       "      <td>0</td>\n",
       "      <td>7</td>\n",
       "      <td>0</td>\n",
       "    </tr>\n",
       "    <tr>\n",
       "      <th>2</th>\n",
       "      <td>Life at Shopify</td>\n",
       "      <td>careers culture</td>\n",
       "      <td>href class itemprop</td>\n",
       "      <td>marketing nav item marketing nav item primary...</td>\n",
       "      <td>0.0</td>\n",
       "      <td>15</td>\n",
       "      <td>0</td>\n",
       "      <td>1</td>\n",
       "      <td>16</td>\n",
       "      <td>0</td>\n",
       "      <td>3</td>\n",
       "      <td>0</td>\n",
       "    </tr>\n",
       "    <tr>\n",
       "      <th>3</th>\n",
       "      <td>Teams</td>\n",
       "      <td>careers teams</td>\n",
       "      <td>href class itemprop</td>\n",
       "      <td>marketing nav item marketing nav item primary...</td>\n",
       "      <td>0.0</td>\n",
       "      <td>5</td>\n",
       "      <td>0</td>\n",
       "      <td>1</td>\n",
       "      <td>14</td>\n",
       "      <td>0</td>\n",
       "      <td>3</td>\n",
       "      <td>0</td>\n",
       "    </tr>\n",
       "    <tr>\n",
       "      <th>4</th>\n",
       "      <td>Work anywhere</td>\n",
       "      <td>careers work anywhere</td>\n",
       "      <td>href class itemprop</td>\n",
       "      <td>marketing nav item marketing nav item primary...</td>\n",
       "      <td>0.0</td>\n",
       "      <td>13</td>\n",
       "      <td>0</td>\n",
       "      <td>1</td>\n",
       "      <td>22</td>\n",
       "      <td>0</td>\n",
       "      <td>3</td>\n",
       "      <td>0</td>\n",
       "    </tr>\n",
       "  </tbody>\n",
       "</table>\n",
       "</div>"
      ],
      "text/plain": [
       "          aTagContent                    href  \\\n",
       "0     Skip to Content                    Main   \n",
       "1   Shopify Careers                   careers   \n",
       "2     Life at Shopify         careers culture   \n",
       "3               Teams           careers teams   \n",
       "4       Work anywhere   careers work anywhere   \n",
       "\n",
       "                                                keys  \\\n",
       "0  class data ga event data ga action data trekki...   \n",
       "1  href class data ga event data ga action data t...   \n",
       "2                                href class itemprop   \n",
       "3                                href class itemprop   \n",
       "4                                href class itemprop   \n",
       "\n",
       "                                          attributes  candidateMatch  \\\n",
       "0  in page link skip to main visuallyhidden focus...             0.0   \n",
       "1   marketing nav logo shopify Main Nav Logo Main...             0.0   \n",
       "2   marketing nav item marketing nav item primary...             0.0   \n",
       "3   marketing nav item marketing nav item primary...             0.0   \n",
       "4   marketing nav item marketing nav item primary...             0.0   \n",
       "\n",
       "   len_aTagContent  len_aTagContent_group_between 60 and 175  \\\n",
       "0               15                                         0   \n",
       "1               19                                         0   \n",
       "2               15                                         0   \n",
       "3                5                                         0   \n",
       "4               13                                         0   \n",
       "\n",
       "   len_aTagContent_group_under 60  len_href  len_href_group_over 125  \\\n",
       "0                               1         5                        0   \n",
       "1                               1         8                        0   \n",
       "2                               1        16                        0   \n",
       "3                               1        14                        0   \n",
       "4                               1        22                        0   \n",
       "\n",
       "   num_keys  attr_job_yn  \n",
       "0         7            0  \n",
       "1         7            0  \n",
       "2         3            0  \n",
       "3         3            0  \n",
       "4         3            0  "
      ]
     },
     "execution_count": 64,
     "metadata": {},
     "output_type": "execute_result"
    }
   ],
   "source": [
    "df.head()"
   ]
  },
  {
   "cell_type": "markdown",
   "metadata": {},
   "source": [
    "We still need to handle the first 4 columns, which are categorical. Let's put them all together so we can <b>create tolkens</b>."
   ]
  },
  {
   "cell_type": "code",
   "execution_count": 65,
   "metadata": {},
   "outputs": [],
   "source": [
    "# using a custom function to concat all the relevant columns\n",
    "df['all_text'] = df[['aTagContent', 'href', 'keys', 'attributes']].apply(connect_columns,axis=1)"
   ]
  },
  {
   "cell_type": "code",
   "execution_count": 67,
   "metadata": {},
   "outputs": [
    {
     "name": "stdout",
     "output_type": "stream",
     "text": [
      "Empty DataFrame\n",
      "Columns: [all_text, aTagContent, href, keys, attributes]\n",
      "Index: []\n"
     ]
    }
   ],
   "source": [
    "# checking if we got everything write\n",
    "print(df[df.all_text.isna()][['all_text','aTagContent', 'href', 'keys', 'attributes']].head())"
   ]
  },
  {
   "cell_type": "code",
   "execution_count": 68,
   "metadata": {},
   "outputs": [],
   "source": [
    "# Now that we have this combined column, we need to get rid of numbers and spaces before creating tolkens\n",
    "df['all_text'] = df['all_text'].apply(remove_numbers)"
   ]
  },
  {
   "cell_type": "code",
   "execution_count": 70,
   "metadata": {},
   "outputs": [],
   "source": [
    "# We can now drop those columns\n",
    "df.drop(['aTagContent', 'href', 'keys', 'attributes'],axis='columns',inplace=True)"
   ]
  },
  {
   "cell_type": "code",
   "execution_count": 71,
   "metadata": {},
   "outputs": [
    {
     "data": {
      "text/html": [
       "<div>\n",
       "<style scoped>\n",
       "    .dataframe tbody tr th:only-of-type {\n",
       "        vertical-align: middle;\n",
       "    }\n",
       "\n",
       "    .dataframe tbody tr th {\n",
       "        vertical-align: top;\n",
       "    }\n",
       "\n",
       "    .dataframe thead th {\n",
       "        text-align: right;\n",
       "    }\n",
       "</style>\n",
       "<table border=\"1\" class=\"dataframe\">\n",
       "  <thead>\n",
       "    <tr style=\"text-align: right;\">\n",
       "      <th></th>\n",
       "      <th>candidateMatch</th>\n",
       "      <th>len_aTagContent</th>\n",
       "      <th>len_aTagContent_group_between 60 and 175</th>\n",
       "      <th>len_aTagContent_group_under 60</th>\n",
       "      <th>len_href</th>\n",
       "      <th>len_href_group_over 125</th>\n",
       "      <th>num_keys</th>\n",
       "      <th>attr_job_yn</th>\n",
       "      <th>all_text</th>\n",
       "    </tr>\n",
       "  </thead>\n",
       "  <tbody>\n",
       "    <tr>\n",
       "      <th>0</th>\n",
       "      <td>0.0</td>\n",
       "      <td>15</td>\n",
       "      <td>0</td>\n",
       "      <td>1</td>\n",
       "      <td>5</td>\n",
       "      <td>0</td>\n",
       "      <td>7</td>\n",
       "      <td>0</td>\n",
       "      <td>Skip to Content Main class data ga event data ...</td>\n",
       "    </tr>\n",
       "    <tr>\n",
       "      <th>1</th>\n",
       "      <td>0.0</td>\n",
       "      <td>19</td>\n",
       "      <td>0</td>\n",
       "      <td>1</td>\n",
       "      <td>8</td>\n",
       "      <td>0</td>\n",
       "      <td>7</td>\n",
       "      <td>0</td>\n",
       "      <td>Shopify Careers careers href class data ga ev...</td>\n",
       "    </tr>\n",
       "    <tr>\n",
       "      <th>2</th>\n",
       "      <td>0.0</td>\n",
       "      <td>15</td>\n",
       "      <td>0</td>\n",
       "      <td>1</td>\n",
       "      <td>16</td>\n",
       "      <td>0</td>\n",
       "      <td>3</td>\n",
       "      <td>0</td>\n",
       "      <td>Life at Shopify careers culture href class ite...</td>\n",
       "    </tr>\n",
       "    <tr>\n",
       "      <th>3</th>\n",
       "      <td>0.0</td>\n",
       "      <td>5</td>\n",
       "      <td>0</td>\n",
       "      <td>1</td>\n",
       "      <td>14</td>\n",
       "      <td>0</td>\n",
       "      <td>3</td>\n",
       "      <td>0</td>\n",
       "      <td>Teams careers teams href class itemprop market...</td>\n",
       "    </tr>\n",
       "    <tr>\n",
       "      <th>4</th>\n",
       "      <td>0.0</td>\n",
       "      <td>13</td>\n",
       "      <td>0</td>\n",
       "      <td>1</td>\n",
       "      <td>22</td>\n",
       "      <td>0</td>\n",
       "      <td>3</td>\n",
       "      <td>0</td>\n",
       "      <td>Work anywhere careers work anywhere href class...</td>\n",
       "    </tr>\n",
       "  </tbody>\n",
       "</table>\n",
       "</div>"
      ],
      "text/plain": [
       "   candidateMatch  len_aTagContent  len_aTagContent_group_between 60 and 175  \\\n",
       "0             0.0               15                                         0   \n",
       "1             0.0               19                                         0   \n",
       "2             0.0               15                                         0   \n",
       "3             0.0                5                                         0   \n",
       "4             0.0               13                                         0   \n",
       "\n",
       "   len_aTagContent_group_under 60  len_href  len_href_group_over 125  \\\n",
       "0                               1         5                        0   \n",
       "1                               1         8                        0   \n",
       "2                               1        16                        0   \n",
       "3                               1        14                        0   \n",
       "4                               1        22                        0   \n",
       "\n",
       "   num_keys  attr_job_yn                                           all_text  \n",
       "0         7            0  Skip to Content Main class data ga event data ...  \n",
       "1         7            0   Shopify Careers careers href class data ga ev...  \n",
       "2         3            0  Life at Shopify careers culture href class ite...  \n",
       "3         3            0  Teams careers teams href class itemprop market...  \n",
       "4         3            0  Work anywhere careers work anywhere href class...  "
      ]
     },
     "execution_count": 71,
     "metadata": {},
     "output_type": "execute_result"
    }
   ],
   "source": [
    "df.head()"
   ]
  },
  {
   "cell_type": "code",
   "execution_count": 74,
   "metadata": {},
   "outputs": [],
   "source": [
    "# Let's save a version of this dataframe without tolkens so we can run more simple models.\n",
    "\n",
    "now = datetime.datetime.now()\n",
    "today = datetime.datetime.today()\n",
    "\n",
    "date = today.strftime(\"%Y-%m-%d\")\n",
    "hour = now.strftime(\"%H\")\n",
    "minute = now.strftime(\"%M\")\n",
    "\n",
    "stamp = str(date) + ' ' + str(hour) + 'h' + str(minute)\n",
    "\n",
    "df.to_csv(r'C:\\Users\\ponde\\Documents\\programacao\\Python\\FreshJobs\\ '+str(stamp)+' dataset_pre_tolken.csv', index=False)"
   ]
  },
  {
   "cell_type": "markdown",
   "metadata": {},
   "source": [
    "<h4> Now let's create the tolkens </h4>"
   ]
  },
  {
   "cell_type": "code",
   "execution_count": 78,
   "metadata": {},
   "outputs": [
    {
     "name": "stdout",
     "output_type": "stream",
     "text": [
      "Tokens shape:  (6510, 4580)\n"
     ]
    }
   ],
   "source": [
    "tfidf_vectorizer = TfidfVectorizer(use_idf=True, max_df=0.95)\n",
    "\n",
    "tokens = tfidf_vectorizer.fit_transform(df['all_text'])\n",
    "\n",
    "print('Tokens shape: ', tokens.shape)"
   ]
  },
  {
   "cell_type": "code",
   "execution_count": 83,
   "metadata": {},
   "outputs": [
    {
     "name": "stdout",
     "output_type": "stream",
     "text": [
      "shape of X:  (6510, 4589)\n",
      "   candidateMatch  len_aTagContent  len_aTagContent_group_between 60 and 175  \\\n",
      "0             0.0               15                                         0   \n",
      "1             0.0               19                                         0   \n",
      "2             0.0               15                                         0   \n",
      "3             0.0                5                                         0   \n",
      "4             0.0               13                                         0   \n",
      "\n",
      "   len_aTagContent_group_under 60  len_href  len_href_group_over 125  \\\n",
      "0                               1         5                        0   \n",
      "1                               1         8                        0   \n",
      "2                               1        16                        0   \n",
      "3                               1        14                        0   \n",
      "4                               1        22                        0   \n",
      "\n",
      "   num_keys  attr_job_yn   aa  aaa  ...  zrw   zt  zurich  zuujdl  zverpjwtw  \\\n",
      "0         7            0  0.0  0.0  ...  0.0  0.0     0.0     0.0        0.0   \n",
      "1         7            0  0.0  0.0  ...  0.0  0.0     0.0     0.0        0.0   \n",
      "2         3            0  0.0  0.0  ...  0.0  0.0     0.0     0.0        0.0   \n",
      "3         3            0  0.0  0.0  ...  0.0  0.0     0.0     0.0        0.0   \n",
      "4         3            0  0.0  0.0  ...  0.0  0.0     0.0     0.0        0.0   \n",
      "\n",
      "   zvn  zvp  zwbxlzh   zz  \\\n",
      "0  0.0  0.0      0.0  0.0   \n",
      "1  0.0  0.0      0.0  0.0   \n",
      "2  0.0  0.0      0.0  0.0   \n",
      "3  0.0  0.0      0.0  0.0   \n",
      "4  0.0  0.0      0.0  0.0   \n",
      "\n",
      "   zzeoxhcuarbbdqacrwoyzxjpttisschzjtsspjbmuhrbvxfaxxzrmggxczc  \n",
      "0                                                0.0            \n",
      "1                                                0.0            \n",
      "2                                                0.0            \n",
      "3                                                0.0            \n",
      "4                                                0.0            \n",
      "\n",
      "[5 rows x 4588 columns]\n"
     ]
    }
   ],
   "source": [
    "# Let's connect it to the data frame\n",
    "\n",
    "df1 = pd.DataFrame(tokens.toarray(), columns=tfidf_vectorizer.get_feature_names())\n",
    "\n",
    "X = pd.concat([df, df1], axis=1)\n",
    "\n",
    "print('shape of X: ', X.shape)\n",
    "\n",
    "X.drop('all_text',inplace=True,axis='columns')\n",
    "\n",
    "print(X.head())"
   ]
  },
  {
   "cell_type": "code",
   "execution_count": 84,
   "metadata": {},
   "outputs": [],
   "source": [
    "# Since this is a havier dataset, with relevant info, let's save it in a special format\n",
    "\n",
    "X.to_pickle(r'C:\\Users\\ponde\\Documents\\programacao\\Python\\FreshJobs\\ '+str(stamp)+' dataset_with_tolkens.pkl')"
   ]
  }
 ],
 "metadata": {
  "kernelspec": {
   "display_name": "Python 3",
   "language": "python",
   "name": "python3"
  },
  "language_info": {
   "codemirror_mode": {
    "name": "ipython",
    "version": 3
   },
   "file_extension": ".py",
   "mimetype": "text/x-python",
   "name": "python",
   "nbconvert_exporter": "python",
   "pygments_lexer": "ipython3",
   "version": "3.8.3"
  }
 },
 "nbformat": 4,
 "nbformat_minor": 4
}
