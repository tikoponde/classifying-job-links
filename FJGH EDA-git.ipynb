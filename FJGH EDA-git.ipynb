{
 "cells": [
  {
   "cell_type": "markdown",
   "metadata": {},
   "source": [
    "# Exploratory analysis and Feature Engineering"
   ]
  },
  {
   "cell_type": "markdown",
   "metadata": {},
   "source": [
    "Now that we have the data, let's explore it, clean it and create features for the machine learning model.\n",
    "<br>\n",
    "<h3>Goals:</h3> <br>\n",
    "<b>1 - Understand the data we collected.</b> <br>\n",
    "For this part, we will use pandas and matpyplot libs. <br>\n",
    "<br>\n",
    "<b>2 - Clean null values and irrelevant characters.</b> <br>\n",
    "We will use apply with custom functions and RegEx.<br>\n",
    "<br>\n",
    "<b>3 - Transform the text data into features we can use.</b> <br>\n",
    "We will create features and evaluate their correlation and importance (seaborn and  sklearn).<br>\n",
    "<br>\n",
    "<b>4 - Tolkenize data.</b><br>\n",
    "TfidfVectorizer from sklearn.feature_extraction.text.<br>\n"
   ]
  },
  {
   "cell_type": "code",
   "execution_count": 68,
   "metadata": {},
   "outputs": [],
   "source": [
    "from sklearn.preprocessing import normalize "
   ]
  },
  {
   "cell_type": "code",
   "execution_count": 69,
   "metadata": {},
   "outputs": [],
   "source": [
    "# Importing the libraries\n",
    "\n",
    "# Manipulating the data\n",
    "import pandas as pd\n",
    "import numpy as np\n",
    "import re\n",
    "from sklearn.feature_extraction.text import TfidfVectorizer\n",
    "\n",
    "# Data vizualization\n",
    "import matplotlib.pyplot as plt\n",
    "import seaborn as sns\n",
    "\n",
    "# Feature engineering evaluation\n",
    "from sklearn.ensemble import RandomForestClassifier\n",
    "from sklearn.model_selection import train_test_split\n",
    "from sklearn.metrics import accuracy_score\n",
    "\n",
    "# Saving the output\n",
    "import datetime"
   ]
  },
  {
   "cell_type": "markdown",
   "metadata": {},
   "source": [
    "<h4>Functions</h4>"
   ]
  },
  {
   "cell_type": "code",
   "execution_count": 70,
   "metadata": {},
   "outputs": [],
   "source": [
    "# removes chars from a string, based on a list\n",
    "def remove_char(text,list_of_chars):\n",
    "    for char in list_of_chars:\n",
    "        text = text.replace(char,'')\n",
    "    return text\n",
    "\n",
    "# if a text is duplicated in two columns, remove it from the one passed as first arg\n",
    "def extract_href(x):\n",
    "    if type(x[1]) != str:\n",
    "        return x[0]\n",
    "    else:\n",
    "        return x[0].replace(x[1],'')\n",
    "    \n",
    "def specialCharCleaner(x):\n",
    "        \n",
    "    x = re.sub(r'[?|$|.|!]',r' ',str(x)) \n",
    "    x = re.sub(r'[^a-zA-Z0-9 ]',r' ',str(x))\n",
    "    x = re.sub('  ',' ',str(x))\n",
    "            \n",
    "    return x\n",
    "\n",
    "def remove_numbers(x):\n",
    "    x =''.join(c if c not in map(str,range(0,10)) else '' for c in str(x)) #for remove numbers\n",
    "    for i in range(3):\n",
    "        x = re.sub('  ',' ',str(x)) # remove extra espaces\n",
    "    return x\n",
    "\n",
    "# concats multiple coluns\n",
    "def connect_columns(x):\n",
    "    return str(x[0]) + ' ' + str(x[1]) + ' ' + str(x[2]) + ' ' + str(x[3])\n",
    "\n",
    "# Just to make the notebook more organized\n",
    "def heat_map(df):\n",
    "    corr = df.corr()\n",
    "    ax = sns.heatmap(\n",
    "        corr, \n",
    "        vmin=-1, vmax=1, center=0,\n",
    "        cmap=sns.diverging_palette(20, 220, n=200),\n",
    "        square=True\n",
    "    )\n",
    "    ax.set_xticklabels(\n",
    "        ax.get_xticklabels(),\n",
    "        rotation=45,\n",
    "        horizontalalignment='right'\n",
    "    )"
   ]
  },
  {
   "cell_type": "markdown",
   "metadata": {},
   "source": [
    "We have two different sources of data, so let's load and put them all together in a single dataframe"
   ]
  },
  {
   "cell_type": "code",
   "execution_count": 71,
   "metadata": {},
   "outputs": [
    {
     "name": "stdout",
     "output_type": "stream",
     "text": [
      "lenght df html:  4533\n",
      "lenght df JS:  2059\n",
      "Final len:  6592\n"
     ]
    }
   ],
   "source": [
    "# Importing HTML rendered links\n",
    "dfHTML = pd.read_csv(r'training_data_set_HTML 2020-11-13 14h35.csv')\n",
    "dfHTML = dfHTML.drop('jobPostCheck', axis='columns')\n",
    "\n",
    "# Importing JS rendered links\n",
    "dfJS = pd.read_csv(r'training_data_set_js 2020-11-13 15h19.csv')\n",
    "\n",
    "\n",
    "# Concating both DataFrames\n",
    "print('lenght df html: ', len(dfHTML.index))\n",
    "print('lenght df JS: ', len(dfJS.index))\n",
    "\n",
    "frames = [dfHTML,dfJS]\n",
    "\n",
    "df = pd.concat(frames,ignore_index=True)\n",
    "print('Final len: ', len(df.index))"
   ]
  },
  {
   "cell_type": "code",
   "execution_count": 72,
   "metadata": {},
   "outputs": [
    {
     "data": {
      "text/html": [
       "<div>\n",
       "<style scoped>\n",
       "    .dataframe tbody tr th:only-of-type {\n",
       "        vertical-align: middle;\n",
       "    }\n",
       "\n",
       "    .dataframe tbody tr th {\n",
       "        vertical-align: top;\n",
       "    }\n",
       "\n",
       "    .dataframe thead th {\n",
       "        text-align: right;\n",
       "    }\n",
       "</style>\n",
       "<table border=\"1\" class=\"dataframe\">\n",
       "  <thead>\n",
       "    <tr style=\"text-align: right;\">\n",
       "      <th></th>\n",
       "      <th>company</th>\n",
       "      <th>url</th>\n",
       "      <th>aTag</th>\n",
       "      <th>aTagText</th>\n",
       "      <th>aTagContent</th>\n",
       "      <th>href</th>\n",
       "      <th>keys</th>\n",
       "      <th>attributes</th>\n",
       "      <th>key_attr</th>\n",
       "      <th>trun_href</th>\n",
       "      <th>candidateMatch</th>\n",
       "    </tr>\n",
       "  </thead>\n",
       "  <tbody>\n",
       "    <tr>\n",
       "      <th>0</th>\n",
       "      <td>shopify</td>\n",
       "      <td>https://www.shopify.ca/careers/search</td>\n",
       "      <td>&lt;a class=\"in-page-link skip-to-main visuallyhi...</td>\n",
       "      <td>&lt;a class=\"in-page-link skip-to-main visuallyhi...</td>\n",
       "      <td>Skip to Content</td>\n",
       "      <td>#Main</td>\n",
       "      <td>dict_keys(['class', 'data-ga-event', 'data-ga-...</td>\n",
       "      <td>dict_values([['in-page-link', 'skip-to-main', ...</td>\n",
       "      <td>{'class': ['in-page-link', 'skip-to-main', 'vi...</td>\n",
       "      <td>#Main</td>\n",
       "      <td>0.0</td>\n",
       "    </tr>\n",
       "    <tr>\n",
       "      <th>1</th>\n",
       "      <td>shopify</td>\n",
       "      <td>https://www.shopify.ca/careers/search</td>\n",
       "      <td>&lt;a class=\"marketing-nav__logo__shopify\" data-g...</td>\n",
       "      <td>&lt;a class=\"marketing-nav__logo__shopify\" data-g...</td>\n",
       "      <td>\\nShopify Careers  \\n</td>\n",
       "      <td>/careers</td>\n",
       "      <td>dict_keys(['href', 'class', 'data-ga-event', '...</td>\n",
       "      <td>dict_values(['/careers', ['marketing-nav__logo...</td>\n",
       "      <td>{'href': '/careers', 'class': ['marketing-nav_...</td>\n",
       "      <td>/careers</td>\n",
       "      <td>0.0</td>\n",
       "    </tr>\n",
       "    <tr>\n",
       "      <th>2</th>\n",
       "      <td>shopify</td>\n",
       "      <td>https://www.shopify.ca/careers/search</td>\n",
       "      <td>&lt;a class=\"marketing-nav__item marketing-nav__i...</td>\n",
       "      <td>&lt;a class=\"marketing-nav__item marketing-nav__i...</td>\n",
       "      <td>Life at Shopify</td>\n",
       "      <td>/careers/culture</td>\n",
       "      <td>dict_keys(['href', 'class', 'itemprop'])</td>\n",
       "      <td>dict_values(['/careers/culture', ['marketing-n...</td>\n",
       "      <td>{'href': '/careers/culture', 'class': ['market...</td>\n",
       "      <td>/careers/culture</td>\n",
       "      <td>0.0</td>\n",
       "    </tr>\n",
       "    <tr>\n",
       "      <th>3</th>\n",
       "      <td>shopify</td>\n",
       "      <td>https://www.shopify.ca/careers/search</td>\n",
       "      <td>&lt;a class=\"marketing-nav__item marketing-nav__i...</td>\n",
       "      <td>&lt;a class=\"marketing-nav__item marketing-nav__i...</td>\n",
       "      <td>Teams</td>\n",
       "      <td>/careers/teams</td>\n",
       "      <td>dict_keys(['href', 'class', 'itemprop'])</td>\n",
       "      <td>dict_values(['/careers/teams', ['marketing-nav...</td>\n",
       "      <td>{'href': '/careers/teams', 'class': ['marketin...</td>\n",
       "      <td>/careers/teams</td>\n",
       "      <td>0.0</td>\n",
       "    </tr>\n",
       "    <tr>\n",
       "      <th>4</th>\n",
       "      <td>shopify</td>\n",
       "      <td>https://www.shopify.ca/careers/search</td>\n",
       "      <td>&lt;a class=\"marketing-nav__item marketing-nav__i...</td>\n",
       "      <td>&lt;a class=\"marketing-nav__item marketing-nav__i...</td>\n",
       "      <td>Work anywhere</td>\n",
       "      <td>/careers/work-anywhere</td>\n",
       "      <td>dict_keys(['href', 'class', 'itemprop'])</td>\n",
       "      <td>dict_values(['/careers/work-anywhere', ['marke...</td>\n",
       "      <td>{'href': '/careers/work-anywhere', 'class': ['...</td>\n",
       "      <td>/careers/work-anywhere</td>\n",
       "      <td>0.0</td>\n",
       "    </tr>\n",
       "  </tbody>\n",
       "</table>\n",
       "</div>"
      ],
      "text/plain": [
       "   company                                    url  \\\n",
       "0  shopify  https://www.shopify.ca/careers/search   \n",
       "1  shopify  https://www.shopify.ca/careers/search   \n",
       "2  shopify  https://www.shopify.ca/careers/search   \n",
       "3  shopify  https://www.shopify.ca/careers/search   \n",
       "4  shopify  https://www.shopify.ca/careers/search   \n",
       "\n",
       "                                                aTag  \\\n",
       "0  <a class=\"in-page-link skip-to-main visuallyhi...   \n",
       "1  <a class=\"marketing-nav__logo__shopify\" data-g...   \n",
       "2  <a class=\"marketing-nav__item marketing-nav__i...   \n",
       "3  <a class=\"marketing-nav__item marketing-nav__i...   \n",
       "4  <a class=\"marketing-nav__item marketing-nav__i...   \n",
       "\n",
       "                                            aTagText            aTagContent  \\\n",
       "0  <a class=\"in-page-link skip-to-main visuallyhi...        Skip to Content   \n",
       "1  <a class=\"marketing-nav__logo__shopify\" data-g...  \\nShopify Careers  \\n   \n",
       "2  <a class=\"marketing-nav__item marketing-nav__i...        Life at Shopify   \n",
       "3  <a class=\"marketing-nav__item marketing-nav__i...                  Teams   \n",
       "4  <a class=\"marketing-nav__item marketing-nav__i...          Work anywhere   \n",
       "\n",
       "                     href                                               keys  \\\n",
       "0                   #Main  dict_keys(['class', 'data-ga-event', 'data-ga-...   \n",
       "1                /careers  dict_keys(['href', 'class', 'data-ga-event', '...   \n",
       "2        /careers/culture           dict_keys(['href', 'class', 'itemprop'])   \n",
       "3          /careers/teams           dict_keys(['href', 'class', 'itemprop'])   \n",
       "4  /careers/work-anywhere           dict_keys(['href', 'class', 'itemprop'])   \n",
       "\n",
       "                                          attributes  \\\n",
       "0  dict_values([['in-page-link', 'skip-to-main', ...   \n",
       "1  dict_values(['/careers', ['marketing-nav__logo...   \n",
       "2  dict_values(['/careers/culture', ['marketing-n...   \n",
       "3  dict_values(['/careers/teams', ['marketing-nav...   \n",
       "4  dict_values(['/careers/work-anywhere', ['marke...   \n",
       "\n",
       "                                            key_attr               trun_href  \\\n",
       "0  {'class': ['in-page-link', 'skip-to-main', 'vi...                   #Main   \n",
       "1  {'href': '/careers', 'class': ['marketing-nav_...                /careers   \n",
       "2  {'href': '/careers/culture', 'class': ['market...        /careers/culture   \n",
       "3  {'href': '/careers/teams', 'class': ['marketin...          /careers/teams   \n",
       "4  {'href': '/careers/work-anywhere', 'class': ['...  /careers/work-anywhere   \n",
       "\n",
       "   candidateMatch  \n",
       "0             0.0  \n",
       "1             0.0  \n",
       "2             0.0  \n",
       "3             0.0  \n",
       "4             0.0  "
      ]
     },
     "execution_count": 72,
     "metadata": {},
     "output_type": "execute_result"
    }
   ],
   "source": [
    "df.head()"
   ]
  },
  {
   "cell_type": "code",
   "execution_count": 73,
   "metadata": {},
   "outputs": [
    {
     "data": {
      "text/plain": [
       "Index(['company', 'url', 'aTag', 'aTagText', 'aTagContent', 'href', 'keys',\n",
       "       'attributes', 'key_attr', 'trun_href', 'candidateMatch'],\n",
       "      dtype='object')"
      ]
     },
     "execution_count": 73,
     "metadata": {},
     "output_type": "execute_result"
    }
   ],
   "source": [
    "df.columns\n",
    "\n",
    "# company -> employer\n",
    "# url -> url from the website the data was pulled from\n",
    "# aTag -> entire tag 'a' that contains the link we want to evaluate\n",
    "# aTagText -> same as above, but with a different approach to extract\n",
    "# aTagContent -> the text that is displayed in the website (extracted from the tag 'a')\n",
    "# href -> the link we want to evaluate (extracted from the tag 'a')\n",
    "# keys -> all the keys of the element tag\n",
    "# attributes -> all attributes associated with the keys from the tag\n",
    "# key_attr -> keys and attributes, in a dict format\n",
    "# trun_href -> the truncated href\n",
    "# candidateMatch -> indicates if the link is a job posting or not - 0 or 1"
   ]
  },
  {
   "cell_type": "code",
   "execution_count": 77,
   "metadata": {
    "scrolled": true
   },
   "outputs": [
    {
     "data": {
      "text/plain": [
       "company            object\n",
       "url                object\n",
       "aTag               object\n",
       "aTagText           object\n",
       "aTagContent        object\n",
       "href               object\n",
       "keys               object\n",
       "attributes         object\n",
       "key_attr           object\n",
       "trun_href          object\n",
       "candidateMatch    float64\n",
       "dtype: object"
      ]
     },
     "execution_count": 77,
     "metadata": {},
     "output_type": "execute_result"
    }
   ],
   "source": [
    "# Everything was loaded as objects, if we get any trouble ahead we will handle this\n",
    "\n",
    "df.dtypes"
   ]
  },
  {
   "cell_type": "code",
   "execution_count": 78,
   "metadata": {},
   "outputs": [
    {
     "data": {
      "text/plain": [
       "company             0\n",
       "url                 0\n",
       "aTag                0\n",
       "aTagText            0\n",
       "aTagContent       143\n",
       "href               82\n",
       "keys                0\n",
       "attributes          0\n",
       "key_attr            0\n",
       "trun_href           0\n",
       "candidateMatch      0\n",
       "dtype: int64"
      ]
     },
     "execution_count": 78,
     "metadata": {},
     "output_type": "execute_result"
    }
   ],
   "source": [
    "df.isna().sum()"
   ]
  },
  {
   "cell_type": "markdown",
   "metadata": {},
   "source": [
    "<h4>We have a lot of null values for aTagContent and href. The first one should not be a problem for now. For the latter, it does not make sense to carry data that does not have a link, so let's drop those rows</h4>"
   ]
  },
  {
   "cell_type": "code",
   "execution_count": 79,
   "metadata": {},
   "outputs": [],
   "source": [
    "row_drop = df[df.href.isna()].index\n",
    "df.drop(row_drop,axis='rows',inplace=True)\n",
    "df.reset_index(drop=True,inplace=True)"
   ]
  },
  {
   "cell_type": "code",
   "execution_count": 80,
   "metadata": {},
   "outputs": [
    {
     "data": {
      "text/plain": [
       "company             0\n",
       "url                 0\n",
       "aTag                0\n",
       "aTagText            0\n",
       "aTagContent       127\n",
       "href                0\n",
       "keys                0\n",
       "attributes          0\n",
       "key_attr            0\n",
       "trun_href           0\n",
       "candidateMatch      0\n",
       "dtype: int64"
      ]
     },
     "execution_count": 80,
     "metadata": {},
     "output_type": "execute_result"
    }
   ],
   "source": [
    "df.isna().sum()"
   ]
  },
  {
   "cell_type": "markdown",
   "metadata": {},
   "source": [
    "<h4>Let's take a look on the distribution of data by company</h4>"
   ]
  },
  {
   "cell_type": "markdown",
   "metadata": {},
   "source": [
    "Only 43% of the data is composed by real job posts. That is surprising, since all links were extracted from career webpages. Facebook represents half of the dataset, so we need to be careful not to create features that may overfit our model."
   ]
  },
  {
   "cell_type": "code",
   "execution_count": 81,
   "metadata": {},
   "outputs": [
    {
     "data": {
      "text/html": [
       "<div>\n",
       "<style scoped>\n",
       "    .dataframe tbody tr th:only-of-type {\n",
       "        vertical-align: middle;\n",
       "    }\n",
       "\n",
       "    .dataframe tbody tr th {\n",
       "        vertical-align: top;\n",
       "    }\n",
       "\n",
       "    .dataframe thead th {\n",
       "        text-align: right;\n",
       "    }\n",
       "</style>\n",
       "<table border=\"1\" class=\"dataframe\">\n",
       "  <thead>\n",
       "    <tr style=\"text-align: right;\">\n",
       "      <th>candidateMatch</th>\n",
       "      <th>0.0</th>\n",
       "      <th>1.0</th>\n",
       "      <th>Total</th>\n",
       "    </tr>\n",
       "    <tr>\n",
       "      <th>company</th>\n",
       "      <th></th>\n",
       "      <th></th>\n",
       "      <th></th>\n",
       "    </tr>\n",
       "  </thead>\n",
       "  <tbody>\n",
       "    <tr>\n",
       "      <th>Total</th>\n",
       "      <td>0.565745</td>\n",
       "      <td>0.434255</td>\n",
       "      <td>1.000000</td>\n",
       "    </tr>\n",
       "    <tr>\n",
       "      <th>Facebook</th>\n",
       "      <td>0.213518</td>\n",
       "      <td>0.199693</td>\n",
       "      <td>0.413210</td>\n",
       "    </tr>\n",
       "    <tr>\n",
       "      <th>scotiabank</th>\n",
       "      <td>0.086022</td>\n",
       "      <td>0.061444</td>\n",
       "      <td>0.147465</td>\n",
       "    </tr>\n",
       "    <tr>\n",
       "      <th>Okta</th>\n",
       "      <td>0.025346</td>\n",
       "      <td>0.045622</td>\n",
       "      <td>0.070968</td>\n",
       "    </tr>\n",
       "    <tr>\n",
       "      <th>square</th>\n",
       "      <td>0.001690</td>\n",
       "      <td>0.045161</td>\n",
       "      <td>0.046851</td>\n",
       "    </tr>\n",
       "    <tr>\n",
       "      <th>glu</th>\n",
       "      <td>0.017358</td>\n",
       "      <td>0.011982</td>\n",
       "      <td>0.029339</td>\n",
       "    </tr>\n",
       "    <tr>\n",
       "      <th>klick</th>\n",
       "      <td>0.014593</td>\n",
       "      <td>0.010753</td>\n",
       "      <td>0.025346</td>\n",
       "    </tr>\n",
       "    <tr>\n",
       "      <th>Oracle</th>\n",
       "      <td>0.020276</td>\n",
       "      <td>0.003840</td>\n",
       "      <td>0.024117</td>\n",
       "    </tr>\n",
       "    <tr>\n",
       "      <th>opentext</th>\n",
       "      <td>0.023810</td>\n",
       "      <td>0.000000</td>\n",
       "      <td>0.023810</td>\n",
       "    </tr>\n",
       "    <tr>\n",
       "      <th>loblawdigital</th>\n",
       "      <td>0.011367</td>\n",
       "      <td>0.007220</td>\n",
       "      <td>0.018587</td>\n",
       "    </tr>\n",
       "    <tr>\n",
       "      <th>shopify</th>\n",
       "      <td>0.006605</td>\n",
       "      <td>0.011521</td>\n",
       "      <td>0.018126</td>\n",
       "    </tr>\n",
       "    <tr>\n",
       "      <th>ecobee</th>\n",
       "      <td>0.015822</td>\n",
       "      <td>0.000000</td>\n",
       "      <td>0.015822</td>\n",
       "    </tr>\n",
       "    <tr>\n",
       "      <th>later</th>\n",
       "      <td>0.013364</td>\n",
       "      <td>0.002151</td>\n",
       "      <td>0.015515</td>\n",
       "    </tr>\n",
       "    <tr>\n",
       "      <th>rubikloud.ai</th>\n",
       "      <td>0.014900</td>\n",
       "      <td>0.000000</td>\n",
       "      <td>0.014900</td>\n",
       "    </tr>\n",
       "    <tr>\n",
       "      <th>Cisco</th>\n",
       "      <td>0.009524</td>\n",
       "      <td>0.004762</td>\n",
       "      <td>0.014286</td>\n",
       "    </tr>\n",
       "    <tr>\n",
       "      <th>loopio</th>\n",
       "      <td>0.011060</td>\n",
       "      <td>0.002919</td>\n",
       "      <td>0.013978</td>\n",
       "    </tr>\n",
       "    <tr>\n",
       "      <th>Manulife</th>\n",
       "      <td>0.011674</td>\n",
       "      <td>0.001536</td>\n",
       "      <td>0.013210</td>\n",
       "    </tr>\n",
       "    <tr>\n",
       "      <th>yelp</th>\n",
       "      <td>0.009831</td>\n",
       "      <td>0.001536</td>\n",
       "      <td>0.011367</td>\n",
       "    </tr>\n",
       "    <tr>\n",
       "      <th>mavencare</th>\n",
       "      <td>0.007220</td>\n",
       "      <td>0.002919</td>\n",
       "      <td>0.010138</td>\n",
       "    </tr>\n",
       "    <tr>\n",
       "      <th>Snowflake</th>\n",
       "      <td>0.008141</td>\n",
       "      <td>0.001536</td>\n",
       "      <td>0.009677</td>\n",
       "    </tr>\n",
       "    <tr>\n",
       "      <th>appnovation</th>\n",
       "      <td>0.008449</td>\n",
       "      <td>0.000922</td>\n",
       "      <td>0.009370</td>\n",
       "    </tr>\n",
       "    <tr>\n",
       "      <th>Ernest &amp; young</th>\n",
       "      <td>0.007373</td>\n",
       "      <td>0.001536</td>\n",
       "      <td>0.008909</td>\n",
       "    </tr>\n",
       "    <tr>\n",
       "      <th>loblaw</th>\n",
       "      <td>0.007066</td>\n",
       "      <td>0.001536</td>\n",
       "      <td>0.008602</td>\n",
       "    </tr>\n",
       "    <tr>\n",
       "      <th>koho</th>\n",
       "      <td>0.005530</td>\n",
       "      <td>0.002919</td>\n",
       "      <td>0.008449</td>\n",
       "    </tr>\n",
       "    <tr>\n",
       "      <th>northone</th>\n",
       "      <td>0.000461</td>\n",
       "      <td>0.006605</td>\n",
       "      <td>0.007066</td>\n",
       "    </tr>\n",
       "    <tr>\n",
       "      <th>wattpad</th>\n",
       "      <td>0.005069</td>\n",
       "      <td>0.001382</td>\n",
       "      <td>0.006452</td>\n",
       "    </tr>\n",
       "    <tr>\n",
       "      <th>remine</th>\n",
       "      <td>0.004762</td>\n",
       "      <td>0.001229</td>\n",
       "      <td>0.005991</td>\n",
       "    </tr>\n",
       "    <tr>\n",
       "      <th>walmart</th>\n",
       "      <td>0.003379</td>\n",
       "      <td>0.000000</td>\n",
       "      <td>0.003379</td>\n",
       "    </tr>\n",
       "    <tr>\n",
       "      <th>clearbanc</th>\n",
       "      <td>0.000307</td>\n",
       "      <td>0.002304</td>\n",
       "      <td>0.002611</td>\n",
       "    </tr>\n",
       "    <tr>\n",
       "      <th>sensibill</th>\n",
       "      <td>0.001075</td>\n",
       "      <td>0.001229</td>\n",
       "      <td>0.002304</td>\n",
       "    </tr>\n",
       "    <tr>\n",
       "      <th>google</th>\n",
       "      <td>0.000154</td>\n",
       "      <td>0.000000</td>\n",
       "      <td>0.000154</td>\n",
       "    </tr>\n",
       "  </tbody>\n",
       "</table>\n",
       "</div>"
      ],
      "text/plain": [
       "candidateMatch       0.0       1.0     Total\n",
       "company                                     \n",
       "Total           0.565745  0.434255  1.000000\n",
       "Facebook        0.213518  0.199693  0.413210\n",
       "scotiabank      0.086022  0.061444  0.147465\n",
       "Okta            0.025346  0.045622  0.070968\n",
       "square          0.001690  0.045161  0.046851\n",
       "glu             0.017358  0.011982  0.029339\n",
       "klick           0.014593  0.010753  0.025346\n",
       "Oracle          0.020276  0.003840  0.024117\n",
       "opentext        0.023810  0.000000  0.023810\n",
       "loblawdigital   0.011367  0.007220  0.018587\n",
       "shopify         0.006605  0.011521  0.018126\n",
       "ecobee          0.015822  0.000000  0.015822\n",
       "later           0.013364  0.002151  0.015515\n",
       "rubikloud.ai    0.014900  0.000000  0.014900\n",
       "Cisco           0.009524  0.004762  0.014286\n",
       "loopio          0.011060  0.002919  0.013978\n",
       "Manulife        0.011674  0.001536  0.013210\n",
       "yelp            0.009831  0.001536  0.011367\n",
       "mavencare       0.007220  0.002919  0.010138\n",
       "Snowflake       0.008141  0.001536  0.009677\n",
       "appnovation     0.008449  0.000922  0.009370\n",
       "Ernest & young  0.007373  0.001536  0.008909\n",
       "loblaw          0.007066  0.001536  0.008602\n",
       "koho            0.005530  0.002919  0.008449\n",
       "northone        0.000461  0.006605  0.007066\n",
       "wattpad         0.005069  0.001382  0.006452\n",
       "remine          0.004762  0.001229  0.005991\n",
       "walmart         0.003379  0.000000  0.003379\n",
       "clearbanc       0.000307  0.002304  0.002611\n",
       "sensibill       0.001075  0.001229  0.002304\n",
       "google          0.000154  0.000000  0.000154"
      ]
     },
     "execution_count": 81,
     "metadata": {},
     "output_type": "execute_result"
    }
   ],
   "source": [
    "pd.crosstab(df['company'],df['candidateMatch'],margins=True,margins_name='Total',normalize=True).sort_values(by='Total', ascending=False)"
   ]
  },
  {
   "cell_type": "markdown",
   "metadata": {},
   "source": [
    "Google, walmart, opentext, ecobee and rubikloud.ai have no job openings. Probably there was a problem while scraping those pages. "
   ]
  },
  {
   "cell_type": "code",
   "execution_count": 82,
   "metadata": {},
   "outputs": [],
   "source": [
    "# Creating a copy of df for backup purposes\n",
    "df_backup = df.copy()"
   ]
  },
  {
   "cell_type": "markdown",
   "metadata": {},
   "source": [
    "Let's save the dataframe to keep track of the data we are classifying"
   ]
  },
  {
   "cell_type": "code",
   "execution_count": 83,
   "metadata": {},
   "outputs": [],
   "source": [
    "now = datetime.datetime.now()\n",
    "today = datetime.datetime.today()\n",
    "\n",
    "date = today.strftime(\"%Y-%m-%d\")\n",
    "hour = now.strftime(\"%H\")\n",
    "minute = now.strftime(\"%M\")\n",
    "\n",
    "stamp = str(date) + ' ' + str(hour) + 'h' + str(minute)\n",
    "\n",
    "df_backup.to_csv(r'dataset_before_col_drop'+str(stamp)+'.csv',index=False)"
   ]
  },
  {
   "cell_type": "markdown",
   "metadata": {},
   "source": [
    "'company' and 'url' should add no value for the model because they will not help in the classification. Also, 'aTag' and 'aTagtext' have all their data duplicated in other columns, such as keys and attributes."
   ]
  },
  {
   "cell_type": "code",
   "execution_count": 84,
   "metadata": {},
   "outputs": [],
   "source": [
    "df = df.drop(['company','url','aTag','aTagText'],axis='columns')"
   ]
  },
  {
   "cell_type": "code",
   "execution_count": 85,
   "metadata": {},
   "outputs": [
    {
     "data": {
      "text/html": [
       "<div>\n",
       "<style scoped>\n",
       "    .dataframe tbody tr th:only-of-type {\n",
       "        vertical-align: middle;\n",
       "    }\n",
       "\n",
       "    .dataframe tbody tr th {\n",
       "        vertical-align: top;\n",
       "    }\n",
       "\n",
       "    .dataframe thead th {\n",
       "        text-align: right;\n",
       "    }\n",
       "</style>\n",
       "<table border=\"1\" class=\"dataframe\">\n",
       "  <thead>\n",
       "    <tr style=\"text-align: right;\">\n",
       "      <th></th>\n",
       "      <th>aTagContent</th>\n",
       "      <th>href</th>\n",
       "      <th>keys</th>\n",
       "      <th>attributes</th>\n",
       "      <th>key_attr</th>\n",
       "      <th>trun_href</th>\n",
       "      <th>candidateMatch</th>\n",
       "    </tr>\n",
       "  </thead>\n",
       "  <tbody>\n",
       "    <tr>\n",
       "      <th>0</th>\n",
       "      <td>Skip to Content</td>\n",
       "      <td>#Main</td>\n",
       "      <td>dict_keys(['class', 'data-ga-event', 'data-ga-...</td>\n",
       "      <td>dict_values([['in-page-link', 'skip-to-main', ...</td>\n",
       "      <td>{'class': ['in-page-link', 'skip-to-main', 'vi...</td>\n",
       "      <td>#Main</td>\n",
       "      <td>0.0</td>\n",
       "    </tr>\n",
       "    <tr>\n",
       "      <th>1</th>\n",
       "      <td>\\nShopify Careers  \\n</td>\n",
       "      <td>/careers</td>\n",
       "      <td>dict_keys(['href', 'class', 'data-ga-event', '...</td>\n",
       "      <td>dict_values(['/careers', ['marketing-nav__logo...</td>\n",
       "      <td>{'href': '/careers', 'class': ['marketing-nav_...</td>\n",
       "      <td>/careers</td>\n",
       "      <td>0.0</td>\n",
       "    </tr>\n",
       "    <tr>\n",
       "      <th>2</th>\n",
       "      <td>Life at Shopify</td>\n",
       "      <td>/careers/culture</td>\n",
       "      <td>dict_keys(['href', 'class', 'itemprop'])</td>\n",
       "      <td>dict_values(['/careers/culture', ['marketing-n...</td>\n",
       "      <td>{'href': '/careers/culture', 'class': ['market...</td>\n",
       "      <td>/careers/culture</td>\n",
       "      <td>0.0</td>\n",
       "    </tr>\n",
       "    <tr>\n",
       "      <th>3</th>\n",
       "      <td>Teams</td>\n",
       "      <td>/careers/teams</td>\n",
       "      <td>dict_keys(['href', 'class', 'itemprop'])</td>\n",
       "      <td>dict_values(['/careers/teams', ['marketing-nav...</td>\n",
       "      <td>{'href': '/careers/teams', 'class': ['marketin...</td>\n",
       "      <td>/careers/teams</td>\n",
       "      <td>0.0</td>\n",
       "    </tr>\n",
       "    <tr>\n",
       "      <th>4</th>\n",
       "      <td>Work anywhere</td>\n",
       "      <td>/careers/work-anywhere</td>\n",
       "      <td>dict_keys(['href', 'class', 'itemprop'])</td>\n",
       "      <td>dict_values(['/careers/work-anywhere', ['marke...</td>\n",
       "      <td>{'href': '/careers/work-anywhere', 'class': ['...</td>\n",
       "      <td>/careers/work-anywhere</td>\n",
       "      <td>0.0</td>\n",
       "    </tr>\n",
       "  </tbody>\n",
       "</table>\n",
       "</div>"
      ],
      "text/plain": [
       "             aTagContent                    href  \\\n",
       "0        Skip to Content                   #Main   \n",
       "1  \\nShopify Careers  \\n                /careers   \n",
       "2        Life at Shopify        /careers/culture   \n",
       "3                  Teams          /careers/teams   \n",
       "4          Work anywhere  /careers/work-anywhere   \n",
       "\n",
       "                                                keys  \\\n",
       "0  dict_keys(['class', 'data-ga-event', 'data-ga-...   \n",
       "1  dict_keys(['href', 'class', 'data-ga-event', '...   \n",
       "2           dict_keys(['href', 'class', 'itemprop'])   \n",
       "3           dict_keys(['href', 'class', 'itemprop'])   \n",
       "4           dict_keys(['href', 'class', 'itemprop'])   \n",
       "\n",
       "                                          attributes  \\\n",
       "0  dict_values([['in-page-link', 'skip-to-main', ...   \n",
       "1  dict_values(['/careers', ['marketing-nav__logo...   \n",
       "2  dict_values(['/careers/culture', ['marketing-n...   \n",
       "3  dict_values(['/careers/teams', ['marketing-nav...   \n",
       "4  dict_values(['/careers/work-anywhere', ['marke...   \n",
       "\n",
       "                                            key_attr               trun_href  \\\n",
       "0  {'class': ['in-page-link', 'skip-to-main', 'vi...                   #Main   \n",
       "1  {'href': '/careers', 'class': ['marketing-nav_...                /careers   \n",
       "2  {'href': '/careers/culture', 'class': ['market...        /careers/culture   \n",
       "3  {'href': '/careers/teams', 'class': ['marketin...          /careers/teams   \n",
       "4  {'href': '/careers/work-anywhere', 'class': ['...  /careers/work-anywhere   \n",
       "\n",
       "   candidateMatch  \n",
       "0             0.0  \n",
       "1             0.0  \n",
       "2             0.0  \n",
       "3             0.0  \n",
       "4             0.0  "
      ]
     },
     "execution_count": 85,
     "metadata": {},
     "output_type": "execute_result"
    }
   ],
   "source": [
    "df.head()"
   ]
  },
  {
   "cell_type": "markdown",
   "metadata": {},
   "source": [
    "There is a lot of data to be cleaned, so let's walk throught each column"
   ]
  },
  {
   "cell_type": "markdown",
   "metadata": {},
   "source": [
    "# aTagContet"
   ]
  },
  {
   "cell_type": "markdown",
   "metadata": {},
   "source": [
    "We are going to do three things here: <br>\n",
    "1 - Create a length feature <br>\n",
    "2 - Group the length"
   ]
  },
  {
   "cell_type": "code",
   "execution_count": 86,
   "metadata": {},
   "outputs": [],
   "source": [
    "# Creating the length feature\n",
    "df['len_aTagContent'] = df['aTagContent'].apply(lambda x: len(x) if type(x) == str else 0)"
   ]
  },
  {
   "cell_type": "code",
   "execution_count": 87,
   "metadata": {},
   "outputs": [
    {
     "data": {
      "text/html": [
       "<div>\n",
       "<style scoped>\n",
       "    .dataframe tbody tr th:only-of-type {\n",
       "        vertical-align: middle;\n",
       "    }\n",
       "\n",
       "    .dataframe tbody tr th {\n",
       "        vertical-align: top;\n",
       "    }\n",
       "\n",
       "    .dataframe thead th {\n",
       "        text-align: right;\n",
       "    }\n",
       "</style>\n",
       "<table border=\"1\" class=\"dataframe\">\n",
       "  <thead>\n",
       "    <tr style=\"text-align: right;\">\n",
       "      <th></th>\n",
       "      <th>aTagContent</th>\n",
       "      <th>href</th>\n",
       "      <th>keys</th>\n",
       "      <th>attributes</th>\n",
       "      <th>key_attr</th>\n",
       "      <th>trun_href</th>\n",
       "      <th>candidateMatch</th>\n",
       "      <th>len_aTagContent</th>\n",
       "    </tr>\n",
       "  </thead>\n",
       "  <tbody>\n",
       "    <tr>\n",
       "      <th>0</th>\n",
       "      <td>Skip to Content</td>\n",
       "      <td>#Main</td>\n",
       "      <td>dict_keys(['class', 'data-ga-event', 'data-ga-...</td>\n",
       "      <td>dict_values([['in-page-link', 'skip-to-main', ...</td>\n",
       "      <td>{'class': ['in-page-link', 'skip-to-main', 'vi...</td>\n",
       "      <td>#Main</td>\n",
       "      <td>0.0</td>\n",
       "      <td>15</td>\n",
       "    </tr>\n",
       "    <tr>\n",
       "      <th>1</th>\n",
       "      <td>\\nShopify Careers  \\n</td>\n",
       "      <td>/careers</td>\n",
       "      <td>dict_keys(['href', 'class', 'data-ga-event', '...</td>\n",
       "      <td>dict_values(['/careers', ['marketing-nav__logo...</td>\n",
       "      <td>{'href': '/careers', 'class': ['marketing-nav_...</td>\n",
       "      <td>/careers</td>\n",
       "      <td>0.0</td>\n",
       "      <td>19</td>\n",
       "    </tr>\n",
       "    <tr>\n",
       "      <th>2</th>\n",
       "      <td>Life at Shopify</td>\n",
       "      <td>/careers/culture</td>\n",
       "      <td>dict_keys(['href', 'class', 'itemprop'])</td>\n",
       "      <td>dict_values(['/careers/culture', ['marketing-n...</td>\n",
       "      <td>{'href': '/careers/culture', 'class': ['market...</td>\n",
       "      <td>/careers/culture</td>\n",
       "      <td>0.0</td>\n",
       "      <td>15</td>\n",
       "    </tr>\n",
       "    <tr>\n",
       "      <th>3</th>\n",
       "      <td>Teams</td>\n",
       "      <td>/careers/teams</td>\n",
       "      <td>dict_keys(['href', 'class', 'itemprop'])</td>\n",
       "      <td>dict_values(['/careers/teams', ['marketing-nav...</td>\n",
       "      <td>{'href': '/careers/teams', 'class': ['marketin...</td>\n",
       "      <td>/careers/teams</td>\n",
       "      <td>0.0</td>\n",
       "      <td>5</td>\n",
       "    </tr>\n",
       "    <tr>\n",
       "      <th>4</th>\n",
       "      <td>Work anywhere</td>\n",
       "      <td>/careers/work-anywhere</td>\n",
       "      <td>dict_keys(['href', 'class', 'itemprop'])</td>\n",
       "      <td>dict_values(['/careers/work-anywhere', ['marke...</td>\n",
       "      <td>{'href': '/careers/work-anywhere', 'class': ['...</td>\n",
       "      <td>/careers/work-anywhere</td>\n",
       "      <td>0.0</td>\n",
       "      <td>13</td>\n",
       "    </tr>\n",
       "  </tbody>\n",
       "</table>\n",
       "</div>"
      ],
      "text/plain": [
       "             aTagContent                    href  \\\n",
       "0        Skip to Content                   #Main   \n",
       "1  \\nShopify Careers  \\n                /careers   \n",
       "2        Life at Shopify        /careers/culture   \n",
       "3                  Teams          /careers/teams   \n",
       "4          Work anywhere  /careers/work-anywhere   \n",
       "\n",
       "                                                keys  \\\n",
       "0  dict_keys(['class', 'data-ga-event', 'data-ga-...   \n",
       "1  dict_keys(['href', 'class', 'data-ga-event', '...   \n",
       "2           dict_keys(['href', 'class', 'itemprop'])   \n",
       "3           dict_keys(['href', 'class', 'itemprop'])   \n",
       "4           dict_keys(['href', 'class', 'itemprop'])   \n",
       "\n",
       "                                          attributes  \\\n",
       "0  dict_values([['in-page-link', 'skip-to-main', ...   \n",
       "1  dict_values(['/careers', ['marketing-nav__logo...   \n",
       "2  dict_values(['/careers/culture', ['marketing-n...   \n",
       "3  dict_values(['/careers/teams', ['marketing-nav...   \n",
       "4  dict_values(['/careers/work-anywhere', ['marke...   \n",
       "\n",
       "                                            key_attr               trun_href  \\\n",
       "0  {'class': ['in-page-link', 'skip-to-main', 'vi...                   #Main   \n",
       "1  {'href': '/careers', 'class': ['marketing-nav_...                /careers   \n",
       "2  {'href': '/careers/culture', 'class': ['market...        /careers/culture   \n",
       "3  {'href': '/careers/teams', 'class': ['marketin...          /careers/teams   \n",
       "4  {'href': '/careers/work-anywhere', 'class': ['...  /careers/work-anywhere   \n",
       "\n",
       "   candidateMatch  len_aTagContent  \n",
       "0             0.0               15  \n",
       "1             0.0               19  \n",
       "2             0.0               15  \n",
       "3             0.0                5  \n",
       "4             0.0               13  "
      ]
     },
     "execution_count": 87,
     "metadata": {},
     "output_type": "execute_result"
    }
   ],
   "source": [
    "df.head()"
   ]
  },
  {
   "cell_type": "code",
   "execution_count": 88,
   "metadata": {},
   "outputs": [
    {
     "data": {
      "text/plain": [
       "<matplotlib.axes._subplots.AxesSubplot at 0x1d76b463ca0>"
      ]
     },
     "execution_count": 88,
     "metadata": {},
     "output_type": "execute_result"
    },
    {
     "data": {
      "image/png": "[encoded data removed]",
      "text/plain": [
       "<Figure size 432x288 with 1 Axes>"
      ]
     },
     "metadata": {
      "needs_background": "light"
     },
     "output_type": "display_data"
    }
   ],
   "source": [
    "df.len_aTagContent.hist()"
   ]
  },
  {
   "cell_type": "markdown",
   "metadata": {},
   "source": [
    "We can see that there are some outliers around 300. Also, we don't want the model to rely too much on this feature just because of its magnitude, so let's normalize it."
   ]
  },
  {
   "cell_type": "code",
   "execution_count": 89,
   "metadata": {},
   "outputs": [
    {
     "data": {
      "image/png": "[encoded data removed]",
      "text/plain": [
       "<Figure size 432x288 with 1 Axes>"
      ]
     },
     "metadata": {
      "needs_background": "light"
     },
     "output_type": "display_data"
    }
   ],
   "source": [
    "len_aTagContent_norm = normalize(df.len_aTagContent.values.reshape(1, -1))[0]\n",
    "plt.hist(len_aTagContent_norm, 50, density=True, facecolor='g', alpha=0.75)\n",
    "plt.show()"
   ]
  },
  {
   "cell_type": "markdown",
   "metadata": {},
   "source": [
    "Simply applying the normalize function won't solve our problem, this method is sensitive to outliers. QualiteTransformer is a robust option for this."
   ]
  },
  {
   "cell_type": "code",
   "execution_count": 90,
   "metadata": {},
   "outputs": [],
   "source": [
    "from sklearn.preprocessing import QuantileTransformer"
   ]
  },
  {
   "cell_type": "code",
   "execution_count": 91,
   "metadata": {},
   "outputs": [],
   "source": [
    "qt = QuantileTransformer(random_state=42)\n",
    "len_aTagContent_qt = qt.fit_transform(df.len_aTagContent.values.reshape(-1, 1))"
   ]
  },
  {
   "cell_type": "code",
   "execution_count": 92,
   "metadata": {},
   "outputs": [
    {
     "data": {
      "image/png": "[encoded data removed]",
      "text/plain": [
       "<Figure size 432x288 with 1 Axes>"
      ]
     },
     "metadata": {
      "needs_background": "light"
     },
     "output_type": "display_data"
    }
   ],
   "source": [
    "plt.hist(len_aTagContent_qt, 50,density=True, facecolor='g', alpha=0.75)\n",
    "plt.xlim(0, 1)\n",
    "plt.show()"
   ]
  },
  {
   "cell_type": "markdown",
   "metadata": {},
   "source": [
    "The downside of using this method is that we will lose any information regarding the correlation between the distance of each point. If we think about the problem in hand, it is a fair assumption that this correlation should not be relevant. We will move forward using this strategy keeping in mind that there is a improvement opportunity here."
   ]
  },
  {
   "cell_type": "code",
   "execution_count": 93,
   "metadata": {},
   "outputs": [],
   "source": [
    "df['len_aTagContent_qt'] = len_aTagContent_qt"
   ]
  },
  {
   "cell_type": "code",
   "execution_count": 94,
   "metadata": {},
   "outputs": [
    {
     "data": {
      "text/plain": [
       "<Figure size 648x432 with 0 Axes>"
      ]
     },
     "metadata": {},
     "output_type": "display_data"
    },
    {
     "data": {
      "image/png": "[encoded data removed]",
      "text/plain": [
       "<Figure size 432x288 with 1 Axes>"
      ]
     },
     "metadata": {
      "needs_background": "light"
     },
     "output_type": "display_data"
    },
    {
     "data": {
      "image/png": "[encoded data removed]",
      "text/plain": [
       "<Figure size 432x288 with 1 Axes>"
      ]
     },
     "metadata": {
      "needs_background": "light"
     },
     "output_type": "display_data"
    }
   ],
   "source": [
    "matches = df[['len_aTagContent','candidateMatch']].groupby('len_aTagContent').agg('mean')\n",
    "\n",
    "# Ploting a line to check the correlation between the length of aTagContent and job links\n",
    "plt.figure(figsize=(9,6))\n",
    "matches.plot.line()\n",
    "plt.xlim(0, 180)\n",
    "plt.xticks(rotation=90)\n",
    "plt.xlabel(\"aTagContent lenght\")\n",
    "plt.ylabel(\"% of job links\")\n",
    "plt.title(\"job link per lenght of aTagContent\")\n",
    "plt.show()\n",
    "\n",
    "# Boxplot to check the distribution of job links per aTagContent length\n",
    "ax = sns.boxplot(x='candidateMatch', y='len_aTagContent', data=df).set_title('Classification distribution by length')"
   ]
  },
  {
   "cell_type": "markdown",
   "metadata": {},
   "source": [
    "Apparantly there is a good correlation between the length of aTagContent and candidateMatch. Since this correlation is not linear, let's create some groups of lengths. Let's also get the dummies for this new categorical feature."
   ]
  },
  {
   "cell_type": "code",
   "execution_count": 95,
   "metadata": {},
   "outputs": [],
   "source": [
    "df['len_aTagContent_group'] = np.where(df['len_aTagContent']<60,'under 60',\n",
    "                                np.where(df['len_aTagContent']<=175,'between 60 and 175',\n",
    "                                         'over 175'\n",
    "                                         )\n",
    "                                )\n",
    "\n",
    "df = pd.get_dummies(df,columns=['len_aTagContent_group'])"
   ]
  },
  {
   "cell_type": "code",
   "execution_count": 96,
   "metadata": {},
   "outputs": [
    {
     "data": {
      "text/html": [
       "<div>\n",
       "<style scoped>\n",
       "    .dataframe tbody tr th:only-of-type {\n",
       "        vertical-align: middle;\n",
       "    }\n",
       "\n",
       "    .dataframe tbody tr th {\n",
       "        vertical-align: top;\n",
       "    }\n",
       "\n",
       "    .dataframe thead th {\n",
       "        text-align: right;\n",
       "    }\n",
       "</style>\n",
       "<table border=\"1\" class=\"dataframe\">\n",
       "  <thead>\n",
       "    <tr style=\"text-align: right;\">\n",
       "      <th></th>\n",
       "      <th>aTagContent</th>\n",
       "      <th>href</th>\n",
       "      <th>keys</th>\n",
       "      <th>attributes</th>\n",
       "      <th>key_attr</th>\n",
       "      <th>trun_href</th>\n",
       "      <th>candidateMatch</th>\n",
       "      <th>len_aTagContent</th>\n",
       "      <th>len_aTagContent_qt</th>\n",
       "      <th>len_aTagContent_group_between 60 and 175</th>\n",
       "      <th>len_aTagContent_group_over 175</th>\n",
       "      <th>len_aTagContent_group_under 60</th>\n",
       "    </tr>\n",
       "  </thead>\n",
       "  <tbody>\n",
       "    <tr>\n",
       "      <th>0</th>\n",
       "      <td>Skip to Content</td>\n",
       "      <td>#Main</td>\n",
       "      <td>dict_keys(['class', 'data-ga-event', 'data-ga-...</td>\n",
       "      <td>dict_values([['in-page-link', 'skip-to-main', ...</td>\n",
       "      <td>{'class': ['in-page-link', 'skip-to-main', 'vi...</td>\n",
       "      <td>#Main</td>\n",
       "      <td>0.0</td>\n",
       "      <td>15</td>\n",
       "      <td>0.376376</td>\n",
       "      <td>0</td>\n",
       "      <td>0</td>\n",
       "      <td>1</td>\n",
       "    </tr>\n",
       "    <tr>\n",
       "      <th>1</th>\n",
       "      <td>\\nShopify Careers  \\n</td>\n",
       "      <td>/careers</td>\n",
       "      <td>dict_keys(['href', 'class', 'data-ga-event', '...</td>\n",
       "      <td>dict_values(['/careers', ['marketing-nav__logo...</td>\n",
       "      <td>{'href': '/careers', 'class': ['marketing-nav_...</td>\n",
       "      <td>/careers</td>\n",
       "      <td>0.0</td>\n",
       "      <td>19</td>\n",
       "      <td>0.446947</td>\n",
       "      <td>0</td>\n",
       "      <td>0</td>\n",
       "      <td>1</td>\n",
       "    </tr>\n",
       "    <tr>\n",
       "      <th>2</th>\n",
       "      <td>Life at Shopify</td>\n",
       "      <td>/careers/culture</td>\n",
       "      <td>dict_keys(['href', 'class', 'itemprop'])</td>\n",
       "      <td>dict_values(['/careers/culture', ['marketing-n...</td>\n",
       "      <td>{'href': '/careers/culture', 'class': ['market...</td>\n",
       "      <td>/careers/culture</td>\n",
       "      <td>0.0</td>\n",
       "      <td>15</td>\n",
       "      <td>0.376376</td>\n",
       "      <td>0</td>\n",
       "      <td>0</td>\n",
       "      <td>1</td>\n",
       "    </tr>\n",
       "    <tr>\n",
       "      <th>3</th>\n",
       "      <td>Teams</td>\n",
       "      <td>/careers/teams</td>\n",
       "      <td>dict_keys(['href', 'class', 'itemprop'])</td>\n",
       "      <td>dict_values(['/careers/teams', ['marketing-nav...</td>\n",
       "      <td>{'href': '/careers/teams', 'class': ['marketin...</td>\n",
       "      <td>/careers/teams</td>\n",
       "      <td>0.0</td>\n",
       "      <td>5</td>\n",
       "      <td>0.117618</td>\n",
       "      <td>0</td>\n",
       "      <td>0</td>\n",
       "      <td>1</td>\n",
       "    </tr>\n",
       "    <tr>\n",
       "      <th>4</th>\n",
       "      <td>Work anywhere</td>\n",
       "      <td>/careers/work-anywhere</td>\n",
       "      <td>dict_keys(['href', 'class', 'itemprop'])</td>\n",
       "      <td>dict_values(['/careers/work-anywhere', ['marke...</td>\n",
       "      <td>{'href': '/careers/work-anywhere', 'class': ['...</td>\n",
       "      <td>/careers/work-anywhere</td>\n",
       "      <td>0.0</td>\n",
       "      <td>13</td>\n",
       "      <td>0.334835</td>\n",
       "      <td>0</td>\n",
       "      <td>0</td>\n",
       "      <td>1</td>\n",
       "    </tr>\n",
       "  </tbody>\n",
       "</table>\n",
       "</div>"
      ],
      "text/plain": [
       "             aTagContent                    href  \\\n",
       "0        Skip to Content                   #Main   \n",
       "1  \\nShopify Careers  \\n                /careers   \n",
       "2        Life at Shopify        /careers/culture   \n",
       "3                  Teams          /careers/teams   \n",
       "4          Work anywhere  /careers/work-anywhere   \n",
       "\n",
       "                                                keys  \\\n",
       "0  dict_keys(['class', 'data-ga-event', 'data-ga-...   \n",
       "1  dict_keys(['href', 'class', 'data-ga-event', '...   \n",
       "2           dict_keys(['href', 'class', 'itemprop'])   \n",
       "3           dict_keys(['href', 'class', 'itemprop'])   \n",
       "4           dict_keys(['href', 'class', 'itemprop'])   \n",
       "\n",
       "                                          attributes  \\\n",
       "0  dict_values([['in-page-link', 'skip-to-main', ...   \n",
       "1  dict_values(['/careers', ['marketing-nav__logo...   \n",
       "2  dict_values(['/careers/culture', ['marketing-n...   \n",
       "3  dict_values(['/careers/teams', ['marketing-nav...   \n",
       "4  dict_values(['/careers/work-anywhere', ['marke...   \n",
       "\n",
       "                                            key_attr               trun_href  \\\n",
       "0  {'class': ['in-page-link', 'skip-to-main', 'vi...                   #Main   \n",
       "1  {'href': '/careers', 'class': ['marketing-nav_...                /careers   \n",
       "2  {'href': '/careers/culture', 'class': ['market...        /careers/culture   \n",
       "3  {'href': '/careers/teams', 'class': ['marketin...          /careers/teams   \n",
       "4  {'href': '/careers/work-anywhere', 'class': ['...  /careers/work-anywhere   \n",
       "\n",
       "   candidateMatch  len_aTagContent  len_aTagContent_qt  \\\n",
       "0             0.0               15            0.376376   \n",
       "1             0.0               19            0.446947   \n",
       "2             0.0               15            0.376376   \n",
       "3             0.0                5            0.117618   \n",
       "4             0.0               13            0.334835   \n",
       "\n",
       "   len_aTagContent_group_between 60 and 175  len_aTagContent_group_over 175  \\\n",
       "0                                         0                               0   \n",
       "1                                         0                               0   \n",
       "2                                         0                               0   \n",
       "3                                         0                               0   \n",
       "4                                         0                               0   \n",
       "\n",
       "   len_aTagContent_group_under 60  \n",
       "0                               1  \n",
       "1                               1  \n",
       "2                               1  \n",
       "3                               1  \n",
       "4                               1  "
      ]
     },
     "execution_count": 96,
     "metadata": {},
     "output_type": "execute_result"
    }
   ],
   "source": [
    "df.head()"
   ]
  },
  {
   "cell_type": "markdown",
   "metadata": {},
   "source": [
    "# href"
   ]
  },
  {
   "cell_type": "code",
   "execution_count": 26,
   "metadata": {},
   "outputs": [],
   "source": [
    "# 1 - get len\n",
    "# 2 - group len"
   ]
  },
  {
   "cell_type": "code",
   "execution_count": 97,
   "metadata": {},
   "outputs": [
    {
     "data": {
      "text/plain": [
       "<matplotlib.axes._subplots.AxesSubplot at 0x1d769e9c2e0>"
      ]
     },
     "execution_count": 97,
     "metadata": {},
     "output_type": "execute_result"
    },
    {
     "data": {
      "image/png": "[encoded data removed]",
      "text/plain": [
       "<Figure size 432x288 with 1 Axes>"
      ]
     },
     "metadata": {
      "needs_background": "light"
     },
     "output_type": "display_data"
    }
   ],
   "source": [
    "# Creating the len feature\n",
    "df['len_href'] = df['href'].apply(lambda x: len(x) if type(x)==str else 0)\n",
    "\n",
    "# ploting the hist for len_href\n",
    "\n",
    "df['len_href'].hist()"
   ]
  },
  {
   "cell_type": "markdown",
   "metadata": {},
   "source": [
    "Again we will need to normalize the data using a method that is not sensitive to outliers. But first last take a look to check if there is anything wrong with the dataset."
   ]
  },
  {
   "cell_type": "code",
   "execution_count": 98,
   "metadata": {
    "scrolled": true
   },
   "outputs": [
    {
     "name": "stdout",
     "output_type": "stream",
     "text": [
      "25\n"
     ]
    },
    {
     "data": {
      "text/html": [
       "<div>\n",
       "<style scoped>\n",
       "    .dataframe tbody tr th:only-of-type {\n",
       "        vertical-align: middle;\n",
       "    }\n",
       "\n",
       "    .dataframe tbody tr th {\n",
       "        vertical-align: top;\n",
       "    }\n",
       "\n",
       "    .dataframe thead th {\n",
       "        text-align: right;\n",
       "    }\n",
       "</style>\n",
       "<table border=\"1\" class=\"dataframe\">\n",
       "  <thead>\n",
       "    <tr style=\"text-align: right;\">\n",
       "      <th></th>\n",
       "      <th>aTagContent</th>\n",
       "      <th>href</th>\n",
       "      <th>keys</th>\n",
       "      <th>attributes</th>\n",
       "      <th>key_attr</th>\n",
       "      <th>trun_href</th>\n",
       "      <th>candidateMatch</th>\n",
       "      <th>len_aTagContent</th>\n",
       "      <th>len_aTagContent_qt</th>\n",
       "      <th>len_aTagContent_group_between 60 and 175</th>\n",
       "      <th>len_aTagContent_group_over 175</th>\n",
       "      <th>len_aTagContent_group_under 60</th>\n",
       "      <th>len_href</th>\n",
       "    </tr>\n",
       "  </thead>\n",
       "  <tbody>\n",
       "    <tr>\n",
       "      <th>1934</th>\n",
       "      <td>Next</td>\n",
       "      <td>/careers/jobs/?offices%5B0%5D=Altoona%2C+IA&amp;of...</td>\n",
       "      <td>dict_keys(['role', 'class', 'href', 'id'])</td>\n",
       "      <td>dict_values(['button', ['_42ft', '_3nu9', '_3n...</td>\n",
       "      <td>{'role': 'button', 'class': ['_42ft', '_3nu9',...</td>\n",
       "      <td>/careers/jobs/?offices%5B</td>\n",
       "      <td>0.0</td>\n",
       "      <td>4</td>\n",
       "      <td>0.089089</td>\n",
       "      <td>0</td>\n",
       "      <td>0</td>\n",
       "      <td>1</td>\n",
       "      <td>1484</td>\n",
       "    </tr>\n",
       "    <tr>\n",
       "      <th>2140</th>\n",
       "      <td>Prev</td>\n",
       "      <td>/careers/jobs/?offices%5B0%5D=Altoona%2C+IA&amp;of...</td>\n",
       "      <td>dict_keys(['role', 'class', 'href', 'id'])</td>\n",
       "      <td>dict_values(['button', ['_42ft', '_3nu9', '_3n...</td>\n",
       "      <td>{'role': 'button', 'class': ['_42ft', '_3nu9',...</td>\n",
       "      <td>/careers/jobs/?offices%5B</td>\n",
       "      <td>0.0</td>\n",
       "      <td>4</td>\n",
       "      <td>0.089089</td>\n",
       "      <td>0</td>\n",
       "      <td>0</td>\n",
       "      <td>1</td>\n",
       "      <td>1484</td>\n",
       "    </tr>\n",
       "    <tr>\n",
       "      <th>2141</th>\n",
       "      <td>Next</td>\n",
       "      <td>/careers/jobs/?offices%5B0%5D=Altoona%2C+IA&amp;of...</td>\n",
       "      <td>dict_keys(['role', 'class', 'href', 'id'])</td>\n",
       "      <td>dict_values(['button', ['_42ft', '_3nu9', '_3n...</td>\n",
       "      <td>{'role': 'button', 'class': ['_42ft', '_3nu9',...</td>\n",
       "      <td>/careers/jobs/?offices%5B</td>\n",
       "      <td>0.0</td>\n",
       "      <td>4</td>\n",
       "      <td>0.089089</td>\n",
       "      <td>0</td>\n",
       "      <td>0</td>\n",
       "      <td>1</td>\n",
       "      <td>1484</td>\n",
       "    </tr>\n",
       "    <tr>\n",
       "      <th>2347</th>\n",
       "      <td>Prev</td>\n",
       "      <td>/careers/jobs/?offices%5B0%5D=Altoona%2C+IA&amp;of...</td>\n",
       "      <td>dict_keys(['role', 'class', 'href', 'id'])</td>\n",
       "      <td>dict_values(['button', ['_42ft', '_3nu9', '_3n...</td>\n",
       "      <td>{'role': 'button', 'class': ['_42ft', '_3nu9',...</td>\n",
       "      <td>/careers/jobs/?offices%5B</td>\n",
       "      <td>0.0</td>\n",
       "      <td>4</td>\n",
       "      <td>0.089089</td>\n",
       "      <td>0</td>\n",
       "      <td>0</td>\n",
       "      <td>1</td>\n",
       "      <td>1484</td>\n",
       "    </tr>\n",
       "    <tr>\n",
       "      <th>2348</th>\n",
       "      <td>Next</td>\n",
       "      <td>/careers/jobs/?offices%5B0%5D=Altoona%2C+IA&amp;of...</td>\n",
       "      <td>dict_keys(['role', 'class', 'href', 'id'])</td>\n",
       "      <td>dict_values(['button', ['_42ft', '_3nu9', '_3n...</td>\n",
       "      <td>{'role': 'button', 'class': ['_42ft', '_3nu9',...</td>\n",
       "      <td>/careers/jobs/?offices%5B</td>\n",
       "      <td>0.0</td>\n",
       "      <td>4</td>\n",
       "      <td>0.089089</td>\n",
       "      <td>0</td>\n",
       "      <td>0</td>\n",
       "      <td>1</td>\n",
       "      <td>1484</td>\n",
       "    </tr>\n",
       "    <tr>\n",
       "      <th>2554</th>\n",
       "      <td>Prev</td>\n",
       "      <td>/careers/jobs/?offices%5B0%5D=Altoona%2C+IA&amp;of...</td>\n",
       "      <td>dict_keys(['role', 'class', 'href', 'id'])</td>\n",
       "      <td>dict_values(['button', ['_42ft', '_3nu9', '_3n...</td>\n",
       "      <td>{'role': 'button', 'class': ['_42ft', '_3nu9',...</td>\n",
       "      <td>/careers/jobs/?offices%5B</td>\n",
       "      <td>0.0</td>\n",
       "      <td>4</td>\n",
       "      <td>0.089089</td>\n",
       "      <td>0</td>\n",
       "      <td>0</td>\n",
       "      <td>1</td>\n",
       "      <td>1484</td>\n",
       "    </tr>\n",
       "    <tr>\n",
       "      <th>2555</th>\n",
       "      <td>Next</td>\n",
       "      <td>/careers/jobs/?offices%5B0%5D=Altoona%2C+IA&amp;of...</td>\n",
       "      <td>dict_keys(['role', 'class', 'href', 'id'])</td>\n",
       "      <td>dict_values(['button', ['_42ft', '_3nu9', '_3n...</td>\n",
       "      <td>{'role': 'button', 'class': ['_42ft', '_3nu9',...</td>\n",
       "      <td>/careers/jobs/?offices%5B</td>\n",
       "      <td>0.0</td>\n",
       "      <td>4</td>\n",
       "      <td>0.089089</td>\n",
       "      <td>0</td>\n",
       "      <td>0</td>\n",
       "      <td>1</td>\n",
       "      <td>1484</td>\n",
       "    </tr>\n",
       "    <tr>\n",
       "      <th>2761</th>\n",
       "      <td>Prev</td>\n",
       "      <td>/careers/jobs/?offices%5B0%5D=Altoona%2C+IA&amp;of...</td>\n",
       "      <td>dict_keys(['role', 'class', 'href', 'id'])</td>\n",
       "      <td>dict_values(['button', ['_42ft', '_3nu9', '_3n...</td>\n",
       "      <td>{'role': 'button', 'class': ['_42ft', '_3nu9',...</td>\n",
       "      <td>/careers/jobs/?offices%5B</td>\n",
       "      <td>0.0</td>\n",
       "      <td>4</td>\n",
       "      <td>0.089089</td>\n",
       "      <td>0</td>\n",
       "      <td>0</td>\n",
       "      <td>1</td>\n",
       "      <td>1484</td>\n",
       "    </tr>\n",
       "    <tr>\n",
       "      <th>2762</th>\n",
       "      <td>Next</td>\n",
       "      <td>/careers/jobs/?offices%5B0%5D=Altoona%2C+IA&amp;of...</td>\n",
       "      <td>dict_keys(['role', 'class', 'href', 'id'])</td>\n",
       "      <td>dict_values(['button', ['_42ft', '_3nu9', '_3n...</td>\n",
       "      <td>{'role': 'button', 'class': ['_42ft', '_3nu9',...</td>\n",
       "      <td>/careers/jobs/?offices%5B</td>\n",
       "      <td>0.0</td>\n",
       "      <td>4</td>\n",
       "      <td>0.089089</td>\n",
       "      <td>0</td>\n",
       "      <td>0</td>\n",
       "      <td>1</td>\n",
       "      <td>1484</td>\n",
       "    </tr>\n",
       "    <tr>\n",
       "      <th>2968</th>\n",
       "      <td>Prev</td>\n",
       "      <td>/careers/jobs/?offices%5B0%5D=Altoona%2C+IA&amp;of...</td>\n",
       "      <td>dict_keys(['role', 'class', 'href', 'id'])</td>\n",
       "      <td>dict_values(['button', ['_42ft', '_3nu9', '_3n...</td>\n",
       "      <td>{'role': 'button', 'class': ['_42ft', '_3nu9',...</td>\n",
       "      <td>/careers/jobs/?offices%5B</td>\n",
       "      <td>0.0</td>\n",
       "      <td>4</td>\n",
       "      <td>0.089089</td>\n",
       "      <td>0</td>\n",
       "      <td>0</td>\n",
       "      <td>1</td>\n",
       "      <td>1484</td>\n",
       "    </tr>\n",
       "    <tr>\n",
       "      <th>2969</th>\n",
       "      <td>Next</td>\n",
       "      <td>/careers/jobs/?offices%5B0%5D=Altoona%2C+IA&amp;of...</td>\n",
       "      <td>dict_keys(['role', 'class', 'href', 'id'])</td>\n",
       "      <td>dict_values(['button', ['_42ft', '_3nu9', '_3n...</td>\n",
       "      <td>{'role': 'button', 'class': ['_42ft', '_3nu9',...</td>\n",
       "      <td>/careers/jobs/?offices%5B</td>\n",
       "      <td>0.0</td>\n",
       "      <td>4</td>\n",
       "      <td>0.089089</td>\n",
       "      <td>0</td>\n",
       "      <td>0</td>\n",
       "      <td>1</td>\n",
       "      <td>1484</td>\n",
       "    </tr>\n",
       "    <tr>\n",
       "      <th>3175</th>\n",
       "      <td>Prev</td>\n",
       "      <td>/careers/jobs/?offices%5B0%5D=Altoona%2C+IA&amp;of...</td>\n",
       "      <td>dict_keys(['role', 'class', 'href', 'id'])</td>\n",
       "      <td>dict_values(['button', ['_42ft', '_3nu9', '_3n...</td>\n",
       "      <td>{'role': 'button', 'class': ['_42ft', '_3nu9',...</td>\n",
       "      <td>/careers/jobs/?offices%5B</td>\n",
       "      <td>0.0</td>\n",
       "      <td>4</td>\n",
       "      <td>0.089089</td>\n",
       "      <td>0</td>\n",
       "      <td>0</td>\n",
       "      <td>1</td>\n",
       "      <td>1484</td>\n",
       "    </tr>\n",
       "    <tr>\n",
       "      <th>3176</th>\n",
       "      <td>Next</td>\n",
       "      <td>/careers/jobs/?offices%5B0%5D=Altoona%2C+IA&amp;of...</td>\n",
       "      <td>dict_keys(['role', 'class', 'href', 'id'])</td>\n",
       "      <td>dict_values(['button', ['_42ft', '_3nu9', '_3n...</td>\n",
       "      <td>{'role': 'button', 'class': ['_42ft', '_3nu9',...</td>\n",
       "      <td>/careers/jobs/?offices%5B</td>\n",
       "      <td>0.0</td>\n",
       "      <td>4</td>\n",
       "      <td>0.089089</td>\n",
       "      <td>0</td>\n",
       "      <td>0</td>\n",
       "      <td>1</td>\n",
       "      <td>1484</td>\n",
       "    </tr>\n",
       "    <tr>\n",
       "      <th>3382</th>\n",
       "      <td>Prev</td>\n",
       "      <td>/careers/jobs/?offices%5B0%5D=Altoona%2C+IA&amp;of...</td>\n",
       "      <td>dict_keys(['role', 'class', 'href', 'id'])</td>\n",
       "      <td>dict_values(['button', ['_42ft', '_3nu9', '_3n...</td>\n",
       "      <td>{'role': 'button', 'class': ['_42ft', '_3nu9',...</td>\n",
       "      <td>/careers/jobs/?offices%5B</td>\n",
       "      <td>0.0</td>\n",
       "      <td>4</td>\n",
       "      <td>0.089089</td>\n",
       "      <td>0</td>\n",
       "      <td>0</td>\n",
       "      <td>1</td>\n",
       "      <td>1484</td>\n",
       "    </tr>\n",
       "    <tr>\n",
       "      <th>3383</th>\n",
       "      <td>Next</td>\n",
       "      <td>/careers/jobs/?offices%5B0%5D=Altoona%2C+IA&amp;of...</td>\n",
       "      <td>dict_keys(['role', 'class', 'href', 'id'])</td>\n",
       "      <td>dict_values(['button', ['_42ft', '_3nu9', '_3n...</td>\n",
       "      <td>{'role': 'button', 'class': ['_42ft', '_3nu9',...</td>\n",
       "      <td>/careers/jobs/?offices%5B</td>\n",
       "      <td>0.0</td>\n",
       "      <td>4</td>\n",
       "      <td>0.089089</td>\n",
       "      <td>0</td>\n",
       "      <td>0</td>\n",
       "      <td>1</td>\n",
       "      <td>1484</td>\n",
       "    </tr>\n",
       "    <tr>\n",
       "      <th>3589</th>\n",
       "      <td>Prev</td>\n",
       "      <td>/careers/jobs/?offices%5B0%5D=Altoona%2C+IA&amp;of...</td>\n",
       "      <td>dict_keys(['role', 'class', 'href', 'id'])</td>\n",
       "      <td>dict_values(['button', ['_42ft', '_3nu9', '_3n...</td>\n",
       "      <td>{'role': 'button', 'class': ['_42ft', '_3nu9',...</td>\n",
       "      <td>/careers/jobs/?offices%5B</td>\n",
       "      <td>0.0</td>\n",
       "      <td>4</td>\n",
       "      <td>0.089089</td>\n",
       "      <td>0</td>\n",
       "      <td>0</td>\n",
       "      <td>1</td>\n",
       "      <td>1484</td>\n",
       "    </tr>\n",
       "    <tr>\n",
       "      <th>3590</th>\n",
       "      <td>Next</td>\n",
       "      <td>/careers/jobs/?offices%5B0%5D=Altoona%2C+IA&amp;of...</td>\n",
       "      <td>dict_keys(['role', 'class', 'href', 'id'])</td>\n",
       "      <td>dict_values(['button', ['_42ft', '_3nu9', '_3n...</td>\n",
       "      <td>{'role': 'button', 'class': ['_42ft', '_3nu9',...</td>\n",
       "      <td>/careers/jobs/?offices%5B</td>\n",
       "      <td>0.0</td>\n",
       "      <td>4</td>\n",
       "      <td>0.089089</td>\n",
       "      <td>0</td>\n",
       "      <td>0</td>\n",
       "      <td>1</td>\n",
       "      <td>1485</td>\n",
       "    </tr>\n",
       "    <tr>\n",
       "      <th>3796</th>\n",
       "      <td>Prev</td>\n",
       "      <td>/careers/jobs/?offices%5B0%5D=Altoona%2C+IA&amp;of...</td>\n",
       "      <td>dict_keys(['role', 'class', 'href', 'id'])</td>\n",
       "      <td>dict_values(['button', ['_42ft', '_3nu9', '_3n...</td>\n",
       "      <td>{'role': 'button', 'class': ['_42ft', '_3nu9',...</td>\n",
       "      <td>/careers/jobs/?offices%5B</td>\n",
       "      <td>0.0</td>\n",
       "      <td>4</td>\n",
       "      <td>0.089089</td>\n",
       "      <td>0</td>\n",
       "      <td>0</td>\n",
       "      <td>1</td>\n",
       "      <td>1484</td>\n",
       "    </tr>\n",
       "    <tr>\n",
       "      <th>3797</th>\n",
       "      <td>Next</td>\n",
       "      <td>/careers/jobs/?offices%5B0%5D=Altoona%2C+IA&amp;of...</td>\n",
       "      <td>dict_keys(['role', 'class', 'href', 'id'])</td>\n",
       "      <td>dict_values(['button', ['_42ft', '_3nu9', '_3n...</td>\n",
       "      <td>{'role': 'button', 'class': ['_42ft', '_3nu9',...</td>\n",
       "      <td>/careers/jobs/?offices%5B</td>\n",
       "      <td>0.0</td>\n",
       "      <td>4</td>\n",
       "      <td>0.089089</td>\n",
       "      <td>0</td>\n",
       "      <td>0</td>\n",
       "      <td>1</td>\n",
       "      <td>1485</td>\n",
       "    </tr>\n",
       "    <tr>\n",
       "      <th>4003</th>\n",
       "      <td>Prev</td>\n",
       "      <td>/careers/jobs/?offices%5B0%5D=Altoona%2C+IA&amp;of...</td>\n",
       "      <td>dict_keys(['role', 'class', 'href', 'id'])</td>\n",
       "      <td>dict_values(['button', ['_42ft', '_3nu9', '_3n...</td>\n",
       "      <td>{'role': 'button', 'class': ['_42ft', '_3nu9',...</td>\n",
       "      <td>/careers/jobs/?offices%5B</td>\n",
       "      <td>0.0</td>\n",
       "      <td>4</td>\n",
       "      <td>0.089089</td>\n",
       "      <td>0</td>\n",
       "      <td>0</td>\n",
       "      <td>1</td>\n",
       "      <td>1485</td>\n",
       "    </tr>\n",
       "    <tr>\n",
       "      <th>4004</th>\n",
       "      <td>Next</td>\n",
       "      <td>/careers/jobs/?offices%5B0%5D=Altoona%2C+IA&amp;of...</td>\n",
       "      <td>dict_keys(['role', 'class', 'href', 'id'])</td>\n",
       "      <td>dict_values(['button', ['_42ft', '_3nu9', '_3n...</td>\n",
       "      <td>{'role': 'button', 'class': ['_42ft', '_3nu9',...</td>\n",
       "      <td>/careers/jobs/?offices%5B</td>\n",
       "      <td>0.0</td>\n",
       "      <td>4</td>\n",
       "      <td>0.089089</td>\n",
       "      <td>0</td>\n",
       "      <td>0</td>\n",
       "      <td>1</td>\n",
       "      <td>1485</td>\n",
       "    </tr>\n",
       "    <tr>\n",
       "      <th>4210</th>\n",
       "      <td>Prev</td>\n",
       "      <td>/careers/jobs/?offices%5B0%5D=Altoona%2C+IA&amp;of...</td>\n",
       "      <td>dict_keys(['role', 'class', 'href', 'id'])</td>\n",
       "      <td>dict_values(['button', ['_42ft', '_3nu9', '_3n...</td>\n",
       "      <td>{'role': 'button', 'class': ['_42ft', '_3nu9',...</td>\n",
       "      <td>/careers/jobs/?offices%5B</td>\n",
       "      <td>0.0</td>\n",
       "      <td>4</td>\n",
       "      <td>0.089089</td>\n",
       "      <td>0</td>\n",
       "      <td>0</td>\n",
       "      <td>1</td>\n",
       "      <td>1485</td>\n",
       "    </tr>\n",
       "    <tr>\n",
       "      <th>4211</th>\n",
       "      <td>Next</td>\n",
       "      <td>/careers/jobs/?offices%5B0%5D=Altoona%2C+IA&amp;of...</td>\n",
       "      <td>dict_keys(['role', 'class', 'href', 'id'])</td>\n",
       "      <td>dict_values(['button', ['_42ft', '_3nu9', '_3n...</td>\n",
       "      <td>{'role': 'button', 'class': ['_42ft', '_3nu9',...</td>\n",
       "      <td>/careers/jobs/?offices%5B</td>\n",
       "      <td>0.0</td>\n",
       "      <td>4</td>\n",
       "      <td>0.089089</td>\n",
       "      <td>0</td>\n",
       "      <td>0</td>\n",
       "      <td>1</td>\n",
       "      <td>1485</td>\n",
       "    </tr>\n",
       "    <tr>\n",
       "      <th>4417</th>\n",
       "      <td>Prev</td>\n",
       "      <td>/careers/jobs/?offices%5B0%5D=Altoona%2C+IA&amp;of...</td>\n",
       "      <td>dict_keys(['role', 'class', 'href', 'id'])</td>\n",
       "      <td>dict_values(['button', ['_42ft', '_3nu9', '_3n...</td>\n",
       "      <td>{'role': 'button', 'class': ['_42ft', '_3nu9',...</td>\n",
       "      <td>/careers/jobs/?offices%5B</td>\n",
       "      <td>0.0</td>\n",
       "      <td>4</td>\n",
       "      <td>0.089089</td>\n",
       "      <td>0</td>\n",
       "      <td>0</td>\n",
       "      <td>1</td>\n",
       "      <td>1485</td>\n",
       "    </tr>\n",
       "    <tr>\n",
       "      <th>4418</th>\n",
       "      <td>Next</td>\n",
       "      <td>/careers/jobs/?offices%5B0%5D=Altoona%2C+IA&amp;of...</td>\n",
       "      <td>dict_keys(['role', 'class', 'href', 'id'])</td>\n",
       "      <td>dict_values(['button', ['_42ft', '_3nu9', '_3n...</td>\n",
       "      <td>{'role': 'button', 'class': ['_42ft', '_3nu9',...</td>\n",
       "      <td>/careers/jobs/?offices%5B</td>\n",
       "      <td>0.0</td>\n",
       "      <td>4</td>\n",
       "      <td>0.089089</td>\n",
       "      <td>0</td>\n",
       "      <td>0</td>\n",
       "      <td>1</td>\n",
       "      <td>1485</td>\n",
       "    </tr>\n",
       "  </tbody>\n",
       "</table>\n",
       "</div>"
      ],
      "text/plain": [
       "     aTagContent                                               href  \\\n",
       "1934        Next  /careers/jobs/?offices%5B0%5D=Altoona%2C+IA&of...   \n",
       "2140        Prev  /careers/jobs/?offices%5B0%5D=Altoona%2C+IA&of...   \n",
       "2141        Next  /careers/jobs/?offices%5B0%5D=Altoona%2C+IA&of...   \n",
       "2347        Prev  /careers/jobs/?offices%5B0%5D=Altoona%2C+IA&of...   \n",
       "2348        Next  /careers/jobs/?offices%5B0%5D=Altoona%2C+IA&of...   \n",
       "2554        Prev  /careers/jobs/?offices%5B0%5D=Altoona%2C+IA&of...   \n",
       "2555        Next  /careers/jobs/?offices%5B0%5D=Altoona%2C+IA&of...   \n",
       "2761        Prev  /careers/jobs/?offices%5B0%5D=Altoona%2C+IA&of...   \n",
       "2762        Next  /careers/jobs/?offices%5B0%5D=Altoona%2C+IA&of...   \n",
       "2968        Prev  /careers/jobs/?offices%5B0%5D=Altoona%2C+IA&of...   \n",
       "2969        Next  /careers/jobs/?offices%5B0%5D=Altoona%2C+IA&of...   \n",
       "3175        Prev  /careers/jobs/?offices%5B0%5D=Altoona%2C+IA&of...   \n",
       "3176        Next  /careers/jobs/?offices%5B0%5D=Altoona%2C+IA&of...   \n",
       "3382        Prev  /careers/jobs/?offices%5B0%5D=Altoona%2C+IA&of...   \n",
       "3383        Next  /careers/jobs/?offices%5B0%5D=Altoona%2C+IA&of...   \n",
       "3589        Prev  /careers/jobs/?offices%5B0%5D=Altoona%2C+IA&of...   \n",
       "3590        Next  /careers/jobs/?offices%5B0%5D=Altoona%2C+IA&of...   \n",
       "3796        Prev  /careers/jobs/?offices%5B0%5D=Altoona%2C+IA&of...   \n",
       "3797        Next  /careers/jobs/?offices%5B0%5D=Altoona%2C+IA&of...   \n",
       "4003        Prev  /careers/jobs/?offices%5B0%5D=Altoona%2C+IA&of...   \n",
       "4004        Next  /careers/jobs/?offices%5B0%5D=Altoona%2C+IA&of...   \n",
       "4210        Prev  /careers/jobs/?offices%5B0%5D=Altoona%2C+IA&of...   \n",
       "4211        Next  /careers/jobs/?offices%5B0%5D=Altoona%2C+IA&of...   \n",
       "4417        Prev  /careers/jobs/?offices%5B0%5D=Altoona%2C+IA&of...   \n",
       "4418        Next  /careers/jobs/?offices%5B0%5D=Altoona%2C+IA&of...   \n",
       "\n",
       "                                            keys  \\\n",
       "1934  dict_keys(['role', 'class', 'href', 'id'])   \n",
       "2140  dict_keys(['role', 'class', 'href', 'id'])   \n",
       "2141  dict_keys(['role', 'class', 'href', 'id'])   \n",
       "2347  dict_keys(['role', 'class', 'href', 'id'])   \n",
       "2348  dict_keys(['role', 'class', 'href', 'id'])   \n",
       "2554  dict_keys(['role', 'class', 'href', 'id'])   \n",
       "2555  dict_keys(['role', 'class', 'href', 'id'])   \n",
       "2761  dict_keys(['role', 'class', 'href', 'id'])   \n",
       "2762  dict_keys(['role', 'class', 'href', 'id'])   \n",
       "2968  dict_keys(['role', 'class', 'href', 'id'])   \n",
       "2969  dict_keys(['role', 'class', 'href', 'id'])   \n",
       "3175  dict_keys(['role', 'class', 'href', 'id'])   \n",
       "3176  dict_keys(['role', 'class', 'href', 'id'])   \n",
       "3382  dict_keys(['role', 'class', 'href', 'id'])   \n",
       "3383  dict_keys(['role', 'class', 'href', 'id'])   \n",
       "3589  dict_keys(['role', 'class', 'href', 'id'])   \n",
       "3590  dict_keys(['role', 'class', 'href', 'id'])   \n",
       "3796  dict_keys(['role', 'class', 'href', 'id'])   \n",
       "3797  dict_keys(['role', 'class', 'href', 'id'])   \n",
       "4003  dict_keys(['role', 'class', 'href', 'id'])   \n",
       "4004  dict_keys(['role', 'class', 'href', 'id'])   \n",
       "4210  dict_keys(['role', 'class', 'href', 'id'])   \n",
       "4211  dict_keys(['role', 'class', 'href', 'id'])   \n",
       "4417  dict_keys(['role', 'class', 'href', 'id'])   \n",
       "4418  dict_keys(['role', 'class', 'href', 'id'])   \n",
       "\n",
       "                                             attributes  \\\n",
       "1934  dict_values(['button', ['_42ft', '_3nu9', '_3n...   \n",
       "2140  dict_values(['button', ['_42ft', '_3nu9', '_3n...   \n",
       "2141  dict_values(['button', ['_42ft', '_3nu9', '_3n...   \n",
       "2347  dict_values(['button', ['_42ft', '_3nu9', '_3n...   \n",
       "2348  dict_values(['button', ['_42ft', '_3nu9', '_3n...   \n",
       "2554  dict_values(['button', ['_42ft', '_3nu9', '_3n...   \n",
       "2555  dict_values(['button', ['_42ft', '_3nu9', '_3n...   \n",
       "2761  dict_values(['button', ['_42ft', '_3nu9', '_3n...   \n",
       "2762  dict_values(['button', ['_42ft', '_3nu9', '_3n...   \n",
       "2968  dict_values(['button', ['_42ft', '_3nu9', '_3n...   \n",
       "2969  dict_values(['button', ['_42ft', '_3nu9', '_3n...   \n",
       "3175  dict_values(['button', ['_42ft', '_3nu9', '_3n...   \n",
       "3176  dict_values(['button', ['_42ft', '_3nu9', '_3n...   \n",
       "3382  dict_values(['button', ['_42ft', '_3nu9', '_3n...   \n",
       "3383  dict_values(['button', ['_42ft', '_3nu9', '_3n...   \n",
       "3589  dict_values(['button', ['_42ft', '_3nu9', '_3n...   \n",
       "3590  dict_values(['button', ['_42ft', '_3nu9', '_3n...   \n",
       "3796  dict_values(['button', ['_42ft', '_3nu9', '_3n...   \n",
       "3797  dict_values(['button', ['_42ft', '_3nu9', '_3n...   \n",
       "4003  dict_values(['button', ['_42ft', '_3nu9', '_3n...   \n",
       "4004  dict_values(['button', ['_42ft', '_3nu9', '_3n...   \n",
       "4210  dict_values(['button', ['_42ft', '_3nu9', '_3n...   \n",
       "4211  dict_values(['button', ['_42ft', '_3nu9', '_3n...   \n",
       "4417  dict_values(['button', ['_42ft', '_3nu9', '_3n...   \n",
       "4418  dict_values(['button', ['_42ft', '_3nu9', '_3n...   \n",
       "\n",
       "                                               key_attr  \\\n",
       "1934  {'role': 'button', 'class': ['_42ft', '_3nu9',...   \n",
       "2140  {'role': 'button', 'class': ['_42ft', '_3nu9',...   \n",
       "2141  {'role': 'button', 'class': ['_42ft', '_3nu9',...   \n",
       "2347  {'role': 'button', 'class': ['_42ft', '_3nu9',...   \n",
       "2348  {'role': 'button', 'class': ['_42ft', '_3nu9',...   \n",
       "2554  {'role': 'button', 'class': ['_42ft', '_3nu9',...   \n",
       "2555  {'role': 'button', 'class': ['_42ft', '_3nu9',...   \n",
       "2761  {'role': 'button', 'class': ['_42ft', '_3nu9',...   \n",
       "2762  {'role': 'button', 'class': ['_42ft', '_3nu9',...   \n",
       "2968  {'role': 'button', 'class': ['_42ft', '_3nu9',...   \n",
       "2969  {'role': 'button', 'class': ['_42ft', '_3nu9',...   \n",
       "3175  {'role': 'button', 'class': ['_42ft', '_3nu9',...   \n",
       "3176  {'role': 'button', 'class': ['_42ft', '_3nu9',...   \n",
       "3382  {'role': 'button', 'class': ['_42ft', '_3nu9',...   \n",
       "3383  {'role': 'button', 'class': ['_42ft', '_3nu9',...   \n",
       "3589  {'role': 'button', 'class': ['_42ft', '_3nu9',...   \n",
       "3590  {'role': 'button', 'class': ['_42ft', '_3nu9',...   \n",
       "3796  {'role': 'button', 'class': ['_42ft', '_3nu9',...   \n",
       "3797  {'role': 'button', 'class': ['_42ft', '_3nu9',...   \n",
       "4003  {'role': 'button', 'class': ['_42ft', '_3nu9',...   \n",
       "4004  {'role': 'button', 'class': ['_42ft', '_3nu9',...   \n",
       "4210  {'role': 'button', 'class': ['_42ft', '_3nu9',...   \n",
       "4211  {'role': 'button', 'class': ['_42ft', '_3nu9',...   \n",
       "4417  {'role': 'button', 'class': ['_42ft', '_3nu9',...   \n",
       "4418  {'role': 'button', 'class': ['_42ft', '_3nu9',...   \n",
       "\n",
       "                      trun_href  candidateMatch  len_aTagContent  \\\n",
       "1934  /careers/jobs/?offices%5B             0.0                4   \n",
       "2140  /careers/jobs/?offices%5B             0.0                4   \n",
       "2141  /careers/jobs/?offices%5B             0.0                4   \n",
       "2347  /careers/jobs/?offices%5B             0.0                4   \n",
       "2348  /careers/jobs/?offices%5B             0.0                4   \n",
       "2554  /careers/jobs/?offices%5B             0.0                4   \n",
       "2555  /careers/jobs/?offices%5B             0.0                4   \n",
       "2761  /careers/jobs/?offices%5B             0.0                4   \n",
       "2762  /careers/jobs/?offices%5B             0.0                4   \n",
       "2968  /careers/jobs/?offices%5B             0.0                4   \n",
       "2969  /careers/jobs/?offices%5B             0.0                4   \n",
       "3175  /careers/jobs/?offices%5B             0.0                4   \n",
       "3176  /careers/jobs/?offices%5B             0.0                4   \n",
       "3382  /careers/jobs/?offices%5B             0.0                4   \n",
       "3383  /careers/jobs/?offices%5B             0.0                4   \n",
       "3589  /careers/jobs/?offices%5B             0.0                4   \n",
       "3590  /careers/jobs/?offices%5B             0.0                4   \n",
       "3796  /careers/jobs/?offices%5B             0.0                4   \n",
       "3797  /careers/jobs/?offices%5B             0.0                4   \n",
       "4003  /careers/jobs/?offices%5B             0.0                4   \n",
       "4004  /careers/jobs/?offices%5B             0.0                4   \n",
       "4210  /careers/jobs/?offices%5B             0.0                4   \n",
       "4211  /careers/jobs/?offices%5B             0.0                4   \n",
       "4417  /careers/jobs/?offices%5B             0.0                4   \n",
       "4418  /careers/jobs/?offices%5B             0.0                4   \n",
       "\n",
       "      len_aTagContent_qt  len_aTagContent_group_between 60 and 175  \\\n",
       "1934            0.089089                                         0   \n",
       "2140            0.089089                                         0   \n",
       "2141            0.089089                                         0   \n",
       "2347            0.089089                                         0   \n",
       "2348            0.089089                                         0   \n",
       "2554            0.089089                                         0   \n",
       "2555            0.089089                                         0   \n",
       "2761            0.089089                                         0   \n",
       "2762            0.089089                                         0   \n",
       "2968            0.089089                                         0   \n",
       "2969            0.089089                                         0   \n",
       "3175            0.089089                                         0   \n",
       "3176            0.089089                                         0   \n",
       "3382            0.089089                                         0   \n",
       "3383            0.089089                                         0   \n",
       "3589            0.089089                                         0   \n",
       "3590            0.089089                                         0   \n",
       "3796            0.089089                                         0   \n",
       "3797            0.089089                                         0   \n",
       "4003            0.089089                                         0   \n",
       "4004            0.089089                                         0   \n",
       "4210            0.089089                                         0   \n",
       "4211            0.089089                                         0   \n",
       "4417            0.089089                                         0   \n",
       "4418            0.089089                                         0   \n",
       "\n",
       "      len_aTagContent_group_over 175  len_aTagContent_group_under 60  len_href  \n",
       "1934                               0                               1      1484  \n",
       "2140                               0                               1      1484  \n",
       "2141                               0                               1      1484  \n",
       "2347                               0                               1      1484  \n",
       "2348                               0                               1      1484  \n",
       "2554                               0                               1      1484  \n",
       "2555                               0                               1      1484  \n",
       "2761                               0                               1      1484  \n",
       "2762                               0                               1      1484  \n",
       "2968                               0                               1      1484  \n",
       "2969                               0                               1      1484  \n",
       "3175                               0                               1      1484  \n",
       "3176                               0                               1      1484  \n",
       "3382                               0                               1      1484  \n",
       "3383                               0                               1      1484  \n",
       "3589                               0                               1      1484  \n",
       "3590                               0                               1      1485  \n",
       "3796                               0                               1      1484  \n",
       "3797                               0                               1      1485  \n",
       "4003                               0                               1      1485  \n",
       "4004                               0                               1      1485  \n",
       "4210                               0                               1      1485  \n",
       "4211                               0                               1      1485  \n",
       "4417                               0                               1      1485  \n",
       "4418                               0                               1      1485  "
      ]
     },
     "execution_count": 98,
     "metadata": {},
     "output_type": "execute_result"
    }
   ],
   "source": [
    "# let's check this 1400 char long href\n",
    "print(len(df[df.len_href>1200].index))\n",
    "df[df.len_href>1200]"
   ]
  },
  {
   "cell_type": "code",
   "execution_count": 100,
   "metadata": {},
   "outputs": [
    {
     "data": {
      "text/plain": [
       "'/careers/jobs/?offices%5B0%5D=Altoona%2C+IA&offices%5B1%5D=Ashburn%2C+VA&offices%5B2%5D=Atlanta%2C+GA&offices%5B3%5D=Austin%2C+TX&offices%5B4%5D=Boston%2C+MA&offices%5B5%5D=Chicago%2C+IL&offices%5B6%5D=Dallas%2C+TX&offices%5B7%5D=DeKalb%2C+IL&offices%5B8%5D=Denver%2C+CO&offices%5B9%5D=Detroit%2C+MI&offices%5B10%5D=Eagle+Mountain%2C+Utah&offices%5B11%5D=Forest+City%2C+NC&offices%5B12%5D=Fort+Worth%2C+TX&offices%5B13%5D=Fremont%2C+CA&offices%5B14%5D=Gallatin%2C+TN&offices%5B15%5D=Henrico%2C+VA&offices%5B16%5D=Huntsville%2C+AL&offices%5B17%5D=Los+Angeles%2C+CA&offices%5B18%5D=Los+Lunas%2C+NM&offices%5B19%5D=Menlo+Park%2C+CA&offices%5B20%5D=Miami%2C+Florida&offices%5B21%5D=Montreal%2C+Canada&offices%5B22%5D=Mountain+View%2C+CA&offices%5B23%5D=New+Albany%2C+OH&offices%5B24%5D=New+York%2C+NY&offices%5B25%5D=Newton+County%2C+GA&offices%5B26%5D=Northridge%2C+CA&offices%5B27%5D=Papillion%2C+NE&offices%5B28%5D=Pittsburgh%2C+PA&offices%5B29%5D=Prineville%2C+OR&offices%5B30%5D=Redmond%2C+WA&offices%5B31%5D=Remote%2C+US+Eastern%2C+Mountain+%26+Central+Regions&offices%5B32%5D=Remote%2C+US+Western%2C+Mountain+%26+Central+Regions&offices%5B33%5D=Reston%2C+VA&offices%5B34%5D=San+Francisco%2C+CA&offices%5B35%5D=Santa+Clara%2C+CA&offices%5B36%5D=Sausalito%2C+CA&offices%5B37%5D=Seattle%2C+WA&offices%5B38%5D=Sunnyvale%2C+CA&offices%5B39%5D=Toronto%2C+Canada&offices%5B40%5D=Vancouver%2C+Canada&offices%5B41%5D=Washington%2C+DC&is_leadership=0&page=2&results_per_page=100&is_in_page=0'"
      ]
     },
     "execution_count": 100,
     "metadata": {},
     "output_type": "execute_result"
    }
   ],
   "source": [
    "df['href'][1934]"
   ]
  },
  {
   "cell_type": "code",
   "execution_count": 101,
   "metadata": {
    "scrolled": true
   },
   "outputs": [
    {
     "data": {
      "image/png": "[encoded data removed]",
      "text/plain": [
       "<Figure size 432x288 with 1 Axes>"
      ]
     },
     "metadata": {
      "needs_background": "light"
     },
     "output_type": "display_data"
    }
   ],
   "source": [
    "len_href_qt = qt.fit_transform(df.len_href.values.reshape(-1, 1))\n",
    "\n",
    "plt.hist(len_href_qt, 50,density=True, facecolor='g', alpha=0.75)\n",
    "plt.xlim(0, 1)\n",
    "plt.show()"
   ]
  },
  {
   "cell_type": "code",
   "execution_count": 102,
   "metadata": {},
   "outputs": [],
   "source": [
    "df['len_href_qt'] = len_href_qt"
   ]
  },
  {
   "cell_type": "code",
   "execution_count": 103,
   "metadata": {},
   "outputs": [
    {
     "data": {
      "text/plain": [
       "<Figure size 648x432 with 0 Axes>"
      ]
     },
     "metadata": {},
     "output_type": "display_data"
    },
    {
     "data": {
      "image/png": "[encoded data removed]",
      "text/plain": [
       "<Figure size 432x288 with 1 Axes>"
      ]
     },
     "metadata": {
      "needs_background": "light"
     },
     "output_type": "display_data"
    }
   ],
   "source": [
    "matches = df[['len_href','candidateMatch']].groupby('len_href').agg('mean')\n",
    "\n",
    "\n",
    "plt.figure(figsize=(9,6))\n",
    "matches.plot.line()\n",
    "plt.xlim(0, 300)\n",
    "plt.xticks(rotation=90)\n",
    "plt.xlabel(\"href lenght\")\n",
    "plt.ylabel(\"% of job links\")\n",
    "plt.title(\"job link per lenght of href\")\n",
    "plt.show()"
   ]
  },
  {
   "cell_type": "code",
   "execution_count": 111,
   "metadata": {},
   "outputs": [
    {
     "data": {
      "text/plain": [
       "Text(0.5, 1.0, 'Boxplot len_href_qt')"
      ]
     },
     "execution_count": 111,
     "metadata": {},
     "output_type": "execute_result"
    },
    {
     "data": {
      "image/png": "[encoded data removed]",
      "text/plain": [
       "<Figure size 1080x432 with 2 Axes>"
      ]
     },
     "metadata": {
      "needs_background": "light"
     },
     "output_type": "display_data"
    }
   ],
   "source": [
    "fig, axes = plt.subplots(1, 2, figsize=(15, 6))\n",
    "\n",
    "fig.suptitle('Distribution of job links by length of href:')\n",
    "\n",
    "sns.boxplot(ax=axes[0], x='candidateMatch', y='len_href', data=df).set_title('Boxplot - len_href')\n",
    "\n",
    "sns.boxplot(ax=axes[1], x='candidateMatch', y='len_href_qt', data=df).set_title('Boxplot len_href_qt')"
   ]
  },
  {
   "cell_type": "markdown",
   "metadata": {},
   "source": [
    "Although there is a lot of overlap between the two classes, job links have a slightly larger hrefs. Let's separate them by groups to test if the correlation increases."
   ]
  },
  {
   "cell_type": "code",
   "execution_count": 133,
   "metadata": {},
   "outputs": [
    {
     "data": {
      "image/png": "[encoded data removed]",
      "text/plain": [
       "<Figure size 432x288 with 1 Axes>"
      ]
     },
     "metadata": {
      "needs_background": "light"
     },
     "output_type": "display_data"
    }
   ],
   "source": [
    "df['len_href_group'] = np.where(df['len_href']<80,'under 80',\n",
    "                                np.where(df['len_href']<=125,'between 80 and 125',\n",
    "                                         'over 125'\n",
    "                                         )\n",
    "                                )\n",
    "\n",
    "# ploting the hist for len_href_group\n",
    "\n",
    "cat_num = df['len_href_group'].value_counts()\n",
    "\n",
    "ax = sns.barplot(x=cat_num.index,y=cat_num).set_title('Distribution of href len groups')\n",
    "\n",
    "\n",
    "df = pd.get_dummies(df,columns=['len_href_group'])"
   ]
  },
  {
   "cell_type": "markdown",
   "metadata": {},
   "source": [
    "# Keys"
   ]
  },
  {
   "cell_type": "code",
   "execution_count": 134,
   "metadata": {},
   "outputs": [
    {
     "data": {
      "text/plain": [
       "0    class data-ga-event data-ga-action data-trekki...\n",
       "1    href class data-ga-event data-ga-action data-t...\n",
       "2                                  href class itemprop\n",
       "3                                  href class itemprop\n",
       "4                                  href class itemprop\n",
       "Name: keys, dtype: object"
      ]
     },
     "execution_count": 134,
     "metadata": {},
     "output_type": "execute_result"
    }
   ],
   "source": [
    "df['keys'].head()"
   ]
  },
  {
   "cell_type": "markdown",
   "metadata": {},
   "source": [
    "1 - get rid of the dict characters - keep only keys (do not split 2 word keys).<br>\n",
    "2 - evaluate how many different keys we have. <br>\n",
    "3 - check keys that have a higher candidateMatch rate (over the avg of dataset). <br>\n",
    "4 - add a feature: number of keys.<br>"
   ]
  },
  {
   "cell_type": "code",
   "execution_count": 135,
   "metadata": {},
   "outputs": [
    {
     "data": {
      "text/plain": [
       "0    class data-ga-event data-ga-action data-trekki...\n",
       "1    href class data-ga-event data-ga-action data-t...\n",
       "2                                  href class itemprop\n",
       "3                                  href class itemprop\n",
       "4                                  href class itemprop\n",
       "Name: keys, dtype: object"
      ]
     },
     "execution_count": 135,
     "metadata": {},
     "output_type": "execute_result"
    }
   ],
   "source": [
    "# For 1, we are going to use apply with a function we have declared earlier.\n",
    "\n",
    "chars_to_remove = ['dict_keys','(',')','[',']',',',\"'\"]\n",
    "df['keys'] = df['keys'].apply(remove_char,list_of_chars=chars_to_remove)\n",
    "df['keys'].head()"
   ]
  },
  {
   "cell_type": "code",
   "execution_count": 136,
   "metadata": {
    "scrolled": true
   },
   "outputs": [
    {
     "data": {
      "text/plain": [
       "href          6510\n",
       "class         4444\n",
       "style         1346\n",
       "id            1275\n",
       "target         972\n",
       "title          717\n",
       "rel            413\n",
       "role           359\n",
       "hreflang       303\n",
       "aria-label     288\n",
       "dtype: int64"
      ]
     },
     "execution_count": 136,
     "metadata": {},
     "output_type": "execute_result"
    }
   ],
   "source": [
    "# checking the most frequent keys in the dataset.\n",
    "keys = df['keys'].str.split(expand=True).stack().value_counts()\n",
    "keys[:10]"
   ]
  },
  {
   "cell_type": "markdown",
   "metadata": {},
   "source": [
    "As expected, href will be present in every row, since we dropped the few lines that hadn't this value. Now we need to evaluate if there is a correlation between these keys and candidateMatch."
   ]
  },
  {
   "cell_type": "code",
   "execution_count": 137,
   "metadata": {},
   "outputs": [
    {
     "data": {
      "text/html": [
       "<div>\n",
       "<style scoped>\n",
       "    .dataframe tbody tr th:only-of-type {\n",
       "        vertical-align: middle;\n",
       "    }\n",
       "\n",
       "    .dataframe tbody tr th {\n",
       "        vertical-align: top;\n",
       "    }\n",
       "\n",
       "    .dataframe thead th {\n",
       "        text-align: right;\n",
       "    }\n",
       "</style>\n",
       "<table border=\"1\" class=\"dataframe\">\n",
       "  <thead>\n",
       "    <tr style=\"text-align: right;\">\n",
       "      <th></th>\n",
       "      <th>keys</th>\n",
       "      <th>perc_match</th>\n",
       "    </tr>\n",
       "  </thead>\n",
       "  <tbody>\n",
       "    <tr>\n",
       "      <th>48</th>\n",
       "      <td>data-ph-at-job-id-text</td>\n",
       "      <td>1.000000</td>\n",
       "    </tr>\n",
       "    <tr>\n",
       "      <th>25</th>\n",
       "      <td>\"</td>\n",
       "      <td>1.000000</td>\n",
       "    </tr>\n",
       "    <tr>\n",
       "      <th>36</th>\n",
       "      <td>data-ph-at-job-type-text</td>\n",
       "      <td>1.000000</td>\n",
       "    </tr>\n",
       "    <tr>\n",
       "      <th>37</th>\n",
       "      <td>ph-tag</td>\n",
       "      <td>1.000000</td>\n",
       "    </tr>\n",
       "    <tr>\n",
       "      <th>18</th>\n",
       "      <td>data-mapped</td>\n",
       "      <td>1.000000</td>\n",
       "    </tr>\n",
       "    <tr>\n",
       "      <th>38</th>\n",
       "      <td>data-ph-at-job-category-text</td>\n",
       "      <td>1.000000</td>\n",
       "    </tr>\n",
       "    <tr>\n",
       "      <th>39</th>\n",
       "      <td>data-access-list-item</td>\n",
       "      <td>1.000000</td>\n",
       "    </tr>\n",
       "    <tr>\n",
       "      <th>40</th>\n",
       "      <td>ph-tref</td>\n",
       "      <td>1.000000</td>\n",
       "    </tr>\n",
       "    <tr>\n",
       "      <th>41</th>\n",
       "      <td>href.bind</td>\n",
       "      <td>1.000000</td>\n",
       "    </tr>\n",
       "    <tr>\n",
       "      <th>43</th>\n",
       "      <td>data-ph-at-job-industry-text</td>\n",
       "      <td>1.000000</td>\n",
       "    </tr>\n",
       "    <tr>\n",
       "      <th>44</th>\n",
       "      <td>data-ph-at-job-location-area-text</td>\n",
       "      <td>1.000000</td>\n",
       "    </tr>\n",
       "    <tr>\n",
       "      <th>45</th>\n",
       "      <td>data-ph-at-job-title-text</td>\n",
       "      <td>1.000000</td>\n",
       "    </tr>\n",
       "    <tr>\n",
       "      <th>46</th>\n",
       "      <td>data-ph-at-job-location-text</td>\n",
       "      <td>1.000000</td>\n",
       "    </tr>\n",
       "    <tr>\n",
       "      <th>47</th>\n",
       "      <td>ph-click-ctx</td>\n",
       "      <td>1.000000</td>\n",
       "    </tr>\n",
       "    <tr>\n",
       "      <th>49</th>\n",
       "      <td>data-ph-at-job-seqno-text</td>\n",
       "      <td>1.000000</td>\n",
       "    </tr>\n",
       "    <tr>\n",
       "      <th>51</th>\n",
       "      <td>data-ph-at-job-post-date-text</td>\n",
       "      <td>1.000000</td>\n",
       "    </tr>\n",
       "    <tr>\n",
       "      <th>8</th>\n",
       "      <td>hreflang</td>\n",
       "      <td>0.973597</td>\n",
       "    </tr>\n",
       "    <tr>\n",
       "      <th>2</th>\n",
       "      <td>style</td>\n",
       "      <td>0.965825</td>\n",
       "    </tr>\n",
       "    <tr>\n",
       "      <th>30</th>\n",
       "      <td>lang</td>\n",
       "      <td>0.891239</td>\n",
       "    </tr>\n",
       "    <tr>\n",
       "      <th>54</th>\n",
       "      <td>data-tracking-control-name</td>\n",
       "      <td>0.533333</td>\n",
       "    </tr>\n",
       "  </tbody>\n",
       "</table>\n",
       "</div>"
      ],
      "text/plain": [
       "                                 keys  perc_match\n",
       "48             data-ph-at-job-id-text    1.000000\n",
       "25                                  \"    1.000000\n",
       "36           data-ph-at-job-type-text    1.000000\n",
       "37                             ph-tag    1.000000\n",
       "18                        data-mapped    1.000000\n",
       "38       data-ph-at-job-category-text    1.000000\n",
       "39              data-access-list-item    1.000000\n",
       "40                            ph-tref    1.000000\n",
       "41                          href.bind    1.000000\n",
       "43       data-ph-at-job-industry-text    1.000000\n",
       "44  data-ph-at-job-location-area-text    1.000000\n",
       "45          data-ph-at-job-title-text    1.000000\n",
       "46       data-ph-at-job-location-text    1.000000\n",
       "47                       ph-click-ctx    1.000000\n",
       "49          data-ph-at-job-seqno-text    1.000000\n",
       "51      data-ph-at-job-post-date-text    1.000000\n",
       "8                            hreflang    0.973597\n",
       "2                               style    0.965825\n",
       "30                               lang    0.891239\n",
       "54         data-tracking-control-name    0.533333"
      ]
     },
     "execution_count": 137,
     "metadata": {},
     "output_type": "execute_result"
    }
   ],
   "source": [
    "perc_match = []\n",
    "keys_check = []\n",
    "\n",
    "# For every key term, we will check keys in the dataset and calculate how often they are related to a job link.\n",
    "for key in keys.index:\n",
    "    positive = 0\n",
    "    frequency = 0\n",
    "    for i in range(len(df.index)):\n",
    "        \n",
    "        if key in df['keys'][i]:\n",
    "            frequency += 1            \n",
    "            if df['candidateMatch'][i]==1:\n",
    "                positive += 1\n",
    "    perc_match.append(positive/frequency)\n",
    "    keys_check.append(key)\n",
    "\n",
    "df_keys = pd.DataFrame(columns=['keys','perc_match','above_avg_match'])\n",
    "\n",
    "# Calculating the percentege of job links in the dataset\n",
    "candidateMatch_frequency = (df['candidateMatch'].sum() / len(df.index))\n",
    "\n",
    "df_keys['keys'] = keys_check\n",
    "df_keys['perc_match'] = perc_match\n",
    "\n",
    "# comparing the key frequency in job links vs the avg job link % in the dataset\n",
    "df_keys['above_avg_match'] = np.where(df_keys['perc_match']>candidateMatch_frequency,1,0)\n",
    "\n",
    "df_keys[['keys','perc_match']].sort_values(by='perc_match',ascending=False)[0:20]"
   ]
  },
  {
   "cell_type": "markdown",
   "metadata": {},
   "source": [
    "Let's check how these keys are distributed among companies."
   ]
  },
  {
   "cell_type": "code",
   "execution_count": 138,
   "metadata": {},
   "outputs": [
    {
     "data": {
      "text/plain": [
       "Facebook      1300\n",
       "scotiabank      16\n",
       "later            9\n",
       "opentext         6\n",
       "Oracle           6\n",
       "Name: company, dtype: int64"
      ]
     },
     "execution_count": 138,
     "metadata": {},
     "output_type": "execute_result"
    }
   ],
   "source": [
    "df_backup[df_backup['keys'].str.contains('style')]['company'].value_counts().head()"
   ]
  },
  {
   "cell_type": "code",
   "execution_count": 139,
   "metadata": {},
   "outputs": [
    {
     "data": {
      "text/plain": [
       "Okta    303\n",
       "Name: company, dtype: int64"
      ]
     },
     "execution_count": 139,
     "metadata": {},
     "output_type": "execute_result"
    }
   ],
   "source": [
    "df_backup[df_backup['keys'].str.contains('hreflang')]['company'].value_counts().head()"
   ]
  },
  {
   "cell_type": "markdown",
   "metadata": {},
   "source": [
    "The most relevant keys are associated with basically one company, so we should not add this as a feature. Instead, there is a chance the word 'job' will be relevant, since it has a great correlation."
   ]
  },
  {
   "cell_type": "code",
   "execution_count": 140,
   "metadata": {},
   "outputs": [
    {
     "data": {
      "text/plain": [
       "<matplotlib.axes._subplots.AxesSubplot at 0x1d7024d6d60>"
      ]
     },
     "execution_count": 140,
     "metadata": {},
     "output_type": "execute_result"
    },
    {
     "data": {
      "image/png": "[encoded data removed]",
      "text/plain": [
       "<Figure size 432x288 with 1 Axes>"
      ]
     },
     "metadata": {
      "needs_background": "light"
     },
     "output_type": "display_data"
    }
   ],
   "source": [
    "df['key_job_yn'] = np.where(df['keys'].str.contains('job'),1,0)\n",
    "\n",
    "df['key_job_yn'].hist()"
   ]
  },
  {
   "cell_type": "code",
   "execution_count": 125,
   "metadata": {},
   "outputs": [
    {
     "data": {
      "image/png": "[encoded data removed]",
      "text/plain": [
       "<Figure size 432x288 with 1 Axes>"
      ]
     },
     "metadata": {
      "needs_background": "light"
     },
     "output_type": "display_data"
    }
   ],
   "source": [
    "# ploting the hist for len_href_group\n",
    "\n",
    "cat_num = df[df['key_job_yn']==1]['candidateMatch'].value_counts()\n",
    "\n",
    "ax = sns.barplot(x=cat_num.index,y=cat_num).set_title('Keys with job term per classification')"
   ]
  },
  {
   "cell_type": "markdown",
   "metadata": {},
   "source": [
    "It is not present in many rows, but let's keep this column for now since it always indicates job links. We will handle it later."
   ]
  },
  {
   "cell_type": "markdown",
   "metadata": {},
   "source": [
    "We can also add a 'number of keys' feature"
   ]
  },
  {
   "cell_type": "code",
   "execution_count": 126,
   "metadata": {},
   "outputs": [
    {
     "data": {
      "text/plain": [
       "<matplotlib.axes._subplots.AxesSubplot at 0x1d7026c38b0>"
      ]
     },
     "execution_count": 126,
     "metadata": {},
     "output_type": "execute_result"
    },
    {
     "data": {
      "image/png": "[encoded data removed]",
      "text/plain": [
       "<Figure size 432x288 with 1 Axes>"
      ]
     },
     "metadata": {
      "needs_background": "light"
     },
     "output_type": "display_data"
    }
   ],
   "source": [
    "df['num_keys'] = df['keys'].apply(lambda x: len(x.split()))\n",
    "\n",
    "\n",
    "df['num_keys'].hist()"
   ]
  },
  {
   "cell_type": "code",
   "execution_count": 127,
   "metadata": {},
   "outputs": [
    {
     "data": {
      "image/png": "[encoded data removed]",
      "text/plain": [
       "<Figure size 432x288 with 1 Axes>"
      ]
     },
     "metadata": {
      "needs_background": "light"
     },
     "output_type": "display_data"
    }
   ],
   "source": [
    "num_keys_qt = qt.fit_transform(df.num_keys.values.reshape(-1, 1))\n",
    "\n",
    "df['num_keys_qt'] = len_href_qt\n",
    "\n",
    "plt.hist(num_keys_qt, 50,density=True, facecolor='g', alpha=0.75)\n",
    "plt.xlim(0, 1)\n",
    "plt.show()"
   ]
  },
  {
   "cell_type": "code",
   "execution_count": 128,
   "metadata": {},
   "outputs": [
    {
     "data": {
      "image/png": "[encoded data removed]",
      "text/plain": [
       "<Figure size 432x288 with 1 Axes>"
      ]
     },
     "metadata": {
      "needs_background": "light"
     },
     "output_type": "display_data"
    }
   ],
   "source": [
    "ax = sns.boxplot(x='candidateMatch', y='num_keys_qt', data=df).set_title('Boxplot - num_keys_qt')"
   ]
  },
  {
   "cell_type": "markdown",
   "metadata": {},
   "source": [
    "# Attributes"
   ]
  },
  {
   "cell_type": "code",
   "execution_count": 129,
   "metadata": {},
   "outputs": [
    {
     "data": {
      "text/plain": [
       "0    dict_values([['in-page-link', 'skip-to-main', ...\n",
       "1    dict_values(['/careers', ['marketing-nav__logo...\n",
       "2    dict_values(['/careers/culture', ['marketing-n...\n",
       "3    dict_values(['/careers/teams', ['marketing-nav...\n",
       "4    dict_values(['/careers/work-anywhere', ['marke...\n",
       "Name: attributes, dtype: object"
      ]
     },
     "execution_count": 129,
     "metadata": {},
     "output_type": "execute_result"
    }
   ],
   "source": [
    "df['attributes'].head()"
   ]
  },
  {
   "cell_type": "markdown",
   "metadata": {},
   "source": [
    "1 - The href is repeated in every single line, we should get rid of it.<br>\n",
    "2 - use a similar approach we used for keys.<br>"
   ]
  },
  {
   "cell_type": "code",
   "execution_count": 130,
   "metadata": {},
   "outputs": [
    {
     "data": {
      "text/plain": [
       "0    in-page-link skip-to-main visuallyhidden focus...\n",
       "1     marketing-nav__logo__shopify Main Nav Logo Ma...\n",
       "2     marketing-nav__item marketing-nav__item--prim...\n",
       "3     marketing-nav__item marketing-nav__item--prim...\n",
       "4     marketing-nav__item marketing-nav__item--prim...\n",
       "Name: attributes, dtype: object"
      ]
     },
     "execution_count": 130,
     "metadata": {},
     "output_type": "execute_result"
    }
   ],
   "source": [
    "# using a custom function to remove the href from the attributes\n",
    "df['attributes'] = df[['attributes','href']].apply(extract_href,axis=1)\n",
    "\n",
    "# expliciting the characters we want to remove at this point (we don't want to break single attr in different words yet)\n",
    "chars_to_remove = ['dict_values','(',')','[',']',',',\"'\"]\n",
    "\n",
    "# removing thee special chras using a custom function\n",
    "df['attributes'] = df['attributes'].apply(remove_char,list_of_chars=chars_to_remove)\n",
    "\n",
    "df['attributes'].head()"
   ]
  },
  {
   "cell_type": "code",
   "execution_count": 131,
   "metadata": {},
   "outputs": [
    {
     "data": {
      "text/plain": [
       "1618"
      ]
     },
     "execution_count": 131,
     "metadata": {},
     "output_type": "execute_result"
    }
   ],
   "source": [
    "attrs = df['attributes'].str.split(expand=True).stack().value_counts()\n",
    "len(attrs)"
   ]
  },
  {
   "cell_type": "code",
   "execution_count": 141,
   "metadata": {
    "scrolled": false
   },
   "outputs": [
    {
     "data": {
      "text/html": [
       "<div>\n",
       "<style scoped>\n",
       "    .dataframe tbody tr th:only-of-type {\n",
       "        vertical-align: middle;\n",
       "    }\n",
       "\n",
       "    .dataframe tbody tr th {\n",
       "        vertical-align: top;\n",
       "    }\n",
       "\n",
       "    .dataframe thead th {\n",
       "        text-align: right;\n",
       "    }\n",
       "</style>\n",
       "<table border=\"1\" class=\"dataframe\">\n",
       "  <thead>\n",
       "    <tr style=\"text-align: right;\">\n",
       "      <th></th>\n",
       "      <th>attrs</th>\n",
       "      <th>perc_match</th>\n",
       "    </tr>\n",
       "  </thead>\n",
       "  <tbody>\n",
       "    <tr>\n",
       "      <th>0</th>\n",
       "      <td>_8sef</td>\n",
       "      <td>1.000000</td>\n",
       "    </tr>\n",
       "    <tr>\n",
       "      <th>90</th>\n",
       "      <td>eachJob.jobUrl\"</td>\n",
       "      <td>1.000000</td>\n",
       "    </tr>\n",
       "    <tr>\n",
       "      <th>1</th>\n",
       "      <td>text-decoration:none;</td>\n",
       "      <td>1.000000</td>\n",
       "    </tr>\n",
       "    <tr>\n",
       "      <th>29</th>\n",
       "      <td>posting:</td>\n",
       "      <td>1.000000</td>\n",
       "    </tr>\n",
       "    <tr>\n",
       "      <th>28</th>\n",
       "      <td>color-cyan-70</td>\n",
       "      <td>1.000000</td>\n",
       "    </tr>\n",
       "    <tr>\n",
       "      <th>19</th>\n",
       "      <td>posting-title</td>\n",
       "      <td>1.000000</td>\n",
       "    </tr>\n",
       "    <tr>\n",
       "      <th>15</th>\n",
       "      <td>lever-job-title</td>\n",
       "      <td>1.000000</td>\n",
       "    </tr>\n",
       "    <tr>\n",
       "      <th>89</th>\n",
       "      <td>\"getUrllinkEle</td>\n",
       "      <td>1.000000</td>\n",
       "    </tr>\n",
       "    <tr>\n",
       "      <th>35</th>\n",
       "      <td>job-title</td>\n",
       "      <td>1.000000</td>\n",
       "    </tr>\n",
       "    <tr>\n",
       "      <th>94</th>\n",
       "      <td>eachJob</td>\n",
       "      <td>1.000000</td>\n",
       "    </tr>\n",
       "    <tr>\n",
       "      <th>96</th>\n",
       "      <td>job_click</td>\n",
       "      <td>1.000000</td>\n",
       "    </tr>\n",
       "    <tr>\n",
       "      <th>4</th>\n",
       "      <td>jobTitle-link</td>\n",
       "      <td>0.888889</td>\n",
       "    </tr>\n",
       "    <tr>\n",
       "      <th>82</th>\n",
       "      <td>linkEle</td>\n",
       "      <td>0.833333</td>\n",
       "    </tr>\n",
       "    <tr>\n",
       "      <th>70</th>\n",
       "      <td>Engineer</td>\n",
       "      <td>0.789474</td>\n",
       "    </tr>\n",
       "    <tr>\n",
       "      <th>27</th>\n",
       "      <td>view</td>\n",
       "      <td>0.773196</td>\n",
       "    </tr>\n",
       "    <tr>\n",
       "      <th>16</th>\n",
       "      <td>job</td>\n",
       "      <td>0.739651</td>\n",
       "    </tr>\n",
       "    <tr>\n",
       "      <th>72</th>\n",
       "      <td>8</td>\n",
       "      <td>0.670391</td>\n",
       "    </tr>\n",
       "    <tr>\n",
       "      <th>59</th>\n",
       "      <td>-</td>\n",
       "      <td>0.634409</td>\n",
       "    </tr>\n",
       "    <tr>\n",
       "      <th>75</th>\n",
       "      <td>Sales</td>\n",
       "      <td>0.615385</td>\n",
       "    </tr>\n",
       "    <tr>\n",
       "      <th>10</th>\n",
       "      <td>link</td>\n",
       "      <td>0.465302</td>\n",
       "    </tr>\n",
       "  </tbody>\n",
       "</table>\n",
       "</div>"
      ],
      "text/plain": [
       "                    attrs  perc_match\n",
       "0                   _8sef    1.000000\n",
       "90        eachJob.jobUrl\"    1.000000\n",
       "1   text-decoration:none;    1.000000\n",
       "29               posting:    1.000000\n",
       "28          color-cyan-70    1.000000\n",
       "19          posting-title    1.000000\n",
       "15        lever-job-title    1.000000\n",
       "89         \"getUrllinkEle    1.000000\n",
       "35              job-title    1.000000\n",
       "94                eachJob    1.000000\n",
       "96              job_click    1.000000\n",
       "4           jobTitle-link    0.888889\n",
       "82                linkEle    0.833333\n",
       "70               Engineer    0.789474\n",
       "27                   view    0.773196\n",
       "16                    job    0.739651\n",
       "72                      8    0.670391\n",
       "59                      -    0.634409\n",
       "75                  Sales    0.615385\n",
       "10                   link    0.465302"
      ]
     },
     "execution_count": 141,
     "metadata": {},
     "output_type": "execute_result"
    }
   ],
   "source": [
    "# Since we have too many attrs, let's only check the relevance of the top 100 more frequent\n",
    "\n",
    "attrs = df['attributes'].str.split(expand=True).stack().value_counts()[:100]\n",
    "\n",
    "perc_match = []\n",
    "attrs_check = []\n",
    "\n",
    "for attr in attrs.index:\n",
    "    positive = 0\n",
    "    frequency = 0\n",
    "    for i in range(len(df.index)):\n",
    "        \n",
    "        if attr in df['attributes'][i]:\n",
    "            frequency += 1            \n",
    "            if df['candidateMatch'][i]==1:\n",
    "                positive += 1\n",
    "    perc_match.append(positive/frequency)\n",
    "    attrs_check.append(attr)\n",
    "\n",
    "df_attrs = pd.DataFrame(columns=['attrs','perc_match','above_avg_match'])\n",
    "\n",
    "candidateMatch_frequency = (df['candidateMatch'].sum() / len(df.index))\n",
    "\n",
    "df_attrs['attrs'] = attrs_check\n",
    "df_attrs['perc_match'] = perc_match\n",
    "df_attrs['above_avg_match'] = np.where(df_attrs['perc_match']>candidateMatch_frequency,1,0)\n",
    "\n",
    "df_attrs[['attrs','perc_match']].sort_values(by='perc_match',ascending=False)[0:20]"
   ]
  },
  {
   "cell_type": "markdown",
   "metadata": {},
   "source": [
    "Again, let's check how these attributes are distributed among companies."
   ]
  },
  {
   "cell_type": "code",
   "execution_count": 142,
   "metadata": {},
   "outputs": [
    {
     "data": {
      "text/plain": [
       "scotiabank    400\n",
       "opentext       50\n",
       "Name: company, dtype: int64"
      ]
     },
     "execution_count": 142,
     "metadata": {},
     "output_type": "execute_result"
    }
   ],
   "source": [
    "df_backup[df_backup['attributes'].str.contains('jobTitle-link')]['company'].value_counts()"
   ]
  },
  {
   "cell_type": "code",
   "execution_count": 143,
   "metadata": {},
   "outputs": [
    {
     "data": {
      "text/plain": [
       "yelp         12\n",
       "Snowflake    12\n",
       "Name: company, dtype: int64"
      ]
     },
     "execution_count": 143,
     "metadata": {},
     "output_type": "execute_result"
    }
   ],
   "source": [
    "df_backup[df_backup['attributes'].str.contains('linkEle')]['company'].value_counts()"
   ]
  },
  {
   "cell_type": "markdown",
   "metadata": {},
   "source": [
    "Again, there is a high chance of overfiting the model, let's add a \"job\" feature instead."
   ]
  },
  {
   "cell_type": "code",
   "execution_count": 144,
   "metadata": {},
   "outputs": [
    {
     "data": {
      "text/plain": [
       "<matplotlib.axes._subplots.AxesSubplot at 0x1d702b12dc0>"
      ]
     },
     "execution_count": 144,
     "metadata": {},
     "output_type": "execute_result"
    },
    {
     "data": {
      "image/png": "[encoded data removed]",
      "text/plain": [
       "<Figure size 432x288 with 1 Axes>"
      ]
     },
     "metadata": {
      "needs_background": "light"
     },
     "output_type": "display_data"
    }
   ],
   "source": [
    "df['attr_job_yn'] = np.where(df['attributes'].str.contains('Job|job'),1,0)\n",
    "\n",
    "df['attr_job_yn'].hist()"
   ]
  },
  {
   "cell_type": "code",
   "execution_count": 146,
   "metadata": {},
   "outputs": [
    {
     "data": {
      "text/plain": [
       "scotiabank        424\n",
       "glu               156\n",
       "shopify            76\n",
       "opentext           56\n",
       "loblawdigital      47\n",
       "Ernest & young     35\n",
       "Oracle             27\n",
       "Snowflake          23\n",
       "loopio             19\n",
       "later              14\n",
       "Facebook           13\n",
       "yelp               11\n",
       "remine              8\n",
       "sensibill           8\n",
       "mavencare           1\n",
       "Name: company, dtype: int64"
      ]
     },
     "execution_count": 146,
     "metadata": {},
     "output_type": "execute_result"
    }
   ],
   "source": [
    "df_backup[df['attributes'].str.contains('job')]['company'].value_counts()"
   ]
  },
  {
   "cell_type": "markdown",
   "metadata": {},
   "source": [
    "# key_attr"
   ]
  },
  {
   "cell_type": "markdown",
   "metadata": {},
   "source": [
    "This column will be a copy of the previous two. Since we are focusing in simplicity here, we will not check the relevance between key and attr."
   ]
  },
  {
   "cell_type": "code",
   "execution_count": 49,
   "metadata": {},
   "outputs": [],
   "source": [
    "df = df.drop('key_attr',axis='columns')"
   ]
  },
  {
   "cell_type": "markdown",
   "metadata": {},
   "source": [
    "# trun_href"
   ]
  },
  {
   "cell_type": "markdown",
   "metadata": {},
   "source": [
    "This is a \"incomplete\" version of href."
   ]
  },
  {
   "cell_type": "code",
   "execution_count": 50,
   "metadata": {},
   "outputs": [],
   "source": [
    "df = df.drop('trun_href',axis='columns')"
   ]
  },
  {
   "cell_type": "markdown",
   "metadata": {},
   "source": [
    "# Advanced feature engineering"
   ]
  },
  {
   "cell_type": "markdown",
   "metadata": {},
   "source": [
    "We have two goals here <br> \n",
    "1 - Evaluate the correlation and relevance of the features we have. <br>\n",
    "2 - Create a tolkenizer to extract the maximum value of text based features."
   ]
  },
  {
   "cell_type": "code",
   "execution_count": 51,
   "metadata": {},
   "outputs": [],
   "source": [
    "# removing the remaining special characteres that were kept to avoid breaking keys and attrs\n",
    "\n",
    "df['aTagContent'] = df['aTagContent'].apply(specialCharCleaner)\n",
    "df['href'] = df['href'].apply(specialCharCleaner)\n",
    "df['keys'] = df['keys'].apply(specialCharCleaner)\n",
    "df['attributes'] = df['attributes'].apply(specialCharCleaner)"
   ]
  },
  {
   "cell_type": "code",
   "execution_count": 52,
   "metadata": {},
   "outputs": [
    {
     "data": {
      "image/png": "[encoded data removed]",
      "text/plain": [
       "<Figure size 432x288 with 2 Axes>"
      ]
     },
     "metadata": {
      "needs_background": "light"
     },
     "output_type": "display_data"
    }
   ],
   "source": [
    "heat_map(df[['candidateMatch',\n",
    "       'len_aTagContent_qt', 'len_aTagContent_group_between 60 and 175',\n",
    "       'len_aTagContent_group_over 175', 'len_aTagContent_group_under 60',\n",
    "       'len_href_qt', 'len_href_group_between 80 and 125',\n",
    "       'len_href_group_over 125', 'len_href_group_under 80', 'key_job_yn',\n",
    "       'num_keys_qt', 'attr_job_yn']])"
   ]
  },
  {
   "cell_type": "markdown",
   "metadata": {},
   "source": [
    "Although we already have a good POV of the most relevant features, let's try a different approach. We are going to create a random feature, run a simple model and check which features can be discarted."
   ]
  },
  {
   "cell_type": "code",
   "execution_count": 66,
   "metadata": {},
   "outputs": [
    {
     "name": "stdout",
     "output_type": "stream",
     "text": [
      "Accuracy Score:   0.9523809523809523\n",
      "                                     feature  importance\n",
      "0                         len_aTagContent_qt    0.459708\n",
      "1   len_aTagContent_group_between 60 and 175    0.143057\n",
      "9                                num_keys_qt    0.126835\n",
      "3             len_aTagContent_group_under 60    0.105356\n",
      "4                                len_href_qt    0.095086\n",
      "10                               attr_job_yn    0.034381\n",
      "11                            random_feature    0.013053\n",
      "6                    len_href_group_over 125    0.010891\n",
      "5          len_href_group_between 80 and 125    0.006533\n",
      "7                    len_href_group_under 80    0.004098\n",
      "2             len_aTagContent_group_over 175    0.000550\n",
      "8                                 key_job_yn    0.000451\n"
     ]
    }
   ],
   "source": [
    "np.random.seed(42)\n",
    "\n",
    "# Creating a column with random values\n",
    "df['random_feature'] = np.random.rand(len(df.index))\n",
    "\n",
    "y = df['candidateMatch']\n",
    "X = df[['len_aTagContent_qt', 'len_aTagContent_group_between 60 and 175',\n",
    "       'len_aTagContent_group_over 175', 'len_aTagContent_group_under 60',\n",
    "       'len_href_qt', 'len_href_group_between 80 and 125',\n",
    "       'len_href_group_over 125', 'len_href_group_under 80', 'key_job_yn',\n",
    "       'num_keys_qt', 'attr_job_yn', 'random_feature']]\n",
    "\n",
    "\n",
    "# We are going to use the random forest to take advantage of the feature importances.\n",
    "rfc = RandomForestClassifier(max_depth=8,n_estimators=100)\n",
    "\n",
    "X_train, X_test, y_train, y_test = train_test_split(X, y, test_size=0.3, random_state=42)\n",
    "\n",
    "rfc.fit(X_train,y_train)\n",
    "\n",
    "prediction = rfc.predict(X_test)\n",
    "\n",
    "print('Accuracy Score:  ', accuracy_score(prediction,y_test))\n",
    "\n",
    "importances = rfc.feature_importances_\n",
    "\n",
    "df_importances = pd.DataFrame({'feature':X.columns, 'importance':importances})\n",
    "\n",
    "print(df_importances.sort_values(by='importance',ascending=False))"
   ]
  },
  {
   "cell_type": "markdown",
   "metadata": {},
   "source": [
    "First, we got a really good accuracy, even before creating more advanced features or tunning the hyperparameters. Second, there are clearly some features adding no value to the model, since their importance was lower than the random feature we created, let's drop them."
   ]
  },
  {
   "cell_type": "code",
   "execution_count": null,
   "metadata": {},
   "outputs": [],
   "source": [
    "drop_features = []\n",
    "\n",
    "for i in range(len(df_importances.index)):\n",
    "    if df_importances['importance'][i] <= df_importances['importance'][11]:\n",
    "        drop_features.append(df_importances['feature'][i])\n",
    "\n",
    "df = df.drop(drop_features,axis='columns')"
   ]
  },
  {
   "cell_type": "code",
   "execution_count": 53,
   "metadata": {},
   "outputs": [
    {
     "data": {
      "text/html": [
       "<div>\n",
       "<style scoped>\n",
       "    .dataframe tbody tr th:only-of-type {\n",
       "        vertical-align: middle;\n",
       "    }\n",
       "\n",
       "    .dataframe tbody tr th {\n",
       "        vertical-align: top;\n",
       "    }\n",
       "\n",
       "    .dataframe thead th {\n",
       "        text-align: right;\n",
       "    }\n",
       "</style>\n",
       "<table border=\"1\" class=\"dataframe\">\n",
       "  <thead>\n",
       "    <tr style=\"text-align: right;\">\n",
       "      <th></th>\n",
       "      <th>aTagContent</th>\n",
       "      <th>href</th>\n",
       "      <th>keys</th>\n",
       "      <th>attributes</th>\n",
       "      <th>candidateMatch</th>\n",
       "      <th>len_aTagContent</th>\n",
       "      <th>len_aTagContent_qt</th>\n",
       "      <th>len_aTagContent_group_between 60 and 175</th>\n",
       "      <th>len_aTagContent_group_over 175</th>\n",
       "      <th>len_aTagContent_group_under 60</th>\n",
       "      <th>len_href</th>\n",
       "      <th>len_href_qt</th>\n",
       "      <th>len_href_group_between 80 and 125</th>\n",
       "      <th>len_href_group_over 125</th>\n",
       "      <th>len_href_group_under 80</th>\n",
       "      <th>key_job_yn</th>\n",
       "      <th>num_keys</th>\n",
       "      <th>num_keys_qt</th>\n",
       "      <th>attr_job_yn</th>\n",
       "    </tr>\n",
       "  </thead>\n",
       "  <tbody>\n",
       "    <tr>\n",
       "      <th>0</th>\n",
       "      <td>Skip to Content</td>\n",
       "      <td>Main</td>\n",
       "      <td>class data ga event data ga action data trekki...</td>\n",
       "      <td>in page link skip to main visuallyhidden focus...</td>\n",
       "      <td>0.0</td>\n",
       "      <td>15</td>\n",
       "      <td>0.376376</td>\n",
       "      <td>0</td>\n",
       "      <td>0</td>\n",
       "      <td>1</td>\n",
       "      <td>5</td>\n",
       "      <td>0.063564</td>\n",
       "      <td>0</td>\n",
       "      <td>0</td>\n",
       "      <td>1</td>\n",
       "      <td>0</td>\n",
       "      <td>7</td>\n",
       "      <td>0.063564</td>\n",
       "      <td>0</td>\n",
       "    </tr>\n",
       "    <tr>\n",
       "      <th>1</th>\n",
       "      <td>Shopify Careers</td>\n",
       "      <td>careers</td>\n",
       "      <td>href class data ga event data ga action data t...</td>\n",
       "      <td>marketing nav logo shopify Main Nav Logo Main...</td>\n",
       "      <td>0.0</td>\n",
       "      <td>19</td>\n",
       "      <td>0.446947</td>\n",
       "      <td>0</td>\n",
       "      <td>0</td>\n",
       "      <td>1</td>\n",
       "      <td>8</td>\n",
       "      <td>0.077578</td>\n",
       "      <td>0</td>\n",
       "      <td>0</td>\n",
       "      <td>1</td>\n",
       "      <td>0</td>\n",
       "      <td>7</td>\n",
       "      <td>0.077578</td>\n",
       "      <td>0</td>\n",
       "    </tr>\n",
       "    <tr>\n",
       "      <th>2</th>\n",
       "      <td>Life at Shopify</td>\n",
       "      <td>careers culture</td>\n",
       "      <td>href class itemprop</td>\n",
       "      <td>marketing nav item marketing nav item primary...</td>\n",
       "      <td>0.0</td>\n",
       "      <td>15</td>\n",
       "      <td>0.376376</td>\n",
       "      <td>0</td>\n",
       "      <td>0</td>\n",
       "      <td>1</td>\n",
       "      <td>16</td>\n",
       "      <td>0.138639</td>\n",
       "      <td>0</td>\n",
       "      <td>0</td>\n",
       "      <td>1</td>\n",
       "      <td>0</td>\n",
       "      <td>3</td>\n",
       "      <td>0.138639</td>\n",
       "      <td>0</td>\n",
       "    </tr>\n",
       "    <tr>\n",
       "      <th>3</th>\n",
       "      <td>Teams</td>\n",
       "      <td>careers teams</td>\n",
       "      <td>href class itemprop</td>\n",
       "      <td>marketing nav item marketing nav item primary...</td>\n",
       "      <td>0.0</td>\n",
       "      <td>5</td>\n",
       "      <td>0.117618</td>\n",
       "      <td>0</td>\n",
       "      <td>0</td>\n",
       "      <td>1</td>\n",
       "      <td>14</td>\n",
       "      <td>0.125125</td>\n",
       "      <td>0</td>\n",
       "      <td>0</td>\n",
       "      <td>1</td>\n",
       "      <td>0</td>\n",
       "      <td>3</td>\n",
       "      <td>0.125125</td>\n",
       "      <td>0</td>\n",
       "    </tr>\n",
       "    <tr>\n",
       "      <th>4</th>\n",
       "      <td>Work anywhere</td>\n",
       "      <td>careers work anywhere</td>\n",
       "      <td>href class itemprop</td>\n",
       "      <td>marketing nav item marketing nav item primary...</td>\n",
       "      <td>0.0</td>\n",
       "      <td>13</td>\n",
       "      <td>0.334835</td>\n",
       "      <td>0</td>\n",
       "      <td>0</td>\n",
       "      <td>1</td>\n",
       "      <td>22</td>\n",
       "      <td>0.174174</td>\n",
       "      <td>0</td>\n",
       "      <td>0</td>\n",
       "      <td>1</td>\n",
       "      <td>0</td>\n",
       "      <td>3</td>\n",
       "      <td>0.174174</td>\n",
       "      <td>0</td>\n",
       "    </tr>\n",
       "  </tbody>\n",
       "</table>\n",
       "</div>"
      ],
      "text/plain": [
       "          aTagContent                    href  \\\n",
       "0     Skip to Content                    Main   \n",
       "1   Shopify Careers                   careers   \n",
       "2     Life at Shopify         careers culture   \n",
       "3               Teams           careers teams   \n",
       "4       Work anywhere   careers work anywhere   \n",
       "\n",
       "                                                keys  \\\n",
       "0  class data ga event data ga action data trekki...   \n",
       "1  href class data ga event data ga action data t...   \n",
       "2                                href class itemprop   \n",
       "3                                href class itemprop   \n",
       "4                                href class itemprop   \n",
       "\n",
       "                                          attributes  candidateMatch  \\\n",
       "0  in page link skip to main visuallyhidden focus...             0.0   \n",
       "1   marketing nav logo shopify Main Nav Logo Main...             0.0   \n",
       "2   marketing nav item marketing nav item primary...             0.0   \n",
       "3   marketing nav item marketing nav item primary...             0.0   \n",
       "4   marketing nav item marketing nav item primary...             0.0   \n",
       "\n",
       "   len_aTagContent  len_aTagContent_qt  \\\n",
       "0               15            0.376376   \n",
       "1               19            0.446947   \n",
       "2               15            0.376376   \n",
       "3                5            0.117618   \n",
       "4               13            0.334835   \n",
       "\n",
       "   len_aTagContent_group_between 60 and 175  len_aTagContent_group_over 175  \\\n",
       "0                                         0                               0   \n",
       "1                                         0                               0   \n",
       "2                                         0                               0   \n",
       "3                                         0                               0   \n",
       "4                                         0                               0   \n",
       "\n",
       "   len_aTagContent_group_under 60  len_href  len_href_qt  \\\n",
       "0                               1         5     0.063564   \n",
       "1                               1         8     0.077578   \n",
       "2                               1        16     0.138639   \n",
       "3                               1        14     0.125125   \n",
       "4                               1        22     0.174174   \n",
       "\n",
       "   len_href_group_between 80 and 125  len_href_group_over 125  \\\n",
       "0                                  0                        0   \n",
       "1                                  0                        0   \n",
       "2                                  0                        0   \n",
       "3                                  0                        0   \n",
       "4                                  0                        0   \n",
       "\n",
       "   len_href_group_under 80  key_job_yn  num_keys  num_keys_qt  attr_job_yn  \n",
       "0                        1           0         7     0.063564            0  \n",
       "1                        1           0         7     0.077578            0  \n",
       "2                        1           0         3     0.138639            0  \n",
       "3                        1           0         3     0.125125            0  \n",
       "4                        1           0         3     0.174174            0  "
      ]
     },
     "execution_count": 53,
     "metadata": {},
     "output_type": "execute_result"
    }
   ],
   "source": [
    "df.head()"
   ]
  },
  {
   "cell_type": "markdown",
   "metadata": {},
   "source": [
    "We still need to handle the first 4 columns, which are categorical. Let's put them all together so we can <b>create tolkens</b>."
   ]
  },
  {
   "cell_type": "code",
   "execution_count": 54,
   "metadata": {},
   "outputs": [],
   "source": [
    "# using a custom function to concat all the relevant columns\n",
    "df['all_text'] = df[['aTagContent', 'href', 'keys', 'attributes']].apply(connect_columns,axis=1)"
   ]
  },
  {
   "cell_type": "code",
   "execution_count": 55,
   "metadata": {},
   "outputs": [
    {
     "name": "stdout",
     "output_type": "stream",
     "text": [
      "Empty DataFrame\n",
      "Columns: [all_text, aTagContent, href, keys, attributes]\n",
      "Index: []\n"
     ]
    }
   ],
   "source": [
    "# checking if we got everything write\n",
    "print(df[df.all_text.isna()][['all_text','aTagContent', 'href', 'keys', 'attributes']].head())"
   ]
  },
  {
   "cell_type": "code",
   "execution_count": 56,
   "metadata": {},
   "outputs": [],
   "source": [
    "# Now that we have this combined column, we need to get rid of numbers and spaces before creating tolkens\n",
    "df['all_text'] = df['all_text'].apply(remove_numbers)"
   ]
  },
  {
   "cell_type": "code",
   "execution_count": 57,
   "metadata": {},
   "outputs": [],
   "source": [
    "# We can now drop those columns\n",
    "df.drop(['aTagContent', 'href', 'keys', 'attributes'],axis='columns',inplace=True)"
   ]
  },
  {
   "cell_type": "code",
   "execution_count": 58,
   "metadata": {},
   "outputs": [],
   "source": [
    "# and these too\n",
    "df.drop(['len_aTagContent', 'len_href', 'num_keys'],axis='columns',inplace=True)"
   ]
  },
  {
   "cell_type": "code",
   "execution_count": 59,
   "metadata": {},
   "outputs": [
    {
     "data": {
      "text/html": [
       "<div>\n",
       "<style scoped>\n",
       "    .dataframe tbody tr th:only-of-type {\n",
       "        vertical-align: middle;\n",
       "    }\n",
       "\n",
       "    .dataframe tbody tr th {\n",
       "        vertical-align: top;\n",
       "    }\n",
       "\n",
       "    .dataframe thead th {\n",
       "        text-align: right;\n",
       "    }\n",
       "</style>\n",
       "<table border=\"1\" class=\"dataframe\">\n",
       "  <thead>\n",
       "    <tr style=\"text-align: right;\">\n",
       "      <th></th>\n",
       "      <th>candidateMatch</th>\n",
       "      <th>len_aTagContent_qt</th>\n",
       "      <th>len_aTagContent_group_between 60 and 175</th>\n",
       "      <th>len_aTagContent_group_over 175</th>\n",
       "      <th>len_aTagContent_group_under 60</th>\n",
       "      <th>len_href_qt</th>\n",
       "      <th>len_href_group_between 80 and 125</th>\n",
       "      <th>len_href_group_over 125</th>\n",
       "      <th>len_href_group_under 80</th>\n",
       "      <th>key_job_yn</th>\n",
       "      <th>num_keys_qt</th>\n",
       "      <th>attr_job_yn</th>\n",
       "      <th>all_text</th>\n",
       "    </tr>\n",
       "  </thead>\n",
       "  <tbody>\n",
       "    <tr>\n",
       "      <th>0</th>\n",
       "      <td>0.0</td>\n",
       "      <td>0.376376</td>\n",
       "      <td>0</td>\n",
       "      <td>0</td>\n",
       "      <td>1</td>\n",
       "      <td>0.063564</td>\n",
       "      <td>0</td>\n",
       "      <td>0</td>\n",
       "      <td>1</td>\n",
       "      <td>0</td>\n",
       "      <td>0.063564</td>\n",
       "      <td>0</td>\n",
       "      <td>Skip to Content Main class data ga event data ...</td>\n",
       "    </tr>\n",
       "    <tr>\n",
       "      <th>1</th>\n",
       "      <td>0.0</td>\n",
       "      <td>0.446947</td>\n",
       "      <td>0</td>\n",
       "      <td>0</td>\n",
       "      <td>1</td>\n",
       "      <td>0.077578</td>\n",
       "      <td>0</td>\n",
       "      <td>0</td>\n",
       "      <td>1</td>\n",
       "      <td>0</td>\n",
       "      <td>0.077578</td>\n",
       "      <td>0</td>\n",
       "      <td>Shopify Careers careers href class data ga ev...</td>\n",
       "    </tr>\n",
       "    <tr>\n",
       "      <th>2</th>\n",
       "      <td>0.0</td>\n",
       "      <td>0.376376</td>\n",
       "      <td>0</td>\n",
       "      <td>0</td>\n",
       "      <td>1</td>\n",
       "      <td>0.138639</td>\n",
       "      <td>0</td>\n",
       "      <td>0</td>\n",
       "      <td>1</td>\n",
       "      <td>0</td>\n",
       "      <td>0.138639</td>\n",
       "      <td>0</td>\n",
       "      <td>Life at Shopify careers culture href class ite...</td>\n",
       "    </tr>\n",
       "    <tr>\n",
       "      <th>3</th>\n",
       "      <td>0.0</td>\n",
       "      <td>0.117618</td>\n",
       "      <td>0</td>\n",
       "      <td>0</td>\n",
       "      <td>1</td>\n",
       "      <td>0.125125</td>\n",
       "      <td>0</td>\n",
       "      <td>0</td>\n",
       "      <td>1</td>\n",
       "      <td>0</td>\n",
       "      <td>0.125125</td>\n",
       "      <td>0</td>\n",
       "      <td>Teams careers teams href class itemprop market...</td>\n",
       "    </tr>\n",
       "    <tr>\n",
       "      <th>4</th>\n",
       "      <td>0.0</td>\n",
       "      <td>0.334835</td>\n",
       "      <td>0</td>\n",
       "      <td>0</td>\n",
       "      <td>1</td>\n",
       "      <td>0.174174</td>\n",
       "      <td>0</td>\n",
       "      <td>0</td>\n",
       "      <td>1</td>\n",
       "      <td>0</td>\n",
       "      <td>0.174174</td>\n",
       "      <td>0</td>\n",
       "      <td>Work anywhere careers work anywhere href class...</td>\n",
       "    </tr>\n",
       "  </tbody>\n",
       "</table>\n",
       "</div>"
      ],
      "text/plain": [
       "   candidateMatch  len_aTagContent_qt  \\\n",
       "0             0.0            0.376376   \n",
       "1             0.0            0.446947   \n",
       "2             0.0            0.376376   \n",
       "3             0.0            0.117618   \n",
       "4             0.0            0.334835   \n",
       "\n",
       "   len_aTagContent_group_between 60 and 175  len_aTagContent_group_over 175  \\\n",
       "0                                         0                               0   \n",
       "1                                         0                               0   \n",
       "2                                         0                               0   \n",
       "3                                         0                               0   \n",
       "4                                         0                               0   \n",
       "\n",
       "   len_aTagContent_group_under 60  len_href_qt  \\\n",
       "0                               1     0.063564   \n",
       "1                               1     0.077578   \n",
       "2                               1     0.138639   \n",
       "3                               1     0.125125   \n",
       "4                               1     0.174174   \n",
       "\n",
       "   len_href_group_between 80 and 125  len_href_group_over 125  \\\n",
       "0                                  0                        0   \n",
       "1                                  0                        0   \n",
       "2                                  0                        0   \n",
       "3                                  0                        0   \n",
       "4                                  0                        0   \n",
       "\n",
       "   len_href_group_under 80  key_job_yn  num_keys_qt  attr_job_yn  \\\n",
       "0                        1           0     0.063564            0   \n",
       "1                        1           0     0.077578            0   \n",
       "2                        1           0     0.138639            0   \n",
       "3                        1           0     0.125125            0   \n",
       "4                        1           0     0.174174            0   \n",
       "\n",
       "                                            all_text  \n",
       "0  Skip to Content Main class data ga event data ...  \n",
       "1   Shopify Careers careers href class data ga ev...  \n",
       "2  Life at Shopify careers culture href class ite...  \n",
       "3  Teams careers teams href class itemprop market...  \n",
       "4  Work anywhere careers work anywhere href class...  "
      ]
     },
     "execution_count": 59,
     "metadata": {},
     "output_type": "execute_result"
    }
   ],
   "source": [
    "df.head()"
   ]
  },
  {
   "cell_type": "code",
   "execution_count": 60,
   "metadata": {},
   "outputs": [],
   "source": [
    "# Let's save a version of this dataframe without tolkens so we can run more simple models.\n",
    "\n",
    "now = datetime.datetime.now()\n",
    "today = datetime.datetime.today()\n",
    "\n",
    "date = today.strftime(\"%Y-%m-%d\")\n",
    "hour = now.strftime(\"%H\")\n",
    "minute = now.strftime(\"%M\")\n",
    "\n",
    "stamp = str(date) + ' ' + str(hour) + 'h' + str(minute)\n",
    "\n",
    "df.to_csv(str(stamp)+r'dataset_pre_tolken.csv', index=False)"
   ]
  },
  {
   "cell_type": "markdown",
   "metadata": {},
   "source": [
    "<h4> Now let's create the tolkens </h4>"
   ]
  },
  {
   "cell_type": "code",
   "execution_count": 61,
   "metadata": {},
   "outputs": [
    {
     "name": "stdout",
     "output_type": "stream",
     "text": [
      "Tokens shape:  (6510, 4580)\n"
     ]
    }
   ],
   "source": [
    "tfidf_vectorizer = TfidfVectorizer(use_idf=True, max_df=0.95)\n",
    "\n",
    "tokens = tfidf_vectorizer.fit_transform(df['all_text'])\n",
    "\n",
    "print('Tokens shape: ', tokens.shape)"
   ]
  },
  {
   "cell_type": "code",
   "execution_count": 62,
   "metadata": {},
   "outputs": [
    {
     "name": "stdout",
     "output_type": "stream",
     "text": [
      "shape of X:  (6510, 4593)\n",
      "   candidateMatch  len_aTagContent_qt  \\\n",
      "0             0.0            0.376376   \n",
      "1             0.0            0.446947   \n",
      "2             0.0            0.376376   \n",
      "3             0.0            0.117618   \n",
      "4             0.0            0.334835   \n",
      "\n",
      "   len_aTagContent_group_between 60 and 175  len_aTagContent_group_over 175  \\\n",
      "0                                         0                               0   \n",
      "1                                         0                               0   \n",
      "2                                         0                               0   \n",
      "3                                         0                               0   \n",
      "4                                         0                               0   \n",
      "\n",
      "   len_aTagContent_group_under 60  len_href_qt  \\\n",
      "0                               1     0.063564   \n",
      "1                               1     0.077578   \n",
      "2                               1     0.138639   \n",
      "3                               1     0.125125   \n",
      "4                               1     0.174174   \n",
      "\n",
      "   len_href_group_between 80 and 125  len_href_group_over 125  \\\n",
      "0                                  0                        0   \n",
      "1                                  0                        0   \n",
      "2                                  0                        0   \n",
      "3                                  0                        0   \n",
      "4                                  0                        0   \n",
      "\n",
      "   len_href_group_under 80  key_job_yn  ...  zrw   zt  zurich  zuujdl  \\\n",
      "0                        1           0  ...  0.0  0.0     0.0     0.0   \n",
      "1                        1           0  ...  0.0  0.0     0.0     0.0   \n",
      "2                        1           0  ...  0.0  0.0     0.0     0.0   \n",
      "3                        1           0  ...  0.0  0.0     0.0     0.0   \n",
      "4                        1           0  ...  0.0  0.0     0.0     0.0   \n",
      "\n",
      "   zverpjwtw  zvn  zvp  zwbxlzh   zz  \\\n",
      "0        0.0  0.0  0.0      0.0  0.0   \n",
      "1        0.0  0.0  0.0      0.0  0.0   \n",
      "2        0.0  0.0  0.0      0.0  0.0   \n",
      "3        0.0  0.0  0.0      0.0  0.0   \n",
      "4        0.0  0.0  0.0      0.0  0.0   \n",
      "\n",
      "   zzeoxhcuarbbdqacrwoyzxjpttisschzjtsspjbmuhrbvxfaxxzrmggxczc  \n",
      "0                                                0.0            \n",
      "1                                                0.0            \n",
      "2                                                0.0            \n",
      "3                                                0.0            \n",
      "4                                                0.0            \n",
      "\n",
      "[5 rows x 4592 columns]\n"
     ]
    }
   ],
   "source": [
    "# Let's connect it to the data frame\n",
    "\n",
    "df1 = pd.DataFrame(tokens.toarray(), columns=tfidf_vectorizer.get_feature_names())\n",
    "\n",
    "X = pd.concat([df, df1], axis=1)\n",
    "\n",
    "print('shape of X: ', X.shape)\n",
    "\n",
    "X.drop('all_text',inplace=True,axis='columns')\n",
    "\n",
    "print(X.head())"
   ]
  },
  {
   "cell_type": "code",
   "execution_count": 63,
   "metadata": {},
   "outputs": [],
   "source": [
    "# Since this is a havier dataset, with relevant info, let's save it in a special format\n",
    "\n",
    "X.to_pickle(str(stamp)+r'dataset_with_tolkens.pkl')"
   ]
  }
 ],
 "metadata": {
  "kernelspec": {
   "display_name": "Python 3",
   "language": "python",
   "name": "python3"
  },
  "language_info": {
   "codemirror_mode": {
    "name": "ipython",
    "version": 3
   },
   "file_extension": ".py",
   "mimetype": "text/x-python",
   "name": "python",
   "nbconvert_exporter": "python",
   "pygments_lexer": "ipython3",
   "version": "3.8.3"
  }
 },
 "nbformat": 4,
 "nbformat_minor": 4
}
