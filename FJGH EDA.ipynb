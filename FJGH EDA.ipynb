{
 "cells": [
  {
   "cell_type": "markdown",
   "metadata": {},
   "source": [
    "# Exploratory analysis and Feature Engineering"
   ]
  },
  {
   "cell_type": "markdown",
   "metadata": {},
   "source": [
    "Now that we have the data, let's take a look on it, clean it and create features for the machine learning model.\n",
    "<br>\n",
    "<h3>Goals:</h3> <br>\n",
    "<b>1 - Understand the data we collected.</b> <br>\n",
    "For this part, we will use pandas and matpyplot libs. <br>\n",
    "<br>\n",
    "<b>2 - Clean null values and irrelevant characters.</b> <br>\n",
    "We will use apply with custom functions and RegEx.<br>\n",
    "<br>\n",
    "<b>3 - Transform the text data into features we can use.</b> <br>\n",
    "We will create features and evaluate their correlation and importance (seaborn and  sklearn).<br>\n",
    "<br>\n",
    "<b>4 - Tolkenize data.</b><br>\n",
    "TfidfVectorizer from sklearn.feature_extraction.text.<br>\n"
   ]
  },
  {
   "cell_type": "code",
   "execution_count": 2,
   "metadata": {},
   "outputs": [],
   "source": [
    "from sklearn.preprocessing import normalize "
   ]
  },
  {
   "cell_type": "code",
   "execution_count": 3,
   "metadata": {},
   "outputs": [],
   "source": [
    "from sklearn.cluster import KMeans"
   ]
  },
  {
   "cell_type": "code",
   "execution_count": 4,
   "metadata": {},
   "outputs": [],
   "source": [
    "# Importing the libraries\n",
    "\n",
    "# Manipulating the data\n",
    "import pandas as pd\n",
    "import numpy as np\n",
    "import re\n",
    "from sklearn.feature_extraction.text import TfidfVectorizer\n",
    "\n",
    "# Data vizualization\n",
    "import matplotlib.pyplot as plt\n",
    "import seaborn as sns\n",
    "\n",
    "# Feature engineering evaluation\n",
    "from sklearn.ensemble import RandomForestClassifier\n",
    "from sklearn.model_selection import train_test_split\n",
    "from sklearn.metrics import accuracy_score\n",
    "\n",
    "# Saving the output\n",
    "import datetime"
   ]
  },
  {
   "cell_type": "markdown",
   "metadata": {},
   "source": [
    "<h4>Functions</h4>"
   ]
  },
  {
   "cell_type": "code",
   "execution_count": 5,
   "metadata": {},
   "outputs": [],
   "source": [
    "# removes chars from a string, based on a list\n",
    "def remove_char(text,list_of_chars):\n",
    "    for char in list_of_chars:\n",
    "        text = text.replace(char,'')\n",
    "    return text\n",
    "\n",
    "# if a text is duplicated in two columns, remove it from the one passed as first arg\n",
    "def extract_href(x):\n",
    "    if type(x[1]) != str:\n",
    "        return x[0]\n",
    "    else:\n",
    "        return x[0].replace(x[1],'')\n",
    "    \n",
    "def specialCharCleaner(x):\n",
    "        \n",
    "    x = re.sub(r'[?|$|.|!]',r' ',str(x)) \n",
    "    x = re.sub(r'[^a-zA-Z0-9 ]',r' ',str(x))\n",
    "    x = re.sub('  ',' ',str(x))\n",
    "            \n",
    "    return x\n",
    "\n",
    "def remove_numbers(x):\n",
    "    x =''.join(c if c not in map(str,range(0,10)) else '' for c in str(x)) #for remove numbers\n",
    "    for i in range(3):\n",
    "        x = re.sub('  ',' ',str(x)) # remove extra espaces\n",
    "    return x\n",
    "\n",
    "# concats multiple coluns\n",
    "def connect_columns(x):\n",
    "    return str(x[0]) + ' ' + str(x[1]) + ' ' + str(x[2]) + ' ' + str(x[3])\n",
    "\n",
    "# Just to make the notebook more organized\n",
    "def heat_map(df):\n",
    "    corr = df.corr()\n",
    "    ax = sns.heatmap(\n",
    "        corr, \n",
    "        vmin=-1, vmax=1, center=0,\n",
    "        cmap=sns.diverging_palette(20, 220, n=200),\n",
    "        square=True\n",
    "    )\n",
    "    ax.set_xticklabels(\n",
    "        ax.get_xticklabels(),\n",
    "        rotation=45,\n",
    "        horizontalalignment='right'\n",
    "    )"
   ]
  },
  {
   "cell_type": "markdown",
   "metadata": {},
   "source": [
    "We have two different sources of data, so let's load and put them all together in a single dataframe"
   ]
  },
  {
   "cell_type": "code",
   "execution_count": 6,
   "metadata": {},
   "outputs": [],
   "source": [
    "# Importing inputs\n",
    "\n",
    "df = pd.read_csv(r'C:\\Users\\ponde\\Documents\\programacao\\Python\\FreshJobs\\validation\\all_input_records.csv')"
   ]
  },
  {
   "cell_type": "code",
   "execution_count": 7,
   "metadata": {},
   "outputs": [
    {
     "data": {
      "text/html": [
       "<div>\n",
       "<style scoped>\n",
       "    .dataframe tbody tr th:only-of-type {\n",
       "        vertical-align: middle;\n",
       "    }\n",
       "\n",
       "    .dataframe tbody tr th {\n",
       "        vertical-align: top;\n",
       "    }\n",
       "\n",
       "    .dataframe thead th {\n",
       "        text-align: right;\n",
       "    }\n",
       "</style>\n",
       "<table border=\"1\" class=\"dataframe\">\n",
       "  <thead>\n",
       "    <tr style=\"text-align: right;\">\n",
       "      <th></th>\n",
       "      <th>company</th>\n",
       "      <th>url</th>\n",
       "      <th>aTag</th>\n",
       "      <th>aTagText</th>\n",
       "      <th>aTagContent</th>\n",
       "      <th>href</th>\n",
       "      <th>keys</th>\n",
       "      <th>attributes</th>\n",
       "      <th>key_attr</th>\n",
       "      <th>trun_href</th>\n",
       "      <th>candidateMatch</th>\n",
       "    </tr>\n",
       "  </thead>\n",
       "  <tbody>\n",
       "    <tr>\n",
       "      <th>0</th>\n",
       "      <td>later</td>\n",
       "      <td>https://later.com/careers/#positions</td>\n",
       "      <td>&lt;a href=\"/\"&gt;\\n&lt;img class=\"cP--nav__logoImage\" ...</td>\n",
       "      <td>&lt;a href=\"/\"&gt;\\n&lt;img class=\"cP--nav__logoImage\" ...</td>\n",
       "      <td>\\n\\n</td>\n",
       "      <td>/</td>\n",
       "      <td>dict_keys(['href'])</td>\n",
       "      <td>dict_values(['/'])</td>\n",
       "      <td>{'href': '/'}</td>\n",
       "      <td>/</td>\n",
       "      <td>0.0</td>\n",
       "    </tr>\n",
       "    <tr>\n",
       "      <th>1</th>\n",
       "      <td>later</td>\n",
       "      <td>https://later.com/careers/#positions</td>\n",
       "      <td>&lt;a class=\"cP--nav__dropdownLink cta--signup u-...</td>\n",
       "      <td>&lt;a class=\"cP--nav__dropdownLink cta--signup u-...</td>\n",
       "      <td>Create account\\n</td>\n",
       "      <td>https://www.later.com/#</td>\n",
       "      <td>dict_keys(['class', 'href'])</td>\n",
       "      <td>dict_values([['cP--nav__dropdownLink', 'cta--s...</td>\n",
       "      <td>{'class': ['cP--nav__dropdownLink', 'cta--sign...</td>\n",
       "      <td>https://www.later.com/#</td>\n",
       "      <td>0.0</td>\n",
       "    </tr>\n",
       "    <tr>\n",
       "      <th>2</th>\n",
       "      <td>later</td>\n",
       "      <td>https://later.com/careers/#positions</td>\n",
       "      <td>&lt;a class=\"cP--nav__dropdownLink cP--nav__signI...</td>\n",
       "      <td>&lt;a class=\"cP--nav__dropdownLink cP--nav__signI...</td>\n",
       "      <td>Sign In</td>\n",
       "      <td>https://app.later.com/</td>\n",
       "      <td>dict_keys(['class', 'href'])</td>\n",
       "      <td>dict_values([['cP--nav__dropdownLink', 'cP--na...</td>\n",
       "      <td>{'class': ['cP--nav__dropdownLink', 'cP--nav__...</td>\n",
       "      <td>https://app.later.com/</td>\n",
       "      <td>0.0</td>\n",
       "    </tr>\n",
       "    <tr>\n",
       "      <th>3</th>\n",
       "      <td>later</td>\n",
       "      <td>https://later.com/careers/#positions</td>\n",
       "      <td>&lt;a href=\"/schedule/\"&gt;Scheduling\\n&lt;/a&gt;</td>\n",
       "      <td>&lt;a href=\"/schedule/\"&gt;Scheduling\\n&lt;/a&gt;</td>\n",
       "      <td>Scheduling\\n</td>\n",
       "      <td>/schedule/</td>\n",
       "      <td>dict_keys(['href'])</td>\n",
       "      <td>dict_values(['/schedule/'])</td>\n",
       "      <td>{'href': '/schedule/'}</td>\n",
       "      <td>/schedule/</td>\n",
       "      <td>0.0</td>\n",
       "    </tr>\n",
       "    <tr>\n",
       "      <th>4</th>\n",
       "      <td>later</td>\n",
       "      <td>https://later.com/careers/#positions</td>\n",
       "      <td>&lt;a href=\"/instagram-analytics/\"&gt;Instagram Anal...</td>\n",
       "      <td>&lt;a href=\"/instagram-analytics/\"&gt;Instagram Anal...</td>\n",
       "      <td>Instagram Analytics\\n</td>\n",
       "      <td>/instagram-analytics/</td>\n",
       "      <td>dict_keys(['href'])</td>\n",
       "      <td>dict_values(['/instagram-analytics/'])</td>\n",
       "      <td>{'href': '/instagram-analytics/'}</td>\n",
       "      <td>/instagram-analytics/</td>\n",
       "      <td>0.0</td>\n",
       "    </tr>\n",
       "  </tbody>\n",
       "</table>\n",
       "</div>"
      ],
      "text/plain": [
       "  company                                   url  \\\n",
       "0   later  https://later.com/careers/#positions   \n",
       "1   later  https://later.com/careers/#positions   \n",
       "2   later  https://later.com/careers/#positions   \n",
       "3   later  https://later.com/careers/#positions   \n",
       "4   later  https://later.com/careers/#positions   \n",
       "\n",
       "                                                aTag  \\\n",
       "0  <a href=\"/\">\\n<img class=\"cP--nav__logoImage\" ...   \n",
       "1  <a class=\"cP--nav__dropdownLink cta--signup u-...   \n",
       "2  <a class=\"cP--nav__dropdownLink cP--nav__signI...   \n",
       "3              <a href=\"/schedule/\">Scheduling\\n</a>   \n",
       "4  <a href=\"/instagram-analytics/\">Instagram Anal...   \n",
       "\n",
       "                                            aTagText            aTagContent  \\\n",
       "0  <a href=\"/\">\\n<img class=\"cP--nav__logoImage\" ...                   \\n\\n   \n",
       "1  <a class=\"cP--nav__dropdownLink cta--signup u-...       Create account\\n   \n",
       "2  <a class=\"cP--nav__dropdownLink cP--nav__signI...                Sign In   \n",
       "3              <a href=\"/schedule/\">Scheduling\\n</a>           Scheduling\\n   \n",
       "4  <a href=\"/instagram-analytics/\">Instagram Anal...  Instagram Analytics\\n   \n",
       "\n",
       "                      href                          keys  \\\n",
       "0                        /           dict_keys(['href'])   \n",
       "1  https://www.later.com/#  dict_keys(['class', 'href'])   \n",
       "2   https://app.later.com/  dict_keys(['class', 'href'])   \n",
       "3               /schedule/           dict_keys(['href'])   \n",
       "4    /instagram-analytics/           dict_keys(['href'])   \n",
       "\n",
       "                                          attributes  \\\n",
       "0                                 dict_values(['/'])   \n",
       "1  dict_values([['cP--nav__dropdownLink', 'cta--s...   \n",
       "2  dict_values([['cP--nav__dropdownLink', 'cP--na...   \n",
       "3                        dict_values(['/schedule/'])   \n",
       "4             dict_values(['/instagram-analytics/'])   \n",
       "\n",
       "                                            key_attr                trun_href  \\\n",
       "0                                      {'href': '/'}                        /   \n",
       "1  {'class': ['cP--nav__dropdownLink', 'cta--sign...  https://www.later.com/#   \n",
       "2  {'class': ['cP--nav__dropdownLink', 'cP--nav__...   https://app.later.com/   \n",
       "3                             {'href': '/schedule/'}               /schedule/   \n",
       "4                  {'href': '/instagram-analytics/'}    /instagram-analytics/   \n",
       "\n",
       "   candidateMatch  \n",
       "0             0.0  \n",
       "1             0.0  \n",
       "2             0.0  \n",
       "3             0.0  \n",
       "4             0.0  "
      ]
     },
     "execution_count": 7,
     "metadata": {},
     "output_type": "execute_result"
    }
   ],
   "source": [
    "df.head()"
   ]
  },
  {
   "cell_type": "code",
   "execution_count": 8,
   "metadata": {},
   "outputs": [
    {
     "data": {
      "text/plain": [
       "(8817, 11)"
      ]
     },
     "execution_count": 8,
     "metadata": {},
     "output_type": "execute_result"
    }
   ],
   "source": [
    "df.shape"
   ]
  },
  {
   "cell_type": "code",
   "execution_count": 9,
   "metadata": {},
   "outputs": [
    {
     "data": {
      "text/plain": [
       "Index(['company', 'url', 'aTag', 'aTagText', 'aTagContent', 'href', 'keys',\n",
       "       'attributes', 'key_attr', 'trun_href', 'candidateMatch'],\n",
       "      dtype='object')"
      ]
     },
     "execution_count": 9,
     "metadata": {},
     "output_type": "execute_result"
    }
   ],
   "source": [
    "df.columns\n",
    "\n",
    "# company -> employer\n",
    "# url -> url from the website the data was pulled from\n",
    "# aTag -> entire tag 'a' that contains the link we want to evaluate\n",
    "# aTagText -> same as above, but with a different approach to extract\n",
    "# aTagContent -> the text that is displayed in the website (extracted from the tag 'a')\n",
    "# href -> the link we want to evaluate (extracted from the tag 'a')\n",
    "# keys -> all the keys of the element tag\n",
    "# attributes -> all attributes associated with the keys from the tag\n",
    "# key_attr -> keys and attributes, in a dict format\n",
    "# trun_href -> the truncated href\n",
    "# candidateMatch -> indicates if the link is a job posting or not - 0 or 1"
   ]
  },
  {
   "cell_type": "code",
   "execution_count": 10,
   "metadata": {
    "scrolled": true
   },
   "outputs": [
    {
     "data": {
      "text/plain": [
       "company            object\n",
       "url                object\n",
       "aTag               object\n",
       "aTagText           object\n",
       "aTagContent        object\n",
       "href               object\n",
       "keys               object\n",
       "attributes         object\n",
       "key_attr           object\n",
       "trun_href          object\n",
       "candidateMatch    float64\n",
       "dtype: object"
      ]
     },
     "execution_count": 10,
     "metadata": {},
     "output_type": "execute_result"
    }
   ],
   "source": [
    "# Everything was loaded as objects, if we get any trouble ahead we will handle this\n",
    "\n",
    "df.dtypes"
   ]
  },
  {
   "cell_type": "code",
   "execution_count": 11,
   "metadata": {},
   "outputs": [
    {
     "data": {
      "text/plain": [
       "company            0\n",
       "url                0\n",
       "aTag               0\n",
       "aTagText           0\n",
       "aTagContent       71\n",
       "href               0\n",
       "keys               0\n",
       "attributes         0\n",
       "key_attr           0\n",
       "trun_href          0\n",
       "candidateMatch     0\n",
       "dtype: int64"
      ]
     },
     "execution_count": 11,
     "metadata": {},
     "output_type": "execute_result"
    }
   ],
   "source": [
    "df.isna().sum()"
   ]
  },
  {
   "cell_type": "markdown",
   "metadata": {},
   "source": [
    "<h4>We have a lot of null values for aTagContent and href. The first one should not be a problem for now. For the latter, it does not make sense to carry data that does not have a link, so let's drop those rows</h4>"
   ]
  },
  {
   "cell_type": "code",
   "execution_count": 12,
   "metadata": {},
   "outputs": [],
   "source": [
    "row_drop = df[df.href.isna()].index\n",
    "df.drop(row_drop,axis='rows',inplace=True)\n",
    "df.reset_index(drop=True,inplace=True)"
   ]
  },
  {
   "cell_type": "code",
   "execution_count": 13,
   "metadata": {},
   "outputs": [
    {
     "data": {
      "text/plain": [
       "company            0\n",
       "url                0\n",
       "aTag               0\n",
       "aTagText           0\n",
       "aTagContent       71\n",
       "href               0\n",
       "keys               0\n",
       "attributes         0\n",
       "key_attr           0\n",
       "trun_href          0\n",
       "candidateMatch     0\n",
       "dtype: int64"
      ]
     },
     "execution_count": 13,
     "metadata": {},
     "output_type": "execute_result"
    }
   ],
   "source": [
    "df.isna().sum()"
   ]
  },
  {
   "cell_type": "markdown",
   "metadata": {},
   "source": [
    "<h4>Let's take a look on the distribution of data by company</h4>"
   ]
  },
  {
   "cell_type": "markdown",
   "metadata": {},
   "source": [
    "Only 43% of the data is composed by real job posts. That is surprising, since all links were extracted from career webpages. Facebook represents half of the dataset, so we need to be careful not to create features that may overfit our model."
   ]
  },
  {
   "cell_type": "code",
   "execution_count": 14,
   "metadata": {},
   "outputs": [
    {
     "data": {
      "text/html": [
       "<div>\n",
       "<style scoped>\n",
       "    .dataframe tbody tr th:only-of-type {\n",
       "        vertical-align: middle;\n",
       "    }\n",
       "\n",
       "    .dataframe tbody tr th {\n",
       "        vertical-align: top;\n",
       "    }\n",
       "\n",
       "    .dataframe thead th {\n",
       "        text-align: right;\n",
       "    }\n",
       "</style>\n",
       "<table border=\"1\" class=\"dataframe\">\n",
       "  <thead>\n",
       "    <tr style=\"text-align: right;\">\n",
       "      <th>candidateMatch</th>\n",
       "      <th>0.0</th>\n",
       "      <th>1.0</th>\n",
       "      <th>Total</th>\n",
       "    </tr>\n",
       "    <tr>\n",
       "      <th>company</th>\n",
       "      <th></th>\n",
       "      <th></th>\n",
       "      <th></th>\n",
       "    </tr>\n",
       "  </thead>\n",
       "  <tbody>\n",
       "    <tr>\n",
       "      <th>Total</th>\n",
       "      <td>0.453669</td>\n",
       "      <td>0.546331</td>\n",
       "      <td>1.000000</td>\n",
       "    </tr>\n",
       "    <tr>\n",
       "      <th>Facebook</th>\n",
       "      <td>0.096291</td>\n",
       "      <td>0.193263</td>\n",
       "      <td>0.289554</td>\n",
       "    </tr>\n",
       "    <tr>\n",
       "      <th>Oracle</th>\n",
       "      <td>0.031190</td>\n",
       "      <td>0.028241</td>\n",
       "      <td>0.059431</td>\n",
       "    </tr>\n",
       "    <tr>\n",
       "      <th>Okta</th>\n",
       "      <td>0.012249</td>\n",
       "      <td>0.046841</td>\n",
       "      <td>0.059090</td>\n",
       "    </tr>\n",
       "    <tr>\n",
       "      <th>doordash</th>\n",
       "      <td>0.006238</td>\n",
       "      <td>0.045821</td>\n",
       "      <td>0.052059</td>\n",
       "    </tr>\n",
       "    <tr>\n",
       "      <th>...</th>\n",
       "      <td>...</td>\n",
       "      <td>...</td>\n",
       "      <td>...</td>\n",
       "    </tr>\n",
       "    <tr>\n",
       "      <th>CIBC</th>\n",
       "      <td>0.000113</td>\n",
       "      <td>0.000000</td>\n",
       "      <td>0.000113</td>\n",
       "    </tr>\n",
       "    <tr>\n",
       "      <th>google</th>\n",
       "      <td>0.000113</td>\n",
       "      <td>0.000000</td>\n",
       "      <td>0.000113</td>\n",
       "    </tr>\n",
       "    <tr>\n",
       "      <th>GM</th>\n",
       "      <td>0.000113</td>\n",
       "      <td>0.000000</td>\n",
       "      <td>0.000113</td>\n",
       "    </tr>\n",
       "    <tr>\n",
       "      <th>Hospital for Sick Children, The</th>\n",
       "      <td>0.000113</td>\n",
       "      <td>0.000000</td>\n",
       "      <td>0.000113</td>\n",
       "    </tr>\n",
       "    <tr>\n",
       "      <th>3M Canada Company</th>\n",
       "      <td>0.000113</td>\n",
       "      <td>0.000000</td>\n",
       "      <td>0.000113</td>\n",
       "    </tr>\n",
       "  </tbody>\n",
       "</table>\n",
       "<p>69 rows × 3 columns</p>\n",
       "</div>"
      ],
      "text/plain": [
       "candidateMatch                        0.0       1.0     Total\n",
       "company                                                      \n",
       "Total                            0.453669  0.546331  1.000000\n",
       "Facebook                         0.096291  0.193263  0.289554\n",
       "Oracle                           0.031190  0.028241  0.059431\n",
       "Okta                             0.012249  0.046841  0.059090\n",
       "doordash                         0.006238  0.045821  0.052059\n",
       "...                                   ...       ...       ...\n",
       "CIBC                             0.000113  0.000000  0.000113\n",
       "google                           0.000113  0.000000  0.000113\n",
       "GM                               0.000113  0.000000  0.000113\n",
       "Hospital for Sick Children, The  0.000113  0.000000  0.000113\n",
       "3M Canada Company                0.000113  0.000000  0.000113\n",
       "\n",
       "[69 rows x 3 columns]"
      ]
     },
     "execution_count": 14,
     "metadata": {},
     "output_type": "execute_result"
    }
   ],
   "source": [
    "pd.crosstab(df['company'],df['candidateMatch'],margins=True,margins_name='Total',normalize=True).sort_values(by='Total', ascending=False)"
   ]
  },
  {
   "cell_type": "markdown",
   "metadata": {},
   "source": [
    "Google, walmart, opentext, ecobee and rubikloud.ai have no job openings. Probably there was a problem while scraping those pages. "
   ]
  },
  {
   "cell_type": "code",
   "execution_count": 15,
   "metadata": {},
   "outputs": [],
   "source": [
    "# Creating a copy of df for backup purposes\n",
    "df_backup = df.copy()"
   ]
  },
  {
   "cell_type": "markdown",
   "metadata": {},
   "source": [
    "Let's save the dataframe to keep track of the data we are classifying"
   ]
  },
  {
   "cell_type": "code",
   "execution_count": 16,
   "metadata": {},
   "outputs": [],
   "source": [
    "now = datetime.datetime.now()\n",
    "today = datetime.datetime.today()\n",
    "\n",
    "date = today.strftime(\"%Y-%m-%d\")\n",
    "hour = now.strftime(\"%H\")\n",
    "minute = now.strftime(\"%M\")\n",
    "\n",
    "stamp = str(date) + ' ' + str(hour) + 'h' + str(minute)\n",
    "\n",
    "df_backup.to_csv(r'C:\\Users\\ponde\\Documents\\programacao\\Python\\FreshJobs\\dataset_before_col_drop'+str(stamp)+'.csv',index=False)"
   ]
  },
  {
   "cell_type": "markdown",
   "metadata": {},
   "source": [
    "'company' and 'url' should add no value for the model because they will not help in the classification. Also, 'aTag' and 'aTagtext' have all their data duplicated in other columns, such as keys and attributes."
   ]
  },
  {
   "cell_type": "code",
   "execution_count": 17,
   "metadata": {},
   "outputs": [],
   "source": [
    "df = df.drop(['company','url','aTag','aTagText'],axis='columns')"
   ]
  },
  {
   "cell_type": "code",
   "execution_count": 18,
   "metadata": {},
   "outputs": [
    {
     "data": {
      "text/html": [
       "<div>\n",
       "<style scoped>\n",
       "    .dataframe tbody tr th:only-of-type {\n",
       "        vertical-align: middle;\n",
       "    }\n",
       "\n",
       "    .dataframe tbody tr th {\n",
       "        vertical-align: top;\n",
       "    }\n",
       "\n",
       "    .dataframe thead th {\n",
       "        text-align: right;\n",
       "    }\n",
       "</style>\n",
       "<table border=\"1\" class=\"dataframe\">\n",
       "  <thead>\n",
       "    <tr style=\"text-align: right;\">\n",
       "      <th></th>\n",
       "      <th>aTagContent</th>\n",
       "      <th>href</th>\n",
       "      <th>keys</th>\n",
       "      <th>attributes</th>\n",
       "      <th>key_attr</th>\n",
       "      <th>trun_href</th>\n",
       "      <th>candidateMatch</th>\n",
       "    </tr>\n",
       "  </thead>\n",
       "  <tbody>\n",
       "    <tr>\n",
       "      <th>0</th>\n",
       "      <td>\\n\\n</td>\n",
       "      <td>/</td>\n",
       "      <td>dict_keys(['href'])</td>\n",
       "      <td>dict_values(['/'])</td>\n",
       "      <td>{'href': '/'}</td>\n",
       "      <td>/</td>\n",
       "      <td>0.0</td>\n",
       "    </tr>\n",
       "    <tr>\n",
       "      <th>1</th>\n",
       "      <td>Create account\\n</td>\n",
       "      <td>https://www.later.com/#</td>\n",
       "      <td>dict_keys(['class', 'href'])</td>\n",
       "      <td>dict_values([['cP--nav__dropdownLink', 'cta--s...</td>\n",
       "      <td>{'class': ['cP--nav__dropdownLink', 'cta--sign...</td>\n",
       "      <td>https://www.later.com/#</td>\n",
       "      <td>0.0</td>\n",
       "    </tr>\n",
       "    <tr>\n",
       "      <th>2</th>\n",
       "      <td>Sign In</td>\n",
       "      <td>https://app.later.com/</td>\n",
       "      <td>dict_keys(['class', 'href'])</td>\n",
       "      <td>dict_values([['cP--nav__dropdownLink', 'cP--na...</td>\n",
       "      <td>{'class': ['cP--nav__dropdownLink', 'cP--nav__...</td>\n",
       "      <td>https://app.later.com/</td>\n",
       "      <td>0.0</td>\n",
       "    </tr>\n",
       "    <tr>\n",
       "      <th>3</th>\n",
       "      <td>Scheduling\\n</td>\n",
       "      <td>/schedule/</td>\n",
       "      <td>dict_keys(['href'])</td>\n",
       "      <td>dict_values(['/schedule/'])</td>\n",
       "      <td>{'href': '/schedule/'}</td>\n",
       "      <td>/schedule/</td>\n",
       "      <td>0.0</td>\n",
       "    </tr>\n",
       "    <tr>\n",
       "      <th>4</th>\n",
       "      <td>Instagram Analytics\\n</td>\n",
       "      <td>/instagram-analytics/</td>\n",
       "      <td>dict_keys(['href'])</td>\n",
       "      <td>dict_values(['/instagram-analytics/'])</td>\n",
       "      <td>{'href': '/instagram-analytics/'}</td>\n",
       "      <td>/instagram-analytics/</td>\n",
       "      <td>0.0</td>\n",
       "    </tr>\n",
       "  </tbody>\n",
       "</table>\n",
       "</div>"
      ],
      "text/plain": [
       "             aTagContent                     href  \\\n",
       "0                   \\n\\n                        /   \n",
       "1       Create account\\n  https://www.later.com/#   \n",
       "2                Sign In   https://app.later.com/   \n",
       "3           Scheduling\\n               /schedule/   \n",
       "4  Instagram Analytics\\n    /instagram-analytics/   \n",
       "\n",
       "                           keys  \\\n",
       "0           dict_keys(['href'])   \n",
       "1  dict_keys(['class', 'href'])   \n",
       "2  dict_keys(['class', 'href'])   \n",
       "3           dict_keys(['href'])   \n",
       "4           dict_keys(['href'])   \n",
       "\n",
       "                                          attributes  \\\n",
       "0                                 dict_values(['/'])   \n",
       "1  dict_values([['cP--nav__dropdownLink', 'cta--s...   \n",
       "2  dict_values([['cP--nav__dropdownLink', 'cP--na...   \n",
       "3                        dict_values(['/schedule/'])   \n",
       "4             dict_values(['/instagram-analytics/'])   \n",
       "\n",
       "                                            key_attr                trun_href  \\\n",
       "0                                      {'href': '/'}                        /   \n",
       "1  {'class': ['cP--nav__dropdownLink', 'cta--sign...  https://www.later.com/#   \n",
       "2  {'class': ['cP--nav__dropdownLink', 'cP--nav__...   https://app.later.com/   \n",
       "3                             {'href': '/schedule/'}               /schedule/   \n",
       "4                  {'href': '/instagram-analytics/'}    /instagram-analytics/   \n",
       "\n",
       "   candidateMatch  \n",
       "0             0.0  \n",
       "1             0.0  \n",
       "2             0.0  \n",
       "3             0.0  \n",
       "4             0.0  "
      ]
     },
     "execution_count": 18,
     "metadata": {},
     "output_type": "execute_result"
    }
   ],
   "source": [
    "df.head()"
   ]
  },
  {
   "cell_type": "markdown",
   "metadata": {},
   "source": [
    "There is a lot of data to be cleaned, so let's walk throught each column"
   ]
  },
  {
   "cell_type": "markdown",
   "metadata": {},
   "source": [
    "# aTagContet"
   ]
  },
  {
   "cell_type": "markdown",
   "metadata": {},
   "source": [
    "We are going to do three things here: <br>\n",
    "1 - Create a length feature <br>\n",
    "2 - Group the length"
   ]
  },
  {
   "cell_type": "code",
   "execution_count": 19,
   "metadata": {},
   "outputs": [],
   "source": [
    "# Creating the length feature\n",
    "df['len_aTagContent'] = df['aTagContent'].apply(lambda x: len(x) if type(x) == str else 0)"
   ]
  },
  {
   "cell_type": "code",
   "execution_count": 20,
   "metadata": {},
   "outputs": [
    {
     "data": {
      "text/html": [
       "<div>\n",
       "<style scoped>\n",
       "    .dataframe tbody tr th:only-of-type {\n",
       "        vertical-align: middle;\n",
       "    }\n",
       "\n",
       "    .dataframe tbody tr th {\n",
       "        vertical-align: top;\n",
       "    }\n",
       "\n",
       "    .dataframe thead th {\n",
       "        text-align: right;\n",
       "    }\n",
       "</style>\n",
       "<table border=\"1\" class=\"dataframe\">\n",
       "  <thead>\n",
       "    <tr style=\"text-align: right;\">\n",
       "      <th></th>\n",
       "      <th>aTagContent</th>\n",
       "      <th>href</th>\n",
       "      <th>keys</th>\n",
       "      <th>attributes</th>\n",
       "      <th>key_attr</th>\n",
       "      <th>trun_href</th>\n",
       "      <th>candidateMatch</th>\n",
       "      <th>len_aTagContent</th>\n",
       "    </tr>\n",
       "  </thead>\n",
       "  <tbody>\n",
       "    <tr>\n",
       "      <th>0</th>\n",
       "      <td>\\n\\n</td>\n",
       "      <td>/</td>\n",
       "      <td>dict_keys(['href'])</td>\n",
       "      <td>dict_values(['/'])</td>\n",
       "      <td>{'href': '/'}</td>\n",
       "      <td>/</td>\n",
       "      <td>0.0</td>\n",
       "      <td>2</td>\n",
       "    </tr>\n",
       "    <tr>\n",
       "      <th>1</th>\n",
       "      <td>Create account\\n</td>\n",
       "      <td>https://www.later.com/#</td>\n",
       "      <td>dict_keys(['class', 'href'])</td>\n",
       "      <td>dict_values([['cP--nav__dropdownLink', 'cta--s...</td>\n",
       "      <td>{'class': ['cP--nav__dropdownLink', 'cta--sign...</td>\n",
       "      <td>https://www.later.com/#</td>\n",
       "      <td>0.0</td>\n",
       "      <td>15</td>\n",
       "    </tr>\n",
       "    <tr>\n",
       "      <th>2</th>\n",
       "      <td>Sign In</td>\n",
       "      <td>https://app.later.com/</td>\n",
       "      <td>dict_keys(['class', 'href'])</td>\n",
       "      <td>dict_values([['cP--nav__dropdownLink', 'cP--na...</td>\n",
       "      <td>{'class': ['cP--nav__dropdownLink', 'cP--nav__...</td>\n",
       "      <td>https://app.later.com/</td>\n",
       "      <td>0.0</td>\n",
       "      <td>7</td>\n",
       "    </tr>\n",
       "    <tr>\n",
       "      <th>3</th>\n",
       "      <td>Scheduling\\n</td>\n",
       "      <td>/schedule/</td>\n",
       "      <td>dict_keys(['href'])</td>\n",
       "      <td>dict_values(['/schedule/'])</td>\n",
       "      <td>{'href': '/schedule/'}</td>\n",
       "      <td>/schedule/</td>\n",
       "      <td>0.0</td>\n",
       "      <td>11</td>\n",
       "    </tr>\n",
       "    <tr>\n",
       "      <th>4</th>\n",
       "      <td>Instagram Analytics\\n</td>\n",
       "      <td>/instagram-analytics/</td>\n",
       "      <td>dict_keys(['href'])</td>\n",
       "      <td>dict_values(['/instagram-analytics/'])</td>\n",
       "      <td>{'href': '/instagram-analytics/'}</td>\n",
       "      <td>/instagram-analytics/</td>\n",
       "      <td>0.0</td>\n",
       "      <td>20</td>\n",
       "    </tr>\n",
       "  </tbody>\n",
       "</table>\n",
       "</div>"
      ],
      "text/plain": [
       "             aTagContent                     href  \\\n",
       "0                   \\n\\n                        /   \n",
       "1       Create account\\n  https://www.later.com/#   \n",
       "2                Sign In   https://app.later.com/   \n",
       "3           Scheduling\\n               /schedule/   \n",
       "4  Instagram Analytics\\n    /instagram-analytics/   \n",
       "\n",
       "                           keys  \\\n",
       "0           dict_keys(['href'])   \n",
       "1  dict_keys(['class', 'href'])   \n",
       "2  dict_keys(['class', 'href'])   \n",
       "3           dict_keys(['href'])   \n",
       "4           dict_keys(['href'])   \n",
       "\n",
       "                                          attributes  \\\n",
       "0                                 dict_values(['/'])   \n",
       "1  dict_values([['cP--nav__dropdownLink', 'cta--s...   \n",
       "2  dict_values([['cP--nav__dropdownLink', 'cP--na...   \n",
       "3                        dict_values(['/schedule/'])   \n",
       "4             dict_values(['/instagram-analytics/'])   \n",
       "\n",
       "                                            key_attr                trun_href  \\\n",
       "0                                      {'href': '/'}                        /   \n",
       "1  {'class': ['cP--nav__dropdownLink', 'cta--sign...  https://www.later.com/#   \n",
       "2  {'class': ['cP--nav__dropdownLink', 'cP--nav__...   https://app.later.com/   \n",
       "3                             {'href': '/schedule/'}               /schedule/   \n",
       "4                  {'href': '/instagram-analytics/'}    /instagram-analytics/   \n",
       "\n",
       "   candidateMatch  len_aTagContent  \n",
       "0             0.0                2  \n",
       "1             0.0               15  \n",
       "2             0.0                7  \n",
       "3             0.0               11  \n",
       "4             0.0               20  "
      ]
     },
     "execution_count": 20,
     "metadata": {},
     "output_type": "execute_result"
    }
   ],
   "source": [
    "df.head()"
   ]
  },
  {
   "cell_type": "code",
   "execution_count": 21,
   "metadata": {},
   "outputs": [
    {
     "data": {
      "text/plain": [
       "<matplotlib.axes._subplots.AxesSubplot at 0x2410fb639a0>"
      ]
     },
     "execution_count": 21,
     "metadata": {},
     "output_type": "execute_result"
    },
    {
     "data": {
      "image/png": "[encoded data removed]",
      "text/plain": [
       "<Figure size 432x288 with 1 Axes>"
      ]
     },
     "metadata": {
      "needs_background": "light"
     },
     "output_type": "display_data"
    }
   ],
   "source": [
    "df.len_aTagContent.hist()"
   ]
  },
  {
   "cell_type": "markdown",
   "metadata": {},
   "source": [
    "We can see that there are some outliers around 300. Also, we don't want the model to rely too much on this feature just because of its magnitude, so let's normalize it."
   ]
  },
  {
   "cell_type": "code",
   "execution_count": 22,
   "metadata": {},
   "outputs": [
    {
     "data": {
      "image/png": "[encoded data removed]",
      "text/plain": [
       "<Figure size 432x288 with 1 Axes>"
      ]
     },
     "metadata": {
      "needs_background": "light"
     },
     "output_type": "display_data"
    }
   ],
   "source": [
    "len_aTagContent_norm = normalize(df.len_aTagContent.values.reshape(1, -1))[0]\n",
    "plt.hist(len_aTagContent_norm, 50, density=True, facecolor='g', alpha=0.75)\n",
    "plt.show()"
   ]
  },
  {
   "cell_type": "markdown",
   "metadata": {},
   "source": [
    "Simply applying the normalize function won't solve our problem, this method is sensitive to outliers. QualiteTransformer is a robust option for this."
   ]
  },
  {
   "cell_type": "code",
   "execution_count": 23,
   "metadata": {},
   "outputs": [],
   "source": [
    "from sklearn.preprocessing import QuantileTransformer"
   ]
  },
  {
   "cell_type": "code",
   "execution_count": 24,
   "metadata": {},
   "outputs": [],
   "source": [
    "qt = QuantileTransformer(random_state=42)\n",
    "len_aTagContent_qt = qt.fit_transform(df.len_aTagContent.values.reshape(-1, 1))"
   ]
  },
  {
   "cell_type": "code",
   "execution_count": 25,
   "metadata": {},
   "outputs": [
    {
     "data": {
      "image/png": "[encoded data removed]",
      "text/plain": [
       "<Figure size 432x288 with 1 Axes>"
      ]
     },
     "metadata": {
      "needs_background": "light"
     },
     "output_type": "display_data"
    }
   ],
   "source": [
    "plt.hist(len_aTagContent_qt, 50,density=True, facecolor='g', alpha=0.75)\n",
    "plt.xlim(0, 1)\n",
    "plt.show()"
   ]
  },
  {
   "cell_type": "markdown",
   "metadata": {},
   "source": [
    "The downside of using this method is that we will lose any information regarding the correlation between the distance of each point. If we think about the problem in hand, it is a fair assumption that this correlation should not be relevant. We will move forward using this strategy keeping in mind that there is a improvement opportunity here."
   ]
  },
  {
   "cell_type": "code",
   "execution_count": 26,
   "metadata": {},
   "outputs": [],
   "source": [
    "df['len_aTagContent_qt'] = len_aTagContent_qt"
   ]
  },
  {
   "cell_type": "code",
   "execution_count": 27,
   "metadata": {},
   "outputs": [
    {
     "data": {
      "text/plain": [
       "<Figure size 648x432 with 0 Axes>"
      ]
     },
     "metadata": {},
     "output_type": "display_data"
    },
    {
     "data": {
      "image/png": "[encoded data removed]",
      "text/plain": [
       "<Figure size 432x288 with 1 Axes>"
      ]
     },
     "metadata": {
      "needs_background": "light"
     },
     "output_type": "display_data"
    },
    {
     "data": {
      "image/png": "[encoded data removed]",
      "text/plain": [
       "<Figure size 432x288 with 1 Axes>"
      ]
     },
     "metadata": {
      "needs_background": "light"
     },
     "output_type": "display_data"
    }
   ],
   "source": [
    "matches = df[['len_aTagContent','candidateMatch']].groupby('len_aTagContent').agg('mean')\n",
    "\n",
    "# Ploting a line to check the correlation between the length of aTagContent and job links\n",
    "plt.figure(figsize=(9,6))\n",
    "matches.plot.line()\n",
    "plt.xlim(0, 180)\n",
    "plt.xticks(rotation=90)\n",
    "plt.xlabel(\"aTagContent lenght\")\n",
    "plt.ylabel(\"% of job links\")\n",
    "plt.title(\"job link per lenght of aTagContent\")\n",
    "plt.show()\n",
    "\n",
    "# Boxplot to check the distribution of job links per aTagContent length\n",
    "ax = sns.boxplot(x='candidateMatch', y='len_aTagContent', data=df).set_title('Classification distribution by length')"
   ]
  },
  {
   "cell_type": "markdown",
   "metadata": {},
   "source": [
    "Apparantly there is a good correlation between the length of aTagContent and candidateMatch. Since this correlation is not linear, let's create some groups of lengths. Let's also get the dummies for this new categorical feature."
   ]
  },
  {
   "cell_type": "code",
   "execution_count": 28,
   "metadata": {},
   "outputs": [],
   "source": [
    "df['len_aTagContent_group'] = np.where(df['len_aTagContent']<60,'under 60',\n",
    "                                np.where(df['len_aTagContent']<=175,'between 60 and 175',\n",
    "                                         'over 175'\n",
    "                                         )\n",
    "                                )\n",
    "\n",
    "df = pd.get_dummies(df,columns=['len_aTagContent_group'])"
   ]
  },
  {
   "cell_type": "code",
   "execution_count": 29,
   "metadata": {},
   "outputs": [
    {
     "data": {
      "text/html": [
       "<div>\n",
       "<style scoped>\n",
       "    .dataframe tbody tr th:only-of-type {\n",
       "        vertical-align: middle;\n",
       "    }\n",
       "\n",
       "    .dataframe tbody tr th {\n",
       "        vertical-align: top;\n",
       "    }\n",
       "\n",
       "    .dataframe thead th {\n",
       "        text-align: right;\n",
       "    }\n",
       "</style>\n",
       "<table border=\"1\" class=\"dataframe\">\n",
       "  <thead>\n",
       "    <tr style=\"text-align: right;\">\n",
       "      <th></th>\n",
       "      <th>aTagContent</th>\n",
       "      <th>href</th>\n",
       "      <th>keys</th>\n",
       "      <th>attributes</th>\n",
       "      <th>key_attr</th>\n",
       "      <th>trun_href</th>\n",
       "      <th>candidateMatch</th>\n",
       "      <th>len_aTagContent</th>\n",
       "      <th>len_aTagContent_qt</th>\n",
       "      <th>len_aTagContent_group_between 60 and 175</th>\n",
       "      <th>len_aTagContent_group_over 175</th>\n",
       "      <th>len_aTagContent_group_under 60</th>\n",
       "    </tr>\n",
       "  </thead>\n",
       "  <tbody>\n",
       "    <tr>\n",
       "      <th>0</th>\n",
       "      <td>\\n\\n</td>\n",
       "      <td>/</td>\n",
       "      <td>dict_keys(['href'])</td>\n",
       "      <td>dict_values(['/'])</td>\n",
       "      <td>{'href': '/'}</td>\n",
       "      <td>/</td>\n",
       "      <td>0.0</td>\n",
       "      <td>2</td>\n",
       "      <td>0.022523</td>\n",
       "      <td>0</td>\n",
       "      <td>0</td>\n",
       "      <td>1</td>\n",
       "    </tr>\n",
       "    <tr>\n",
       "      <th>1</th>\n",
       "      <td>Create account\\n</td>\n",
       "      <td>https://www.later.com/#</td>\n",
       "      <td>dict_keys(['class', 'href'])</td>\n",
       "      <td>dict_values([['cP--nav__dropdownLink', 'cta--s...</td>\n",
       "      <td>{'class': ['cP--nav__dropdownLink', 'cta--sign...</td>\n",
       "      <td>https://www.later.com/#</td>\n",
       "      <td>0.0</td>\n",
       "      <td>15</td>\n",
       "      <td>0.312312</td>\n",
       "      <td>0</td>\n",
       "      <td>0</td>\n",
       "      <td>1</td>\n",
       "    </tr>\n",
       "    <tr>\n",
       "      <th>2</th>\n",
       "      <td>Sign In</td>\n",
       "      <td>https://app.later.com/</td>\n",
       "      <td>dict_keys(['class', 'href'])</td>\n",
       "      <td>dict_values([['cP--nav__dropdownLink', 'cP--na...</td>\n",
       "      <td>{'class': ['cP--nav__dropdownLink', 'cP--nav__...</td>\n",
       "      <td>https://app.later.com/</td>\n",
       "      <td>0.0</td>\n",
       "      <td>7</td>\n",
       "      <td>0.125626</td>\n",
       "      <td>0</td>\n",
       "      <td>0</td>\n",
       "      <td>1</td>\n",
       "    </tr>\n",
       "    <tr>\n",
       "      <th>3</th>\n",
       "      <td>Scheduling\\n</td>\n",
       "      <td>/schedule/</td>\n",
       "      <td>dict_keys(['href'])</td>\n",
       "      <td>dict_values(['/schedule/'])</td>\n",
       "      <td>{'href': '/schedule/'}</td>\n",
       "      <td>/schedule/</td>\n",
       "      <td>0.0</td>\n",
       "      <td>11</td>\n",
       "      <td>0.236236</td>\n",
       "      <td>0</td>\n",
       "      <td>0</td>\n",
       "      <td>1</td>\n",
       "    </tr>\n",
       "    <tr>\n",
       "      <th>4</th>\n",
       "      <td>Instagram Analytics\\n</td>\n",
       "      <td>/instagram-analytics/</td>\n",
       "      <td>dict_keys(['href'])</td>\n",
       "      <td>dict_values(['/instagram-analytics/'])</td>\n",
       "      <td>{'href': '/instagram-analytics/'}</td>\n",
       "      <td>/instagram-analytics/</td>\n",
       "      <td>0.0</td>\n",
       "      <td>20</td>\n",
       "      <td>0.374374</td>\n",
       "      <td>0</td>\n",
       "      <td>0</td>\n",
       "      <td>1</td>\n",
       "    </tr>\n",
       "  </tbody>\n",
       "</table>\n",
       "</div>"
      ],
      "text/plain": [
       "             aTagContent                     href  \\\n",
       "0                   \\n\\n                        /   \n",
       "1       Create account\\n  https://www.later.com/#   \n",
       "2                Sign In   https://app.later.com/   \n",
       "3           Scheduling\\n               /schedule/   \n",
       "4  Instagram Analytics\\n    /instagram-analytics/   \n",
       "\n",
       "                           keys  \\\n",
       "0           dict_keys(['href'])   \n",
       "1  dict_keys(['class', 'href'])   \n",
       "2  dict_keys(['class', 'href'])   \n",
       "3           dict_keys(['href'])   \n",
       "4           dict_keys(['href'])   \n",
       "\n",
       "                                          attributes  \\\n",
       "0                                 dict_values(['/'])   \n",
       "1  dict_values([['cP--nav__dropdownLink', 'cta--s...   \n",
       "2  dict_values([['cP--nav__dropdownLink', 'cP--na...   \n",
       "3                        dict_values(['/schedule/'])   \n",
       "4             dict_values(['/instagram-analytics/'])   \n",
       "\n",
       "                                            key_attr                trun_href  \\\n",
       "0                                      {'href': '/'}                        /   \n",
       "1  {'class': ['cP--nav__dropdownLink', 'cta--sign...  https://www.later.com/#   \n",
       "2  {'class': ['cP--nav__dropdownLink', 'cP--nav__...   https://app.later.com/   \n",
       "3                             {'href': '/schedule/'}               /schedule/   \n",
       "4                  {'href': '/instagram-analytics/'}    /instagram-analytics/   \n",
       "\n",
       "   candidateMatch  len_aTagContent  len_aTagContent_qt  \\\n",
       "0             0.0                2            0.022523   \n",
       "1             0.0               15            0.312312   \n",
       "2             0.0                7            0.125626   \n",
       "3             0.0               11            0.236236   \n",
       "4             0.0               20            0.374374   \n",
       "\n",
       "   len_aTagContent_group_between 60 and 175  len_aTagContent_group_over 175  \\\n",
       "0                                         0                               0   \n",
       "1                                         0                               0   \n",
       "2                                         0                               0   \n",
       "3                                         0                               0   \n",
       "4                                         0                               0   \n",
       "\n",
       "   len_aTagContent_group_under 60  \n",
       "0                               1  \n",
       "1                               1  \n",
       "2                               1  \n",
       "3                               1  \n",
       "4                               1  "
      ]
     },
     "execution_count": 29,
     "metadata": {},
     "output_type": "execute_result"
    }
   ],
   "source": [
    "df.head()"
   ]
  },
  {
   "cell_type": "markdown",
   "metadata": {},
   "source": [
    "# href"
   ]
  },
  {
   "cell_type": "code",
   "execution_count": 30,
   "metadata": {},
   "outputs": [],
   "source": [
    "# 1 - get len\n",
    "# 2 - group len"
   ]
  },
  {
   "cell_type": "code",
   "execution_count": 31,
   "metadata": {},
   "outputs": [
    {
     "data": {
      "text/plain": [
       "<matplotlib.axes._subplots.AxesSubplot at 0x2410fee60d0>"
      ]
     },
     "execution_count": 31,
     "metadata": {},
     "output_type": "execute_result"
    },
    {
     "data": {
      "image/png": "[encoded data removed]",
      "text/plain": [
       "<Figure size 432x288 with 1 Axes>"
      ]
     },
     "metadata": {
      "needs_background": "light"
     },
     "output_type": "display_data"
    }
   ],
   "source": [
    "# Creating the len feature\n",
    "df['len_href'] = df['href'].apply(lambda x: len(x) if type(x)==str else 0)\n",
    "\n",
    "# ploting the hist for len_href\n",
    "\n",
    "df['len_href'].hist()"
   ]
  },
  {
   "cell_type": "markdown",
   "metadata": {},
   "source": [
    "Again we will need to normalize the data using a method that is not sensitive to outliers. But first last take a look to check if there is anything wrong with the dataset."
   ]
  },
  {
   "cell_type": "code",
   "execution_count": 32,
   "metadata": {
    "scrolled": true
   },
   "outputs": [
    {
     "name": "stdout",
     "output_type": "stream",
     "text": [
      "14\n"
     ]
    },
    {
     "data": {
      "text/html": [
       "<div>\n",
       "<style scoped>\n",
       "    .dataframe tbody tr th:only-of-type {\n",
       "        vertical-align: middle;\n",
       "    }\n",
       "\n",
       "    .dataframe tbody tr th {\n",
       "        vertical-align: top;\n",
       "    }\n",
       "\n",
       "    .dataframe thead th {\n",
       "        text-align: right;\n",
       "    }\n",
       "</style>\n",
       "<table border=\"1\" class=\"dataframe\">\n",
       "  <thead>\n",
       "    <tr style=\"text-align: right;\">\n",
       "      <th></th>\n",
       "      <th>aTagContent</th>\n",
       "      <th>href</th>\n",
       "      <th>keys</th>\n",
       "      <th>attributes</th>\n",
       "      <th>key_attr</th>\n",
       "      <th>trun_href</th>\n",
       "      <th>candidateMatch</th>\n",
       "      <th>len_aTagContent</th>\n",
       "      <th>len_aTagContent_qt</th>\n",
       "      <th>len_aTagContent_group_between 60 and 175</th>\n",
       "      <th>len_aTagContent_group_over 175</th>\n",
       "      <th>len_aTagContent_group_under 60</th>\n",
       "      <th>len_href</th>\n",
       "    </tr>\n",
       "  </thead>\n",
       "  <tbody>\n",
       "    <tr>\n",
       "      <th>4372</th>\n",
       "      <td>Next</td>\n",
       "      <td>/careers/jobs/?offices%5B0%5D=Altoona%2C+IA&amp;of...</td>\n",
       "      <td>dict_keys(['role', 'class', 'href', 'id'])</td>\n",
       "      <td>dict_values(['button', ['_42ft', '_3nu9', '_3n...</td>\n",
       "      <td>{'role': 'button', 'class': ['_42ft', '_3nu9',...</td>\n",
       "      <td>/careers/jobs/?offices%5B</td>\n",
       "      <td>0.0</td>\n",
       "      <td>4</td>\n",
       "      <td>0.034535</td>\n",
       "      <td>0</td>\n",
       "      <td>0</td>\n",
       "      <td>1</td>\n",
       "      <td>1484</td>\n",
       "    </tr>\n",
       "    <tr>\n",
       "      <th>4491</th>\n",
       "      <td>Prev</td>\n",
       "      <td>/careers/jobs/?offices%5B0%5D=Altoona%2C+IA&amp;of...</td>\n",
       "      <td>dict_keys(['role', 'class', 'href', 'id'])</td>\n",
       "      <td>dict_values(['button', ['_42ft', '_3nu9', '_3n...</td>\n",
       "      <td>{'role': 'button', 'class': ['_42ft', '_3nu9',...</td>\n",
       "      <td>/careers/jobs/?offices%5B</td>\n",
       "      <td>0.0</td>\n",
       "      <td>4</td>\n",
       "      <td>0.034535</td>\n",
       "      <td>0</td>\n",
       "      <td>0</td>\n",
       "      <td>1</td>\n",
       "      <td>1484</td>\n",
       "    </tr>\n",
       "    <tr>\n",
       "      <th>4492</th>\n",
       "      <td>Next</td>\n",
       "      <td>/careers/jobs/?offices%5B0%5D=Altoona%2C+IA&amp;of...</td>\n",
       "      <td>dict_keys(['role', 'class', 'href', 'id'])</td>\n",
       "      <td>dict_values(['button', ['_42ft', '_3nu9', '_3n...</td>\n",
       "      <td>{'role': 'button', 'class': ['_42ft', '_3nu9',...</td>\n",
       "      <td>/careers/jobs/?offices%5B</td>\n",
       "      <td>0.0</td>\n",
       "      <td>4</td>\n",
       "      <td>0.034535</td>\n",
       "      <td>0</td>\n",
       "      <td>0</td>\n",
       "      <td>1</td>\n",
       "      <td>1484</td>\n",
       "    </tr>\n",
       "    <tr>\n",
       "      <th>4597</th>\n",
       "      <td>Next</td>\n",
       "      <td>/careers/jobs/?offices%5B0%5D=Altoona%2C+IA&amp;of...</td>\n",
       "      <td>dict_keys(['role', 'class', 'href', 'id'])</td>\n",
       "      <td>dict_values(['button', ['_42ft', '_3nu9', '_3n...</td>\n",
       "      <td>{'role': 'button', 'class': ['_42ft', '_3nu9',...</td>\n",
       "      <td>/careers/jobs/?offices%5B</td>\n",
       "      <td>0.0</td>\n",
       "      <td>4</td>\n",
       "      <td>0.034535</td>\n",
       "      <td>0</td>\n",
       "      <td>0</td>\n",
       "      <td>1</td>\n",
       "      <td>1484</td>\n",
       "    </tr>\n",
       "    <tr>\n",
       "      <th>4693</th>\n",
       "      <td>Next</td>\n",
       "      <td>/careers/jobs/?offices%5B0%5D=Altoona%2C+IA&amp;of...</td>\n",
       "      <td>dict_keys(['role', 'class', 'href', 'id'])</td>\n",
       "      <td>dict_values(['button', ['_42ft', '_3nu9', '_3n...</td>\n",
       "      <td>{'role': 'button', 'class': ['_42ft', '_3nu9',...</td>\n",
       "      <td>/careers/jobs/?offices%5B</td>\n",
       "      <td>0.0</td>\n",
       "      <td>4</td>\n",
       "      <td>0.034535</td>\n",
       "      <td>0</td>\n",
       "      <td>0</td>\n",
       "      <td>1</td>\n",
       "      <td>1484</td>\n",
       "    </tr>\n",
       "    <tr>\n",
       "      <th>4773</th>\n",
       "      <td>Next</td>\n",
       "      <td>/careers/jobs/?offices%5B0%5D=Altoona%2C+IA&amp;of...</td>\n",
       "      <td>dict_keys(['role', 'class', 'href', 'id'])</td>\n",
       "      <td>dict_values(['button', ['_42ft', '_3nu9', '_3n...</td>\n",
       "      <td>{'role': 'button', 'class': ['_42ft', '_3nu9',...</td>\n",
       "      <td>/careers/jobs/?offices%5B</td>\n",
       "      <td>0.0</td>\n",
       "      <td>4</td>\n",
       "      <td>0.034535</td>\n",
       "      <td>0</td>\n",
       "      <td>0</td>\n",
       "      <td>1</td>\n",
       "      <td>1484</td>\n",
       "    </tr>\n",
       "    <tr>\n",
       "      <th>4871</th>\n",
       "      <td>Next</td>\n",
       "      <td>/careers/jobs/?offices%5B0%5D=Altoona%2C+IA&amp;of...</td>\n",
       "      <td>dict_keys(['role', 'class', 'href', 'id'])</td>\n",
       "      <td>dict_values(['button', ['_42ft', '_3nu9', '_3n...</td>\n",
       "      <td>{'role': 'button', 'class': ['_42ft', '_3nu9',...</td>\n",
       "      <td>/careers/jobs/?offices%5B</td>\n",
       "      <td>0.0</td>\n",
       "      <td>4</td>\n",
       "      <td>0.034535</td>\n",
       "      <td>0</td>\n",
       "      <td>0</td>\n",
       "      <td>1</td>\n",
       "      <td>1484</td>\n",
       "    </tr>\n",
       "    <tr>\n",
       "      <th>4940</th>\n",
       "      <td>Next</td>\n",
       "      <td>/careers/jobs/?offices%5B0%5D=Altoona%2C+IA&amp;of...</td>\n",
       "      <td>dict_keys(['role', 'class', 'href', 'id'])</td>\n",
       "      <td>dict_values(['button', ['_42ft', '_3nu9', '_3n...</td>\n",
       "      <td>{'role': 'button', 'class': ['_42ft', '_3nu9',...</td>\n",
       "      <td>/careers/jobs/?offices%5B</td>\n",
       "      <td>0.0</td>\n",
       "      <td>4</td>\n",
       "      <td>0.034535</td>\n",
       "      <td>0</td>\n",
       "      <td>0</td>\n",
       "      <td>1</td>\n",
       "      <td>1484</td>\n",
       "    </tr>\n",
       "    <tr>\n",
       "      <th>5017</th>\n",
       "      <td>Next</td>\n",
       "      <td>/careers/jobs/?offices%5B0%5D=Altoona%2C+IA&amp;of...</td>\n",
       "      <td>dict_keys(['role', 'class', 'href', 'id'])</td>\n",
       "      <td>dict_values(['button', ['_42ft', '_3nu9', '_3n...</td>\n",
       "      <td>{'role': 'button', 'class': ['_42ft', '_3nu9',...</td>\n",
       "      <td>/careers/jobs/?offices%5B</td>\n",
       "      <td>0.0</td>\n",
       "      <td>4</td>\n",
       "      <td>0.034535</td>\n",
       "      <td>0</td>\n",
       "      <td>0</td>\n",
       "      <td>1</td>\n",
       "      <td>1484</td>\n",
       "    </tr>\n",
       "    <tr>\n",
       "      <th>5121</th>\n",
       "      <td>Next</td>\n",
       "      <td>/careers/jobs/?offices%5B0%5D=Altoona%2C+IA&amp;of...</td>\n",
       "      <td>dict_keys(['role', 'class', 'href', 'id'])</td>\n",
       "      <td>dict_values(['button', ['_42ft', '_3nu9', '_3n...</td>\n",
       "      <td>{'role': 'button', 'class': ['_42ft', '_3nu9',...</td>\n",
       "      <td>/careers/jobs/?offices%5B</td>\n",
       "      <td>0.0</td>\n",
       "      <td>4</td>\n",
       "      <td>0.034535</td>\n",
       "      <td>0</td>\n",
       "      <td>0</td>\n",
       "      <td>1</td>\n",
       "      <td>1485</td>\n",
       "    </tr>\n",
       "    <tr>\n",
       "      <th>5213</th>\n",
       "      <td>Next</td>\n",
       "      <td>/careers/jobs/?offices%5B0%5D=Altoona%2C+IA&amp;of...</td>\n",
       "      <td>dict_keys(['role', 'class', 'href', 'id'])</td>\n",
       "      <td>dict_values(['button', ['_42ft', '_3nu9', '_3n...</td>\n",
       "      <td>{'role': 'button', 'class': ['_42ft', '_3nu9',...</td>\n",
       "      <td>/careers/jobs/?offices%5B</td>\n",
       "      <td>0.0</td>\n",
       "      <td>4</td>\n",
       "      <td>0.034535</td>\n",
       "      <td>0</td>\n",
       "      <td>0</td>\n",
       "      <td>1</td>\n",
       "      <td>1485</td>\n",
       "    </tr>\n",
       "    <tr>\n",
       "      <th>5253</th>\n",
       "      <td>Next</td>\n",
       "      <td>/careers/jobs/?offices%5B0%5D=Altoona%2C+IA&amp;of...</td>\n",
       "      <td>dict_keys(['role', 'class', 'href', 'id'])</td>\n",
       "      <td>dict_values(['button', ['_42ft', '_3nu9', '_3n...</td>\n",
       "      <td>{'role': 'button', 'class': ['_42ft', '_3nu9',...</td>\n",
       "      <td>/careers/jobs/?offices%5B</td>\n",
       "      <td>0.0</td>\n",
       "      <td>4</td>\n",
       "      <td>0.034535</td>\n",
       "      <td>0</td>\n",
       "      <td>0</td>\n",
       "      <td>1</td>\n",
       "      <td>1485</td>\n",
       "    </tr>\n",
       "    <tr>\n",
       "      <th>5328</th>\n",
       "      <td>Next</td>\n",
       "      <td>/careers/jobs/?offices%5B0%5D=Altoona%2C+IA&amp;of...</td>\n",
       "      <td>dict_keys(['role', 'class', 'href', 'id'])</td>\n",
       "      <td>dict_values(['button', ['_42ft', '_3nu9', '_3n...</td>\n",
       "      <td>{'role': 'button', 'class': ['_42ft', '_3nu9',...</td>\n",
       "      <td>/careers/jobs/?offices%5B</td>\n",
       "      <td>0.0</td>\n",
       "      <td>4</td>\n",
       "      <td>0.034535</td>\n",
       "      <td>0</td>\n",
       "      <td>0</td>\n",
       "      <td>1</td>\n",
       "      <td>1485</td>\n",
       "    </tr>\n",
       "    <tr>\n",
       "      <th>5391</th>\n",
       "      <td>Next</td>\n",
       "      <td>/careers/jobs/?offices%5B0%5D=Altoona%2C+IA&amp;of...</td>\n",
       "      <td>dict_keys(['role', 'class', 'href', 'id'])</td>\n",
       "      <td>dict_values(['button', ['_42ft', '_3nu9', '_3n...</td>\n",
       "      <td>{'role': 'button', 'class': ['_42ft', '_3nu9',...</td>\n",
       "      <td>/careers/jobs/?offices%5B</td>\n",
       "      <td>0.0</td>\n",
       "      <td>4</td>\n",
       "      <td>0.034535</td>\n",
       "      <td>0</td>\n",
       "      <td>0</td>\n",
       "      <td>1</td>\n",
       "      <td>1485</td>\n",
       "    </tr>\n",
       "  </tbody>\n",
       "</table>\n",
       "</div>"
      ],
      "text/plain": [
       "     aTagContent                                               href  \\\n",
       "4372        Next  /careers/jobs/?offices%5B0%5D=Altoona%2C+IA&of...   \n",
       "4491        Prev  /careers/jobs/?offices%5B0%5D=Altoona%2C+IA&of...   \n",
       "4492        Next  /careers/jobs/?offices%5B0%5D=Altoona%2C+IA&of...   \n",
       "4597        Next  /careers/jobs/?offices%5B0%5D=Altoona%2C+IA&of...   \n",
       "4693        Next  /careers/jobs/?offices%5B0%5D=Altoona%2C+IA&of...   \n",
       "4773        Next  /careers/jobs/?offices%5B0%5D=Altoona%2C+IA&of...   \n",
       "4871        Next  /careers/jobs/?offices%5B0%5D=Altoona%2C+IA&of...   \n",
       "4940        Next  /careers/jobs/?offices%5B0%5D=Altoona%2C+IA&of...   \n",
       "5017        Next  /careers/jobs/?offices%5B0%5D=Altoona%2C+IA&of...   \n",
       "5121        Next  /careers/jobs/?offices%5B0%5D=Altoona%2C+IA&of...   \n",
       "5213        Next  /careers/jobs/?offices%5B0%5D=Altoona%2C+IA&of...   \n",
       "5253        Next  /careers/jobs/?offices%5B0%5D=Altoona%2C+IA&of...   \n",
       "5328        Next  /careers/jobs/?offices%5B0%5D=Altoona%2C+IA&of...   \n",
       "5391        Next  /careers/jobs/?offices%5B0%5D=Altoona%2C+IA&of...   \n",
       "\n",
       "                                            keys  \\\n",
       "4372  dict_keys(['role', 'class', 'href', 'id'])   \n",
       "4491  dict_keys(['role', 'class', 'href', 'id'])   \n",
       "4492  dict_keys(['role', 'class', 'href', 'id'])   \n",
       "4597  dict_keys(['role', 'class', 'href', 'id'])   \n",
       "4693  dict_keys(['role', 'class', 'href', 'id'])   \n",
       "4773  dict_keys(['role', 'class', 'href', 'id'])   \n",
       "4871  dict_keys(['role', 'class', 'href', 'id'])   \n",
       "4940  dict_keys(['role', 'class', 'href', 'id'])   \n",
       "5017  dict_keys(['role', 'class', 'href', 'id'])   \n",
       "5121  dict_keys(['role', 'class', 'href', 'id'])   \n",
       "5213  dict_keys(['role', 'class', 'href', 'id'])   \n",
       "5253  dict_keys(['role', 'class', 'href', 'id'])   \n",
       "5328  dict_keys(['role', 'class', 'href', 'id'])   \n",
       "5391  dict_keys(['role', 'class', 'href', 'id'])   \n",
       "\n",
       "                                             attributes  \\\n",
       "4372  dict_values(['button', ['_42ft', '_3nu9', '_3n...   \n",
       "4491  dict_values(['button', ['_42ft', '_3nu9', '_3n...   \n",
       "4492  dict_values(['button', ['_42ft', '_3nu9', '_3n...   \n",
       "4597  dict_values(['button', ['_42ft', '_3nu9', '_3n...   \n",
       "4693  dict_values(['button', ['_42ft', '_3nu9', '_3n...   \n",
       "4773  dict_values(['button', ['_42ft', '_3nu9', '_3n...   \n",
       "4871  dict_values(['button', ['_42ft', '_3nu9', '_3n...   \n",
       "4940  dict_values(['button', ['_42ft', '_3nu9', '_3n...   \n",
       "5017  dict_values(['button', ['_42ft', '_3nu9', '_3n...   \n",
       "5121  dict_values(['button', ['_42ft', '_3nu9', '_3n...   \n",
       "5213  dict_values(['button', ['_42ft', '_3nu9', '_3n...   \n",
       "5253  dict_values(['button', ['_42ft', '_3nu9', '_3n...   \n",
       "5328  dict_values(['button', ['_42ft', '_3nu9', '_3n...   \n",
       "5391  dict_values(['button', ['_42ft', '_3nu9', '_3n...   \n",
       "\n",
       "                                               key_attr  \\\n",
       "4372  {'role': 'button', 'class': ['_42ft', '_3nu9',...   \n",
       "4491  {'role': 'button', 'class': ['_42ft', '_3nu9',...   \n",
       "4492  {'role': 'button', 'class': ['_42ft', '_3nu9',...   \n",
       "4597  {'role': 'button', 'class': ['_42ft', '_3nu9',...   \n",
       "4693  {'role': 'button', 'class': ['_42ft', '_3nu9',...   \n",
       "4773  {'role': 'button', 'class': ['_42ft', '_3nu9',...   \n",
       "4871  {'role': 'button', 'class': ['_42ft', '_3nu9',...   \n",
       "4940  {'role': 'button', 'class': ['_42ft', '_3nu9',...   \n",
       "5017  {'role': 'button', 'class': ['_42ft', '_3nu9',...   \n",
       "5121  {'role': 'button', 'class': ['_42ft', '_3nu9',...   \n",
       "5213  {'role': 'button', 'class': ['_42ft', '_3nu9',...   \n",
       "5253  {'role': 'button', 'class': ['_42ft', '_3nu9',...   \n",
       "5328  {'role': 'button', 'class': ['_42ft', '_3nu9',...   \n",
       "5391  {'role': 'button', 'class': ['_42ft', '_3nu9',...   \n",
       "\n",
       "                      trun_href  candidateMatch  len_aTagContent  \\\n",
       "4372  /careers/jobs/?offices%5B             0.0                4   \n",
       "4491  /careers/jobs/?offices%5B             0.0                4   \n",
       "4492  /careers/jobs/?offices%5B             0.0                4   \n",
       "4597  /careers/jobs/?offices%5B             0.0                4   \n",
       "4693  /careers/jobs/?offices%5B             0.0                4   \n",
       "4773  /careers/jobs/?offices%5B             0.0                4   \n",
       "4871  /careers/jobs/?offices%5B             0.0                4   \n",
       "4940  /careers/jobs/?offices%5B             0.0                4   \n",
       "5017  /careers/jobs/?offices%5B             0.0                4   \n",
       "5121  /careers/jobs/?offices%5B             0.0                4   \n",
       "5213  /careers/jobs/?offices%5B             0.0                4   \n",
       "5253  /careers/jobs/?offices%5B             0.0                4   \n",
       "5328  /careers/jobs/?offices%5B             0.0                4   \n",
       "5391  /careers/jobs/?offices%5B             0.0                4   \n",
       "\n",
       "      len_aTagContent_qt  len_aTagContent_group_between 60 and 175  \\\n",
       "4372            0.034535                                         0   \n",
       "4491            0.034535                                         0   \n",
       "4492            0.034535                                         0   \n",
       "4597            0.034535                                         0   \n",
       "4693            0.034535                                         0   \n",
       "4773            0.034535                                         0   \n",
       "4871            0.034535                                         0   \n",
       "4940            0.034535                                         0   \n",
       "5017            0.034535                                         0   \n",
       "5121            0.034535                                         0   \n",
       "5213            0.034535                                         0   \n",
       "5253            0.034535                                         0   \n",
       "5328            0.034535                                         0   \n",
       "5391            0.034535                                         0   \n",
       "\n",
       "      len_aTagContent_group_over 175  len_aTagContent_group_under 60  len_href  \n",
       "4372                               0                               1      1484  \n",
       "4491                               0                               1      1484  \n",
       "4492                               0                               1      1484  \n",
       "4597                               0                               1      1484  \n",
       "4693                               0                               1      1484  \n",
       "4773                               0                               1      1484  \n",
       "4871                               0                               1      1484  \n",
       "4940                               0                               1      1484  \n",
       "5017                               0                               1      1484  \n",
       "5121                               0                               1      1485  \n",
       "5213                               0                               1      1485  \n",
       "5253                               0                               1      1485  \n",
       "5328                               0                               1      1485  \n",
       "5391                               0                               1      1485  "
      ]
     },
     "execution_count": 32,
     "metadata": {},
     "output_type": "execute_result"
    }
   ],
   "source": [
    "# let's check this 1400 char long href\n",
    "print(len(df[df.len_href>1200].index))\n",
    "df[df.len_href>1200]"
   ]
  },
  {
   "cell_type": "code",
   "execution_count": 33,
   "metadata": {},
   "outputs": [
    {
     "data": {
      "text/plain": [
       "'/careers/jobs/?offices%5B0%5D=Altoona%2C+IA&offices%5B1%5D=Ashburn%2C+VA&offices%5B2%5D=Atlanta%2C+GA&offices%5B3%5D=Austin%2C+TX&offices%5B4%5D=Boston%2C+MA&offices%5B5%5D=Chicago%2C+IL&offices%5B6%5D=Dallas%2C+TX&offices%5B7%5D=DeKalb%2C+IL&offices%5B8%5D=Denver%2C+CO&offices%5B9%5D=Detroit%2C+MI&offices%5B10%5D=Eagle+Mountain%2C+Utah&offices%5B11%5D=Forest+City%2C+NC&offices%5B12%5D=Fort+Worth%2C+TX&offices%5B13%5D=Fremont%2C+CA&offices%5B14%5D=Gallatin%2C+TN&offices%5B15%5D=Henrico%2C+VA&offices%5B16%5D=Huntsville%2C+AL&offices%5B17%5D=Los+Angeles%2C+CA&offices%5B18%5D=Los+Lunas%2C+NM&offices%5B19%5D=Menlo+Park%2C+CA&offices%5B20%5D=Miami%2C+Florida&offices%5B21%5D=Montreal%2C+Canada&offices%5B22%5D=Mountain+View%2C+CA&offices%5B23%5D=New+Albany%2C+OH&offices%5B24%5D=New+York%2C+NY&offices%5B25%5D=Newton+County%2C+GA&offices%5B26%5D=Northridge%2C+CA&offices%5B27%5D=Papillion%2C+NE&offices%5B28%5D=Pittsburgh%2C+PA&offices%5B29%5D=Prineville%2C+OR&offices%5B30%5D=Redmond%2C+WA&offices%5B31%5D=Remote%2C+US+Eastern%2C+Mountain+%26+Central+Regions&offices%5B32%5D=Remote%2C+US+Western%2C+Mountain+%26+Central+Regions&offices%5B33%5D=Reston%2C+VA&offices%5B34%5D=San+Francisco%2C+CA&offices%5B35%5D=Santa+Clara%2C+CA&offices%5B36%5D=Sausalito%2C+CA&offices%5B37%5D=Seattle%2C+WA&offices%5B38%5D=Sunnyvale%2C+CA&offices%5B39%5D=Toronto%2C+Canada&offices%5B40%5D=Vancouver%2C+Canada&offices%5B41%5D=Washington%2C+DC&is_leadership=0&page=3&results_per_page=100&is_in_page=0'"
      ]
     },
     "execution_count": 33,
     "metadata": {},
     "output_type": "execute_result"
    }
   ],
   "source": [
    "df['href'][4492]"
   ]
  },
  {
   "cell_type": "code",
   "execution_count": 34,
   "metadata": {
    "scrolled": true
   },
   "outputs": [
    {
     "data": {
      "image/png": "[encoded data removed]",
      "text/plain": [
       "<Figure size 432x288 with 1 Axes>"
      ]
     },
     "metadata": {
      "needs_background": "light"
     },
     "output_type": "display_data"
    }
   ],
   "source": [
    "len_href_qt = qt.fit_transform(df.len_href.values.reshape(-1, 1))\n",
    "\n",
    "plt.hist(len_href_qt, 50,density=True, facecolor='g', alpha=0.75)\n",
    "plt.xlim(0, 1)\n",
    "plt.show()"
   ]
  },
  {
   "cell_type": "code",
   "execution_count": 35,
   "metadata": {},
   "outputs": [],
   "source": [
    "df['len_href_qt'] = len_href_qt"
   ]
  },
  {
   "cell_type": "code",
   "execution_count": 36,
   "metadata": {},
   "outputs": [
    {
     "data": {
      "text/plain": [
       "<Figure size 648x432 with 0 Axes>"
      ]
     },
     "metadata": {},
     "output_type": "display_data"
    },
    {
     "data": {
      "image/png": "[encoded data removed]",
      "text/plain": [
       "<Figure size 432x288 with 1 Axes>"
      ]
     },
     "metadata": {
      "needs_background": "light"
     },
     "output_type": "display_data"
    }
   ],
   "source": [
    "matches = df[['len_href','candidateMatch']].groupby('len_href').agg('mean')\n",
    "\n",
    "\n",
    "plt.figure(figsize=(9,6))\n",
    "matches.plot.line()\n",
    "plt.xlim(0, 300)\n",
    "plt.xticks(rotation=90)\n",
    "plt.xlabel(\"href lenght\")\n",
    "plt.ylabel(\"% of job links\")\n",
    "plt.title(\"job link per lenght of href\")\n",
    "plt.show()"
   ]
  },
  {
   "cell_type": "code",
   "execution_count": 37,
   "metadata": {},
   "outputs": [
    {
     "data": {
      "text/plain": [
       "Text(0.5, 1.0, 'Boxplot len_href_qt')"
      ]
     },
     "execution_count": 37,
     "metadata": {},
     "output_type": "execute_result"
    },
    {
     "data": {
      "image/png": "[encoded data removed]",
      "text/plain": [
       "<Figure size 1080x432 with 2 Axes>"
      ]
     },
     "metadata": {
      "needs_background": "light"
     },
     "output_type": "display_data"
    }
   ],
   "source": [
    "fig, axes = plt.subplots(1, 2, figsize=(15, 6))\n",
    "\n",
    "fig.suptitle('Distribution of job links by length of href:')\n",
    "\n",
    "sns.boxplot(ax=axes[0], x='candidateMatch', y='len_href', data=df).set_title('Boxplot - len_href')\n",
    "\n",
    "sns.boxplot(ax=axes[1], x='candidateMatch', y='len_href_qt', data=df).set_title('Boxplot len_href_qt')"
   ]
  },
  {
   "cell_type": "markdown",
   "metadata": {},
   "source": [
    "Although there is a lot of overlap between the two classes, job links have a slightly larger hrefs. Let's separate them by groups to test if the correlation increases."
   ]
  },
  {
   "cell_type": "code",
   "execution_count": 38,
   "metadata": {},
   "outputs": [
    {
     "data": {
      "image/png": "[encoded data removed]",
      "text/plain": [
       "<Figure size 432x288 with 1 Axes>"
      ]
     },
     "metadata": {
      "needs_background": "light"
     },
     "output_type": "display_data"
    }
   ],
   "source": [
    "df['len_href_group'] = np.where(df['len_href']<80,'under 80',\n",
    "                                np.where(df['len_href']<=125,'between 80 and 125',\n",
    "                                         'over 125'\n",
    "                                         )\n",
    "                                )\n",
    "\n",
    "# ploting the hist for len_href_group\n",
    "\n",
    "cat_num = df['len_href_group'].value_counts()\n",
    "\n",
    "ax = sns.barplot(x=cat_num.index,y=cat_num).set_title('Distribution of href len groups')\n",
    "\n",
    "\n",
    "df = pd.get_dummies(df,columns=['len_href_group'])"
   ]
  },
  {
   "cell_type": "markdown",
   "metadata": {},
   "source": [
    "# Keys"
   ]
  },
  {
   "cell_type": "code",
   "execution_count": 39,
   "metadata": {},
   "outputs": [
    {
     "data": {
      "text/plain": [
       "0             dict_keys(['href'])\n",
       "1    dict_keys(['class', 'href'])\n",
       "2    dict_keys(['class', 'href'])\n",
       "3             dict_keys(['href'])\n",
       "4             dict_keys(['href'])\n",
       "Name: keys, dtype: object"
      ]
     },
     "execution_count": 39,
     "metadata": {},
     "output_type": "execute_result"
    }
   ],
   "source": [
    "df['keys'].head()"
   ]
  },
  {
   "cell_type": "markdown",
   "metadata": {},
   "source": [
    "1 - get rid of the dict characters - keep only keys (do not split 2 word keys).<br>\n",
    "2 - evaluate how many different keys we have. <br>\n",
    "3 - check keys that have a higher candidateMatch rate (over the avg of dataset). <br>\n",
    "4 - add a feature: number of keys.<br>"
   ]
  },
  {
   "cell_type": "code",
   "execution_count": 40,
   "metadata": {},
   "outputs": [
    {
     "data": {
      "text/plain": [
       "0          href\n",
       "1    class href\n",
       "2    class href\n",
       "3          href\n",
       "4          href\n",
       "Name: keys, dtype: object"
      ]
     },
     "execution_count": 40,
     "metadata": {},
     "output_type": "execute_result"
    }
   ],
   "source": [
    "# For 1, we are going to use apply with a function we have declared earlier.\n",
    "\n",
    "chars_to_remove = ['dict_keys','(',')','[',']',',',\"'\"]\n",
    "df['keys'] = df['keys'].apply(remove_char,list_of_chars=chars_to_remove)\n",
    "df['keys'].head()"
   ]
  },
  {
   "cell_type": "code",
   "execution_count": 41,
   "metadata": {
    "scrolled": true
   },
   "outputs": [
    {
     "data": {
      "text/plain": [
       "href              8817\n",
       "class             5474\n",
       "target            2237\n",
       "style             1736\n",
       "title              943\n",
       "rel                914\n",
       "id                 912\n",
       "data-lynx-mode     741\n",
       "aria-label         652\n",
       "role               447\n",
       "dtype: int64"
      ]
     },
     "execution_count": 41,
     "metadata": {},
     "output_type": "execute_result"
    }
   ],
   "source": [
    "# checking the most frequent keys in the dataset.\n",
    "keys = df['keys'].str.split(expand=True).stack().value_counts()\n",
    "keys[:10]"
   ]
  },
  {
   "cell_type": "markdown",
   "metadata": {},
   "source": [
    "As expected, href will be present in every row, since we dropped the few lines that hadn't this value. Now we need to evaluate if there is a correlation between these keys and candidateMatch."
   ]
  },
  {
   "cell_type": "code",
   "execution_count": 42,
   "metadata": {},
   "outputs": [
    {
     "data": {
      "text/html": [
       "<div>\n",
       "<style scoped>\n",
       "    .dataframe tbody tr th:only-of-type {\n",
       "        vertical-align: middle;\n",
       "    }\n",
       "\n",
       "    .dataframe tbody tr th {\n",
       "        vertical-align: top;\n",
       "    }\n",
       "\n",
       "    .dataframe thead th {\n",
       "        text-align: right;\n",
       "    }\n",
       "</style>\n",
       "<table border=\"1\" class=\"dataframe\">\n",
       "  <thead>\n",
       "    <tr style=\"text-align: right;\">\n",
       "      <th></th>\n",
       "      <th>keys</th>\n",
       "      <th>perc_match</th>\n",
       "    </tr>\n",
       "  </thead>\n",
       "  <tbody>\n",
       "    <tr>\n",
       "      <th>21</th>\n",
       "      <td>data-ph-at-job-location-area-text</td>\n",
       "      <td>1.000000</td>\n",
       "    </tr>\n",
       "    <tr>\n",
       "      <th>26</th>\n",
       "      <td>data-ph-at-job-id-text</td>\n",
       "      <td>1.000000</td>\n",
       "    </tr>\n",
       "    <tr>\n",
       "      <th>19</th>\n",
       "      <td>data-ph-at-job-post-date-text</td>\n",
       "      <td>1.000000</td>\n",
       "    </tr>\n",
       "    <tr>\n",
       "      <th>20</th>\n",
       "      <td>data-ph-at-job-category-text</td>\n",
       "      <td>1.000000</td>\n",
       "    </tr>\n",
       "    <tr>\n",
       "      <th>44</th>\n",
       "      <td>\"</td>\n",
       "      <td>1.000000</td>\n",
       "    </tr>\n",
       "    <tr>\n",
       "      <th>22</th>\n",
       "      <td>data-ph-at-job-location-text</td>\n",
       "      <td>1.000000</td>\n",
       "    </tr>\n",
       "    <tr>\n",
       "      <th>24</th>\n",
       "      <td>ph-click-ctx</td>\n",
       "      <td>1.000000</td>\n",
       "    </tr>\n",
       "    <tr>\n",
       "      <th>25</th>\n",
       "      <td>data-ph-at-job-type-text</td>\n",
       "      <td>1.000000</td>\n",
       "    </tr>\n",
       "    <tr>\n",
       "      <th>27</th>\n",
       "      <td>ph-tag</td>\n",
       "      <td>1.000000</td>\n",
       "    </tr>\n",
       "    <tr>\n",
       "      <th>17</th>\n",
       "      <td>data-access-list-item</td>\n",
       "      <td>1.000000</td>\n",
       "    </tr>\n",
       "    <tr>\n",
       "      <th>28</th>\n",
       "      <td>data-ph-at-job-seqno-text</td>\n",
       "      <td>1.000000</td>\n",
       "    </tr>\n",
       "    <tr>\n",
       "      <th>29</th>\n",
       "      <td>data-ph-at-job-industry-text</td>\n",
       "      <td>1.000000</td>\n",
       "    </tr>\n",
       "    <tr>\n",
       "      <th>30</th>\n",
       "      <td>data-ph-at-job-title-text</td>\n",
       "      <td>1.000000</td>\n",
       "    </tr>\n",
       "    <tr>\n",
       "      <th>36</th>\n",
       "      <td>data-job-id</td>\n",
       "      <td>1.000000</td>\n",
       "    </tr>\n",
       "    <tr>\n",
       "      <th>40</th>\n",
       "      <td>{aria_title}</td>\n",
       "      <td>1.000000</td>\n",
       "    </tr>\n",
       "    <tr>\n",
       "      <th>58</th>\n",
       "      <td>property</td>\n",
       "      <td>1.000000</td>\n",
       "    </tr>\n",
       "    <tr>\n",
       "      <th>18</th>\n",
       "      <td>ph-tref</td>\n",
       "      <td>1.000000</td>\n",
       "    </tr>\n",
       "    <tr>\n",
       "      <th>42</th>\n",
       "      <td>data-mapped</td>\n",
       "      <td>1.000000</td>\n",
       "    </tr>\n",
       "    <tr>\n",
       "      <th>86</th>\n",
       "      <td>_ngcontent-fdw-c122</td>\n",
       "      <td>1.000000</td>\n",
       "    </tr>\n",
       "    <tr>\n",
       "      <th>10</th>\n",
       "      <td>hreflang</td>\n",
       "      <td>0.990385</td>\n",
       "    </tr>\n",
       "  </tbody>\n",
       "</table>\n",
       "</div>"
      ],
      "text/plain": [
       "                                 keys  perc_match\n",
       "21  data-ph-at-job-location-area-text    1.000000\n",
       "26             data-ph-at-job-id-text    1.000000\n",
       "19      data-ph-at-job-post-date-text    1.000000\n",
       "20       data-ph-at-job-category-text    1.000000\n",
       "44                                  \"    1.000000\n",
       "22       data-ph-at-job-location-text    1.000000\n",
       "24                       ph-click-ctx    1.000000\n",
       "25           data-ph-at-job-type-text    1.000000\n",
       "27                             ph-tag    1.000000\n",
       "17              data-access-list-item    1.000000\n",
       "28          data-ph-at-job-seqno-text    1.000000\n",
       "29       data-ph-at-job-industry-text    1.000000\n",
       "30          data-ph-at-job-title-text    1.000000\n",
       "36                        data-job-id    1.000000\n",
       "40                       {aria_title}    1.000000\n",
       "58                           property    1.000000\n",
       "18                            ph-tref    1.000000\n",
       "42                        data-mapped    1.000000\n",
       "86                _ngcontent-fdw-c122    1.000000\n",
       "10                           hreflang    0.990385"
      ]
     },
     "execution_count": 42,
     "metadata": {},
     "output_type": "execute_result"
    }
   ],
   "source": [
    "perc_match = []\n",
    "keys_check = []\n",
    "\n",
    "# For every key term, we will check keys in the dataset and calculate how often they are related to a job link.\n",
    "for key in keys.index:\n",
    "    positive = 0\n",
    "    frequency = 0\n",
    "    for i in range(len(df.index)):\n",
    "        \n",
    "        if key in df['keys'][i]:\n",
    "            frequency += 1            \n",
    "            if df['candidateMatch'][i]==1:\n",
    "                positive += 1\n",
    "    perc_match.append(positive/frequency)\n",
    "    keys_check.append(key)\n",
    "\n",
    "df_keys = pd.DataFrame(columns=['keys','perc_match','above_avg_match'])\n",
    "\n",
    "# Calculating the percentege of job links in the dataset\n",
    "candidateMatch_frequency = (df['candidateMatch'].sum() / len(df.index))\n",
    "\n",
    "df_keys['keys'] = keys_check\n",
    "df_keys['perc_match'] = perc_match\n",
    "\n",
    "# comparing the key frequency in job links vs the avg job link % in the dataset\n",
    "df_keys['above_avg_match'] = np.where(df_keys['perc_match']>candidateMatch_frequency,1,0)\n",
    "\n",
    "df_keys[['keys','perc_match']].sort_values(by='perc_match',ascending=False)[0:20]"
   ]
  },
  {
   "cell_type": "markdown",
   "metadata": {},
   "source": [
    "Let's check how these keys are distributed among companies."
   ]
  },
  {
   "cell_type": "code",
   "execution_count": 43,
   "metadata": {},
   "outputs": [
    {
     "data": {
      "text/plain": [
       "Facebook                              1704\n",
       "TD Bank Group                            6\n",
       "later                                    3\n",
       "ABB Inc.                                 3\n",
       "Canada Life Assurance Company, The       2\n",
       "Name: company, dtype: int64"
      ]
     },
     "execution_count": 43,
     "metadata": {},
     "output_type": "execute_result"
    }
   ],
   "source": [
    "df_backup[df_backup['keys'].str.contains('style')]['company'].value_counts().head()"
   ]
  },
  {
   "cell_type": "code",
   "execution_count": 44,
   "metadata": {},
   "outputs": [
    {
     "data": {
      "text/plain": [
       "Okta    416\n",
       "Name: company, dtype: int64"
      ]
     },
     "execution_count": 44,
     "metadata": {},
     "output_type": "execute_result"
    }
   ],
   "source": [
    "df_backup[df_backup['keys'].str.contains('hreflang')]['company'].value_counts().head()"
   ]
  },
  {
   "cell_type": "markdown",
   "metadata": {},
   "source": [
    "The most relevant keys are associated with basically one company, so we should not add this as a feature. Instead, there is a chance the word 'job' will be relevant, since it has a great correlation."
   ]
  },
  {
   "cell_type": "code",
   "execution_count": 45,
   "metadata": {},
   "outputs": [
    {
     "data": {
      "text/plain": [
       "<matplotlib.axes._subplots.AxesSubplot at 0x2410fd0c550>"
      ]
     },
     "execution_count": 45,
     "metadata": {},
     "output_type": "execute_result"
    },
    {
     "data": {
      "image/png": "[encoded data removed]",
      "text/plain": [
       "<Figure size 432x288 with 1 Axes>"
      ]
     },
     "metadata": {
      "needs_background": "light"
     },
     "output_type": "display_data"
    }
   ],
   "source": [
    "df['keys_low'] = df['keys'].apply(lambda x: x.lower())\n",
    "\n",
    "df['key_job_yn'] = np.where(df['keys'].str.contains('job'),1,0)\n",
    "\n",
    "df.drop('keys_low',axis='columns',inplace=True)\n",
    "\n",
    "df['key_job_yn'].hist()"
   ]
  },
  {
   "cell_type": "code",
   "execution_count": 46,
   "metadata": {},
   "outputs": [
    {
     "data": {
      "image/png": "[encoded data removed]",
      "text/plain": [
       "<Figure size 432x288 with 1 Axes>"
      ]
     },
     "metadata": {
      "needs_background": "light"
     },
     "output_type": "display_data"
    }
   ],
   "source": [
    "# ploting the hist for len_href_group\n",
    "\n",
    "cat_num = df[df['key_job_yn']==1]['candidateMatch'].value_counts()\n",
    "\n",
    "ax = sns.barplot(x=cat_num.index,y=cat_num).set_title('Keys with job term per classification')"
   ]
  },
  {
   "cell_type": "markdown",
   "metadata": {},
   "source": [
    "It is not present in many rows, but let's keep this column for now since it always indicates job links. We will handle it later."
   ]
  },
  {
   "cell_type": "markdown",
   "metadata": {},
   "source": [
    "We can also add a 'number of keys' feature"
   ]
  },
  {
   "cell_type": "code",
   "execution_count": 47,
   "metadata": {},
   "outputs": [
    {
     "data": {
      "text/plain": [
       "<matplotlib.axes._subplots.AxesSubplot at 0x2411004feb0>"
      ]
     },
     "execution_count": 47,
     "metadata": {},
     "output_type": "execute_result"
    },
    {
     "data": {
      "image/png": "[encoded data removed]",
      "text/plain": [
       "<Figure size 432x288 with 1 Axes>"
      ]
     },
     "metadata": {
      "needs_background": "light"
     },
     "output_type": "display_data"
    }
   ],
   "source": [
    "df['num_keys'] = df['keys'].apply(lambda x: len(x.split()))\n",
    "\n",
    "\n",
    "df['num_keys'].hist()"
   ]
  },
  {
   "cell_type": "code",
   "execution_count": 48,
   "metadata": {},
   "outputs": [
    {
     "data": {
      "image/png": "[encoded data removed]",
      "text/plain": [
       "<Figure size 432x288 with 1 Axes>"
      ]
     },
     "metadata": {
      "needs_background": "light"
     },
     "output_type": "display_data"
    }
   ],
   "source": [
    "num_keys_qt = qt.fit_transform(df.num_keys.values.reshape(-1, 1))\n",
    "\n",
    "df['num_keys_qt'] = len_href_qt\n",
    "\n",
    "plt.hist(num_keys_qt, 50,density=True, facecolor='g', alpha=0.75)\n",
    "plt.xlim(0, 1)\n",
    "plt.show()"
   ]
  },
  {
   "cell_type": "code",
   "execution_count": 49,
   "metadata": {},
   "outputs": [
    {
     "data": {
      "image/png": "[encoded data removed]",
      "text/plain": [
       "<Figure size 432x288 with 1 Axes>"
      ]
     },
     "metadata": {
      "needs_background": "light"
     },
     "output_type": "display_data"
    }
   ],
   "source": [
    "ax = sns.boxplot(x='candidateMatch', y='num_keys_qt', data=df).set_title('Boxplot - num_keys_qt')"
   ]
  },
  {
   "cell_type": "markdown",
   "metadata": {},
   "source": [
    "# Attributes"
   ]
  },
  {
   "cell_type": "code",
   "execution_count": 50,
   "metadata": {},
   "outputs": [
    {
     "data": {
      "text/plain": [
       "0                                   dict_values(['/'])\n",
       "1    dict_values([['cP--nav__dropdownLink', 'cta--s...\n",
       "2    dict_values([['cP--nav__dropdownLink', 'cP--na...\n",
       "3                          dict_values(['/schedule/'])\n",
       "4               dict_values(['/instagram-analytics/'])\n",
       "Name: attributes, dtype: object"
      ]
     },
     "execution_count": 50,
     "metadata": {},
     "output_type": "execute_result"
    }
   ],
   "source": [
    "df['attributes'].head()"
   ]
  },
  {
   "cell_type": "markdown",
   "metadata": {},
   "source": [
    "1 - The href is repeated in every single line, we should get rid of it.<br>\n",
    "2 - use a similar approach we used for keys.<br>"
   ]
  },
  {
   "cell_type": "code",
   "execution_count": 51,
   "metadata": {},
   "outputs": [
    {
     "data": {
      "text/plain": [
       "0                                                  \n",
       "1    cP--nav__dropdownLink cta--signup u--text--hl \n",
       "2            cP--nav__dropdownLink cP--nav__signIn \n",
       "3                                                  \n",
       "4                                                  \n",
       "Name: attributes, dtype: object"
      ]
     },
     "execution_count": 51,
     "metadata": {},
     "output_type": "execute_result"
    }
   ],
   "source": [
    "# using a custom function to remove the href from the attributes\n",
    "df['attributes'] = df[['attributes','href']].apply(extract_href,axis=1)\n",
    "\n",
    "# expliciting the characters we want to remove at this point (we don't want to break single attr in different words yet)\n",
    "chars_to_remove = ['dict_values','(',')','[',']',',',\"'\"]\n",
    "\n",
    "# removing thee special chras using a custom function\n",
    "df['attributes'] = df['attributes'].apply(remove_char,list_of_chars=chars_to_remove)\n",
    "\n",
    "df['attributes'].head()"
   ]
  },
  {
   "cell_type": "code",
   "execution_count": 52,
   "metadata": {},
   "outputs": [
    {
     "data": {
      "text/plain": [
       "3816"
      ]
     },
     "execution_count": 52,
     "metadata": {},
     "output_type": "execute_result"
    }
   ],
   "source": [
    "attrs = df['attributes'].str.split(expand=True).stack().value_counts()\n",
    "len(attrs)"
   ]
  },
  {
   "cell_type": "code",
   "execution_count": 53,
   "metadata": {
    "scrolled": false
   },
   "outputs": [
    {
     "data": {
      "text/html": [
       "<div>\n",
       "<style scoped>\n",
       "    .dataframe tbody tr th:only-of-type {\n",
       "        vertical-align: middle;\n",
       "    }\n",
       "\n",
       "    .dataframe tbody tr th {\n",
       "        vertical-align: top;\n",
       "    }\n",
       "\n",
       "    .dataframe thead th {\n",
       "        text-align: right;\n",
       "    }\n",
       "</style>\n",
       "<table border=\"1\" class=\"dataframe\">\n",
       "  <thead>\n",
       "    <tr style=\"text-align: right;\">\n",
       "      <th></th>\n",
       "      <th>attrs</th>\n",
       "      <th>perc_match</th>\n",
       "    </tr>\n",
       "  </thead>\n",
       "  <tbody>\n",
       "    <tr>\n",
       "      <th>26</th>\n",
       "      <td>eachJob</td>\n",
       "      <td>1.0</td>\n",
       "    </tr>\n",
       "    <tr>\n",
       "      <th>17</th>\n",
       "      <td>Ontario</td>\n",
       "      <td>1.0</td>\n",
       "    </tr>\n",
       "    <tr>\n",
       "      <th>1</th>\n",
       "      <td>_8sef</td>\n",
       "      <td>1.0</td>\n",
       "    </tr>\n",
       "    <tr>\n",
       "      <th>67</th>\n",
       "      <td>posting:</td>\n",
       "      <td>1.0</td>\n",
       "    </tr>\n",
       "    <tr>\n",
       "      <th>45</th>\n",
       "      <td>lever-job-title</td>\n",
       "      <td>1.0</td>\n",
       "    </tr>\n",
       "    <tr>\n",
       "      <th>89</th>\n",
       "      <td>job-title-link</td>\n",
       "      <td>1.0</td>\n",
       "    </tr>\n",
       "    <tr>\n",
       "      <th>71</th>\n",
       "      <td>font_bold</td>\n",
       "      <td>1.0</td>\n",
       "    </tr>\n",
       "    <tr>\n",
       "      <th>72</th>\n",
       "      <td>job_link</td>\n",
       "      <td>1.0</td>\n",
       "    </tr>\n",
       "    <tr>\n",
       "      <th>35</th>\n",
       "      <td>390</td>\n",
       "      <td>1.0</td>\n",
       "    </tr>\n",
       "    <tr>\n",
       "      <th>34</th>\n",
       "      <td>ph-default-1562241208820-ph-search-results-v25...</td>\n",
       "      <td>1.0</td>\n",
       "    </tr>\n",
       "    <tr>\n",
       "      <th>28</th>\n",
       "      <td>\"getUrllinkEle</td>\n",
       "      <td>1.0</td>\n",
       "    </tr>\n",
       "    <tr>\n",
       "      <th>25</th>\n",
       "      <td>eachJob.jobUrl\"</td>\n",
       "      <td>1.0</td>\n",
       "    </tr>\n",
       "    <tr>\n",
       "      <th>24</th>\n",
       "      <td>linkEle</td>\n",
       "      <td>1.0</td>\n",
       "    </tr>\n",
       "    <tr>\n",
       "      <th>23</th>\n",
       "      <td>job_click</td>\n",
       "      <td>1.0</td>\n",
       "    </tr>\n",
       "    <tr>\n",
       "      <th>22</th>\n",
       "      <td>job-link</td>\n",
       "      <td>1.0</td>\n",
       "    </tr>\n",
       "    <tr>\n",
       "      <th>73</th>\n",
       "      <td>USA</td>\n",
       "      <td>1.0</td>\n",
       "    </tr>\n",
       "    <tr>\n",
       "      <th>65</th>\n",
       "      <td>color-cyan-70</td>\n",
       "      <td>1.0</td>\n",
       "    </tr>\n",
       "    <tr>\n",
       "      <th>2</th>\n",
       "      <td>text-decoration:none;</td>\n",
       "      <td>1.0</td>\n",
       "    </tr>\n",
       "    <tr>\n",
       "      <th>5</th>\n",
       "      <td>jobTitle-link</td>\n",
       "      <td>1.0</td>\n",
       "    </tr>\n",
       "    <tr>\n",
       "      <th>83</th>\n",
       "      <td>job-title</td>\n",
       "      <td>1.0</td>\n",
       "    </tr>\n",
       "  </tbody>\n",
       "</table>\n",
       "</div>"
      ],
      "text/plain": [
       "                                                attrs  perc_match\n",
       "26                                            eachJob         1.0\n",
       "17                                            Ontario         1.0\n",
       "1                                               _8sef         1.0\n",
       "67                                           posting:         1.0\n",
       "45                                    lever-job-title         1.0\n",
       "89                                     job-title-link         1.0\n",
       "71                                          font_bold         1.0\n",
       "72                                           job_link         1.0\n",
       "35                                                390         1.0\n",
       "34  ph-default-1562241208820-ph-search-results-v25...         1.0\n",
       "28                                     \"getUrllinkEle         1.0\n",
       "25                                    eachJob.jobUrl\"         1.0\n",
       "24                                            linkEle         1.0\n",
       "23                                          job_click         1.0\n",
       "22                                           job-link         1.0\n",
       "73                                                USA         1.0\n",
       "65                                      color-cyan-70         1.0\n",
       "2                               text-decoration:none;         1.0\n",
       "5                                       jobTitle-link         1.0\n",
       "83                                          job-title         1.0"
      ]
     },
     "execution_count": 53,
     "metadata": {},
     "output_type": "execute_result"
    }
   ],
   "source": [
    "# Since we have too many attrs, let's only check the relevance of the top 100 more frequent\n",
    "\n",
    "attrs = df['attributes'].str.split(expand=True).stack().value_counts()[:100]\n",
    "\n",
    "perc_match = []\n",
    "attrs_check = []\n",
    "\n",
    "for attr in attrs.index:\n",
    "    positive = 0\n",
    "    frequency = 0\n",
    "    for i in range(len(df.index)):\n",
    "        \n",
    "        if attr in df['attributes'][i]:\n",
    "            frequency += 1            \n",
    "            if df['candidateMatch'][i]==1:\n",
    "                positive += 1\n",
    "    perc_match.append(positive/frequency)\n",
    "    attrs_check.append(attr)\n",
    "\n",
    "df_attrs = pd.DataFrame(columns=['attrs','perc_match','above_avg_match'])\n",
    "\n",
    "candidateMatch_frequency = (df['candidateMatch'].sum() / len(df.index))\n",
    "\n",
    "df_attrs['attrs'] = attrs_check\n",
    "df_attrs['perc_match'] = perc_match\n",
    "df_attrs['above_avg_match'] = np.where(df_attrs['perc_match']>candidateMatch_frequency,1,0)\n",
    "\n",
    "df_attrs[['attrs','perc_match']].sort_values(by='perc_match',ascending=False)[0:20]"
   ]
  },
  {
   "cell_type": "markdown",
   "metadata": {},
   "source": [
    "Again, let's check how these attributes are distributed among companies."
   ]
  },
  {
   "cell_type": "code",
   "execution_count": 54,
   "metadata": {},
   "outputs": [
    {
     "data": {
      "text/plain": [
       "scotiabank                    200\n",
       "Deloitte                      191\n",
       "opentext                      124\n",
       "Rogers Communications Inc.     74\n",
       "Bell Canada                    35\n",
       "Bank of Canada                 20\n",
       "Hatch Ltd.                     12\n",
       "ArcelorMittal Dofasco G.P.      7\n",
       "Danone Canada                   6\n",
       "Volvo                           4\n",
       "Name: company, dtype: int64"
      ]
     },
     "execution_count": 54,
     "metadata": {},
     "output_type": "execute_result"
    }
   ],
   "source": [
    "df_backup[df_backup['attributes'].str.contains('jobTitle-link')]['company'].value_counts()"
   ]
  },
  {
   "cell_type": "code",
   "execution_count": 55,
   "metadata": {},
   "outputs": [
    {
     "data": {
      "text/plain": [
       "Royal Bank of Canada    135\n",
       "Snowflake                38\n",
       "Mars Inc.                15\n",
       "yelp                     10\n",
       "Name: company, dtype: int64"
      ]
     },
     "execution_count": 55,
     "metadata": {},
     "output_type": "execute_result"
    }
   ],
   "source": [
    "df_backup[df_backup['attributes'].str.contains('linkEle')]['company'].value_counts()"
   ]
  },
  {
   "cell_type": "markdown",
   "metadata": {},
   "source": [
    "Again, there is a high chance of overfiting the model, let's add a \"job\" feature instead."
   ]
  },
  {
   "cell_type": "code",
   "execution_count": 56,
   "metadata": {},
   "outputs": [
    {
     "data": {
      "text/plain": [
       "<matplotlib.axes._subplots.AxesSubplot at 0x2411008fc70>"
      ]
     },
     "execution_count": 56,
     "metadata": {},
     "output_type": "execute_result"
    },
    {
     "data": {
      "image/png": "[encoded data removed]",
      "text/plain": [
       "<Figure size 432x288 with 1 Axes>"
      ]
     },
     "metadata": {
      "needs_background": "light"
     },
     "output_type": "display_data"
    }
   ],
   "source": [
    "df['attr_low'] = df['attributes'].apply(lambda x: x.lower())\n",
    "\n",
    "df['attr_job_yn'] = np.where(df['attr_low'].str.contains('job'),1,0)\n",
    "\n",
    "df.drop('attr_low',axis='columns',inplace=True)\n",
    "\n",
    "df[df.candidateMatch==1]['attr_job_yn'].hist()"
   ]
  },
  {
   "cell_type": "code",
   "execution_count": 57,
   "metadata": {},
   "outputs": [
    {
     "data": {
      "text/plain": [
       "Facebook                                             1704\n",
       "doordash                                              404\n",
       "Oracle                                                249\n",
       "scotiabank                                            200\n",
       "Deloitte                                              191\n",
       "Royal Bank of Canada                                  135\n",
       "opentext                                              124\n",
       "shopify                                                75\n",
       "Rogers Communications Inc.                             74\n",
       "TD Bank Group                                          71\n",
       "klick                                                  70\n",
       "Citi Canada                                            61\n",
       "Ernest & young                                         53\n",
       "glu                                                    52\n",
       "Cisco                                                  51\n",
       "loblawdigital                                          47\n",
       "northone                                               43\n",
       "Snowflake                                              38\n",
       "Bell Canada                                            35\n",
       "KPMG                                                   26\n",
       "ABB Inc.                                               24\n",
       "BASF Canada Inc.                                       21\n",
       "loopio                                                 21\n",
       "Bank of Canada                                         20\n",
       "mavencare                                              19\n",
       "later                                                  18\n",
       "Mars Inc.                                              15\n",
       "clearbanc                                              15\n",
       "Procter & Gamble Inc.                                  14\n",
       "PepsiCo Canada                                         14\n",
       "Hatch Ltd.                                             12\n",
       "Capital One Canada                                     12\n",
       "PWC                                                    12\n",
       "remine                                                 11\n",
       "sensibill                                              11\n",
       "loblaw                                                 10\n",
       "yelp                                                   10\n",
       "GlaxoSmithKline Inc. / GSK                              8\n",
       "Agriculture Financial Services Corporation / AFSC       7\n",
       "ArcelorMittal Dofasco G.P.                              7\n",
       "Alberta Health Services / AHS                           6\n",
       "Danone Canada                                           6\n",
       "appnovation                                             6\n",
       "Volvo                                                   4\n",
       "BDO                                                     1\n",
       "Name: company, dtype: int64"
      ]
     },
     "execution_count": 57,
     "metadata": {},
     "output_type": "execute_result"
    }
   ],
   "source": [
    "df_backup[(df_backup.candidateMatch==1)&(df_backup['attributes'].str.contains('job'))]['company'].value_counts()"
   ]
  },
  {
   "cell_type": "markdown",
   "metadata": {},
   "source": [
    "# key_attr"
   ]
  },
  {
   "cell_type": "markdown",
   "metadata": {},
   "source": [
    "This column will be a copy of the previous two. Since we are focusing in simplicity here, we will not check the relevance between key and attr."
   ]
  },
  {
   "cell_type": "code",
   "execution_count": 58,
   "metadata": {},
   "outputs": [],
   "source": [
    "df = df.drop('key_attr',axis='columns')"
   ]
  },
  {
   "cell_type": "markdown",
   "metadata": {},
   "source": [
    "# trun_href"
   ]
  },
  {
   "cell_type": "markdown",
   "metadata": {},
   "source": [
    "This is a \"incomplete\" version of href."
   ]
  },
  {
   "cell_type": "code",
   "execution_count": 59,
   "metadata": {},
   "outputs": [],
   "source": [
    "df = df.drop('trun_href',axis='columns')"
   ]
  },
  {
   "cell_type": "markdown",
   "metadata": {},
   "source": [
    "# Advanced feature engineering"
   ]
  },
  {
   "cell_type": "markdown",
   "metadata": {},
   "source": [
    "We have two goals here <br> \n",
    "1 - Evaluate the correlation and relevance of the features we have. <br>\n",
    "2 - Create a tolkenizer to extract the maximum value of text based features."
   ]
  },
  {
   "cell_type": "code",
   "execution_count": 60,
   "metadata": {},
   "outputs": [],
   "source": [
    "# removing the remaining special characteres that were kept to avoid breaking keys and attrs\n",
    "\n",
    "df['aTagContent'] = df['aTagContent'].apply(specialCharCleaner)\n",
    "df['href'] = df['href'].apply(specialCharCleaner)\n",
    "df['keys'] = df['keys'].apply(specialCharCleaner)\n",
    "df['attributes'] = df['attributes'].apply(specialCharCleaner)"
   ]
  },
  {
   "cell_type": "markdown",
   "metadata": {},
   "source": [
    "Creating a cluster using all text"
   ]
  },
  {
   "cell_type": "code",
   "execution_count": 61,
   "metadata": {},
   "outputs": [],
   "source": [
    "df['all_text'] = df[['aTagContent', 'href', 'keys', 'attributes']].apply(connect_columns,axis=1)\n",
    "df['all_text'] = df['all_text'].apply(remove_numbers)"
   ]
  },
  {
   "cell_type": "code",
   "execution_count": 62,
   "metadata": {},
   "outputs": [
    {
     "name": "stdout",
     "output_type": "stream",
     "text": [
      "Shape of X : (8817, 2000)\n"
     ]
    }
   ],
   "source": [
    "vectorizer = TfidfVectorizer(stop_words='english', max_features = 2000)\n",
    "X = vectorizer.fit_transform(df['all_text'])\n",
    "\n",
    "# getting the shape of X\n",
    "print(\"Shape of X :\", X.shape)"
   ]
  },
  {
   "cell_type": "code",
   "execution_count": 63,
   "metadata": {},
   "outputs": [
    {
     "data": {
      "text/plain": [
       "KMeans(max_iter=100, n_clusters=10, n_init=1)"
      ]
     },
     "execution_count": 63,
     "metadata": {},
     "output_type": "execute_result"
    }
   ],
   "source": [
    "true_k = 10\n",
    "model = KMeans(n_clusters=true_k, init='k-means++', max_iter=100, n_init=1)\n",
    "model.fit(X)"
   ]
  },
  {
   "cell_type": "code",
   "execution_count": 81,
   "metadata": {},
   "outputs": [],
   "source": [
    "df['cluster'] = model.labels_"
   ]
  },
  {
   "cell_type": "code",
   "execution_count": 66,
   "metadata": {},
   "outputs": [],
   "source": [
    "df_backup['cluster'] = df.cluster"
   ]
  },
  {
   "cell_type": "code",
   "execution_count": 80,
   "metadata": {},
   "outputs": [
    {
     "name": "stdout",
     "output_type": "stream",
     "text": [
      "Top terms per cluster:\n",
      "Cluster 0:\n",
      " www\n",
      " square\n",
      " smartrecruiters\n",
      " com\n",
      " https\n",
      "Cluster 1:\n",
      " com\n",
      " https\n",
      " pio\n",
      " lynx\n",
      " hover\n",
      "Cluster 2:\n",
      " sef\n",
      " decoration\n",
      " style\n",
      " text\n",
      " careers\n",
      "Cluster 3:\n",
      " button\n",
      " doordash\n",
      " dujcnx\n",
      " epullk\n",
      " sc\n",
      "Cluster 4:\n",
      " fabout\n",
      " fnews\n",
      " safe\n",
      " fcoronavirus\n",
      " helping\n",
      "Cluster 5:\n",
      " remote\n",
      " eligible\n",
      " hreflang\n",
      " company\n",
      " en\n",
      "Cluster 6:\n",
      " lever\n",
      " submit\n",
      " btn\n",
      " apply\n",
      " jobs\n",
      "Cluster 7:\n",
      " ph\n",
      " data\n",
      " job\n",
      " id\n",
      " text\n",
      "Cluster 8:\n",
      " href\n",
      " link\n",
      " job\n",
      " com\n",
      " class\n",
      "Cluster 9:\n",
      " jobdetail\n",
      " tzname\n",
      " gmt\n",
      " fnew\n",
      " tz\n"
     ]
    }
   ],
   "source": [
    "print(\"Top terms per cluster:\")\n",
    "\n",
    "order_centroids = model.cluster_centers_.argsort()[:, ::-1]\n",
    "terms = vectorizer.get_feature_names()\n",
    "\n",
    "for i in range(true_k):\n",
    "    print(\"Cluster %d:\" % i),\n",
    "    for ind in order_centroids[i, :5]:\n",
    "        print(' %s' % terms[ind]),\n",
    "    print"
   ]
  },
  {
   "cell_type": "code",
   "execution_count": 71,
   "metadata": {},
   "outputs": [
    {
     "data": {
      "text/html": [
       "<div>\n",
       "<style scoped>\n",
       "    .dataframe tbody tr th:only-of-type {\n",
       "        vertical-align: middle;\n",
       "    }\n",
       "\n",
       "    .dataframe tbody tr th {\n",
       "        vertical-align: top;\n",
       "    }\n",
       "\n",
       "    .dataframe thead th {\n",
       "        text-align: right;\n",
       "    }\n",
       "</style>\n",
       "<table border=\"1\" class=\"dataframe\">\n",
       "  <thead>\n",
       "    <tr style=\"text-align: right;\">\n",
       "      <th>candidateMatch</th>\n",
       "      <th>0.0</th>\n",
       "      <th>1.0</th>\n",
       "    </tr>\n",
       "    <tr>\n",
       "      <th>cluster</th>\n",
       "      <th></th>\n",
       "      <th></th>\n",
       "    </tr>\n",
       "  </thead>\n",
       "  <tbody>\n",
       "    <tr>\n",
       "      <th>0</th>\n",
       "      <td>0.373134</td>\n",
       "      <td>0.626866</td>\n",
       "    </tr>\n",
       "    <tr>\n",
       "      <th>1</th>\n",
       "      <td>1.000000</td>\n",
       "      <td>0.000000</td>\n",
       "    </tr>\n",
       "    <tr>\n",
       "      <th>2</th>\n",
       "      <td>0.001757</td>\n",
       "      <td>0.998243</td>\n",
       "    </tr>\n",
       "    <tr>\n",
       "      <th>3</th>\n",
       "      <td>0.385084</td>\n",
       "      <td>0.614916</td>\n",
       "    </tr>\n",
       "    <tr>\n",
       "      <th>4</th>\n",
       "      <td>1.000000</td>\n",
       "      <td>0.000000</td>\n",
       "    </tr>\n",
       "    <tr>\n",
       "      <th>5</th>\n",
       "      <td>0.009780</td>\n",
       "      <td>0.990220</td>\n",
       "    </tr>\n",
       "    <tr>\n",
       "      <th>6</th>\n",
       "      <td>0.225694</td>\n",
       "      <td>0.774306</td>\n",
       "    </tr>\n",
       "    <tr>\n",
       "      <th>7</th>\n",
       "      <td>0.437500</td>\n",
       "      <td>0.562500</td>\n",
       "    </tr>\n",
       "    <tr>\n",
       "      <th>8</th>\n",
       "      <td>0.660076</td>\n",
       "      <td>0.339924</td>\n",
       "    </tr>\n",
       "    <tr>\n",
       "      <th>9</th>\n",
       "      <td>0.000000</td>\n",
       "      <td>1.000000</td>\n",
       "    </tr>\n",
       "  </tbody>\n",
       "</table>\n",
       "</div>"
      ],
      "text/plain": [
       "candidateMatch       0.0       1.0\n",
       "cluster                           \n",
       "0               0.373134  0.626866\n",
       "1               1.000000  0.000000\n",
       "2               0.001757  0.998243\n",
       "3               0.385084  0.614916\n",
       "4               1.000000  0.000000\n",
       "5               0.009780  0.990220\n",
       "6               0.225694  0.774306\n",
       "7               0.437500  0.562500\n",
       "8               0.660076  0.339924\n",
       "9               0.000000  1.000000"
      ]
     },
     "execution_count": 71,
     "metadata": {},
     "output_type": "execute_result"
    }
   ],
   "source": [
    "# checking % of job links per cluster\n",
    "\n",
    "pd.crosstab(df_backup.cluster,df_backup.candidateMatch,normalize='index')"
   ]
  },
  {
   "cell_type": "code",
   "execution_count": 64,
   "metadata": {},
   "outputs": [],
   "source": [
    "df = pd.get_dummies(df,columns=['cluster'])"
   ]
  },
  {
   "cell_type": "code",
   "execution_count": 65,
   "metadata": {},
   "outputs": [
    {
     "data": {
      "text/plain": [
       "Index(['aTagContent', 'href', 'keys', 'attributes', 'candidateMatch',\n",
       "       'len_aTagContent', 'len_aTagContent_qt',\n",
       "       'len_aTagContent_group_between 60 and 175',\n",
       "       'len_aTagContent_group_over 175', 'len_aTagContent_group_under 60',\n",
       "       'len_href', 'len_href_qt', 'len_href_group_between 80 and 125',\n",
       "       'len_href_group_over 125', 'len_href_group_under 80', 'key_job_yn',\n",
       "       'num_keys', 'num_keys_qt', 'attr_job_yn', 'all_text', 'cluster_0',\n",
       "       'cluster_1', 'cluster_2', 'cluster_3', 'cluster_4', 'cluster_5',\n",
       "       'cluster_6', 'cluster_7', 'cluster_8', 'cluster_9'],\n",
       "      dtype='object')"
      ]
     },
     "execution_count": 65,
     "metadata": {},
     "output_type": "execute_result"
    }
   ],
   "source": [
    "df.columns"
   ]
  },
  {
   "cell_type": "code",
   "execution_count": 66,
   "metadata": {},
   "outputs": [
    {
     "data": {
      "image/png": "[encoded data removed]",
      "text/plain": [
       "<Figure size 432x288 with 2 Axes>"
      ]
     },
     "metadata": {
      "needs_background": "light"
     },
     "output_type": "display_data"
    }
   ],
   "source": [
    "heat_map(df[['candidateMatch',\n",
    "       'len_aTagContent_qt', 'len_aTagContent_group_between 60 and 175',\n",
    "       'len_aTagContent_group_over 175', 'len_aTagContent_group_under 60',\n",
    "       'len_href_qt', 'len_href_group_between 80 and 125',\n",
    "       'len_href_group_over 125', 'len_href_group_under 80', 'key_job_yn',\n",
    "       'num_keys_qt', 'attr_job_yn','cluster_0', 'cluster_1', 'cluster_2', 'cluster_3', 'cluster_4',\n",
    "       'cluster_5', 'cluster_6', 'cluster_7', 'cluster_8', 'cluster_9']])"
   ]
  },
  {
   "cell_type": "markdown",
   "metadata": {},
   "source": [
    "Although we already have a good POV of the most relevant features, let's try a different approach. We are going to create a random feature, run a simple model and check which features can be discarted."
   ]
  },
  {
   "cell_type": "code",
   "execution_count": 67,
   "metadata": {},
   "outputs": [
    {
     "name": "stdout",
     "output_type": "stream",
     "text": [
      "Accuracy Score:   0.9686318972033258\n",
      "                                     feature  importance\n",
      "0                         len_aTagContent_qt    0.262564\n",
      "9                                num_keys_qt    0.114429\n",
      "19                                 cluster_8    0.108609\n",
      "4                                len_href_qt    0.104601\n",
      "3             len_aTagContent_group_under 60    0.077905\n",
      "1   len_aTagContent_group_between 60 and 175    0.059914\n",
      "10                               attr_job_yn    0.059271\n",
      "6                    len_href_group_over 125    0.035099\n",
      "16                                 cluster_5    0.031577\n",
      "13                                 cluster_2    0.024638\n",
      "20                                 cluster_9    0.023051\n",
      "12                                 cluster_1    0.016309\n",
      "17                                 cluster_6    0.014404\n",
      "14                                 cluster_3    0.013804\n",
      "5          len_href_group_between 80 and 125    0.013801\n",
      "15                                 cluster_4    0.010493\n",
      "18                                 cluster_7    0.008006\n",
      "7                    len_href_group_under 80    0.006398\n",
      "8                                 key_job_yn    0.005194\n",
      "21                            random_feature    0.005140\n",
      "11                                 cluster_0    0.004539\n",
      "2             len_aTagContent_group_over 175    0.000253\n"
     ]
    }
   ],
   "source": [
    "np.random.seed(42)\n",
    "\n",
    "# Creating a column with random values\n",
    "df['random_feature'] = np.random.rand(len(df.index))\n",
    "\n",
    "y = df['candidateMatch']\n",
    "X = df[['len_aTagContent_qt', 'len_aTagContent_group_between 60 and 175',\n",
    "       'len_aTagContent_group_over 175', 'len_aTagContent_group_under 60',\n",
    "       'len_href_qt', 'len_href_group_between 80 and 125',\n",
    "       'len_href_group_over 125', 'len_href_group_under 80', 'key_job_yn',\n",
    "       'num_keys_qt', 'attr_job_yn', 'cluster_0', 'cluster_1', 'cluster_2', 'cluster_3', 'cluster_4',\n",
    "       'cluster_5', 'cluster_6', 'cluster_7', 'cluster_8', 'cluster_9',\n",
    "        'random_feature']]\n",
    "\n",
    "\n",
    "# We are going to use the random forest to take advantage of the feature importances.\n",
    "rfc = RandomForestClassifier(max_depth=8,n_estimators=100)\n",
    "\n",
    "X_train, X_test, y_train, y_test = train_test_split(X, y, test_size=0.3, random_state=42)\n",
    "\n",
    "rfc.fit(X_train,y_train)\n",
    "\n",
    "prediction = rfc.predict(X_test)\n",
    "\n",
    "print('Accuracy Score:  ', accuracy_score(prediction,y_test))\n",
    "\n",
    "importances = rfc.feature_importances_\n",
    "\n",
    "df_importances = pd.DataFrame({'feature':X.columns, 'importance':importances})\n",
    "\n",
    "print(df_importances.sort_values(by='importance',ascending=False))"
   ]
  },
  {
   "cell_type": "markdown",
   "metadata": {},
   "source": [
    "First, we got a really good accuracy, even before creating more advanced features or tunning the hyperparameters. Second, there are clearly some features adding no value to the model, since their importance was lower than the random feature we created, let's drop them."
   ]
  },
  {
   "cell_type": "code",
   "execution_count": 68,
   "metadata": {},
   "outputs": [],
   "source": [
    "drop_features = []\n",
    "\n",
    "for i in range(len(df_importances.index)):\n",
    "    if df_importances['importance'][i] <= df_importances[df_importances.feature == 'random_feature']['importance'].values[0]:\n",
    "        drop_features.append(df_importances['feature'][i])\n",
    "\n",
    "df = df.drop(drop_features,axis='columns')"
   ]
  },
  {
   "cell_type": "code",
   "execution_count": 69,
   "metadata": {},
   "outputs": [
    {
     "data": {
      "text/html": [
       "<div>\n",
       "<style scoped>\n",
       "    .dataframe tbody tr th:only-of-type {\n",
       "        vertical-align: middle;\n",
       "    }\n",
       "\n",
       "    .dataframe tbody tr th {\n",
       "        vertical-align: top;\n",
       "    }\n",
       "\n",
       "    .dataframe thead th {\n",
       "        text-align: right;\n",
       "    }\n",
       "</style>\n",
       "<table border=\"1\" class=\"dataframe\">\n",
       "  <thead>\n",
       "    <tr style=\"text-align: right;\">\n",
       "      <th></th>\n",
       "      <th>aTagContent</th>\n",
       "      <th>href</th>\n",
       "      <th>keys</th>\n",
       "      <th>attributes</th>\n",
       "      <th>candidateMatch</th>\n",
       "      <th>len_aTagContent</th>\n",
       "      <th>len_aTagContent_qt</th>\n",
       "      <th>len_aTagContent_group_between 60 and 175</th>\n",
       "      <th>len_aTagContent_group_under 60</th>\n",
       "      <th>len_href</th>\n",
       "      <th>...</th>\n",
       "      <th>all_text</th>\n",
       "      <th>cluster_1</th>\n",
       "      <th>cluster_2</th>\n",
       "      <th>cluster_3</th>\n",
       "      <th>cluster_4</th>\n",
       "      <th>cluster_5</th>\n",
       "      <th>cluster_6</th>\n",
       "      <th>cluster_7</th>\n",
       "      <th>cluster_8</th>\n",
       "      <th>cluster_9</th>\n",
       "    </tr>\n",
       "  </thead>\n",
       "  <tbody>\n",
       "    <tr>\n",
       "      <th>0</th>\n",
       "      <td></td>\n",
       "      <td></td>\n",
       "      <td>href</td>\n",
       "      <td></td>\n",
       "      <td>0.0</td>\n",
       "      <td>2</td>\n",
       "      <td>0.022523</td>\n",
       "      <td>0</td>\n",
       "      <td>1</td>\n",
       "      <td>1</td>\n",
       "      <td>...</td>\n",
       "      <td>href</td>\n",
       "      <td>0</td>\n",
       "      <td>0</td>\n",
       "      <td>0</td>\n",
       "      <td>0</td>\n",
       "      <td>0</td>\n",
       "      <td>0</td>\n",
       "      <td>0</td>\n",
       "      <td>1</td>\n",
       "      <td>0</td>\n",
       "    </tr>\n",
       "    <tr>\n",
       "      <th>1</th>\n",
       "      <td>Create account</td>\n",
       "      <td>https  www later com</td>\n",
       "      <td>class href</td>\n",
       "      <td>cP nav dropdownLink cta signup u text hl</td>\n",
       "      <td>0.0</td>\n",
       "      <td>15</td>\n",
       "      <td>0.312312</td>\n",
       "      <td>0</td>\n",
       "      <td>1</td>\n",
       "      <td>23</td>\n",
       "      <td>...</td>\n",
       "      <td>Create account https www later com class href ...</td>\n",
       "      <td>0</td>\n",
       "      <td>0</td>\n",
       "      <td>0</td>\n",
       "      <td>0</td>\n",
       "      <td>0</td>\n",
       "      <td>0</td>\n",
       "      <td>0</td>\n",
       "      <td>1</td>\n",
       "      <td>0</td>\n",
       "    </tr>\n",
       "    <tr>\n",
       "      <th>2</th>\n",
       "      <td>Sign In</td>\n",
       "      <td>https  app later com</td>\n",
       "      <td>class href</td>\n",
       "      <td>cP nav dropdownLink cP nav signIn</td>\n",
       "      <td>0.0</td>\n",
       "      <td>7</td>\n",
       "      <td>0.125626</td>\n",
       "      <td>0</td>\n",
       "      <td>1</td>\n",
       "      <td>22</td>\n",
       "      <td>...</td>\n",
       "      <td>Sign In https app later com class href cP nav ...</td>\n",
       "      <td>0</td>\n",
       "      <td>0</td>\n",
       "      <td>0</td>\n",
       "      <td>0</td>\n",
       "      <td>0</td>\n",
       "      <td>0</td>\n",
       "      <td>0</td>\n",
       "      <td>1</td>\n",
       "      <td>0</td>\n",
       "    </tr>\n",
       "    <tr>\n",
       "      <th>3</th>\n",
       "      <td>Scheduling</td>\n",
       "      <td>schedule</td>\n",
       "      <td>href</td>\n",
       "      <td></td>\n",
       "      <td>0.0</td>\n",
       "      <td>11</td>\n",
       "      <td>0.236236</td>\n",
       "      <td>0</td>\n",
       "      <td>1</td>\n",
       "      <td>10</td>\n",
       "      <td>...</td>\n",
       "      <td>Scheduling schedule href</td>\n",
       "      <td>0</td>\n",
       "      <td>0</td>\n",
       "      <td>0</td>\n",
       "      <td>0</td>\n",
       "      <td>1</td>\n",
       "      <td>0</td>\n",
       "      <td>0</td>\n",
       "      <td>0</td>\n",
       "      <td>0</td>\n",
       "    </tr>\n",
       "    <tr>\n",
       "      <th>4</th>\n",
       "      <td>Instagram Analytics</td>\n",
       "      <td>instagram analytics</td>\n",
       "      <td>href</td>\n",
       "      <td></td>\n",
       "      <td>0.0</td>\n",
       "      <td>20</td>\n",
       "      <td>0.374374</td>\n",
       "      <td>0</td>\n",
       "      <td>1</td>\n",
       "      <td>21</td>\n",
       "      <td>...</td>\n",
       "      <td>Instagram Analytics instagram analytics href</td>\n",
       "      <td>1</td>\n",
       "      <td>0</td>\n",
       "      <td>0</td>\n",
       "      <td>0</td>\n",
       "      <td>0</td>\n",
       "      <td>0</td>\n",
       "      <td>0</td>\n",
       "      <td>0</td>\n",
       "      <td>0</td>\n",
       "    </tr>\n",
       "  </tbody>\n",
       "</table>\n",
       "<p>5 rows × 28 columns</p>\n",
       "</div>"
      ],
      "text/plain": [
       "            aTagContent                   href        keys  \\\n",
       "0                                                     href   \n",
       "1       Create account   https  www later com   class href   \n",
       "2               Sign In  https  app later com   class href   \n",
       "3           Scheduling               schedule         href   \n",
       "4  Instagram Analytics    instagram analytics         href   \n",
       "\n",
       "                                  attributes  candidateMatch  len_aTagContent  \\\n",
       "0                                                        0.0                2   \n",
       "1  cP nav dropdownLink cta signup u text hl              0.0               15   \n",
       "2         cP nav dropdownLink cP nav signIn              0.0                7   \n",
       "3                                                        0.0               11   \n",
       "4                                                        0.0               20   \n",
       "\n",
       "   len_aTagContent_qt  len_aTagContent_group_between 60 and 175  \\\n",
       "0            0.022523                                         0   \n",
       "1            0.312312                                         0   \n",
       "2            0.125626                                         0   \n",
       "3            0.236236                                         0   \n",
       "4            0.374374                                         0   \n",
       "\n",
       "   len_aTagContent_group_under 60  len_href  ...  \\\n",
       "0                               1         1  ...   \n",
       "1                               1        23  ...   \n",
       "2                               1        22  ...   \n",
       "3                               1        10  ...   \n",
       "4                               1        21  ...   \n",
       "\n",
       "                                            all_text  cluster_1  cluster_2  \\\n",
       "0                                              href           0          0   \n",
       "1  Create account https www later com class href ...          0          0   \n",
       "2  Sign In https app later com class href cP nav ...          0          0   \n",
       "3                          Scheduling schedule href           0          0   \n",
       "4      Instagram Analytics instagram analytics href           1          0   \n",
       "\n",
       "   cluster_3  cluster_4  cluster_5  cluster_6  cluster_7 cluster_8  cluster_9  \n",
       "0          0          0          0          0          0         1          0  \n",
       "1          0          0          0          0          0         1          0  \n",
       "2          0          0          0          0          0         1          0  \n",
       "3          0          0          1          0          0         0          0  \n",
       "4          0          0          0          0          0         0          0  \n",
       "\n",
       "[5 rows x 28 columns]"
      ]
     },
     "execution_count": 69,
     "metadata": {},
     "output_type": "execute_result"
    }
   ],
   "source": [
    "df.head()"
   ]
  },
  {
   "cell_type": "markdown",
   "metadata": {},
   "source": [
    "We still need to handle the first 4 columns, which are categorical. Let's put them all together so we can <b>create tolkens</b>."
   ]
  },
  {
   "cell_type": "code",
   "execution_count": 70,
   "metadata": {},
   "outputs": [
    {
     "name": "stdout",
     "output_type": "stream",
     "text": [
      "Empty DataFrame\n",
      "Columns: [all_text, aTagContent, href, keys, attributes]\n",
      "Index: []\n"
     ]
    }
   ],
   "source": [
    "# checking if we got everything write\n",
    "print(df[df.all_text.isna()][['all_text','aTagContent', 'href', 'keys', 'attributes']].head())"
   ]
  },
  {
   "cell_type": "code",
   "execution_count": 71,
   "metadata": {},
   "outputs": [],
   "source": [
    "# We can now drop those columns\n",
    "df.drop(['aTagContent', 'href', 'keys', 'attributes'],axis='columns',inplace=True)"
   ]
  },
  {
   "cell_type": "code",
   "execution_count": 72,
   "metadata": {},
   "outputs": [],
   "source": [
    "# and these too\n",
    "df.drop(['len_aTagContent', 'len_href', 'num_keys'],axis='columns',inplace=True)"
   ]
  },
  {
   "cell_type": "code",
   "execution_count": 73,
   "metadata": {},
   "outputs": [
    {
     "data": {
      "text/html": [
       "<div>\n",
       "<style scoped>\n",
       "    .dataframe tbody tr th:only-of-type {\n",
       "        vertical-align: middle;\n",
       "    }\n",
       "\n",
       "    .dataframe tbody tr th {\n",
       "        vertical-align: top;\n",
       "    }\n",
       "\n",
       "    .dataframe thead th {\n",
       "        text-align: right;\n",
       "    }\n",
       "</style>\n",
       "<table border=\"1\" class=\"dataframe\">\n",
       "  <thead>\n",
       "    <tr style=\"text-align: right;\">\n",
       "      <th></th>\n",
       "      <th>candidateMatch</th>\n",
       "      <th>len_aTagContent_qt</th>\n",
       "      <th>len_aTagContent_group_between 60 and 175</th>\n",
       "      <th>len_aTagContent_group_under 60</th>\n",
       "      <th>len_href_qt</th>\n",
       "      <th>len_href_group_between 80 and 125</th>\n",
       "      <th>len_href_group_over 125</th>\n",
       "      <th>len_href_group_under 80</th>\n",
       "      <th>key_job_yn</th>\n",
       "      <th>num_keys_qt</th>\n",
       "      <th>...</th>\n",
       "      <th>all_text</th>\n",
       "      <th>cluster_1</th>\n",
       "      <th>cluster_2</th>\n",
       "      <th>cluster_3</th>\n",
       "      <th>cluster_4</th>\n",
       "      <th>cluster_5</th>\n",
       "      <th>cluster_6</th>\n",
       "      <th>cluster_7</th>\n",
       "      <th>cluster_8</th>\n",
       "      <th>cluster_9</th>\n",
       "    </tr>\n",
       "  </thead>\n",
       "  <tbody>\n",
       "    <tr>\n",
       "      <th>0</th>\n",
       "      <td>0.0</td>\n",
       "      <td>0.022523</td>\n",
       "      <td>0</td>\n",
       "      <td>1</td>\n",
       "      <td>0.000000</td>\n",
       "      <td>0</td>\n",
       "      <td>0</td>\n",
       "      <td>1</td>\n",
       "      <td>0</td>\n",
       "      <td>0.000000</td>\n",
       "      <td>...</td>\n",
       "      <td>href</td>\n",
       "      <td>0</td>\n",
       "      <td>0</td>\n",
       "      <td>0</td>\n",
       "      <td>0</td>\n",
       "      <td>0</td>\n",
       "      <td>0</td>\n",
       "      <td>0</td>\n",
       "      <td>1</td>\n",
       "      <td>0</td>\n",
       "    </tr>\n",
       "    <tr>\n",
       "      <th>1</th>\n",
       "      <td>0.0</td>\n",
       "      <td>0.312312</td>\n",
       "      <td>0</td>\n",
       "      <td>1</td>\n",
       "      <td>0.087087</td>\n",
       "      <td>0</td>\n",
       "      <td>0</td>\n",
       "      <td>1</td>\n",
       "      <td>0</td>\n",
       "      <td>0.087087</td>\n",
       "      <td>...</td>\n",
       "      <td>Create account https www later com class href ...</td>\n",
       "      <td>0</td>\n",
       "      <td>0</td>\n",
       "      <td>0</td>\n",
       "      <td>0</td>\n",
       "      <td>0</td>\n",
       "      <td>0</td>\n",
       "      <td>0</td>\n",
       "      <td>1</td>\n",
       "      <td>0</td>\n",
       "    </tr>\n",
       "    <tr>\n",
       "      <th>2</th>\n",
       "      <td>0.0</td>\n",
       "      <td>0.125626</td>\n",
       "      <td>0</td>\n",
       "      <td>1</td>\n",
       "      <td>0.077578</td>\n",
       "      <td>0</td>\n",
       "      <td>0</td>\n",
       "      <td>1</td>\n",
       "      <td>0</td>\n",
       "      <td>0.077578</td>\n",
       "      <td>...</td>\n",
       "      <td>Sign In https app later com class href cP nav ...</td>\n",
       "      <td>0</td>\n",
       "      <td>0</td>\n",
       "      <td>0</td>\n",
       "      <td>0</td>\n",
       "      <td>0</td>\n",
       "      <td>0</td>\n",
       "      <td>0</td>\n",
       "      <td>1</td>\n",
       "      <td>0</td>\n",
       "    </tr>\n",
       "    <tr>\n",
       "      <th>3</th>\n",
       "      <td>0.0</td>\n",
       "      <td>0.236236</td>\n",
       "      <td>0</td>\n",
       "      <td>1</td>\n",
       "      <td>0.020521</td>\n",
       "      <td>0</td>\n",
       "      <td>0</td>\n",
       "      <td>1</td>\n",
       "      <td>0</td>\n",
       "      <td>0.020521</td>\n",
       "      <td>...</td>\n",
       "      <td>Scheduling schedule href</td>\n",
       "      <td>0</td>\n",
       "      <td>0</td>\n",
       "      <td>0</td>\n",
       "      <td>0</td>\n",
       "      <td>1</td>\n",
       "      <td>0</td>\n",
       "      <td>0</td>\n",
       "      <td>0</td>\n",
       "      <td>0</td>\n",
       "    </tr>\n",
       "    <tr>\n",
       "      <th>4</th>\n",
       "      <td>0.0</td>\n",
       "      <td>0.374374</td>\n",
       "      <td>0</td>\n",
       "      <td>1</td>\n",
       "      <td>0.067568</td>\n",
       "      <td>0</td>\n",
       "      <td>0</td>\n",
       "      <td>1</td>\n",
       "      <td>0</td>\n",
       "      <td>0.067568</td>\n",
       "      <td>...</td>\n",
       "      <td>Instagram Analytics instagram analytics href</td>\n",
       "      <td>1</td>\n",
       "      <td>0</td>\n",
       "      <td>0</td>\n",
       "      <td>0</td>\n",
       "      <td>0</td>\n",
       "      <td>0</td>\n",
       "      <td>0</td>\n",
       "      <td>0</td>\n",
       "      <td>0</td>\n",
       "    </tr>\n",
       "  </tbody>\n",
       "</table>\n",
       "<p>5 rows × 21 columns</p>\n",
       "</div>"
      ],
      "text/plain": [
       "   candidateMatch  len_aTagContent_qt  \\\n",
       "0             0.0            0.022523   \n",
       "1             0.0            0.312312   \n",
       "2             0.0            0.125626   \n",
       "3             0.0            0.236236   \n",
       "4             0.0            0.374374   \n",
       "\n",
       "   len_aTagContent_group_between 60 and 175  len_aTagContent_group_under 60  \\\n",
       "0                                         0                               1   \n",
       "1                                         0                               1   \n",
       "2                                         0                               1   \n",
       "3                                         0                               1   \n",
       "4                                         0                               1   \n",
       "\n",
       "   len_href_qt  len_href_group_between 80 and 125  len_href_group_over 125  \\\n",
       "0     0.000000                                  0                        0   \n",
       "1     0.087087                                  0                        0   \n",
       "2     0.077578                                  0                        0   \n",
       "3     0.020521                                  0                        0   \n",
       "4     0.067568                                  0                        0   \n",
       "\n",
       "   len_href_group_under 80  key_job_yn  num_keys_qt  ...  \\\n",
       "0                        1           0     0.000000  ...   \n",
       "1                        1           0     0.087087  ...   \n",
       "2                        1           0     0.077578  ...   \n",
       "3                        1           0     0.020521  ...   \n",
       "4                        1           0     0.067568  ...   \n",
       "\n",
       "                                            all_text cluster_1  cluster_2  \\\n",
       "0                                              href          0          0   \n",
       "1  Create account https www later com class href ...         0          0   \n",
       "2  Sign In https app later com class href cP nav ...         0          0   \n",
       "3                          Scheduling schedule href          0          0   \n",
       "4      Instagram Analytics instagram analytics href          1          0   \n",
       "\n",
       "   cluster_3  cluster_4  cluster_5  cluster_6  cluster_7  cluster_8  cluster_9  \n",
       "0          0          0          0          0          0          1          0  \n",
       "1          0          0          0          0          0          1          0  \n",
       "2          0          0          0          0          0          1          0  \n",
       "3          0          0          1          0          0          0          0  \n",
       "4          0          0          0          0          0          0          0  \n",
       "\n",
       "[5 rows x 21 columns]"
      ]
     },
     "execution_count": 73,
     "metadata": {},
     "output_type": "execute_result"
    }
   ],
   "source": [
    "df.head()"
   ]
  },
  {
   "cell_type": "code",
   "execution_count": 74,
   "metadata": {},
   "outputs": [],
   "source": [
    "# Let's save a version of this dataframe without tolkens so we can run more simple models.\n",
    "\n",
    "now = datetime.datetime.now()\n",
    "today = datetime.datetime.today()\n",
    "\n",
    "date = today.strftime(\"%Y-%m-%d\")\n",
    "hour = now.strftime(\"%H\")\n",
    "minute = now.strftime(\"%M\")\n",
    "\n",
    "stamp = str(date) + ' ' + str(hour) + 'h' + str(minute)\n",
    "\n",
    "df.to_csv(r'C:\\Users\\ponde\\Documents\\programacao\\Python\\FreshJobs\\ '+str(stamp)+' dataset_pre_tolken.csv', index=False)"
   ]
  },
  {
   "cell_type": "code",
   "execution_count": 76,
   "metadata": {},
   "outputs": [],
   "source": [
    "import pickle"
   ]
  },
  {
   "cell_type": "code",
   "execution_count": 77,
   "metadata": {},
   "outputs": [],
   "source": [
    "filename = r'C:\\Users\\ponde\\Documents\\FreshJobs\\cluster '+str(stamp)' .sav'\n",
    "pickle.dump(model, open(filename, 'wb'))"
   ]
  }
 ],
 "metadata": {
  "kernelspec": {
   "display_name": "Python 3",
   "language": "python",
   "name": "python3"
  },
  "language_info": {
   "codemirror_mode": {
    "name": "ipython",
    "version": 3
   },
   "file_extension": ".py",
   "mimetype": "text/x-python",
   "name": "python",
   "nbconvert_exporter": "python",
   "pygments_lexer": "ipython3",
   "version": "3.8.3"
  }
 },
 "nbformat": 4,
 "nbformat_minor": 4
}
